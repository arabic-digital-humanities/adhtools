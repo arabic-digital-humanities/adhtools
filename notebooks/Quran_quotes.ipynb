{
 "cells": [
  {
   "cell_type": "code",
   "execution_count": 1,
   "metadata": {},
   "outputs": [],
   "source": [
    "# NB: alfanous is not compatible with Python 3, so need to use python 2 here.\n",
    "%matplotlib inline\n",
    "import os\n",
    "import pandas as pd\n",
    "import alfanous\n",
    "import codecs\n",
    "import matplotlib.pyplot as plt\n",
    "import re\n",
    "import numpy as np"
   ]
  },
  {
   "cell_type": "code",
   "execution_count": 2,
   "metadata": {},
   "outputs": [],
   "source": [
    "quotes_file = '/media/sf_VBox_Shared/Arabic/Analyses/Fiqh_final/quotes/quran_quotes.csv'\n",
    "metadata_file = '/media/sf_VBox_Shared/Arabic/fiqh_corpus/Meta/Metadata_Fiqh.csv'\n",
    "out_dir = '/media/sf_VBox_Shared/Arabic/networks/'"
   ]
  },
  {
   "cell_type": "code",
   "execution_count": 3,
   "metadata": {},
   "outputs": [],
   "source": [
    "# Read in the meta data of the books\n",
    "metadata = pd.read_csv(metadata_file, encoding='utf-8', sep=',', index_col=0)"
   ]
  },
  {
   "cell_type": "code",
   "execution_count": 4,
   "metadata": {},
   "outputs": [
    {
     "data": {
      "text/plain": [
       "(56, 17)"
      ]
     },
     "execution_count": 4,
     "metadata": {},
     "output_type": "execute_result"
    }
   ],
   "source": [
    "metadata.shape"
   ]
  },
  {
   "cell_type": "code",
   "execution_count": 5,
   "metadata": {},
   "outputs": [
    {
     "data": {
      "text/html": [
       "<div>\n",
       "<style scoped>\n",
       "    .dataframe tbody tr th:only-of-type {\n",
       "        vertical-align: middle;\n",
       "    }\n",
       "\n",
       "    .dataframe tbody tr th {\n",
       "        vertical-align: top;\n",
       "    }\n",
       "\n",
       "    .dataframe thead th {\n",
       "        text-align: right;\n",
       "    }\n",
       "</style>\n",
       "<table border=\"1\" class=\"dataframe\">\n",
       "  <thead>\n",
       "    <tr style=\"text-align: right;\">\n",
       "      <th></th>\n",
       "      <th>BookURI</th>\n",
       "      <th>BookSource</th>\n",
       "      <th>BookTITLE_SHORT</th>\n",
       "      <th>BookTITLE</th>\n",
       "      <th>BookSUBJ</th>\n",
       "      <th>Number_of_tokens</th>\n",
       "      <th>AuthorAKA</th>\n",
       "      <th>AuthorNAME</th>\n",
       "      <th>AuthorBORNH</th>\n",
       "      <th>AuthorBORNC</th>\n",
       "      <th>AuthorDIEDH</th>\n",
       "      <th>AuthorDIEDC</th>\n",
       "      <th>Century</th>\n",
       "      <th>All_tokens_per-century</th>\n",
       "      <th>Author_Geographical_Area</th>\n",
       "      <th>Tagging</th>\n",
       "      <th>BookVOLS</th>\n",
       "    </tr>\n",
       "    <tr>\n",
       "      <th>Order</th>\n",
       "      <th></th>\n",
       "      <th></th>\n",
       "      <th></th>\n",
       "      <th></th>\n",
       "      <th></th>\n",
       "      <th></th>\n",
       "      <th></th>\n",
       "      <th></th>\n",
       "      <th></th>\n",
       "      <th></th>\n",
       "      <th></th>\n",
       "      <th></th>\n",
       "      <th></th>\n",
       "      <th></th>\n",
       "      <th></th>\n",
       "      <th></th>\n",
       "      <th></th>\n",
       "    </tr>\n",
       "  </thead>\n",
       "  <tbody>\n",
       "    <tr>\n",
       "      <th>1.0</th>\n",
       "      <td>0182AbuYusufYacqub.Kharaj</td>\n",
       "      <td>http://shamela.ws/index.php/book/26333</td>\n",
       "      <td>الخراج</td>\n",
       "      <td>الخراج</td>\n",
       "      <td>حنفي</td>\n",
       "      <td>76062.0</td>\n",
       "      <td>أبو يوسف</td>\n",
       "      <td>أبو يوسف يعقوب بن إبراهيم بن حبيب بن سعد بن حب...</td>\n",
       "      <td>113</td>\n",
       "      <td>798</td>\n",
       "      <td>182.0</td>\n",
       "      <td>731</td>\n",
       "      <td>2ndH/8thC and 3rdH/9thC century</td>\n",
       "      <td>NaN</td>\n",
       "      <td>Fertile Crescent</td>\n",
       "      <td>Quran @QB@ @QE@ Hadith @HB@</td>\n",
       "      <td>1</td>\n",
       "    </tr>\n",
       "    <tr>\n",
       "      <th>2.0</th>\n",
       "      <td>0204Shafici.Umm</td>\n",
       "      <td>http://shamela.ws/index.php/book/1655</td>\n",
       "      <td>الأم</td>\n",
       "      <td>الأم</td>\n",
       "      <td>شافعي</td>\n",
       "      <td>1205588.0</td>\n",
       "      <td>الشافعي</td>\n",
       "      <td>أبو عبد الله محمد بن إدريس الشافعيّ المطَّلِبي...</td>\n",
       "      <td>150</td>\n",
       "      <td>767</td>\n",
       "      <td>204.0</td>\n",
       "      <td>820</td>\n",
       "      <td>2ndH/8thC and 3rdH/9thC century</td>\n",
       "      <td>NaN</td>\n",
       "      <td>Fertile Crescent</td>\n",
       "      <td>Books ### |  Chapters ### || Subchapters ### |...</td>\n",
       "      <td>8</td>\n",
       "    </tr>\n",
       "    <tr>\n",
       "      <th>3.0</th>\n",
       "      <td>0179MalikIbnAnas.Muwatta</td>\n",
       "      <td>http://shamela.ws/index.php/book/28107</td>\n",
       "      <td>الموطأ</td>\n",
       "      <td>الموطّأ</td>\n",
       "      <td>مالكي</td>\n",
       "      <td>151424.0</td>\n",
       "      <td>مالك بن أنس</td>\n",
       "      <td>مالك بن أنس بن مالك بن عامر الأصبحي المدني</td>\n",
       "      <td>93</td>\n",
       "      <td>711</td>\n",
       "      <td>179.0</td>\n",
       "      <td>795</td>\n",
       "      <td>2ndH/8thC and 3rdH/9thC century</td>\n",
       "      <td>NaN</td>\n",
       "      <td>Fertile Crescent</td>\n",
       "      <td>Books ### | Chapters ### ||  Quran @QB@ @QE@</td>\n",
       "      <td>1</td>\n",
       "    </tr>\n",
       "    <tr>\n",
       "      <th>4.0</th>\n",
       "      <td>0311AbuBakrKhallal.WuqufWaTarajjul</td>\n",
       "      <td>http://shamela.ws/index.php/book/26883</td>\n",
       "      <td>الوقوف والترجل</td>\n",
       "      <td>الوقوف والترجل من الجامع لمسائل الإمام أحمد بن...</td>\n",
       "      <td>حنبلي</td>\n",
       "      <td>32349.0</td>\n",
       "      <td>الخلال</td>\n",
       "      <td>أبو بكر أحمد بن محمد بن هارون بن يزيد الخلال ا...</td>\n",
       "      <td>234</td>\n",
       "      <td>848</td>\n",
       "      <td>311.0</td>\n",
       "      <td>923</td>\n",
       "      <td>2ndH/8thC and 3rdH/9thC century</td>\n",
       "      <td>NaN</td>\n",
       "      <td>Fertile Crescent</td>\n",
       "      <td>Chapters ### ||  Quran @QB@ @QE@  Hadith @HB@</td>\n",
       "      <td>1</td>\n",
       "    </tr>\n",
       "    <tr>\n",
       "      <th>5.0</th>\n",
       "      <td>0274AhmadBarqi.Mahasin</td>\n",
       "      <td>http://siratali.org/maktaba/mahasin1/</td>\n",
       "      <td>المحاسن</td>\n",
       "      <td>المحاسن</td>\n",
       "      <td>شيعي</td>\n",
       "      <td>145940.0</td>\n",
       "      <td>البرقي</td>\n",
       "      <td>أحمد بن محمد بن خالد البرقي</td>\n",
       "      <td>NODATA</td>\n",
       "      <td>NODATA</td>\n",
       "      <td>274.0</td>\n",
       "      <td>887</td>\n",
       "      <td>2ndH/8thC and 3rdH/9thC century</td>\n",
       "      <td>1611363.0</td>\n",
       "      <td>Fertile Crescent</td>\n",
       "      <td>Chapters ### ||</td>\n",
       "      <td>2</td>\n",
       "    </tr>\n",
       "  </tbody>\n",
       "</table>\n",
       "</div>"
      ],
      "text/plain": [
       "                                  BookURI  \\\n",
       "Order                                       \n",
       "1.0             0182AbuYusufYacqub.Kharaj   \n",
       "2.0                       0204Shafici.Umm   \n",
       "3.0              0179MalikIbnAnas.Muwatta   \n",
       "4.0    0311AbuBakrKhallal.WuqufWaTarajjul   \n",
       "5.0                0274AhmadBarqi.Mahasin   \n",
       "\n",
       "                                   BookSource BookTITLE_SHORT  \\\n",
       "Order                                                           \n",
       "1.0    http://shamela.ws/index.php/book/26333          الخراج   \n",
       "2.0     http://shamela.ws/index.php/book/1655            الأم   \n",
       "3.0    http://shamela.ws/index.php/book/28107          الموطأ   \n",
       "4.0    http://shamela.ws/index.php/book/26883  الوقوف والترجل   \n",
       "5.0     http://siratali.org/maktaba/mahasin1/         المحاسن   \n",
       "\n",
       "                                               BookTITLE BookSUBJ  \\\n",
       "Order                                                               \n",
       "1.0                                               الخراج     حنفي   \n",
       "2.0                                                 الأم    شافعي   \n",
       "3.0                                              الموطّأ    مالكي   \n",
       "4.0    الوقوف والترجل من الجامع لمسائل الإمام أحمد بن...    حنبلي   \n",
       "5.0                                              المحاسن     شيعي   \n",
       "\n",
       "       Number_of_tokens    AuthorAKA  \\\n",
       "Order                                  \n",
       "1.0             76062.0     أبو يوسف   \n",
       "2.0           1205588.0      الشافعي   \n",
       "3.0            151424.0  مالك بن أنس   \n",
       "4.0             32349.0       الخلال   \n",
       "5.0            145940.0       البرقي   \n",
       "\n",
       "                                              AuthorNAME AuthorBORNH  \\\n",
       "Order                                                                  \n",
       "1.0    أبو يوسف يعقوب بن إبراهيم بن حبيب بن سعد بن حب...         113   \n",
       "2.0    أبو عبد الله محمد بن إدريس الشافعيّ المطَّلِبي...         150   \n",
       "3.0           مالك بن أنس بن مالك بن عامر الأصبحي المدني          93   \n",
       "4.0    أبو بكر أحمد بن محمد بن هارون بن يزيد الخلال ا...         234   \n",
       "5.0                          أحمد بن محمد بن خالد البرقي      NODATA   \n",
       "\n",
       "      AuthorBORNC  AuthorDIEDH AuthorDIEDC                          Century  \\\n",
       "Order                                                                         \n",
       "1.0           798        182.0         731  2ndH/8thC and 3rdH/9thC century   \n",
       "2.0           767        204.0         820  2ndH/8thC and 3rdH/9thC century   \n",
       "3.0           711        179.0         795  2ndH/8thC and 3rdH/9thC century   \n",
       "4.0           848        311.0         923  2ndH/8thC and 3rdH/9thC century   \n",
       "5.0        NODATA        274.0         887  2ndH/8thC and 3rdH/9thC century   \n",
       "\n",
       "       All_tokens_per-century Author_Geographical_Area  \\\n",
       "Order                                                    \n",
       "1.0                       NaN         Fertile Crescent   \n",
       "2.0                       NaN         Fertile Crescent   \n",
       "3.0                       NaN         Fertile Crescent   \n",
       "4.0                       NaN         Fertile Crescent   \n",
       "5.0                 1611363.0         Fertile Crescent   \n",
       "\n",
       "                                                 Tagging BookVOLS  \n",
       "Order                                                              \n",
       "1.0                          Quran @QB@ @QE@ Hadith @HB@        1  \n",
       "2.0    Books ### |  Chapters ### || Subchapters ### |...        8  \n",
       "3.0         Books ### | Chapters ### ||  Quran @QB@ @QE@        1  \n",
       "4.0        Chapters ### ||  Quran @QB@ @QE@  Hadith @HB@        1  \n",
       "5.0                                      Chapters ### ||        2  "
      ]
     },
     "execution_count": 5,
     "metadata": {},
     "output_type": "execute_result"
    }
   ],
   "source": [
    "metadata.head()"
   ]
  },
  {
   "cell_type": "code",
   "execution_count": 6,
   "metadata": {},
   "outputs": [],
   "source": [
    "# Read in the quran citations (files with one quote per line)\n",
    "df = pd.read_csv(quotes_file, encoding='utf-8')\n",
    "df['quote'] = df['quote'].astype('unicode')"
   ]
  },
  {
   "cell_type": "code",
   "execution_count": 7,
   "metadata": {},
   "outputs": [
    {
     "data": {
      "text/html": [
       "<div>\n",
       "<style scoped>\n",
       "    .dataframe tbody tr th:only-of-type {\n",
       "        vertical-align: middle;\n",
       "    }\n",
       "\n",
       "    .dataframe tbody tr th {\n",
       "        vertical-align: top;\n",
       "    }\n",
       "\n",
       "    .dataframe thead th {\n",
       "        text-align: right;\n",
       "    }\n",
       "</style>\n",
       "<table border=\"1\" class=\"dataframe\">\n",
       "  <thead>\n",
       "    <tr style=\"text-align: right;\">\n",
       "      <th></th>\n",
       "      <th>BookURI</th>\n",
       "      <th>position</th>\n",
       "      <th>quote</th>\n",
       "    </tr>\n",
       "  </thead>\n",
       "  <tbody>\n",
       "    <tr>\n",
       "      <th>0</th>\n",
       "      <td>0179MalikIbnAnas.Muwatta</td>\n",
       "      <td>8038</td>\n",
       "      <td>والمرسلات عرفا</td>\n",
       "    </tr>\n",
       "    <tr>\n",
       "      <th>1</th>\n",
       "      <td>0179MalikIbnAnas.Muwatta</td>\n",
       "      <td>8775</td>\n",
       "      <td>مالك يوم الدين</td>\n",
       "    </tr>\n",
       "    <tr>\n",
       "      <th>2</th>\n",
       "      <td>0179MalikIbnAnas.Muwatta</td>\n",
       "      <td>8784</td>\n",
       "      <td>إياك نعبد وإياك نستعين</td>\n",
       "    </tr>\n",
       "    <tr>\n",
       "      <th>3</th>\n",
       "      <td>0179MalikIbnAnas.Muwatta</td>\n",
       "      <td>11439</td>\n",
       "      <td>وإذا تولى سعى في الأرض</td>\n",
       "    </tr>\n",
       "    <tr>\n",
       "      <th>4</th>\n",
       "      <td>0179MalikIbnAnas.Muwatta</td>\n",
       "      <td>11447</td>\n",
       "      <td>وأما من جاءك يسعى وهو يخشى</td>\n",
       "    </tr>\n",
       "  </tbody>\n",
       "</table>\n",
       "</div>"
      ],
      "text/plain": [
       "                    BookURI  position                       quote\n",
       "0  0179MalikIbnAnas.Muwatta      8038              والمرسلات عرفا\n",
       "1  0179MalikIbnAnas.Muwatta      8775              مالك يوم الدين\n",
       "2  0179MalikIbnAnas.Muwatta      8784      إياك نعبد وإياك نستعين\n",
       "3  0179MalikIbnAnas.Muwatta     11439      وإذا تولى سعى في الأرض\n",
       "4  0179MalikIbnAnas.Muwatta     11447  وأما من جاءك يسعى وهو يخشى"
      ]
     },
     "execution_count": 7,
     "metadata": {},
     "output_type": "execute_result"
    }
   ],
   "source": [
    "df.head()"
   ]
  },
  {
   "cell_type": "code",
   "execution_count": 10,
   "metadata": {},
   "outputs": [
    {
     "data": {
      "text/plain": [
       "(2088, 3)"
      ]
     },
     "execution_count": 10,
     "metadata": {},
     "output_type": "execute_result"
    }
   ],
   "source": [
    "df.shape"
   ]
  },
  {
   "cell_type": "code",
   "execution_count": 11,
   "metadata": {},
   "outputs": [
    {
     "data": {
      "text/plain": [
       "3"
      ]
     },
     "execution_count": 11,
     "metadata": {},
     "output_type": "execute_result"
    }
   ],
   "source": [
    "# How many files do we have?\n",
    "df['BookURI'].nunique()"
   ]
  },
  {
   "cell_type": "code",
   "execution_count": null,
   "metadata": {},
   "outputs": [],
   "source": [
    "df.quote.dtype"
   ]
  },
  {
   "cell_type": "code",
   "execution_count": null,
   "metadata": {},
   "outputs": [],
   "source": [
    "# How many tokens are the quotes?\n",
    "nr_tokens = pd.Series([len(q.split(' ')) for q in df['quote']])"
   ]
  },
  {
   "cell_type": "code",
   "execution_count": null,
   "metadata": {},
   "outputs": [],
   "source": [
    "import numpy as np\n",
    "from matplotlib.ticker import LinearLocator\n",
    "\n",
    "def plot_int_hist(s, ax=None, maxVal=None):\n",
    "    if maxVal is None:\n",
    "        maxVal = max(s)+1\n",
    "    if ax is None:\n",
    "        ax = plt.gca()\n",
    "        s.hist(bins=np.arange(min(s)-0.5, maxVal), grid=False, ax=ax)"
   ]
  },
  {
   "cell_type": "code",
   "execution_count": null,
   "metadata": {},
   "outputs": [],
   "source": [
    "plt.figure(figsize=(15,8))\n",
    "plot_int_hist(nr_tokens)\n",
    "plt.show()"
   ]
  },
  {
   "cell_type": "code",
   "execution_count": null,
   "metadata": {},
   "outputs": [],
   "source": [
    "# Zoom in\n",
    "maxnr = 15\n",
    "plot_int_hist(nr_tokens, maxVal=maxnr)\n",
    "plt.gca().set_xlabel('Nr of tokens')\n",
    "plt.gca().set_ylabel('Count')\n",
    "plt.gca().set_xticks(range(maxnr));"
   ]
  },
  {
   "cell_type": "code",
   "execution_count": null,
   "metadata": {},
   "outputs": [],
   "source": [
    "# How many times does each quote appear?\n",
    "nr_quotes = df['quote'].value_counts()\n",
    "nr_quotes.head(20)"
   ]
  },
  {
   "cell_type": "code",
   "execution_count": null,
   "metadata": {},
   "outputs": [],
   "source": [
    "# Make a histogram of these counts\n",
    "plt.figure(figsize=(15,8))\n",
    "nr_quotes.hist(bins=np.arange(-0.5, max(nr_quotes)+1))\n",
    "plt.gca().set_xlabel('nr quotes')\n",
    "plt.gca().set_ylabel('count')\n",
    "plt.show()"
   ]
  },
  {
   "cell_type": "code",
   "execution_count": null,
   "metadata": {},
   "outputs": [],
   "source": [
    "# Use alfanous to trace the quotes back to quran verses\n",
    "searches = {}\n",
    "for q in df['quote'].unique():\n",
    "    searches[q] = alfanous.search('\"'+q+'\"', view='minimal')"
   ]
  },
  {
   "cell_type": "code",
   "execution_count": null,
   "metadata": {},
   "outputs": [],
   "source": [
    "searches_fuzzy = {}\n",
    "for q in df['quote'].unique():\n",
    "    searches_fuzzy[q] = alfanous.search('\"'+q+'\"', view='minimal', fuzzy=True)"
   ]
  },
  {
   "cell_type": "code",
   "execution_count": null,
   "metadata": {},
   "outputs": [],
   "source": [
    "searches_words = {}\n",
    "for q in df['quote'].unique():\n",
    "    searches_words[q] = alfanous.search(q, view='minimal')"
   ]
  },
  {
   "cell_type": "code",
   "execution_count": null,
   "metadata": {},
   "outputs": [],
   "source": [
    "q_df = pd.DataFrame(nr_quotes)\n",
    "q_df.head()"
   ]
  },
  {
   "cell_type": "code",
   "execution_count": null,
   "metadata": {},
   "outputs": [],
   "source": [
    "# To do: Encoding issues\n",
    "q_df['nr_ayas'] = [len(searches[unicode(q)]['search']['ayas']) for q in q_df.index]\n",
    "q_df['nr_ayas_fuzzy'] = [len(searches_fuzzy[unicode(q)]['search']['ayas']) for q in q_df.index]"
   ]
  },
  {
   "cell_type": "code",
   "execution_count": null,
   "metadata": {},
   "outputs": [],
   "source": [
    "# How many quotes are more often found with 'fuzzy'?\n",
    "len(q_df[q_df['nr_ayas_fuzzy']>q_df['nr_ayas']])"
   ]
  },
  {
   "cell_type": "code",
   "execution_count": null,
   "metadata": {},
   "outputs": [],
   "source": [
    "# How many aya's are found for each quote??\n",
    "plot_int_hist(q_df['nr_ayas'])"
   ]
  },
  {
   "cell_type": "code",
   "execution_count": null,
   "metadata": {},
   "outputs": [],
   "source": [
    "# How many aya's are found for each quote??\n",
    "plot_int_hist(q_df['nr_ayas_fuzzy'])"
   ]
  },
  {
   "cell_type": "code",
   "execution_count": null,
   "metadata": {},
   "outputs": [],
   "source": [
    "# How many aya's are found for quotes appearing more than once?\n",
    "plot_int_hist(q_df[q_df['quote']>1]['nr_ayas'])"
   ]
  },
  {
   "cell_type": "code",
   "execution_count": null,
   "metadata": {},
   "outputs": [],
   "source": [
    "q_df['nr_books'] = df.groupby('quote').nunique()['BookURI']"
   ]
  },
  {
   "cell_type": "code",
   "execution_count": null,
   "metadata": {},
   "outputs": [],
   "source": [
    "# Some examples of quotes with no aya\n",
    "q_df[q_df['nr_ayas']<1].head(20)"
   ]
  },
  {
   "cell_type": "markdown",
   "metadata": {},
   "source": [
    "We take the simplest approach: if multiple aya's are found, we take the first one. if none are found, we disregard the quote eventually."
   ]
  },
  {
   "cell_type": "code",
   "execution_count": null,
   "metadata": {},
   "outputs": [],
   "source": [
    "metafields_aya = 'aya_id', 'sura_id', 'sura_name', 'sura_arabic_name'\n",
    "ayas = {q: searches[q]['search']['ayas'][1]['identifier'] if len(searches[q]['search']['ayas'])>0 else {} for q in q_df.index}\n",
    "\n",
    "for m in metafields_aya:\n",
    "    q_df[m] = [ayas[q].get(m, None) for q in q_df.index]"
   ]
  },
  {
   "cell_type": "code",
   "execution_count": null,
   "metadata": {},
   "outputs": [],
   "source": [
    "q_df['id'] = zip(q_df['sura_id'], q_df['aya_id'])"
   ]
  },
  {
   "cell_type": "code",
   "execution_count": null,
   "metadata": {},
   "outputs": [],
   "source": [
    "# Note that multiple quotes can come from the same aya\n",
    "q_df.head()"
   ]
  },
  {
   "cell_type": "code",
   "execution_count": null,
   "metadata": {},
   "outputs": [],
   "source": [
    "# We merge the literal quotes with the information on the aya's\n",
    "links_merged = df.merge(q_df[q_df['nr_ayas']>0], left_on='quote', right_index=True, suffixes=('', '_cnt'))"
   ]
  },
  {
   "cell_type": "code",
   "execution_count": null,
   "metadata": {},
   "outputs": [],
   "source": [
    "links = pd.DataFrame(links_merged.groupby(['file', 'id']).count()['quotes'])\n",
    "links = links.reset_index()\n",
    "links.columns = ['Source', 'Target', 'Weight']"
   ]
  },
  {
   "cell_type": "code",
   "execution_count": null,
   "metadata": {},
   "outputs": [],
   "source": [
    "# Store the nodes and links\n",
    "\n",
    "links.to_csv(os.path.join(out_dir, 'fiqh_quran_links.csv'), index=False)\n",
    "\n",
    "book_nodes = metadata.rename({'filename': 'id'}, axis=1)[['id', 'AuthorAKA', 'AuthorNAME', 'AuthorBORNC', 'AuthorDIEDC', 'Author Geographical Area', 'Century', 'BookTITLE', 'BookSUBJ']]\n",
    "book_nodes['Type'] = 'book'\n",
    "book_nodes['Label'] = book_nodes['BookTITLE']\n",
    "book_nodes.to_csv(os.path.join(out_dir, 'fiqh_quran_book_nodes.csv'), index=False, encoding='utf-8')\n",
    "\n",
    "quran_nodes = q_df[q_df['nr_ayas']>0].reset_index()[['id', 'sura_id', 'aya_id', 'sura_name', 'sura_arabic_name']].drop_duplicates()\n",
    "quran_nodes['aya_id'] = quran_nodes['aya_id'].astype('int')\n",
    "quran_nodes['sura_id'] = quran_nodes['sura_id'].astype('int')\n",
    "quran_nodes['Type'] = 'aya'\n",
    "quran_nodes['Label'] = quran_nodes['sura_name'] + [' {:.0f}'.format(s) for s in quran_nodes['aya_id']]\n",
    "quran_nodes.to_csv(os.path.join(out_dir, 'fiqh_quran_aya_nodes.csv'), index=False, encoding='utf-8')"
   ]
  },
  {
   "cell_type": "markdown",
   "metadata": {},
   "source": [
    "## Some more analysis"
   ]
  },
  {
   "cell_type": "code",
   "execution_count": null,
   "metadata": {},
   "outputs": [],
   "source": [
    "# Look at quotes to the aya with different quotes\n",
    "q_df[(q_df['sura_id']==2) & (q_df['aya_id']==282)]"
   ]
  },
  {
   "cell_type": "code",
   "execution_count": null,
   "metadata": {},
   "outputs": [],
   "source": []
  }
 ],
 "metadata": {
  "kernelspec": {
   "display_name": "Python [conda env:adh2]",
   "language": "python",
   "name": "conda-env-adh2-py"
  },
  "language_info": {
   "codemirror_mode": {
    "name": "ipython",
    "version": 2
   },
   "file_extension": ".py",
   "mimetype": "text/x-python",
   "name": "python",
   "nbconvert_exporter": "python",
   "pygments_lexer": "ipython2",
   "version": "2.7.15"
  }
 },
 "nbformat": 4,
 "nbformat_minor": 2
}
