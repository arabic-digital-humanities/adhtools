{
 "cells": [
  {
   "cell_type": "code",
   "execution_count": null,
   "metadata": {},
   "outputs": [],
   "source": [
    "# NB: alfanous is not compatible with Python 3, so need to use python 2 here.\n",
    "%matplotlib inline\n",
    "import os\n",
    "import pandas as pd\n",
    "import alfanous\n",
    "import codecs\n",
    "import matplotlib.pyplot as plt\n",
    "import re\n",
    "import numpy as np"
   ]
  },
  {
   "cell_type": "code",
   "execution_count": null,
   "metadata": {},
   "outputs": [],
   "source": [
    "quotes_file = '/media/sf_VBox_Shared/Arabic/Analyses/Fiqh_final/quotes/quran_quotes.csv'\n",
    "metadata_file = '/media/sf_VBox_Shared/Arabic/fiqh_corpus/Meta/Metadata_Fiqh.csv'\n",
    "out_dir = '/media/sf_VBox_Shared/Arabic/networks/'"
   ]
  },
  {
   "cell_type": "code",
   "execution_count": null,
   "metadata": {},
   "outputs": [],
   "source": [
    "# Read in the meta data of the books\n",
    "metadata = pd.read_csv(metadata_file, encoding='utf-8', sep=',', index_col=0)"
   ]
  },
  {
   "cell_type": "code",
   "execution_count": null,
   "metadata": {},
   "outputs": [],
   "source": [
    "metadata.shape"
   ]
  },
  {
   "cell_type": "code",
   "execution_count": null,
   "metadata": {},
   "outputs": [],
   "source": [
    "metadata.head()"
   ]
  },
  {
   "cell_type": "code",
   "execution_count": null,
   "metadata": {},
   "outputs": [],
   "source": [
    "# Read in the quran citations (files with one quote per line)\n",
    "df = pd.read_csv(quotes_file, encoding='utf-8')\n",
    "df['quote'] = df['quote'].astype('unicode')"
   ]
  },
  {
   "cell_type": "code",
   "execution_count": null,
   "metadata": {},
   "outputs": [],
   "source": [
    "df.head()"
   ]
  },
  {
   "cell_type": "code",
   "execution_count": null,
   "metadata": {},
   "outputs": [],
   "source": [
    "df.shape"
   ]
  },
  {
   "cell_type": "code",
   "execution_count": null,
   "metadata": {},
   "outputs": [],
   "source": [
    "# How many files do we have?\n",
    "df['BookURI'].nunique()"
   ]
  },
  {
   "cell_type": "code",
   "execution_count": null,
   "metadata": {},
   "outputs": [],
   "source": [
    "df.quote.dtype"
   ]
  },
  {
   "cell_type": "code",
   "execution_count": null,
   "metadata": {},
   "outputs": [],
   "source": [
    "# How many tokens are the quotes?\n",
    "nr_tokens = pd.Series([len(q.split(' ')) for q in df['quote']])"
   ]
  },
  {
   "cell_type": "code",
   "execution_count": null,
   "metadata": {},
   "outputs": [],
   "source": [
    "import numpy as np\n",
    "from matplotlib.ticker import LinearLocator\n",
    "\n",
    "def plot_int_hist(s, ax=None, maxVal=None):\n",
    "    if maxVal is None:\n",
    "        maxVal = max(s)+1\n",
    "    if ax is None:\n",
    "        ax = plt.gca()\n",
    "        s.hist(bins=np.arange(min(s)-0.5, maxVal), grid=False, ax=ax)"
   ]
  },
  {
   "cell_type": "code",
   "execution_count": null,
   "metadata": {},
   "outputs": [],
   "source": [
    "plt.figure(figsize=(15,8))\n",
    "plot_int_hist(nr_tokens)\n",
    "plt.show()"
   ]
  },
  {
   "cell_type": "code",
   "execution_count": null,
   "metadata": {},
   "outputs": [],
   "source": [
    "# Zoom in\n",
    "maxnr = 15\n",
    "plot_int_hist(nr_tokens, maxVal=maxnr)\n",
    "plt.gca().set_xlabel('Nr of tokens')\n",
    "plt.gca().set_ylabel('Count')\n",
    "plt.gca().set_xticks(range(maxnr));"
   ]
  },
  {
   "cell_type": "code",
   "execution_count": null,
   "metadata": {},
   "outputs": [],
   "source": [
    "# How many times does each quote appear?\n",
    "nr_quotes = df['quote'].value_counts()\n",
    "nr_quotes.head(20)"
   ]
  },
  {
   "cell_type": "code",
   "execution_count": null,
   "metadata": {},
   "outputs": [],
   "source": [
    "# Make a histogram of these counts\n",
    "plt.figure(figsize=(15,8))\n",
    "nr_quotes.hist(bins=np.arange(-0.5, max(nr_quotes)+1))\n",
    "plt.gca().set_xlabel('nr quotes')\n",
    "plt.gca().set_ylabel('count')\n",
    "plt.show()"
   ]
  },
  {
   "cell_type": "code",
   "execution_count": null,
   "metadata": {},
   "outputs": [],
   "source": [
    "# Use alfanous to trace the quotes back to quran verses\n",
    "searches = {}\n",
    "for q in df['quote'].unique():\n",
    "    searches[q] = alfanous.search('\"'+q+'\"', view='minimal')"
   ]
  },
  {
   "cell_type": "code",
   "execution_count": null,
   "metadata": {},
   "outputs": [],
   "source": [
    "searches_fuzzy = {}\n",
    "for q in df['quote'].unique():\n",
    "    searches_fuzzy[q] = alfanous.search('\"'+q+'\"', view='minimal', fuzzy=True)"
   ]
  },
  {
   "cell_type": "code",
   "execution_count": null,
   "metadata": {},
   "outputs": [],
   "source": [
    "searches_words = {}\n",
    "for q in df['quote'].unique():\n",
    "    searches_words[q] = alfanous.search(q, view='minimal')"
   ]
  },
  {
   "cell_type": "code",
   "execution_count": null,
   "metadata": {},
   "outputs": [],
   "source": [
    "q_df = pd.DataFrame(nr_quotes)\n",
    "q_df.head()"
   ]
  },
  {
   "cell_type": "code",
   "execution_count": null,
   "metadata": {},
   "outputs": [],
   "source": [
    "# To do: Encoding issues\n",
    "q_df['nr_ayas'] = [len(searches[unicode(q)]['search']['ayas']) for q in q_df.index]\n",
    "q_df['nr_ayas_fuzzy'] = [len(searches_fuzzy[unicode(q)]['search']['ayas']) for q in q_df.index]"
   ]
  },
  {
   "cell_type": "code",
   "execution_count": null,
   "metadata": {},
   "outputs": [],
   "source": [
    "# How many quotes are more often found with 'fuzzy'?\n",
    "len(q_df[q_df['nr_ayas_fuzzy']>q_df['nr_ayas']])"
   ]
  },
  {
   "cell_type": "code",
   "execution_count": null,
   "metadata": {},
   "outputs": [],
   "source": [
    "# How many aya's are found for each quote??\n",
    "plot_int_hist(q_df['nr_ayas'])"
   ]
  },
  {
   "cell_type": "code",
   "execution_count": null,
   "metadata": {},
   "outputs": [],
   "source": [
    "# How many aya's are found for each quote??\n",
    "plot_int_hist(q_df['nr_ayas_fuzzy'])"
   ]
  },
  {
   "cell_type": "code",
   "execution_count": null,
   "metadata": {},
   "outputs": [],
   "source": [
    "# How many aya's are found for quotes appearing more than once?\n",
    "plot_int_hist(q_df[q_df['quote']>1]['nr_ayas'])"
   ]
  },
  {
   "cell_type": "code",
   "execution_count": null,
   "metadata": {},
   "outputs": [],
   "source": [
    "q_df['nr_books'] = df.groupby('quote').nunique()['BookURI']"
   ]
  },
  {
   "cell_type": "code",
   "execution_count": null,
   "metadata": {},
   "outputs": [],
   "source": [
    "# Some examples of quotes with no aya\n",
    "q_df[q_df['nr_ayas']<1].head(20)"
   ]
  },
  {
   "cell_type": "markdown",
   "metadata": {},
   "source": [
    "We take the simplest approach: if multiple aya's are found, we take the first one. if none are found, we disregard the quote eventually."
   ]
  },
  {
   "cell_type": "code",
   "execution_count": null,
   "metadata": {},
   "outputs": [],
   "source": [
    "metafields_aya = 'aya_id', 'sura_id', 'sura_name', 'sura_arabic_name'\n",
    "ayas = {q: searches[q]['search']['ayas'][1]['identifier'] if len(searches[q]['search']['ayas'])>0 else {} for q in q_df.index}\n",
    "\n",
    "for m in metafields_aya:\n",
    "    q_df[m] = [ayas[q].get(m, None) for q in q_df.index]"
   ]
  },
  {
   "cell_type": "code",
   "execution_count": null,
   "metadata": {},
   "outputs": [],
   "source": [
    "q_df['id'] = zip(q_df['sura_id'], q_df['aya_id'])"
   ]
  },
  {
   "cell_type": "code",
   "execution_count": null,
   "metadata": {},
   "outputs": [],
   "source": [
    "# Note that multiple quotes can come from the same aya\n",
    "q_df.head()"
   ]
  },
  {
   "cell_type": "code",
   "execution_count": null,
   "metadata": {},
   "outputs": [],
   "source": [
    "# We merge the literal quotes with the information on the aya's\n",
    "links_merged = df.merge(q_df[q_df['nr_ayas']>0], left_on='quote', right_index=True, suffixes=('', '_cnt'))"
   ]
  },
  {
   "cell_type": "code",
   "execution_count": null,
   "metadata": {},
   "outputs": [],
   "source": [
    "links = pd.DataFrame(links_merged.groupby(['file', 'id']).count()['quotes'])\n",
    "links = links.reset_index()\n",
    "links.columns = ['Source', 'Target', 'Weight']"
   ]
  },
  {
   "cell_type": "code",
   "execution_count": null,
   "metadata": {},
   "outputs": [],
   "source": [
    "# Store the nodes and links\n",
    "\n",
    "links.to_csv(os.path.join(out_dir, 'fiqh_quran_links.csv'), index=False)\n",
    "\n",
    "book_nodes = metadata.rename({'filename': 'id'}, axis=1)[['id', 'AuthorAKA', 'AuthorNAME', 'AuthorBORNC', 'AuthorDIEDC', 'Author Geographical Area', 'Century', 'BookTITLE', 'BookSUBJ']]\n",
    "book_nodes['Type'] = 'book'\n",
    "book_nodes['Label'] = book_nodes['BookTITLE']\n",
    "book_nodes.to_csv(os.path.join(out_dir, 'fiqh_quran_book_nodes.csv'), index=False, encoding='utf-8')\n",
    "\n",
    "quran_nodes = q_df[q_df['nr_ayas']>0].reset_index()[['id', 'sura_id', 'aya_id', 'sura_name', 'sura_arabic_name']].drop_duplicates()\n",
    "quran_nodes['aya_id'] = quran_nodes['aya_id'].astype('int')\n",
    "quran_nodes['sura_id'] = quran_nodes['sura_id'].astype('int')\n",
    "quran_nodes['Type'] = 'aya'\n",
    "quran_nodes['Label'] = quran_nodes['sura_name'] + [' {:.0f}'.format(s) for s in quran_nodes['aya_id']]\n",
    "quran_nodes.to_csv(os.path.join(out_dir, 'fiqh_quran_aya_nodes.csv'), index=False, encoding='utf-8')"
   ]
  },
  {
   "cell_type": "markdown",
   "metadata": {},
   "source": [
    "## Some more analysis"
   ]
  },
  {
   "cell_type": "code",
   "execution_count": null,
   "metadata": {},
   "outputs": [],
   "source": [
    "# Look at quotes to the aya with different quotes\n",
    "q_df[(q_df['sura_id']==2) & (q_df['aya_id']==282)]"
   ]
  },
  {
   "cell_type": "code",
   "execution_count": null,
   "metadata": {},
   "outputs": [],
   "source": []
  }
 ],
 "metadata": {
  "kernelspec": {
   "display_name": "Python [conda env:adh2]",
   "language": "python",
   "name": "conda-env-adh2-py"
  },
  "language_info": {
   "codemirror_mode": {
    "name": "ipython",
    "version": 2
   },
   "file_extension": ".py",
   "mimetype": "text/x-python",
   "name": "python",
   "nbconvert_exporter": "python",
   "pygments_lexer": "ipython2",
   "version": "2.7.15"
  }
 },
 "nbformat": 4,
 "nbformat_minor": 2
}
