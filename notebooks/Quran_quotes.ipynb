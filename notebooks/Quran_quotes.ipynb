{
 "cells": [
  {
   "cell_type": "code",
   "execution_count": 1,
   "metadata": {},
   "outputs": [],
   "source": [
    "# NB: alfanous is not compatible with Python 3, so need to use python 2 here.\n",
    "%matplotlib inline\n",
    "import os\n",
    "import pandas as pd\n",
    "import alfanous\n",
    "import codecs\n",
    "import matplotlib.pyplot as plt\n",
    "import re\n",
    "import numpy as np"
   ]
  },
  {
   "cell_type": "code",
   "execution_count": 2,
   "metadata": {},
   "outputs": [],
   "source": [
    "quotes_file = '/media/sf_VBox_Shared/Arabic/Analyses/Fiqh_final2/quotes/quran_quotes.csv'\n",
    "metadata_file = '/media/sf_VBox_Shared/Arabic/fiqh_corpus/Meta/Metadata_Fiqh.csv'\n",
    "out_dir = '/media/sf_VBox_Shared/Arabic/Analyses/Fiqh_final2/quotes/'"
   ]
  },
  {
   "cell_type": "code",
   "execution_count": 3,
   "metadata": {},
   "outputs": [],
   "source": [
    "# Read in the meta data of the books\n",
    "metadata = pd.read_csv(metadata_file, encoding='utf-8', sep=',', index_col=0)"
   ]
  },
  {
   "cell_type": "code",
   "execution_count": 4,
   "metadata": {},
   "outputs": [
    {
     "data": {
      "text/plain": [
       "(55, 17)"
      ]
     },
     "execution_count": 4,
     "metadata": {},
     "output_type": "execute_result"
    }
   ],
   "source": [
    "metadata.shape"
   ]
  },
  {
   "cell_type": "code",
   "execution_count": 5,
   "metadata": {},
   "outputs": [
    {
     "data": {
      "text/html": [
       "<div>\n",
       "<style scoped>\n",
       "    .dataframe tbody tr th:only-of-type {\n",
       "        vertical-align: middle;\n",
       "    }\n",
       "\n",
       "    .dataframe tbody tr th {\n",
       "        vertical-align: top;\n",
       "    }\n",
       "\n",
       "    .dataframe thead th {\n",
       "        text-align: right;\n",
       "    }\n",
       "</style>\n",
       "<table border=\"1\" class=\"dataframe\">\n",
       "  <thead>\n",
       "    <tr style=\"text-align: right;\">\n",
       "      <th></th>\n",
       "      <th>BookURI</th>\n",
       "      <th>BookSource</th>\n",
       "      <th>BookTITLE_SHORT</th>\n",
       "      <th>BookTITLE</th>\n",
       "      <th>BookSUBJ</th>\n",
       "      <th>Number_of_tokens</th>\n",
       "      <th>AuthorAKA</th>\n",
       "      <th>AuthorNAME</th>\n",
       "      <th>AuthorBORNH</th>\n",
       "      <th>AuthorBORNC</th>\n",
       "      <th>AuthorDIEDH</th>\n",
       "      <th>AuthorDIEDC</th>\n",
       "      <th>Century</th>\n",
       "      <th>All_tokens_per-century</th>\n",
       "      <th>Author_Geographical_Area</th>\n",
       "      <th>Tagging</th>\n",
       "      <th>BookVOLS</th>\n",
       "    </tr>\n",
       "    <tr>\n",
       "      <th>Order</th>\n",
       "      <th></th>\n",
       "      <th></th>\n",
       "      <th></th>\n",
       "      <th></th>\n",
       "      <th></th>\n",
       "      <th></th>\n",
       "      <th></th>\n",
       "      <th></th>\n",
       "      <th></th>\n",
       "      <th></th>\n",
       "      <th></th>\n",
       "      <th></th>\n",
       "      <th></th>\n",
       "      <th></th>\n",
       "      <th></th>\n",
       "      <th></th>\n",
       "      <th></th>\n",
       "    </tr>\n",
       "  </thead>\n",
       "  <tbody>\n",
       "    <tr>\n",
       "      <th>1.0</th>\n",
       "      <td>0189AlShaybani.alAsl</td>\n",
       "      <td>http://shamela.ws/index.php/book/6164</td>\n",
       "      <td>الأصل</td>\n",
       "      <td>الأصل</td>\n",
       "      <td>حنفي</td>\n",
       "      <td>319286.0</td>\n",
       "      <td>الشيباني</td>\n",
       "      <td>أبو عبد الله محمد بن الحسن بن فرقد الشيباني</td>\n",
       "      <td>131</td>\n",
       "      <td>748</td>\n",
       "      <td>189.0</td>\n",
       "      <td>804</td>\n",
       "      <td>2ndH/8thC and 3rdH/9thC century</td>\n",
       "      <td>NaN</td>\n",
       "      <td>Fertile Crescent</td>\n",
       "      <td>Books ### | Chapters ### ||  Quran @QB@ @QE@</td>\n",
       "      <td>5</td>\n",
       "    </tr>\n",
       "    <tr>\n",
       "      <th>2.0</th>\n",
       "      <td>0204Shafici.Umm</td>\n",
       "      <td>http://shamela.ws/index.php/book/1655</td>\n",
       "      <td>الأم</td>\n",
       "      <td>الأم</td>\n",
       "      <td>شافعي</td>\n",
       "      <td>1205588.0</td>\n",
       "      <td>الشافعي</td>\n",
       "      <td>أبو عبد الله محمد بن إدريس الشافعيّ المطَّلِبي...</td>\n",
       "      <td>150</td>\n",
       "      <td>767</td>\n",
       "      <td>204.0</td>\n",
       "      <td>820</td>\n",
       "      <td>2ndH/8thC and 3rdH/9thC century</td>\n",
       "      <td>NaN</td>\n",
       "      <td>Fertile Crescent</td>\n",
       "      <td>Books ### |  Chapters ### || Subchapters ### |...</td>\n",
       "      <td>8</td>\n",
       "    </tr>\n",
       "    <tr>\n",
       "      <th>3.0</th>\n",
       "      <td>0179MalikIbnAnas.Muwatta</td>\n",
       "      <td>http://shamela.ws/index.php/book/28107</td>\n",
       "      <td>الموطأ</td>\n",
       "      <td>الموطّأ</td>\n",
       "      <td>مالكي</td>\n",
       "      <td>151424.0</td>\n",
       "      <td>مالك بن أنس</td>\n",
       "      <td>مالك بن أنس بن مالك بن عامر الأصبحي المدني</td>\n",
       "      <td>93</td>\n",
       "      <td>711</td>\n",
       "      <td>179.0</td>\n",
       "      <td>795</td>\n",
       "      <td>2ndH/8thC and 3rdH/9thC century</td>\n",
       "      <td>NaN</td>\n",
       "      <td>Fertile Crescent</td>\n",
       "      <td>Books ### | Chapters ### ||  Quran @QB@ @QE@</td>\n",
       "      <td>1</td>\n",
       "    </tr>\n",
       "    <tr>\n",
       "      <th>4.0</th>\n",
       "      <td>0311AbuBakrKhallal.WuqufWaTarajjul</td>\n",
       "      <td>http://shamela.ws/index.php/book/26883</td>\n",
       "      <td>الوقوف والترجل</td>\n",
       "      <td>الوقوف والترجل من الجامع لمسائل الإمام أحمد بن...</td>\n",
       "      <td>حنبلي</td>\n",
       "      <td>32349.0</td>\n",
       "      <td>الخلال</td>\n",
       "      <td>أبو بكر أحمد بن محمد بن هارون بن يزيد الخلال ا...</td>\n",
       "      <td>234</td>\n",
       "      <td>848</td>\n",
       "      <td>311.0</td>\n",
       "      <td>923</td>\n",
       "      <td>2ndH/8thC and 3rdH/9thC century</td>\n",
       "      <td>NaN</td>\n",
       "      <td>Fertile Crescent</td>\n",
       "      <td>Chapters ### ||  Quran @QB@ @QE@  Hadith @HB@</td>\n",
       "      <td>1</td>\n",
       "    </tr>\n",
       "    <tr>\n",
       "      <th>5.0</th>\n",
       "      <td>0274AhmadBarqi.Mahasin</td>\n",
       "      <td>http://siratali.org/maktaba/mahasin1/</td>\n",
       "      <td>المحاسن</td>\n",
       "      <td>المحاسن</td>\n",
       "      <td>شيعي</td>\n",
       "      <td>145940.0</td>\n",
       "      <td>البرقي</td>\n",
       "      <td>أحمد بن محمد بن خالد البرقي</td>\n",
       "      <td>NODATA</td>\n",
       "      <td>NODATA</td>\n",
       "      <td>274.0</td>\n",
       "      <td>887</td>\n",
       "      <td>2ndH/8thC and 3rdH/9thC century</td>\n",
       "      <td>1854587.0</td>\n",
       "      <td>Fertile Crescent</td>\n",
       "      <td>Chapters ### ||</td>\n",
       "      <td>2</td>\n",
       "    </tr>\n",
       "  </tbody>\n",
       "</table>\n",
       "</div>"
      ],
      "text/plain": [
       "                                  BookURI  \\\n",
       "Order                                       \n",
       "1.0                  0189AlShaybani.alAsl   \n",
       "2.0                       0204Shafici.Umm   \n",
       "3.0              0179MalikIbnAnas.Muwatta   \n",
       "4.0    0311AbuBakrKhallal.WuqufWaTarajjul   \n",
       "5.0                0274AhmadBarqi.Mahasin   \n",
       "\n",
       "                                   BookSource BookTITLE_SHORT  \\\n",
       "Order                                                           \n",
       "1.0     http://shamela.ws/index.php/book/6164           الأصل   \n",
       "2.0     http://shamela.ws/index.php/book/1655            الأم   \n",
       "3.0    http://shamela.ws/index.php/book/28107          الموطأ   \n",
       "4.0    http://shamela.ws/index.php/book/26883  الوقوف والترجل   \n",
       "5.0     http://siratali.org/maktaba/mahasin1/         المحاسن   \n",
       "\n",
       "                                               BookTITLE BookSUBJ  \\\n",
       "Order                                                               \n",
       "1.0                                                الأصل     حنفي   \n",
       "2.0                                                 الأم    شافعي   \n",
       "3.0                                              الموطّأ    مالكي   \n",
       "4.0    الوقوف والترجل من الجامع لمسائل الإمام أحمد بن...    حنبلي   \n",
       "5.0                                              المحاسن     شيعي   \n",
       "\n",
       "       Number_of_tokens    AuthorAKA  \\\n",
       "Order                                  \n",
       "1.0            319286.0     الشيباني   \n",
       "2.0           1205588.0      الشافعي   \n",
       "3.0            151424.0  مالك بن أنس   \n",
       "4.0             32349.0       الخلال   \n",
       "5.0            145940.0       البرقي   \n",
       "\n",
       "                                              AuthorNAME AuthorBORNH  \\\n",
       "Order                                                                  \n",
       "1.0          أبو عبد الله محمد بن الحسن بن فرقد الشيباني         131   \n",
       "2.0    أبو عبد الله محمد بن إدريس الشافعيّ المطَّلِبي...         150   \n",
       "3.0           مالك بن أنس بن مالك بن عامر الأصبحي المدني          93   \n",
       "4.0    أبو بكر أحمد بن محمد بن هارون بن يزيد الخلال ا...         234   \n",
       "5.0                          أحمد بن محمد بن خالد البرقي      NODATA   \n",
       "\n",
       "      AuthorBORNC  AuthorDIEDH AuthorDIEDC                          Century  \\\n",
       "Order                                                                         \n",
       "1.0           748        189.0         804  2ndH/8thC and 3rdH/9thC century   \n",
       "2.0           767        204.0         820  2ndH/8thC and 3rdH/9thC century   \n",
       "3.0           711        179.0         795  2ndH/8thC and 3rdH/9thC century   \n",
       "4.0           848        311.0         923  2ndH/8thC and 3rdH/9thC century   \n",
       "5.0        NODATA        274.0         887  2ndH/8thC and 3rdH/9thC century   \n",
       "\n",
       "       All_tokens_per-century Author_Geographical_Area  \\\n",
       "Order                                                    \n",
       "1.0                       NaN         Fertile Crescent   \n",
       "2.0                       NaN         Fertile Crescent   \n",
       "3.0                       NaN         Fertile Crescent   \n",
       "4.0                       NaN         Fertile Crescent   \n",
       "5.0                 1854587.0         Fertile Crescent   \n",
       "\n",
       "                                                 Tagging BookVOLS  \n",
       "Order                                                              \n",
       "1.0         Books ### | Chapters ### ||  Quran @QB@ @QE@        5  \n",
       "2.0    Books ### |  Chapters ### || Subchapters ### |...        8  \n",
       "3.0         Books ### | Chapters ### ||  Quran @QB@ @QE@        1  \n",
       "4.0        Chapters ### ||  Quran @QB@ @QE@  Hadith @HB@        1  \n",
       "5.0                                      Chapters ### ||        2  "
      ]
     },
     "execution_count": 5,
     "metadata": {},
     "output_type": "execute_result"
    }
   ],
   "source": [
    "metadata.head()"
   ]
  },
  {
   "cell_type": "code",
   "execution_count": 6,
   "metadata": {},
   "outputs": [],
   "source": [
    "# Read in the quran citations (files with one quote per line)\n",
    "df = pd.read_csv(quotes_file, encoding='utf-8')\n",
    "df['quote'] = df['quote'].astype('unicode')"
   ]
  },
  {
   "cell_type": "code",
   "execution_count": 7,
   "metadata": {},
   "outputs": [
    {
     "data": {
      "text/html": [
       "<div>\n",
       "<style scoped>\n",
       "    .dataframe tbody tr th:only-of-type {\n",
       "        vertical-align: middle;\n",
       "    }\n",
       "\n",
       "    .dataframe tbody tr th {\n",
       "        vertical-align: top;\n",
       "    }\n",
       "\n",
       "    .dataframe thead th {\n",
       "        text-align: right;\n",
       "    }\n",
       "</style>\n",
       "<table border=\"1\" class=\"dataframe\">\n",
       "  <thead>\n",
       "    <tr style=\"text-align: right;\">\n",
       "      <th></th>\n",
       "      <th>BookURI</th>\n",
       "      <th>position</th>\n",
       "      <th>quote</th>\n",
       "    </tr>\n",
       "  </thead>\n",
       "  <tbody>\n",
       "    <tr>\n",
       "      <th>0</th>\n",
       "      <td>0587IbnMascudCalaDinKasani.BadaicSanaic</td>\n",
       "      <td>302</td>\n",
       "      <td>فاغسلوا وجوهكم</td>\n",
       "    </tr>\n",
       "    <tr>\n",
       "      <th>1</th>\n",
       "      <td>0587IbnMascudCalaDinKasani.BadaicSanaic</td>\n",
       "      <td>700</td>\n",
       "      <td>وأيديكم</td>\n",
       "    </tr>\n",
       "    <tr>\n",
       "      <th>2</th>\n",
       "      <td>0587IbnMascudCalaDinKasani.BadaicSanaic</td>\n",
       "      <td>1817</td>\n",
       "      <td>برؤوسكم</td>\n",
       "    </tr>\n",
       "    <tr>\n",
       "      <th>3</th>\n",
       "      <td>0587IbnMascudCalaDinKasani.BadaicSanaic</td>\n",
       "      <td>2016</td>\n",
       "      <td>يطوف عليهم ولدان مخلدون</td>\n",
       "    </tr>\n",
       "    <tr>\n",
       "      <th>4</th>\n",
       "      <td>0587IbnMascudCalaDinKasani.BadaicSanaic</td>\n",
       "      <td>7835</td>\n",
       "      <td>وينزل عليكم من السماء ماء ليطهركم به</td>\n",
       "    </tr>\n",
       "  </tbody>\n",
       "</table>\n",
       "</div>"
      ],
      "text/plain": [
       "                                   BookURI  position  \\\n",
       "0  0587IbnMascudCalaDinKasani.BadaicSanaic       302   \n",
       "1  0587IbnMascudCalaDinKasani.BadaicSanaic       700   \n",
       "2  0587IbnMascudCalaDinKasani.BadaicSanaic      1817   \n",
       "3  0587IbnMascudCalaDinKasani.BadaicSanaic      2016   \n",
       "4  0587IbnMascudCalaDinKasani.BadaicSanaic      7835   \n",
       "\n",
       "                                  quote  \n",
       "0                        فاغسلوا وجوهكم  \n",
       "1                               وأيديكم  \n",
       "2                               برؤوسكم  \n",
       "3               يطوف عليهم ولدان مخلدون  \n",
       "4  وينزل عليكم من السماء ماء ليطهركم به  "
      ]
     },
     "execution_count": 7,
     "metadata": {},
     "output_type": "execute_result"
    }
   ],
   "source": [
    "df.head()"
   ]
  },
  {
   "cell_type": "code",
   "execution_count": 8,
   "metadata": {},
   "outputs": [
    {
     "data": {
      "text/plain": [
       "(17481, 3)"
      ]
     },
     "execution_count": 8,
     "metadata": {},
     "output_type": "execute_result"
    }
   ],
   "source": [
    "df.shape"
   ]
  },
  {
   "cell_type": "code",
   "execution_count": 9,
   "metadata": {},
   "outputs": [
    {
     "data": {
      "text/plain": [
       "42"
      ]
     },
     "execution_count": 9,
     "metadata": {},
     "output_type": "execute_result"
    }
   ],
   "source": [
    "# How many files do we have?\n",
    "df['BookURI'].nunique()"
   ]
  },
  {
   "cell_type": "code",
   "execution_count": 10,
   "metadata": {},
   "outputs": [
    {
     "data": {
      "text/plain": [
       "dtype('O')"
      ]
     },
     "execution_count": 10,
     "metadata": {},
     "output_type": "execute_result"
    }
   ],
   "source": [
    "df.quote.dtype"
   ]
  },
  {
   "cell_type": "code",
   "execution_count": 11,
   "metadata": {},
   "outputs": [],
   "source": [
    "# How many tokens are the quotes?\n",
    "nr_tokens = pd.Series([len(q.split(' ')) for q in df['quote']])"
   ]
  },
  {
   "cell_type": "code",
   "execution_count": 12,
   "metadata": {},
   "outputs": [],
   "source": [
    "import numpy as np\n",
    "from matplotlib.ticker import LinearLocator\n",
    "\n",
    "def plot_int_hist(s, ax=None, maxVal=None):\n",
    "    if maxVal is None:\n",
    "        maxVal = max(s)+1\n",
    "    if ax is None:\n",
    "        ax = plt.gca()\n",
    "        s.hist(bins=np.arange(min(s)-0.5, maxVal), grid=False, ax=ax)"
   ]
  },
  {
   "cell_type": "code",
   "execution_count": 13,
   "metadata": {},
   "outputs": [
    {
     "data": {
      "image/png": "[encoded data removed]",
      "text/plain": [
       "<Figure size 1080x576 with 1 Axes>"
      ]
     },
     "metadata": {
      "needs_background": "light"
     },
     "output_type": "display_data"
    }
   ],
   "source": [
    "plt.figure(figsize=(15,8))\n",
    "plot_int_hist(nr_tokens)\n",
    "plt.show()"
   ]
  },
  {
   "cell_type": "code",
   "execution_count": 14,
   "metadata": {},
   "outputs": [
    {
     "data": {
      "image/png": "[encoded data removed]",
      "text/plain": [
       "<Figure size 432x288 with 1 Axes>"
      ]
     },
     "metadata": {
      "needs_background": "light"
     },
     "output_type": "display_data"
    }
   ],
   "source": [
    "# Zoom in\n",
    "maxnr = 15\n",
    "plot_int_hist(nr_tokens, maxVal=maxnr)\n",
    "plt.gca().set_xlabel('Nr of tokens')\n",
    "plt.gca().set_ylabel('Count')\n",
    "plt.gca().set_xticks(range(maxnr));"
   ]
  },
  {
   "cell_type": "code",
   "execution_count": 15,
   "metadata": {},
   "outputs": [
    {
     "data": {
      "text/plain": [
       "وأشهدوا ذوي عدل منكم                  77\n",
       "قل هو الله أحد                        67\n",
       "وأولات الأحمال أجلهن أن يضعن حملهن    48\n",
       "وأتموا الحج والعمرة لله               48\n",
       "والذين يرمون أزواجهم                  47\n",
       "وأحل الله البيع                       46\n",
       "والجروح قصاص                          45\n",
       "قل يا أيها الكافرون                   44\n",
       "الطلاق مرتان                          43\n",
       "فطلقوهن لعدتهن                        42\n",
       "سبح اسم ربك الأعلى                    41\n",
       "فرهان مقبوضة                          41\n",
       "وعلى الوارث مثل ذلك                   40\n",
       "فتحرير رقبة                           38\n",
       "فنصف ما فرضتم                         38\n",
       "فإن أرضعن لكم فآتوهن أجورهن           38\n",
       "وأحل لكم ما وراء ذلكم                 37\n",
       "وليطوفوا بالبيت العتيق                37\n",
       "وحمله وفصاله ثلاثون شهرا              37\n",
       "والسارق والسارقة فاقطعوا أيديهما      37\n",
       "Name: quote, dtype: int64"
      ]
     },
     "execution_count": 15,
     "metadata": {},
     "output_type": "execute_result"
    }
   ],
   "source": [
    "# Which quotes appear most often?\n",
    "nr_quotes = df['quote'].value_counts()\n",
    "nr_quotes.head(20)"
   ]
  },
  {
   "cell_type": "code",
   "execution_count": 16,
   "metadata": {},
   "outputs": [
    {
     "data": {
      "image/png": "[encoded data removed]",
      "text/plain": [
       "<Figure size 1080x576 with 1 Axes>"
      ]
     },
     "metadata": {
      "needs_background": "light"
     },
     "output_type": "display_data"
    }
   ],
   "source": [
    "# Make a histogram of the counts per quote\n",
    "plt.figure(figsize=(15,8))\n",
    "nr_quotes.hist(bins=np.arange(-0.5, max(nr_quotes)+1))\n",
    "plt.gca().set_xlabel('nr quotes')\n",
    "plt.gca().set_ylabel('count')\n",
    "plt.show()"
   ]
  },
  {
   "cell_type": "code",
   "execution_count": 17,
   "metadata": {},
   "outputs": [],
   "source": [
    "# Use alfanous to trace the quotes back to quran verses\n",
    "searches = {}\n",
    "for q in df['quote'].unique():\n",
    "    searches[q] = alfanous.search('\"'+q+'\"', view='minimal')"
   ]
  },
  {
   "cell_type": "code",
   "execution_count": 18,
   "metadata": {},
   "outputs": [],
   "source": [
    "searches_fuzzy = {}\n",
    "for q in df['quote'].unique():\n",
    "    searches_fuzzy[q] = alfanous.search('\"'+q+'\"', view='minimal', fuzzy=True)"
   ]
  },
  {
   "cell_type": "code",
   "execution_count": 19,
   "metadata": {},
   "outputs": [],
   "source": [
    "searches_words = {}\n",
    "for q in df['quote'].unique():\n",
    "    searches_words[q] = alfanous.search(q, view='minimal')"
   ]
  },
  {
   "cell_type": "code",
   "execution_count": 26,
   "metadata": {},
   "outputs": [
    {
     "data": {
      "text/plain": [
       "\u001b[0;31mSignature:\u001b[0m \u001b[0malfanous\u001b[0m\u001b[0;34m.\u001b[0m\u001b[0msearch\u001b[0m\u001b[0;34m(\u001b[0m\u001b[0mquery\u001b[0m\u001b[0;34m,\u001b[0m \u001b[0munit\u001b[0m\u001b[0;34m=\u001b[0m\u001b[0;34m'aya'\u001b[0m\u001b[0;34m,\u001b[0m \u001b[0mpage\u001b[0m\u001b[0;34m=\u001b[0m\u001b[0;36m1\u001b[0m\u001b[0;34m,\u001b[0m \u001b[0msortedby\u001b[0m\u001b[0;34m=\u001b[0m\u001b[0;34m'relevance'\u001b[0m\u001b[0;34m,\u001b[0m \u001b[0mfuzzy\u001b[0m\u001b[0;34m=\u001b[0m\u001b[0mFalse\u001b[0m\u001b[0;34m,\u001b[0m \u001b[0mview\u001b[0m\u001b[0;34m=\u001b[0m\u001b[0;34m'normal'\u001b[0m\u001b[0;34m,\u001b[0m \u001b[0mhighlight\u001b[0m\u001b[0;34m=\u001b[0m\u001b[0;34m'bold'\u001b[0m\u001b[0;34m,\u001b[0m \u001b[0mflags\u001b[0m\u001b[0;34m=\u001b[0m\u001b[0;34m{\u001b[0m\u001b[0;34m'sortedby'\u001b[0m\u001b[0;34m:\u001b[0m \u001b[0;34m'relevance'\u001b[0m\u001b[0;34m,\u001b[0m \u001b[0;34m'highlight'\u001b[0m\u001b[0;34m:\u001b[0m \u001b[0;34m'bold'\u001b[0m\u001b[0;34m,\u001b[0m \u001b[0;34m'query'\u001b[0m\u001b[0;34m:\u001b[0m \u001b[0;34mu'\\u0645\\u0646 \\u0645\\u0627\\u0644 \\u0627\\u0644\\u0644\\u0647'\u001b[0m\u001b[0;34m,\u001b[0m \u001b[0;34m'action'\u001b[0m\u001b[0;34m:\u001b[0m \u001b[0;34m'search'\u001b[0m\u001b[0;34m,\u001b[0m \u001b[0;34m'fuzzy'\u001b[0m\u001b[0;34m:\u001b[0m \u001b[0mFalse\u001b[0m\u001b[0;34m,\u001b[0m \u001b[0;34m'page'\u001b[0m\u001b[0;34m:\u001b[0m \u001b[0;36m1\u001b[0m\u001b[0;34m,\u001b[0m \u001b[0;34m'unit'\u001b[0m\u001b[0;34m:\u001b[0m \u001b[0;34m'aya'\u001b[0m\u001b[0;34m,\u001b[0m \u001b[0;34m'view'\u001b[0m\u001b[0;34m:\u001b[0m \u001b[0;34m'minimal'\u001b[0m\u001b[0;34m}\u001b[0m\u001b[0;34m)\u001b[0m\u001b[0;34m\u001b[0m\u001b[0m\n",
       "\u001b[0;31mDocstring:\u001b[0m\n",
       "Search for query in Quran\n",
       "\n",
       "@param query: search query, examples: الحمد, qwl, gid:1.\n",
       "@param unit: search unit, possible values = ['aya', 'word', 'translation']\n",
       "@param page: page to be retrieved, possible values = 1..INF\n",
       "@param sortedby: order of results, possible values = ['relevance', 'mushaf', 'tanzil', 'subject', 'ayalength']\n",
       "@param fuzzy: use fuzzy search, possible values = [True, False]\n",
       "@param view: information to be retrieved, possible values = ['minimal', 'normal', 'full', 'statistic', 'linguistic', 'recitation','costum']\n",
       "@param highlight: type of highlight, possible values = ['css', 'html', 'genshi', 'bold', 'bbcode']\n",
       "@param flags: extra flags as a dict , check alfanous.FLAGS and alfanous.DOMAINS.\n",
       "\n",
       "\n",
       "Example:\n",
       "-------\n",
       "    >>> search(\"qawol\",page=2, fuzzy = True)\n",
       "\u001b[0;31mFile:\u001b[0m      ~/anaconda3/envs/adh2/lib/python2.7/site-packages/alfanous/__init__.py\n",
       "\u001b[0;31mType:\u001b[0m      function\n"
      ]
     },
     "metadata": {},
     "output_type": "display_data"
    }
   ],
   "source": [
    "alfanous.search?"
   ]
  },
  {
   "cell_type": "code",
   "execution_count": 20,
   "metadata": {},
   "outputs": [
    {
     "data": {
      "text/html": [
       "<div>\n",
       "<style scoped>\n",
       "    .dataframe tbody tr th:only-of-type {\n",
       "        vertical-align: middle;\n",
       "    }\n",
       "\n",
       "    .dataframe tbody tr th {\n",
       "        vertical-align: top;\n",
       "    }\n",
       "\n",
       "    .dataframe thead th {\n",
       "        text-align: right;\n",
       "    }\n",
       "</style>\n",
       "<table border=\"1\" class=\"dataframe\">\n",
       "  <thead>\n",
       "    <tr style=\"text-align: right;\">\n",
       "      <th></th>\n",
       "      <th>quote</th>\n",
       "    </tr>\n",
       "  </thead>\n",
       "  <tbody>\n",
       "    <tr>\n",
       "      <th>وأشهدوا ذوي عدل منكم</th>\n",
       "      <td>77</td>\n",
       "    </tr>\n",
       "    <tr>\n",
       "      <th>قل هو الله أحد</th>\n",
       "      <td>67</td>\n",
       "    </tr>\n",
       "    <tr>\n",
       "      <th>وأولات الأحمال أجلهن أن يضعن حملهن</th>\n",
       "      <td>48</td>\n",
       "    </tr>\n",
       "    <tr>\n",
       "      <th>وأتموا الحج والعمرة لله</th>\n",
       "      <td>48</td>\n",
       "    </tr>\n",
       "    <tr>\n",
       "      <th>والذين يرمون أزواجهم</th>\n",
       "      <td>47</td>\n",
       "    </tr>\n",
       "  </tbody>\n",
       "</table>\n",
       "</div>"
      ],
      "text/plain": [
       "                                    quote\n",
       "وأشهدوا ذوي عدل منكم                   77\n",
       "قل هو الله أحد                         67\n",
       "وأولات الأحمال أجلهن أن يضعن حملهن     48\n",
       "وأتموا الحج والعمرة لله                48\n",
       "والذين يرمون أزواجهم                   47"
      ]
     },
     "execution_count": 20,
     "metadata": {},
     "output_type": "execute_result"
    }
   ],
   "source": [
    "q_df = pd.DataFrame(nr_quotes)\n",
    "q_df.head()"
   ]
  },
  {
   "cell_type": "code",
   "execution_count": 21,
   "metadata": {},
   "outputs": [],
   "source": [
    "# To do: Encoding issues\n",
    "q_df['nr_ayas'] = [len(searches[unicode(q)]['search']['ayas']) for q in q_df.index]\n",
    "q_df['nr_ayas_fuzzy'] = [len(searches_fuzzy[unicode(q)]['search']['ayas']) for q in q_df.index]\n",
    "q_df['nr_ayas_words'] = [len(searches_words[unicode(q)]['search']['ayas']) for q in q_df.index]"
   ]
  },
  {
   "cell_type": "code",
   "execution_count": 22,
   "metadata": {},
   "outputs": [
    {
     "data": {
      "text/html": [
       "<div>\n",
       "<style scoped>\n",
       "    .dataframe tbody tr th:only-of-type {\n",
       "        vertical-align: middle;\n",
       "    }\n",
       "\n",
       "    .dataframe tbody tr th {\n",
       "        vertical-align: top;\n",
       "    }\n",
       "\n",
       "    .dataframe thead th {\n",
       "        text-align: right;\n",
       "    }\n",
       "</style>\n",
       "<table border=\"1\" class=\"dataframe\">\n",
       "  <thead>\n",
       "    <tr style=\"text-align: right;\">\n",
       "      <th></th>\n",
       "      <th>quote</th>\n",
       "      <th>nr_ayas</th>\n",
       "      <th>nr_ayas_fuzzy</th>\n",
       "      <th>nr_ayas_words</th>\n",
       "    </tr>\n",
       "  </thead>\n",
       "  <tbody>\n",
       "    <tr>\n",
       "      <th>وأشهدوا ذوي عدل منكم</th>\n",
       "      <td>77</td>\n",
       "      <td>1</td>\n",
       "      <td>1</td>\n",
       "      <td>10</td>\n",
       "    </tr>\n",
       "    <tr>\n",
       "      <th>قل هو الله أحد</th>\n",
       "      <td>67</td>\n",
       "      <td>1</td>\n",
       "      <td>1</td>\n",
       "      <td>10</td>\n",
       "    </tr>\n",
       "    <tr>\n",
       "      <th>وأولات الأحمال أجلهن أن يضعن حملهن</th>\n",
       "      <td>48</td>\n",
       "      <td>1</td>\n",
       "      <td>1</td>\n",
       "      <td>10</td>\n",
       "    </tr>\n",
       "    <tr>\n",
       "      <th>وأتموا الحج والعمرة لله</th>\n",
       "      <td>48</td>\n",
       "      <td>1</td>\n",
       "      <td>1</td>\n",
       "      <td>10</td>\n",
       "    </tr>\n",
       "    <tr>\n",
       "      <th>والذين يرمون أزواجهم</th>\n",
       "      <td>47</td>\n",
       "      <td>1</td>\n",
       "      <td>1</td>\n",
       "      <td>10</td>\n",
       "    </tr>\n",
       "  </tbody>\n",
       "</table>\n",
       "</div>"
      ],
      "text/plain": [
       "                                    quote  nr_ayas  nr_ayas_fuzzy  \\\n",
       "وأشهدوا ذوي عدل منكم                   77        1              1   \n",
       "قل هو الله أحد                         67        1              1   \n",
       "وأولات الأحمال أجلهن أن يضعن حملهن     48        1              1   \n",
       "وأتموا الحج والعمرة لله                48        1              1   \n",
       "والذين يرمون أزواجهم                   47        1              1   \n",
       "\n",
       "                                    nr_ayas_words  \n",
       "وأشهدوا ذوي عدل منكم                           10  \n",
       "قل هو الله أحد                                 10  \n",
       "وأولات الأحمال أجلهن أن يضعن حملهن             10  \n",
       "وأتموا الحج والعمرة لله                        10  \n",
       "والذين يرمون أزواجهم                           10  "
      ]
     },
     "execution_count": 22,
     "metadata": {},
     "output_type": "execute_result"
    }
   ],
   "source": [
    "q_df.head()"
   ]
  },
  {
   "cell_type": "code",
   "execution_count": 32,
   "metadata": {},
   "outputs": [
    {
     "data": {
      "text/plain": [
       "157"
      ]
     },
     "execution_count": 32,
     "metadata": {},
     "output_type": "execute_result"
    }
   ],
   "source": [
    "# How many quotes are more often found with 'fuzzy'?\n",
    "len(q_df[q_df['nr_ayas_fuzzy']>q_df['nr_ayas']])"
   ]
  },
  {
   "cell_type": "code",
   "execution_count": 33,
   "metadata": {},
   "outputs": [
    {
     "data": {
      "image/png": "[encoded data removed]",
      "text/plain": [
       "<Figure size 432x288 with 1 Axes>"
      ]
     },
     "metadata": {
      "needs_background": "light"
     },
     "output_type": "display_data"
    }
   ],
   "source": [
    "# How many aya's are found for each quote, non-fuzzy??\n",
    "plot_int_hist(q_df['nr_ayas'])"
   ]
  },
  {
   "cell_type": "code",
   "execution_count": 34,
   "metadata": {},
   "outputs": [
    {
     "data": {
      "text/plain": [
       "0.24786952688803995"
      ]
     },
     "execution_count": 34,
     "metadata": {},
     "output_type": "execute_result"
    }
   ],
   "source": [
    "# How many quotes have no aya?\n",
    "sum(q_df['nr_ayas']==0) / float(len(q_df))"
   ]
  },
  {
   "cell_type": "code",
   "execution_count": 35,
   "metadata": {},
   "outputs": [
    {
     "data": {
      "image/png": "[encoded data removed]",
      "text/plain": [
       "<Figure size 432x288 with 1 Axes>"
      ]
     },
     "metadata": {
      "needs_background": "light"
     },
     "output_type": "display_data"
    }
   ],
   "source": [
    "# How many aya's are found for each quote??\n",
    "plot_int_hist(q_df['nr_ayas_fuzzy'])"
   ]
  },
  {
   "cell_type": "code",
   "execution_count": 36,
   "metadata": {},
   "outputs": [
    {
     "data": {
      "text/plain": [
       "0.2475756685277696"
      ]
     },
     "execution_count": 36,
     "metadata": {},
     "output_type": "execute_result"
    }
   ],
   "source": [
    "# How many quotes have no aya (fuzzy)?\n",
    "sum(q_df['nr_ayas_fuzzy']==0) / float(len(q_df))"
   ]
  },
  {
   "cell_type": "code",
   "execution_count": 38,
   "metadata": {},
   "outputs": [
    {
     "data": {
      "image/png": "[encoded data removed]",
      "text/plain": [
       "<Figure size 432x288 with 1 Axes>"
      ]
     },
     "metadata": {
      "needs_background": "light"
     },
     "output_type": "display_data"
    }
   ],
   "source": [
    "# How many ayas do we find using separate word search?\n",
    "plot_int_hist(q_df['nr_ayas_words'])"
   ]
  },
  {
   "cell_type": "code",
   "execution_count": 45,
   "metadata": {},
   "outputs": [
    {
     "data": {
      "text/plain": [
       "0.012195121951219513"
      ]
     },
     "execution_count": 45,
     "metadata": {},
     "output_type": "execute_result"
    }
   ],
   "source": [
    "# How many quotes have no aya with word search?\n",
    "sum(q_df['nr_ayas_words']==0) / float(len(q_df))"
   ]
  },
  {
   "cell_type": "code",
   "execution_count": 37,
   "metadata": {},
   "outputs": [
    {
     "data": {
      "image/png": "[encoded data removed]",
      "text/plain": [
       "<Figure size 432x288 with 1 Axes>"
      ]
     },
     "metadata": {
      "needs_background": "light"
     },
     "output_type": "display_data"
    }
   ],
   "source": [
    "# How many aya's are found for quotes appearing more than once?\n",
    "plot_int_hist(q_df[q_df['quote']>1]['nr_ayas'])"
   ]
  },
  {
   "cell_type": "code",
   "execution_count": 39,
   "metadata": {},
   "outputs": [],
   "source": [
    "q_df['nr_books'] = df.groupby('quote').nunique()['BookURI']"
   ]
  },
  {
   "cell_type": "code",
   "execution_count": 40,
   "metadata": {},
   "outputs": [
    {
     "data": {
      "text/html": [
       "<div>\n",
       "<style scoped>\n",
       "    .dataframe tbody tr th:only-of-type {\n",
       "        vertical-align: middle;\n",
       "    }\n",
       "\n",
       "    .dataframe tbody tr th {\n",
       "        vertical-align: top;\n",
       "    }\n",
       "\n",
       "    .dataframe thead th {\n",
       "        text-align: right;\n",
       "    }\n",
       "</style>\n",
       "<table border=\"1\" class=\"dataframe\">\n",
       "  <thead>\n",
       "    <tr style=\"text-align: right;\">\n",
       "      <th></th>\n",
       "      <th>quote</th>\n",
       "      <th>nr_ayas</th>\n",
       "      <th>nr_ayas_fuzzy</th>\n",
       "      <th>nr_ayas_words</th>\n",
       "      <th>nr_books</th>\n",
       "    </tr>\n",
       "  </thead>\n",
       "  <tbody>\n",
       "    <tr>\n",
       "      <th>تنبيه</th>\n",
       "      <td>27</td>\n",
       "      <td>0</td>\n",
       "      <td>0</td>\n",
       "      <td>0</td>\n",
       "      <td>1</td>\n",
       "    </tr>\n",
       "    <tr>\n",
       "      <th>ولمن جاء به حمل بعير وأنا زعيم</th>\n",
       "      <td>17</td>\n",
       "      <td>0</td>\n",
       "      <td>0</td>\n",
       "      <td>10</td>\n",
       "      <td>13</td>\n",
       "    </tr>\n",
       "    <tr>\n",
       "      <th>والمحصنات من الذين أوتوا الكتاب قبلكم</th>\n",
       "      <td>14</td>\n",
       "      <td>0</td>\n",
       "      <td>0</td>\n",
       "      <td>10</td>\n",
       "      <td>11</td>\n",
       "    </tr>\n",
       "    <tr>\n",
       "      <th>الم تنزيل</th>\n",
       "      <td>14</td>\n",
       "      <td>0</td>\n",
       "      <td>0</td>\n",
       "      <td>10</td>\n",
       "      <td>7</td>\n",
       "    </tr>\n",
       "    <tr>\n",
       "      <th>ففدية من صيام أو صدقة نسك</th>\n",
       "      <td>13</td>\n",
       "      <td>0</td>\n",
       "      <td>0</td>\n",
       "      <td>10</td>\n",
       "      <td>8</td>\n",
       "    </tr>\n",
       "    <tr>\n",
       "      <th>أسكنوهن من حيث سكنتم وجدكم</th>\n",
       "      <td>12</td>\n",
       "      <td>0</td>\n",
       "      <td>0</td>\n",
       "      <td>10</td>\n",
       "      <td>7</td>\n",
       "    </tr>\n",
       "    <tr>\n",
       "      <th>ولا يضار كاتب شهيد</th>\n",
       "      <td>12</td>\n",
       "      <td>0</td>\n",
       "      <td>0</td>\n",
       "      <td>10</td>\n",
       "      <td>7</td>\n",
       "    </tr>\n",
       "    <tr>\n",
       "      <th>nan</th>\n",
       "      <td>12</td>\n",
       "      <td>0</td>\n",
       "      <td>0</td>\n",
       "      <td>0</td>\n",
       "      <td>5</td>\n",
       "    </tr>\n",
       "    <tr>\n",
       "      <th>ولا تحلقوا رؤوسكم حتى يبلغ الهدي محله</th>\n",
       "      <td>12</td>\n",
       "      <td>0</td>\n",
       "      <td>0</td>\n",
       "      <td>10</td>\n",
       "      <td>4</td>\n",
       "    </tr>\n",
       "    <tr>\n",
       "      <th>ما جعل الله من بحيرة ولا سائبة وصيلة حام</th>\n",
       "      <td>10</td>\n",
       "      <td>0</td>\n",
       "      <td>0</td>\n",
       "      <td>10</td>\n",
       "      <td>2</td>\n",
       "    </tr>\n",
       "    <tr>\n",
       "      <th>أن تضل إحداهما فتذكر الأخرى</th>\n",
       "      <td>10</td>\n",
       "      <td>0</td>\n",
       "      <td>0</td>\n",
       "      <td>10</td>\n",
       "      <td>6</td>\n",
       "    </tr>\n",
       "    <tr>\n",
       "      <th>وجزاء سيئة مثلها</th>\n",
       "      <td>9</td>\n",
       "      <td>0</td>\n",
       "      <td>0</td>\n",
       "      <td>10</td>\n",
       "      <td>5</td>\n",
       "    </tr>\n",
       "    <tr>\n",
       "      <th>واللائي يئسن من المحيض نسائكم</th>\n",
       "      <td>9</td>\n",
       "      <td>0</td>\n",
       "      <td>0</td>\n",
       "      <td>10</td>\n",
       "      <td>7</td>\n",
       "    </tr>\n",
       "    <tr>\n",
       "      <th>فإن فاؤوا الله غفور رحيم</th>\n",
       "      <td>9</td>\n",
       "      <td>0</td>\n",
       "      <td>0</td>\n",
       "      <td>10</td>\n",
       "      <td>5</td>\n",
       "    </tr>\n",
       "    <tr>\n",
       "      <th>هن لباس لكم وأنتم لهن</th>\n",
       "      <td>9</td>\n",
       "      <td>0</td>\n",
       "      <td>0</td>\n",
       "      <td>10</td>\n",
       "      <td>7</td>\n",
       "    </tr>\n",
       "    <tr>\n",
       "      <th>فلا رفث ولا فسوق جدال في الحج</th>\n",
       "      <td>9</td>\n",
       "      <td>0</td>\n",
       "      <td>0</td>\n",
       "      <td>10</td>\n",
       "      <td>8</td>\n",
       "    </tr>\n",
       "    <tr>\n",
       "      <th>فاقرؤوا ما تيسر من القرآن</th>\n",
       "      <td>8</td>\n",
       "      <td>0</td>\n",
       "      <td>0</td>\n",
       "      <td>10</td>\n",
       "      <td>4</td>\n",
       "    </tr>\n",
       "    <tr>\n",
       "      <th>وما آتاكم الرسول فخذوه نهاكم عنه فانتهوا</th>\n",
       "      <td>8</td>\n",
       "      <td>0</td>\n",
       "      <td>0</td>\n",
       "      <td>10</td>\n",
       "      <td>3</td>\n",
       "    </tr>\n",
       "    <tr>\n",
       "      <th>وامسحوا برؤوسكم</th>\n",
       "      <td>7</td>\n",
       "      <td>0</td>\n",
       "      <td>0</td>\n",
       "      <td>1</td>\n",
       "      <td>4</td>\n",
       "    </tr>\n",
       "    <tr>\n",
       "      <th>لها شرب ولكم يوم معلوم</th>\n",
       "      <td>7</td>\n",
       "      <td>0</td>\n",
       "      <td>0</td>\n",
       "      <td>10</td>\n",
       "      <td>5</td>\n",
       "    </tr>\n",
       "  </tbody>\n",
       "</table>\n",
       "</div>"
      ],
      "text/plain": [
       "                                          quote  nr_ayas  nr_ayas_fuzzy  \\\n",
       "تنبيه                                        27        0              0   \n",
       "ولمن جاء به حمل بعير وأنا زعيم               17        0              0   \n",
       "والمحصنات من الذين أوتوا الكتاب قبلكم        14        0              0   \n",
       "الم تنزيل                                    14        0              0   \n",
       "ففدية من صيام أو صدقة نسك                    13        0              0   \n",
       "أسكنوهن من حيث سكنتم وجدكم                   12        0              0   \n",
       "ولا يضار كاتب شهيد                           12        0              0   \n",
       "nan                                          12        0              0   \n",
       "ولا تحلقوا رؤوسكم حتى يبلغ الهدي محله        12        0              0   \n",
       "ما جعل الله من بحيرة ولا سائبة وصيلة حام     10        0              0   \n",
       "أن تضل إحداهما فتذكر الأخرى                  10        0              0   \n",
       "وجزاء سيئة مثلها                              9        0              0   \n",
       "واللائي يئسن من المحيض نسائكم                 9        0              0   \n",
       "فإن فاؤوا الله غفور رحيم                      9        0              0   \n",
       "هن لباس لكم وأنتم لهن                         9        0              0   \n",
       "فلا رفث ولا فسوق جدال في الحج                 9        0              0   \n",
       "فاقرؤوا ما تيسر من القرآن                     8        0              0   \n",
       "وما آتاكم الرسول فخذوه نهاكم عنه فانتهوا      8        0              0   \n",
       "وامسحوا برؤوسكم                               7        0              0   \n",
       "لها شرب ولكم يوم معلوم                        7        0              0   \n",
       "\n",
       "                                          nr_ayas_words  nr_books  \n",
       "تنبيه                                                 0         1  \n",
       "ولمن جاء به حمل بعير وأنا زعيم                       10        13  \n",
       "والمحصنات من الذين أوتوا الكتاب قبلكم                10        11  \n",
       "الم تنزيل                                            10         7  \n",
       "ففدية من صيام أو صدقة نسك                            10         8  \n",
       "أسكنوهن من حيث سكنتم وجدكم                           10         7  \n",
       "ولا يضار كاتب شهيد                                   10         7  \n",
       "nan                                                   0         5  \n",
       "ولا تحلقوا رؤوسكم حتى يبلغ الهدي محله                10         4  \n",
       "ما جعل الله من بحيرة ولا سائبة وصيلة حام             10         2  \n",
       "أن تضل إحداهما فتذكر الأخرى                          10         6  \n",
       "وجزاء سيئة مثلها                                     10         5  \n",
       "واللائي يئسن من المحيض نسائكم                        10         7  \n",
       "فإن فاؤوا الله غفور رحيم                             10         5  \n",
       "هن لباس لكم وأنتم لهن                                10         7  \n",
       "فلا رفث ولا فسوق جدال في الحج                        10         8  \n",
       "فاقرؤوا ما تيسر من القرآن                            10         4  \n",
       "وما آتاكم الرسول فخذوه نهاكم عنه فانتهوا             10         3  \n",
       "وامسحوا برؤوسكم                                       1         4  \n",
       "لها شرب ولكم يوم معلوم                               10         5  "
      ]
     },
     "execution_count": 40,
     "metadata": {},
     "output_type": "execute_result"
    }
   ],
   "source": [
    "# Some examples of quotes with no aya\n",
    "q_df[q_df['nr_ayas']<1].head(20)"
   ]
  },
  {
   "cell_type": "code",
   "execution_count": 47,
   "metadata": {},
   "outputs": [
    {
     "data": {
      "text/plain": [
       "['translation_info', 'ayas', 'runtime', 'words', 'interval']"
      ]
     },
     "execution_count": 47,
     "metadata": {},
     "output_type": "execute_result"
    }
   ],
   "source": [
    "example_search = searches_words[q_df[q_df['nr_ayas']<1].index[1]]\n",
    "example_search['search'].keys()"
   ]
  },
  {
   "cell_type": "code",
   "execution_count": 49,
   "metadata": {},
   "outputs": [
    {
     "data": {
      "text/plain": [
       "{'individual': {}}"
      ]
     },
     "execution_count": 49,
     "metadata": {},
     "output_type": "execute_result"
    }
   ],
   "source": [
    "example_search['search']['words']"
   ]
  },
  {
   "cell_type": "code",
   "execution_count": 51,
   "metadata": {},
   "outputs": [
    {
     "data": {
      "text/plain": [
       "{'annotations': {},\n",
       " 'aya': {'id': 72,\n",
       "  'next_aya': None,\n",
       "  'prev_aya': None,\n",
       "  'recitation': None,\n",
       "  'text': u'\\u0642\\u0627\\u0644\\u0648\\u0627 \\u0646\\u0641\\u0642\\u062f \\u0635\\u0648\\u0627\\u0639 \\u0627\\u0644\\u0645\\u0644\\u0643 <b>\\u0648\\u0644\\u0645\\u0646</b> <b>\\u062c\\u0627\\u0621</b> <b>\\u0628\\u0647</b> <b>\\u062d\\u0645\\u0644</b> <b>\\u0628\\u0639\\u064a\\u0631</b> <b>\\u0648\\u0623\\u0646\\u0627</b> <b>\\u0628\\u0647</b> <b>\\u0632\\u0639\\u064a\\u0645</b>',\n",
       "  'text_no_highlight': u'\\u0642\\u0627\\u0644\\u0648\\u0627 \\u0646\\u0641\\u0642\\u062f \\u0635\\u0648\\u0627\\u0639 \\u0627\\u0644\\u0645\\u0644\\u0643 \\u0648\\u0644\\u0645\\u0646 \\u062c\\u0627\\u0621 \\u0628\\u0647 \\u062d\\u0645\\u0644 \\u0628\\u0639\\u064a\\u0631 \\u0648\\u0623\\u0646\\u0627 \\u0628\\u0647 \\u0632\\u0639\\u064a\\u0645',\n",
       "  'translation': None},\n",
       " 'identifier': {'aya_id': 72,\n",
       "  'gid': 1668,\n",
       "  'sura_arabic_name': u'\\u064a\\u0648\\u0633\\u0641',\n",
       "  'sura_id': 12,\n",
       "  'sura_name': u'Yusuf'},\n",
       " 'position': {},\n",
       " 'sajda': {},\n",
       " 'stat': {},\n",
       " 'sura': {},\n",
       " 'theme': {}}"
      ]
     },
     "execution_count": 51,
     "metadata": {},
     "output_type": "execute_result"
    }
   ],
   "source": [
    "example_search['search']['ayas'][1]"
   ]
  },
  {
   "cell_type": "code",
   "execution_count": 81,
   "metadata": {},
   "outputs": [
    {
     "data": {
      "text/plain": [
       "1.0"
      ]
     },
     "execution_count": 81,
     "metadata": {},
     "output_type": "execute_result"
    }
   ],
   "source": [
    "# How often is the first aya different for regular and fuzzy search?\n",
    "ayas = {q: searches[q]['search']['ayas'].get(1, {}) for q in q_df.index}\n",
    "ayas_fuzzy = {q: searches_fuzzy[q]['search']['ayas'].get(1, {}) for q in q_df.index}\n",
    "is_same = [ayas[q].get(1)==ayas_fuzzy[q].get(1) for q in q_df.index if len(ayas[q])>0 and len(ayas_fuzzy[q])>0]\n",
    "np.mean(is_same)"
   ]
  },
  {
   "cell_type": "code",
   "execution_count": 82,
   "metadata": {},
   "outputs": [
    {
     "data": {
      "text/plain": [
       "1.0"
      ]
     },
     "execution_count": 82,
     "metadata": {},
     "output_type": "execute_result"
    }
   ],
   "source": [
    "# How often is the first aya different for fuzzy search and word search?\n",
    "ayas_words = {q: searches_words[q]['search']['ayas'].get(1, {}) for q in q_df.index}\n",
    "ayas_fuzzy = {q: searches_fuzzy[q]['search']['ayas'].get(1, {}) for q in q_df.index}\n",
    "is_same = [ayas_words[q].get(1)==ayas_fuzzy[q].get(1) for q in q_df.index if len(ayas_words[q])>0 and len(ayas_fuzzy[q])>0]\n",
    "np.mean(is_same)"
   ]
  },
  {
   "cell_type": "markdown",
   "metadata": {},
   "source": [
    "IFf multiple aya's are found with regular search, we take the first one (because they are sorted on relevance). if none are found, we can:\n",
    "- disregard the quote eventually.\n",
    "- take the first result of separate word search"
   ]
  },
  {
   "cell_type": "code",
   "execution_count": 61,
   "metadata": {},
   "outputs": [],
   "source": [
    "metafields_aya = 'aya_id', 'sura_id', 'sura_name', 'sura_arabic_name'\n",
    "\n",
    "ayas = {}\n",
    "for q in q_df.index:\n",
    "    s_result_fuzzy = searches_fuzzy[q]['search']['ayas']\n",
    "    s_result_words = searches_words[q]['search']['ayas']\n",
    "    if len(s_result_fuzzy)>0:\n",
    "        ayas[q] = s_result_fuzzy[1]['identifier']\n",
    "    elif len(s_result_words)>0:\n",
    "        ayas[q] = s_result_words[1]['identifier']\n",
    "    else:\n",
    "        ayas[q] = {}\n",
    "\n",
    "for m in metafields_aya:\n",
    "    q_df[m] = [ayas[q].get(m, None) for q in q_df.index]"
   ]
  },
  {
   "cell_type": "code",
   "execution_count": 62,
   "metadata": {},
   "outputs": [],
   "source": [
    "q_df['id'] = zip(q_df['sura_id'], q_df['aya_id'])"
   ]
  },
  {
   "cell_type": "code",
   "execution_count": 63,
   "metadata": {},
   "outputs": [
    {
     "data": {
      "text/html": [
       "<div>\n",
       "<style scoped>\n",
       "    .dataframe tbody tr th:only-of-type {\n",
       "        vertical-align: middle;\n",
       "    }\n",
       "\n",
       "    .dataframe tbody tr th {\n",
       "        vertical-align: top;\n",
       "    }\n",
       "\n",
       "    .dataframe thead th {\n",
       "        text-align: right;\n",
       "    }\n",
       "</style>\n",
       "<table border=\"1\" class=\"dataframe\">\n",
       "  <thead>\n",
       "    <tr style=\"text-align: right;\">\n",
       "      <th></th>\n",
       "      <th>quote</th>\n",
       "      <th>nr_ayas</th>\n",
       "      <th>nr_ayas_fuzzy</th>\n",
       "      <th>nr_ayas_words</th>\n",
       "      <th>nr_books</th>\n",
       "      <th>aya_id</th>\n",
       "      <th>sura_id</th>\n",
       "      <th>sura_name</th>\n",
       "      <th>sura_arabic_name</th>\n",
       "      <th>id</th>\n",
       "    </tr>\n",
       "  </thead>\n",
       "  <tbody>\n",
       "    <tr>\n",
       "      <th>وأشهدوا ذوي عدل منكم</th>\n",
       "      <td>77</td>\n",
       "      <td>1</td>\n",
       "      <td>1</td>\n",
       "      <td>10</td>\n",
       "      <td>22</td>\n",
       "      <td>2.0</td>\n",
       "      <td>65.0</td>\n",
       "      <td>At-Talaq</td>\n",
       "      <td>الطلاق</td>\n",
       "      <td>(65.0, 2.0)</td>\n",
       "    </tr>\n",
       "    <tr>\n",
       "      <th>قل هو الله أحد</th>\n",
       "      <td>67</td>\n",
       "      <td>1</td>\n",
       "      <td>1</td>\n",
       "      <td>10</td>\n",
       "      <td>26</td>\n",
       "      <td>1.0</td>\n",
       "      <td>112.0</td>\n",
       "      <td>Al-Ikhlas</td>\n",
       "      <td>الإخلاص</td>\n",
       "      <td>(112.0, 1.0)</td>\n",
       "    </tr>\n",
       "    <tr>\n",
       "      <th>وأولات الأحمال أجلهن أن يضعن حملهن</th>\n",
       "      <td>48</td>\n",
       "      <td>1</td>\n",
       "      <td>1</td>\n",
       "      <td>10</td>\n",
       "      <td>18</td>\n",
       "      <td>4.0</td>\n",
       "      <td>65.0</td>\n",
       "      <td>At-Talaq</td>\n",
       "      <td>الطلاق</td>\n",
       "      <td>(65.0, 4.0)</td>\n",
       "    </tr>\n",
       "    <tr>\n",
       "      <th>وأتموا الحج والعمرة لله</th>\n",
       "      <td>48</td>\n",
       "      <td>1</td>\n",
       "      <td>1</td>\n",
       "      <td>10</td>\n",
       "      <td>20</td>\n",
       "      <td>196.0</td>\n",
       "      <td>2.0</td>\n",
       "      <td>Al-Baqarah</td>\n",
       "      <td>البقرة</td>\n",
       "      <td>(2.0, 196.0)</td>\n",
       "    </tr>\n",
       "    <tr>\n",
       "      <th>والذين يرمون أزواجهم</th>\n",
       "      <td>47</td>\n",
       "      <td>1</td>\n",
       "      <td>1</td>\n",
       "      <td>10</td>\n",
       "      <td>18</td>\n",
       "      <td>6.0</td>\n",
       "      <td>24.0</td>\n",
       "      <td>An-Nur</td>\n",
       "      <td>النور</td>\n",
       "      <td>(24.0, 6.0)</td>\n",
       "    </tr>\n",
       "  </tbody>\n",
       "</table>\n",
       "</div>"
      ],
      "text/plain": [
       "                                    quote  nr_ayas  nr_ayas_fuzzy  \\\n",
       "وأشهدوا ذوي عدل منكم                   77        1              1   \n",
       "قل هو الله أحد                         67        1              1   \n",
       "وأولات الأحمال أجلهن أن يضعن حملهن     48        1              1   \n",
       "وأتموا الحج والعمرة لله                48        1              1   \n",
       "والذين يرمون أزواجهم                   47        1              1   \n",
       "\n",
       "                                    nr_ayas_words  nr_books  aya_id  sura_id  \\\n",
       "وأشهدوا ذوي عدل منكم                           10        22     2.0     65.0   \n",
       "قل هو الله أحد                                 10        26     1.0    112.0   \n",
       "وأولات الأحمال أجلهن أن يضعن حملهن             10        18     4.0     65.0   \n",
       "وأتموا الحج والعمرة لله                        10        20   196.0      2.0   \n",
       "والذين يرمون أزواجهم                           10        18     6.0     24.0   \n",
       "\n",
       "                                     sura_name sura_arabic_name            id  \n",
       "وأشهدوا ذوي عدل منكم                  At-Talaq           الطلاق   (65.0, 2.0)  \n",
       "قل هو الله أحد                       Al-Ikhlas          الإخلاص  (112.0, 1.0)  \n",
       "وأولات الأحمال أجلهن أن يضعن حملهن    At-Talaq           الطلاق   (65.0, 4.0)  \n",
       "وأتموا الحج والعمرة لله             Al-Baqarah           البقرة  (2.0, 196.0)  \n",
       "والذين يرمون أزواجهم                    An-Nur            النور   (24.0, 6.0)  "
      ]
     },
     "execution_count": 63,
     "metadata": {},
     "output_type": "execute_result"
    }
   ],
   "source": [
    "# Note that multiple quotes can come from the same aya\n",
    "q_df.head()"
   ]
  },
  {
   "cell_type": "code",
   "execution_count": 65,
   "metadata": {},
   "outputs": [
    {
     "name": "stdout",
     "output_type": "stream",
     "text": [
      "81\n"
     ]
    }
   ],
   "source": [
    "print(len(q_df[q_df.aya_id.isna()]))"
   ]
  },
  {
   "cell_type": "code",
   "execution_count": 66,
   "metadata": {},
   "outputs": [
    {
     "data": {
      "text/html": [
       "<div>\n",
       "<style scoped>\n",
       "    .dataframe tbody tr th:only-of-type {\n",
       "        vertical-align: middle;\n",
       "    }\n",
       "\n",
       "    .dataframe tbody tr th {\n",
       "        vertical-align: top;\n",
       "    }\n",
       "\n",
       "    .dataframe thead th {\n",
       "        text-align: right;\n",
       "    }\n",
       "</style>\n",
       "<table border=\"1\" class=\"dataframe\">\n",
       "  <thead>\n",
       "    <tr style=\"text-align: right;\">\n",
       "      <th></th>\n",
       "      <th>quote</th>\n",
       "      <th>nr_ayas</th>\n",
       "      <th>nr_ayas_fuzzy</th>\n",
       "      <th>nr_ayas_words</th>\n",
       "      <th>nr_books</th>\n",
       "      <th>aya_id</th>\n",
       "      <th>sura_id</th>\n",
       "      <th>sura_name</th>\n",
       "      <th>sura_arabic_name</th>\n",
       "      <th>id</th>\n",
       "    </tr>\n",
       "  </thead>\n",
       "  <tbody>\n",
       "    <tr>\n",
       "      <th>تنبيه</th>\n",
       "      <td>27</td>\n",
       "      <td>0</td>\n",
       "      <td>0</td>\n",
       "      <td>0</td>\n",
       "      <td>1</td>\n",
       "      <td>NaN</td>\n",
       "      <td>NaN</td>\n",
       "      <td>None</td>\n",
       "      <td>None</td>\n",
       "      <td>(nan, nan)</td>\n",
       "    </tr>\n",
       "    <tr>\n",
       "      <th>nan</th>\n",
       "      <td>12</td>\n",
       "      <td>0</td>\n",
       "      <td>0</td>\n",
       "      <td>0</td>\n",
       "      <td>5</td>\n",
       "      <td>NaN</td>\n",
       "      <td>NaN</td>\n",
       "      <td>None</td>\n",
       "      <td>None</td>\n",
       "      <td>(nan, nan)</td>\n",
       "    </tr>\n",
       "    <tr>\n",
       "      <th>أعتقها ولدها</th>\n",
       "      <td>6</td>\n",
       "      <td>0</td>\n",
       "      <td>0</td>\n",
       "      <td>0</td>\n",
       "      <td>1</td>\n",
       "      <td>NaN</td>\n",
       "      <td>NaN</td>\n",
       "      <td>None</td>\n",
       "      <td>None</td>\n",
       "      <td>(nan, nan)</td>\n",
       "    </tr>\n",
       "    <tr>\n",
       "      <th>الزعيم غارم</th>\n",
       "      <td>4</td>\n",
       "      <td>0</td>\n",
       "      <td>0</td>\n",
       "      <td>0</td>\n",
       "      <td>1</td>\n",
       "      <td>NaN</td>\n",
       "      <td>NaN</td>\n",
       "      <td>None</td>\n",
       "      <td>None</td>\n",
       "      <td>(nan, nan)</td>\n",
       "    </tr>\n",
       "    <tr>\n",
       "      <th>العمد قود</th>\n",
       "      <td>3</td>\n",
       "      <td>0</td>\n",
       "      <td>0</td>\n",
       "      <td>0</td>\n",
       "      <td>1</td>\n",
       "      <td>NaN</td>\n",
       "      <td>NaN</td>\n",
       "      <td>None</td>\n",
       "      <td>None</td>\n",
       "      <td>(nan, nan)</td>\n",
       "    </tr>\n",
       "  </tbody>\n",
       "</table>\n",
       "</div>"
      ],
      "text/plain": [
       "              quote  nr_ayas  nr_ayas_fuzzy  nr_ayas_words  nr_books  aya_id  \\\n",
       "تنبيه            27        0              0              0         1     NaN   \n",
       "nan              12        0              0              0         5     NaN   \n",
       "أعتقها ولدها      6        0              0              0         1     NaN   \n",
       "الزعيم غارم       4        0              0              0         1     NaN   \n",
       "العمد قود         3        0              0              0         1     NaN   \n",
       "\n",
       "              sura_id sura_name sura_arabic_name          id  \n",
       "تنبيه             NaN      None             None  (nan, nan)  \n",
       "nan               NaN      None             None  (nan, nan)  \n",
       "أعتقها ولدها      NaN      None             None  (nan, nan)  \n",
       "الزعيم غارم       NaN      None             None  (nan, nan)  \n",
       "العمد قود         NaN      None             None  (nan, nan)  "
      ]
     },
     "execution_count": 66,
     "metadata": {},
     "output_type": "execute_result"
    }
   ],
   "source": [
    "q_df[q_df.aya_id.isna()].head()"
   ]
  },
  {
   "cell_type": "code",
   "execution_count": 93,
   "metadata": {},
   "outputs": [],
   "source": [
    "# We merge the literal quotes with the information on the aya's\n",
    "links_merged = df.merge(q_df.dropna(), left_on='quote', right_index=True, suffixes=('', '_cnt'))"
   ]
  },
  {
   "cell_type": "code",
   "execution_count": 94,
   "metadata": {},
   "outputs": [
    {
     "data": {
      "text/html": [
       "<div>\n",
       "<style scoped>\n",
       "    .dataframe tbody tr th:only-of-type {\n",
       "        vertical-align: middle;\n",
       "    }\n",
       "\n",
       "    .dataframe tbody tr th {\n",
       "        vertical-align: top;\n",
       "    }\n",
       "\n",
       "    .dataframe thead th {\n",
       "        text-align: right;\n",
       "    }\n",
       "</style>\n",
       "<table border=\"1\" class=\"dataframe\">\n",
       "  <thead>\n",
       "    <tr style=\"text-align: right;\">\n",
       "      <th></th>\n",
       "      <th>BookURI</th>\n",
       "      <th>position</th>\n",
       "      <th>quote</th>\n",
       "      <th>quote_cnt</th>\n",
       "      <th>nr_ayas</th>\n",
       "      <th>nr_ayas_fuzzy</th>\n",
       "      <th>nr_ayas_words</th>\n",
       "      <th>nr_books</th>\n",
       "      <th>aya_id</th>\n",
       "      <th>sura_id</th>\n",
       "      <th>sura_name</th>\n",
       "      <th>sura_arabic_name</th>\n",
       "      <th>id</th>\n",
       "    </tr>\n",
       "  </thead>\n",
       "  <tbody>\n",
       "    <tr>\n",
       "      <th>0</th>\n",
       "      <td>0587IbnMascudCalaDinKasani.BadaicSanaic</td>\n",
       "      <td>302</td>\n",
       "      <td>فاغسلوا وجوهكم</td>\n",
       "      <td>22</td>\n",
       "      <td>1</td>\n",
       "      <td>1</td>\n",
       "      <td>6</td>\n",
       "      <td>14</td>\n",
       "      <td>6.0</td>\n",
       "      <td>5.0</td>\n",
       "      <td>Al-Ma'idah</td>\n",
       "      <td>المائدة</td>\n",
       "      <td>(5.0, 6.0)</td>\n",
       "    </tr>\n",
       "    <tr>\n",
       "      <th>1173</th>\n",
       "      <td>1204SulaymanJamal.Hashiya</td>\n",
       "      <td>72862</td>\n",
       "      <td>فاغسلوا وجوهكم</td>\n",
       "      <td>22</td>\n",
       "      <td>1</td>\n",
       "      <td>1</td>\n",
       "      <td>6</td>\n",
       "      <td>14</td>\n",
       "      <td>6.0</td>\n",
       "      <td>5.0</td>\n",
       "      <td>Al-Ma'idah</td>\n",
       "      <td>المائدة</td>\n",
       "      <td>(5.0, 6.0)</td>\n",
       "    </tr>\n",
       "    <tr>\n",
       "      <th>2262</th>\n",
       "      <td>0458QadiAbuYacla.MasailFiqhyya</td>\n",
       "      <td>1447</td>\n",
       "      <td>فاغسلوا وجوهكم</td>\n",
       "      <td>22</td>\n",
       "      <td>1</td>\n",
       "      <td>1</td>\n",
       "      <td>6</td>\n",
       "      <td>14</td>\n",
       "      <td>6.0</td>\n",
       "      <td>5.0</td>\n",
       "      <td>Al-Ma'idah</td>\n",
       "      <td>المائدة</td>\n",
       "      <td>(5.0, 6.0)</td>\n",
       "    </tr>\n",
       "    <tr>\n",
       "      <th>2347</th>\n",
       "      <td>0483IbnAhmadSarakhsi.Mabsut</td>\n",
       "      <td>18961</td>\n",
       "      <td>فاغسلوا وجوهكم</td>\n",
       "      <td>22</td>\n",
       "      <td>1</td>\n",
       "      <td>1</td>\n",
       "      <td>6</td>\n",
       "      <td>14</td>\n",
       "      <td>6.0</td>\n",
       "      <td>5.0</td>\n",
       "      <td>Al-Ma'idah</td>\n",
       "      <td>المائدة</td>\n",
       "      <td>(5.0, 6.0)</td>\n",
       "    </tr>\n",
       "    <tr>\n",
       "      <th>2348</th>\n",
       "      <td>0483IbnAhmadSarakhsi.Mabsut</td>\n",
       "      <td>19097</td>\n",
       "      <td>فاغسلوا وجوهكم</td>\n",
       "      <td>22</td>\n",
       "      <td>1</td>\n",
       "      <td>1</td>\n",
       "      <td>6</td>\n",
       "      <td>14</td>\n",
       "      <td>6.0</td>\n",
       "      <td>5.0</td>\n",
       "      <td>Al-Ma'idah</td>\n",
       "      <td>المائدة</td>\n",
       "      <td>(5.0, 6.0)</td>\n",
       "    </tr>\n",
       "  </tbody>\n",
       "</table>\n",
       "</div>"
      ],
      "text/plain": [
       "                                      BookURI  position           quote  \\\n",
       "0     0587IbnMascudCalaDinKasani.BadaicSanaic       302  فاغسلوا وجوهكم   \n",
       "1173                1204SulaymanJamal.Hashiya     72862  فاغسلوا وجوهكم   \n",
       "2262           0458QadiAbuYacla.MasailFiqhyya      1447  فاغسلوا وجوهكم   \n",
       "2347              0483IbnAhmadSarakhsi.Mabsut     18961  فاغسلوا وجوهكم   \n",
       "2348              0483IbnAhmadSarakhsi.Mabsut     19097  فاغسلوا وجوهكم   \n",
       "\n",
       "      quote_cnt  nr_ayas  nr_ayas_fuzzy  nr_ayas_words  nr_books  aya_id  \\\n",
       "0            22        1              1              6        14     6.0   \n",
       "1173         22        1              1              6        14     6.0   \n",
       "2262         22        1              1              6        14     6.0   \n",
       "2347         22        1              1              6        14     6.0   \n",
       "2348         22        1              1              6        14     6.0   \n",
       "\n",
       "      sura_id   sura_name sura_arabic_name          id  \n",
       "0         5.0  Al-Ma'idah          المائدة  (5.0, 6.0)  \n",
       "1173      5.0  Al-Ma'idah          المائدة  (5.0, 6.0)  \n",
       "2262      5.0  Al-Ma'idah          المائدة  (5.0, 6.0)  \n",
       "2347      5.0  Al-Ma'idah          المائدة  (5.0, 6.0)  \n",
       "2348      5.0  Al-Ma'idah          المائدة  (5.0, 6.0)  "
      ]
     },
     "execution_count": 94,
     "metadata": {},
     "output_type": "execute_result"
    }
   ],
   "source": [
    "links_merged.head()"
   ]
  },
  {
   "cell_type": "code",
   "execution_count": 95,
   "metadata": {},
   "outputs": [
    {
     "data": {
      "text/plain": [
       "(17332, 13)"
      ]
     },
     "execution_count": 95,
     "metadata": {},
     "output_type": "execute_result"
    }
   ],
   "source": [
    "links_merged.shape"
   ]
  },
  {
   "cell_type": "code",
   "execution_count": 96,
   "metadata": {},
   "outputs": [],
   "source": [
    "links = pd.DataFrame(links_merged.groupby(['BookURI', 'id']).count()['quote'])\n",
    "links = links.reset_index()\n",
    "links.columns = ['Source', 'Target', 'Weight']"
   ]
  },
  {
   "cell_type": "code",
   "execution_count": 98,
   "metadata": {},
   "outputs": [
    {
     "data": {
      "text/plain": [
       "(8615, 3)"
      ]
     },
     "execution_count": 98,
     "metadata": {},
     "output_type": "execute_result"
    }
   ],
   "source": [
    "links.shape"
   ]
  },
  {
   "cell_type": "code",
   "execution_count": 99,
   "metadata": {},
   "outputs": [],
   "source": [
    "# Store the nodes and links\n",
    "links.to_csv(os.path.join(out_dir, 'fiqh_quran_links.csv'), index=False)"
   ]
  },
  {
   "cell_type": "code",
   "execution_count": 39,
   "metadata": {},
   "outputs": [
    {
     "data": {
      "text/plain": [
       "Index([u'BookURI', u'BookSource', u'BookTITLE_SHORT', u'BookTITLE',\n",
       "       u'BookSUBJ', u'Number_of_tokens', u'AuthorAKA', u'AuthorNAME',\n",
       "       u'AuthorBORNH', u'AuthorBORNC', u'AuthorDIEDH', u'AuthorDIEDC',\n",
       "       u'Century', u'All_tokens_per-century', u'Author_Geographical_Area',\n",
       "       u'Tagging', u'BookVOLS'],\n",
       "      dtype='object')"
      ]
     },
     "execution_count": 39,
     "metadata": {},
     "output_type": "execute_result"
    }
   ],
   "source": [
    "metadata.columns"
   ]
  },
  {
   "cell_type": "code",
   "execution_count": 100,
   "metadata": {},
   "outputs": [],
   "source": [
    "book_nodes = metadata[metadata.BookURI.isin(df.BookURI)].copy()\n",
    "book_nodes['id'] = book_nodes['BookURI']\n",
    "book_nodes['Type'] = 'book'\n",
    "book_nodes['Label'] = book_nodes['BookTITLE_SHORT']\n",
    "book_nodes['Group'] = book_nodes['BookSUBJ']\n",
    "book_nodes.to_csv(os.path.join(out_dir, 'fiqh_quran_book_nodes.csv'), index=False, encoding='utf-8')"
   ]
  },
  {
   "cell_type": "code",
   "execution_count": 101,
   "metadata": {},
   "outputs": [],
   "source": [
    "quran_nodes = q_df.dropna().reset_index()[['id', 'sura_id', 'aya_id', 'sura_name', 'sura_arabic_name']].drop_duplicates()\n",
    "quran_nodes['aya_id'] = quran_nodes['aya_id'].astype('int')\n",
    "quran_nodes['sura_id'] = quran_nodes['sura_id'].astype('int')\n",
    "quran_nodes['Type'] = 'aya'\n",
    "quran_nodes['Label'] = quran_nodes['sura_name'] + [' {:.0f}'.format(s) for s in quran_nodes['aya_id']]\n",
    "quran_nodes['Group'] = 'aya'\n",
    "quran_nodes.to_csv(os.path.join(out_dir, 'fiqh_quran_aya_nodes.csv'), index=False, encoding='utf-8')"
   ]
  },
  {
   "cell_type": "markdown",
   "metadata": {},
   "source": [
    "## Some more analysis"
   ]
  },
  {
   "cell_type": "code",
   "execution_count": null,
   "metadata": {},
   "outputs": [],
   "source": [
    "# Look at quotes to the aya with different quotes\n",
    "q_df[(q_df['sura_id']==2) & (q_df['aya_id']==282)]"
   ]
  },
  {
   "cell_type": "code",
   "execution_count": null,
   "metadata": {},
   "outputs": [],
   "source": []
  }
 ],
 "metadata": {
  "kernelspec": {
   "display_name": "Python [conda env:adh2]",
   "language": "python",
   "name": "conda-env-adh2-py"
  },
  "language_info": {
   "codemirror_mode": {
    "name": "ipython",
    "version": 2
   },
   "file_extension": ".py",
   "mimetype": "text/x-python",
   "name": "python",
   "nbconvert_exporter": "python",
   "pygments_lexer": "ipython2",
   "version": "2.7.15"
  }
 },
 "nbformat": 4,
 "nbformat_minor": 2
}
