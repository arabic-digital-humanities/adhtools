{
 "cells": [
  {
   "cell_type": "code",
   "execution_count": null,
   "metadata": {},
   "outputs": [],
   "source": [
    "%matplotlib inline\n",
    "import os\n",
    "import pandas as pd\n",
    "import alfanous\n",
    "import codecs\n",
    "import matplotlib.pyplot as plt\n",
    "import re"
   ]
  },
  {
   "cell_type": "code",
   "execution_count": null,
   "metadata": {},
   "outputs": [],
   "source": [
    "in_dir = '/media/sf_VBox_Shared/Arabic/Fiqh_quran/'\n",
    "metadata_file = '/media/sf_VBox_Shared/Arabic/Fiqh/Metadata.csv'\n",
    "out_dir = '/media/sf_VBox_Shared/Arabic/networks/'"
   ]
  },
  {
   "cell_type": "code",
   "execution_count": null,
   "metadata": {},
   "outputs": [],
   "source": [
    "# Read in the meta data of the books\n",
    "metadata = pd.read_csv(metadata_file, encoding='utf-8', sep=';', index_col=0).T\n",
    "metadata.columns = [re.sub('#META# \\d+\\.', '', c) for c in metadata.columns]\n",
    "metadata['filename'] = ['Fiqh{}.txt'.format(i) for i in range(1, len(metadata)+1)]"
   ]
  },
  {
   "cell_type": "code",
   "execution_count": null,
   "metadata": {},
   "outputs": [],
   "source": [
    "metadata.shape"
   ]
  },
  {
   "cell_type": "code",
   "execution_count": null,
   "metadata": {},
   "outputs": [],
   "source": [
    "metadata.head()"
   ]
  },
  {
   "cell_type": "code",
   "execution_count": null,
   "metadata": {},
   "outputs": [],
   "source": [
    "# Read in the quran citations (files with one quote per line)\n",
    "df = pd.DataFrame()\n",
    "\n",
    "for fname in os.listdir(in_dir):\n",
    "    with codecs.open(os.path.join(in_dir, fname), encoding='utf-8') as f:\n",
    "        lines = f.readlines()\n",
    "    df = df.append(pd.DataFrame({'quotes': [l.strip() for l in lines], 'file': fname.replace('quotes_', '')}))"
   ]
  },
  {
   "cell_type": "code",
   "execution_count": null,
   "metadata": {},
   "outputs": [],
   "source": [
    "df.head()"
   ]
  },
  {
   "cell_type": "code",
   "execution_count": null,
   "metadata": {},
   "outputs": [],
   "source": [
    "df.shape"
   ]
  },
  {
   "cell_type": "code",
   "execution_count": null,
   "metadata": {},
   "outputs": [],
   "source": [
    "# How many files do we have?\n",
    "df['file'].nunique()"
   ]
  },
  {
   "cell_type": "code",
   "execution_count": null,
   "metadata": {},
   "outputs": [],
   "source": [
    "# How many times does each quote appear?\n",
    "nr_quotes = df['quotes'].value_counts()\n",
    "nr_quotes.head(20)"
   ]
  },
  {
   "cell_type": "code",
   "execution_count": null,
   "metadata": {},
   "outputs": [],
   "source": [
    "# Make a histogram of these counts\n",
    "plt.figure(figsize=(15,8))\n",
    "nr_quotes.hist(bins=range(max(nr_quotes)+1))\n",
    "plt.gca().set_xlabel('nr quotes')\n",
    "plt.gca().set_ylabel('count')\n",
    "plt.show()"
   ]
  },
  {
   "cell_type": "code",
   "execution_count": null,
   "metadata": {},
   "outputs": [],
   "source": [
    "# Use alfanous to trace the quotes back to quran verses\n",
    "searches = {}\n",
    "for q in df['quotes'].unique():\n",
    "    searches[q] = alfanous.search('\"'+q+'\"', view='minimal')"
   ]
  },
  {
   "cell_type": "code",
   "execution_count": null,
   "metadata": {},
   "outputs": [],
   "source": [
    "q_df = pd.DataFrame(nr_quotes)\n",
    "q_df['nr_ayas'] = [len(searches[q]['search']['ayas']) for q in q_df.index]"
   ]
  },
  {
   "cell_type": "code",
   "execution_count": null,
   "metadata": {},
   "outputs": [],
   "source": [
    "import numpy as np\n",
    "def plot_int_hist(d, att, ax=None):\n",
    "    d[att].hist(bins=np.arange(min(d[att])-0.5, max(d[att]+1)), grid=False, ax=ax)"
   ]
  },
  {
   "cell_type": "code",
   "execution_count": null,
   "metadata": {},
   "outputs": [],
   "source": [
    "# How many aya's are found for each quote??\n",
    "plot_int_hist(q_df, 'nr_ayas')"
   ]
  },
  {
   "cell_type": "code",
   "execution_count": null,
   "metadata": {},
   "outputs": [],
   "source": [
    "# How many aya's are found for quotes appearing more than once?\n",
    "plot_int_hist(q_df[q_df['quotes']>1], 'nr_ayas')"
   ]
  },
  {
   "cell_type": "markdown",
   "metadata": {},
   "source": [
    "We take the simplest approach: if multiple aya's are found, we take the first one. if none are found, we disregard the quote eventually."
   ]
  },
  {
   "cell_type": "code",
   "execution_count": null,
   "metadata": {},
   "outputs": [],
   "source": [
    "metafields_aya = 'aya_id', 'sura_id', 'sura_name', 'sura_arabic_name'\n",
    "ayas = {q: searches[q]['search']['ayas'][1]['identifier'] if len(searches[q]['search']['ayas'])>0 else {} for q in q_df.index}\n",
    "\n",
    "for m in metafields_aya:\n",
    "    q_df[m] = [ayas[q].get(m, None) for q in q_df.index]"
   ]
  },
  {
   "cell_type": "code",
   "execution_count": null,
   "metadata": {},
   "outputs": [],
   "source": [
    "q_df['id'] = zip(q_df['sura_id'], q_df['aya_id'])"
   ]
  },
  {
   "cell_type": "code",
   "execution_count": null,
   "metadata": {},
   "outputs": [],
   "source": [
    "# Note that multiple quotes can come from the same aya\n",
    "q_df.head()"
   ]
  },
  {
   "cell_type": "code",
   "execution_count": null,
   "metadata": {},
   "outputs": [],
   "source": [
    "# We merge the literal quotes with the information on the aya's\n",
    "links_merged = df.merge(q_df[q_df['nr_ayas']>0], left_on='quotes', right_index=True, suffixes=('', '_cnt'))"
   ]
  },
  {
   "cell_type": "code",
   "execution_count": null,
   "metadata": {},
   "outputs": [],
   "source": [
    "links = pd.DataFrame(links_merged.groupby(['file', 'id']).count()['quotes'])\n",
    "links = links.reset_index()\n",
    "links.columns = ['Source', 'Target', 'Weight']"
   ]
  },
  {
   "cell_type": "code",
   "execution_count": null,
   "metadata": {},
   "outputs": [],
   "source": [
    "# Store the nodes and links\n",
    "\n",
    "links.to_csv(os.path.join(out_dir, 'fiqh_quran_links.csv'), index=False)\n",
    "\n",
    "book_nodes = metadata.rename({'filename': 'id'}, axis=1)[['id', 'AuthorAKA', 'AuthorNAME', 'AuthorBORNC', 'AuthorDIEDC', 'Author Geographical Area', 'Century', 'BookTITLE', 'BookSUBJ']]\n",
    "book_nodes['Type'] = 'book'\n",
    "book_nodes['Label'] = book_nodes['BookTITLE']\n",
    "book_nodes.to_csv(os.path.join(out_dir, 'fiqh_quran_book_nodes.csv'), index=False, encoding='utf-8')\n",
    "\n",
    "quran_nodes = q_df[q_df['nr_ayas']>0].reset_index()[['id', 'sura_id', 'aya_id', 'sura_name', 'sura_arabic_name']].drop_duplicates()\n",
    "quran_nodes['aya_id'] = quran_nodes['aya_id'].astype('int')\n",
    "quran_nodes['sura_id'] = quran_nodes['sura_id'].astype('int')\n",
    "quran_nodes['Type'] = 'aya'\n",
    "quran_nodes['Label'] = quran_nodes['sura_name'] + [' {:.0f}'.format(s) for s in quran_nodes['aya_id']]\n",
    "quran_nodes.to_csv(os.path.join(out_dir, 'fiqh_quran_aya_nodes.csv'), index=False, encoding='utf-8')"
   ]
  },
  {
   "cell_type": "markdown",
   "metadata": {},
   "source": [
    "## Some more analysis"
   ]
  },
  {
   "cell_type": "code",
   "execution_count": null,
   "metadata": {},
   "outputs": [],
   "source": [
    "# Look at quotes to the aya with different quotes\n",
    "q_df[(q_df['sura_id']==2) & (q_df['aya_id']==282)]"
   ]
  },
  {
   "cell_type": "code",
   "execution_count": null,
   "metadata": {},
   "outputs": [],
   "source": []
  }
 ],
 "metadata": {
  "language_info": {
   "name": "python",
   "pygments_lexer": "ipython3"
  }
 },
 "nbformat": 4,
 "nbformat_minor": 2
}
