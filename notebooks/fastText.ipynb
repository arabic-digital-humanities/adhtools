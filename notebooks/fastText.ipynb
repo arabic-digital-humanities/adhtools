{
 "cells": [
  {
   "cell_type": "code",
   "execution_count": null,
   "metadata": {},
   "outputs": [],
   "source": [
    "import fasttext\n",
    "\n",
    "help(fasttext.fasttext)"
   ]
  },
  {
   "cell_type": "code",
   "execution_count": null,
   "metadata": {},
   "outputs": [],
   "source": [
    "#model_file = '/home/jvdzwaan/Downloads/wiki.ar/wiki.ar.bin'\n",
    "model_file = '/media/sf_VBox_Shared/Arabic/wordembedding/wiki.ar.bin'"
   ]
  },
  {
   "cell_type": "code",
   "execution_count": null,
   "metadata": {},
   "outputs": [],
   "source": [
    "%%time\n",
    "model = fasttext.fasttext.load_model(model_file)"
   ]
  },
  {
   "cell_type": "code",
   "execution_count": null,
   "metadata": {},
   "outputs": [],
   "source": [
    "fasttext.util.find_nearest_neighbor?"
   ]
  },
  {
   "cell_type": "code",
   "execution_count": null,
   "metadata": {},
   "outputs": [],
   "source": [
    "%%time\n",
    "from gensim.models import FastText as fText\n",
    "\n",
    "model_gensim = fText.load_fasttext_format(model_file)"
   ]
  },
  {
   "cell_type": "code",
   "execution_count": null,
   "metadata": {},
   "outputs": [],
   "source": [
    "import gensim\n",
    "model_w2vec = gensim.models.Word2Vec.load('/media/sf_VBox_Shared/Arabic/wordembedding/wikipedia_cbow_100')"
   ]
  },
  {
   "cell_type": "code",
   "execution_count": null,
   "metadata": {},
   "outputs": [],
   "source": [
    "def most_similar(word, topn=10):\n",
    "    res = model_gensim.wv.most_similar(word, topn=topn)\n",
    "    for w, s in res:\n",
    "        print(u'({} {})'.format(w, s))\n",
    "most_similar(u'باب')"
   ]
  },
  {
   "cell_type": "code",
   "execution_count": null,
   "metadata": {},
   "outputs": [],
   "source": [
    "most_similar(u'سمعت')\n",
    "model_w2vec.wv.most_similar(u'سمعت')"
   ]
  },
  {
   "cell_type": "code",
   "execution_count": null,
   "metadata": {},
   "outputs": [],
   "source": [
    "most_similar(u'سمع', topn=30)\n",
    "print('word2vec:')\n",
    "model_w2vec.wv.most_similar(u'سمع')"
   ]
  },
  {
   "cell_type": "code",
   "execution_count": null,
   "metadata": {},
   "outputs": [],
   "source": [
    "most_similar(u'ذوق', topn=30)\n",
    "print('word2vec:')\n",
    "model_w2vec.wv.most_similar(u'ذوق')"
   ]
  },
  {
   "cell_type": "markdown",
   "metadata": {},
   "source": [
    "# Tune model\n",
    "see: https://groups.google.com/forum/#!topic/gensim/Y_WmJST9xx8"
   ]
  },
  {
   "cell_type": "code",
   "execution_count": null,
   "metadata": {},
   "outputs": [],
   "source": [
    "import os\n",
    "import re\n",
    "\n",
    "corpus_path = '/media/sf_VBox_Shared/Arabic/Fiqh/2018-06-08-Fiqh/'\n",
    "\n",
    "def normalize_arabic(text):\n",
    "    # Remove non-arabic characters\n",
    "    nonarab_chars = '[^\\u0621-\\u064A ]'\n",
    "    text = re.sub(nonarab_chars, '', text)\n",
    "    text = text.strip()\n",
    "    return text\n",
    "\n",
    "def corpus_iterator(filepath):\n",
    "    for fn in os.listdir(filepath):\n",
    "        with open(os.path.join(filepath, fn)) as f:\n",
    "            for line in f.readlines():\n",
    "                if not line.startswith('#'):\n",
    "                    words = [normalize_arabic(w) for w in line.split(' ')]\n",
    "                    words = [w for w in words if len(w)>0]\n",
    "                    if not len(words)==0:\n",
    "                        yield words"
   ]
  },
  {
   "cell_type": "code",
   "execution_count": null,
   "metadata": {},
   "outputs": [],
   "source": [
    "model_custom = fText.train"
   ]
  },
  {
   "cell_type": "code",
   "execution_count": null,
   "metadata": {},
   "outputs": [],
   "source": [
    "sentences = itertools.islice(corpus_iterator(corpus_path), 100)\n",
    "#sentences = [u'حدثني يحيى بن يحيى'.split(' ')]"
   ]
  },
  {
   "cell_type": "code",
   "execution_count": null,
   "metadata": {},
   "outputs": [],
   "source": [
    "# tune fasttext: https://github.com/facebookresearch/fastText/issues/279, https://github.com/facebookresearch/fastText/pull/423\n",
    "model_custom = fText(min_count=1)\n",
    "#model_custom = model_gensim #. reset_from(model_gensim)\n",
    "model_custom.build_vocab(sentences)\n",
    "model_custom.train(sentences, epochs=1, total_examples=1)"
   ]
  },
  {
   "cell_type": "code",
   "execution_count": null,
   "metadata": {},
   "outputs": [],
   "source": [
    "model_custom.wv.most_similar(u'يحيى')"
   ]
  },
  {
   "cell_type": "code",
   "execution_count": null,
   "metadata": {},
   "outputs": [],
   "source": [
    "model_custom_w = gensim.models.word2vec.Word2Vec(min_count=50)\n",
    "#model_custom_w.reset_from(model_w2vec)\n",
    "model_custom_w.build_vocab(corpus_iterator(corpus_path))"
   ]
  },
  {
   "cell_type": "code",
   "execution_count": null,
   "metadata": {},
   "outputs": [],
   "source": [
    "#model_custom_w.intersect_word2vec_format('/media/sf_VBox_Shared/Arabic/wordembedding/wikipedia_cbow_100')\n",
    "sentences = itertools.islice(corpus_iterator(corpus_path), 100000)\n",
    "model_custom_w.train(sentences, epochs=1, total_examples=model_custom_w.corpus_count)"
   ]
  },
  {
   "cell_type": "code",
   "execution_count": null,
   "metadata": {},
   "outputs": [],
   "source": [
    "model_custom_w.most_similar(u'سمعت')"
   ]
  },
  {
   "cell_type": "code",
   "execution_count": null,
   "metadata": {},
   "outputs": [],
   "source": []
  }
 ],
 "metadata": {
  "language_info": {
   "name": "python",
   "pygments_lexer": "ipython3"
  }
 },
 "nbformat": 4,
 "nbformat_minor": 2
}
