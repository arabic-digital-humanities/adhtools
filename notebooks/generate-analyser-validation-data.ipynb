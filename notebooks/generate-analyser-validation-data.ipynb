{
 "cells": [
  {
   "cell_type": "code",
   "execution_count": null,
   "metadata": {},
   "outputs": [],
   "source": [
    "%load_ext autoreload\n",
    "%autoreload 2"
   ]
  },
  {
   "cell_type": "code",
   "execution_count": null,
   "metadata": {},
   "outputs": [],
   "source": [
    "%matplotlib inline\n",
    "\n",
    "import numpy as np\n",
    "import pandas as pd\n",
    "import matplotlib.pyplot as plt"
   ]
  },
  {
   "cell_type": "code",
   "execution_count": null,
   "metadata": {},
   "outputs": [],
   "source": [
    "# make example file for annotation \n",
    "import codecs\n",
    "\n",
    "from bs4 import BeautifulSoup\n",
    "\n",
    "in_file = '/home/jvdzwaan/Downloads/Al-khalil/Fiqh1/Fiqh1-V01P013.xml'\n",
    "print in_file\n",
    "\n",
    "def get_first_analysis(word):\n",
    "    roots = []\n",
    "    analyses = word.find_all('analysis')\n",
    "    if len(analyses) == 0:\n",
    "        return ''\n",
    "    for a in analyses:\n",
    "        try:\n",
    "            root = a['root']\n",
    "            return root\n",
    "        except KeyError:\n",
    "            pass\n",
    "    return '' \n",
    "\n",
    "with codecs.open(in_file) as f:\n",
    "    soup = BeautifulSoup(f, 'xml')\n",
    "words = soup.find_all('word')\n",
    "for word in words[:200]:\n",
    "    print word['value'], get_first_analysis(word)\n"
   ]
  }
 ],
 "metadata": {
  "language_info": {
   "name": "python",
   "pygments_lexer": "ipython3"
  }
 },
 "nbformat": 4,
 "nbformat_minor": 2
}
