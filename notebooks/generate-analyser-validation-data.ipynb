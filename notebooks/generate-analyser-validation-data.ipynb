{
 "cells": [
  {
   "cell_type": "code",
   "execution_count": null,
   "metadata": {},
   "outputs": [],
   "source": [
    "%load_ext autoreload\n",
    "%autoreload 2"
   ]
  },
  {
   "cell_type": "code",
   "execution_count": null,
   "metadata": {},
   "outputs": [],
   "source": [
    "%matplotlib inline\n",
    "\n",
    "import numpy as np\n",
    "import pandas as pd\n",
    "import matplotlib.pyplot as plt"
   ]
  },
  {
   "cell_type": "code",
   "execution_count": null,
   "metadata": {},
   "outputs": [],
   "source": [
    "# make example file for annotation \n",
    "import codecs\n",
    "import os\n",
    "\n",
    "from bs4 import BeautifulSoup\n",
    "\n",
    "from nlppln.utils import get_files\n",
    "\n",
    "def get_first_analysis(word):\n",
    "    roots = []\n",
    "    analyses = word.find_all('analysis')\n",
    "    if len(analyses) == 0:\n",
    "        return ''\n",
    "    for a in analyses:\n",
    "        try:\n",
    "            root = a['root']\n",
    "            return root\n",
    "        except KeyError:\n",
    "            pass\n",
    "    return '' \n",
    "\n",
    "result = []\n",
    "\n",
    "in_dir = '/home/jvdzwaan/data/tmp/adh/sample/0274AhmadBarqi.Mahasin-alkhalil/'\n",
    "\n",
    "in_files = get_files(in_dir)\n",
    "for in_file in in_files:\n",
    "    print(in_file)\n",
    "    with codecs.open(in_file) as f:\n",
    "        soup = BeautifulSoup(f, 'xml')\n",
    "    words = soup.find_all('word')\n",
    "    fname = os.path.basename(in_file)\n",
    "    for i, word in enumerate(words):\n",
    "        #print word['value'], get_first_analysis(word)\n",
    "        result.append({'word': word['value'], \n",
    "                       'root': get_first_analysis(word),\n",
    "                       'file_name': fname,\n",
    "                       'position': i})"
   ]
  },
  {
   "cell_type": "code",
   "execution_count": null,
   "metadata": {},
   "outputs": [],
   "source": [
    "data = pd.DataFrame(result)"
   ]
  },
  {
   "cell_type": "code",
   "execution_count": null,
   "metadata": {},
   "outputs": [],
   "source": [
    "data"
   ]
  },
  {
   "cell_type": "code",
   "execution_count": null,
   "metadata": {},
   "outputs": [],
   "source": [
    "data.shape"
   ]
  },
  {
   "cell_type": "code",
   "execution_count": null,
   "metadata": {},
   "outputs": [],
   "source": [
    "import os\n",
    "\n",
    "in_dir = '/home/jvdzwaan/data/tmp/adh/sample/'\n",
    "fname = os.path.join(in_dir, '0274AhmadBarqi.Mahasin-to_merge.csv')\n",
    "\n",
    "data.to_csv(fname, encoding='utf-8', index=False, columns=['file_name', 'position', 'word', 'root'])"
   ]
  },
  {
   "cell_type": "code",
   "execution_count": null,
   "metadata": {},
   "outputs": [],
   "source": [
    "# make example file for annotation \n",
    "import codecs\n",
    "import os\n",
    "\n",
    "from bs4 import BeautifulSoup\n",
    "\n",
    "from nlppln.utils import get_files\n",
    "\n",
    "result = {}\n",
    "\n",
    "in_dir = '/home/jvdzwaan/data/tmp/adh/evaluation/khoja/'\n",
    "\n",
    "in_files = get_files(in_dir, recursive=True)\n",
    "for in_file in in_files:\n",
    "    print(in_file)\n",
    "    with codecs.open(in_file) as f:\n",
    "        soup = BeautifulSoup(f, 'xml')\n",
    "    words = soup.find_all('word')\n",
    "    fname = os.path.basename(in_file)\n",
    "    result[fname] = []\n",
    "    for i, word in enumerate(words):\n",
    "        analysis = word.analysis\n",
    "        root = analysis['stem']\n",
    "        #print word['value'], get_first_analysis(word)\n",
    "        result[fname].append({'word': word['value'], \n",
    "                       'root': root})"
   ]
  },
  {
   "cell_type": "code",
   "execution_count": null,
   "metadata": {},
   "outputs": [],
   "source": [
    "result.keys()"
   ]
  },
  {
   "cell_type": "code",
   "execution_count": null,
   "metadata": {},
   "outputs": [],
   "source": [
    "import os\n",
    "import pandas as pd\n",
    "\n",
    "\n",
    "for k, v in result.items():\n",
    "    df = pd.DataFrame(v)\n",
    "    fname = k.rsplit('-', 1)[0]\n",
    "    fname = os.path.join('/home/jvdzwaan/data/tmp/adh/evaluation/', '{}.csv'.format(fname))\n",
    "    print(fname)\n",
    "    df.to_csv(fname, encoding='utf-8', index=False, columns=['word', 'root'])"
   ]
  }
 ],
 "metadata": {
  "language_info": {
   "name": "python",
   "pygments_lexer": "ipython3"
  }
 },
 "nbformat": 4,
 "nbformat_minor": 2
}
