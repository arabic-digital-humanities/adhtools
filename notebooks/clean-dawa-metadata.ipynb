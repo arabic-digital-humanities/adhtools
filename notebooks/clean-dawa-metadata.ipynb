{
 "cells": [
  {
   "cell_type": "code",
   "execution_count": null,
   "metadata": {},
   "outputs": [],
   "source": [
    "%load_ext autoreload\n",
    "%autoreload 2"
   ]
  },
  {
   "cell_type": "code",
   "execution_count": null,
   "metadata": {},
   "outputs": [],
   "source": [
    "import pandas as pd\n",
    "import numpy as np\n",
    "\n",
    "#md_file = '/home/jvdzwaan/data/adh-corpora/fiqh_corpus/Meta/Metadata_Fiqh.csv'\n",
    "md_file = '/home/jvdzwaan/data/adh-corpora/dawa/DawaMetadata.csv'\n",
    "#md_file = '/media/sf_VBox_Shared/Arabic/fiqh_corpus/Meta/Metadata_Fiqh.csv'"
   ]
  },
  {
   "cell_type": "code",
   "execution_count": null,
   "metadata": {},
   "outputs": [],
   "source": [
    "md = pd.read_csv(md_file, sep=';', encoding='utf-8', index_col=0)\n",
    "md.head()"
   ]
  },
  {
   "cell_type": "code",
   "execution_count": null,
   "metadata": {},
   "outputs": [],
   "source": [
    "# replace \\ as a separator between authors (blacklab/corpus-frontend don't like it)\n",
    "\n",
    "md['Author'] = md['Author'].fillna('UNKNOWN')\n",
    "md['Editor'] = md['Editor'].fillna('UNKNOWN')\n",
    "md['Author'] = md.apply(lambda row: row['Author'].replace('/', '+'), axis=1)\n",
    "md['Publisher'] = md['Publisher'].fillna('UNKNOWN')\n",
    "md['Weblink'] = md['Weblink'].fillna('UNKNOWN')\n",
    "md['Country'] = md['Country'].fillna('UNKNOWN')\n",
    "md['Place'] = md['Place'].fillna('UNKNOWN')"
   ]
  },
  {
   "cell_type": "code",
   "execution_count": null,
   "metadata": {},
   "outputs": [],
   "source": [
    "md.head()"
   ]
  },
  {
   "cell_type": "code",
   "execution_count": null,
   "metadata": {},
   "outputs": [],
   "source": [
    "md['Collection'] = md['Collection'].fillna('NONE')\n",
    "md['Extra'] = md['Extra'].fillna('NONE')\n",
    "md.head()"
   ]
  },
  {
   "cell_type": "code",
   "execution_count": null,
   "metadata": {},
   "outputs": [],
   "source": [
    "md['Chapter'] = md['Chapter'].fillna(-1)\n",
    "md['Chapter'] = pd.to_numeric(md['Chapter'], downcast='integer')\n",
    "\n",
    "md['Section'] = md['Section'].fillna(-1)\n",
    "md['Section'] = pd.to_numeric(md['Section'], downcast='integer')"
   ]
  },
  {
   "cell_type": "code",
   "execution_count": null,
   "metadata": {},
   "outputs": [],
   "source": [
    "md.head()"
   ]
  },
  {
   "cell_type": "code",
   "execution_count": null,
   "metadata": {},
   "outputs": [],
   "source": [
    "md['Year'] = md['Year'].fillna(-1)\n",
    "md['Year'] = pd.to_numeric(md['Year'], downcast='integer')"
   ]
  },
  {
   "cell_type": "code",
   "execution_count": null,
   "metadata": {},
   "outputs": [],
   "source": [
    "num = 105\n",
    "\n",
    "md.at[num, 'Birthdate'] = -1\n",
    "md.at[num, 'Deathdate'] = -1\n",
    "md.loc[num]"
   ]
  },
  {
   "cell_type": "code",
   "execution_count": null,
   "metadata": {},
   "outputs": [],
   "source": [
    "md.at[2611, 'Birthdate'] = -1\n",
    "md.at[2611, 'Deathdate'] = -1\n",
    "md.loc[2611]"
   ]
  },
  {
   "cell_type": "code",
   "execution_count": null,
   "metadata": {},
   "outputs": [],
   "source": [
    "def update_birthdate(row):\n",
    "    if row['Birthdate'] == 'UNKNOWN':\n",
    "        return -1\n",
    "    return row['Birthdate']\n",
    "\n",
    "md['Birthdate'] = md.apply(lambda row: update_birthdate(row), axis=1)"
   ]
  },
  {
   "cell_type": "code",
   "execution_count": null,
   "metadata": {},
   "outputs": [],
   "source": [
    "md['Birthdate'] = md['Birthdate'].fillna(-1)\n",
    "md['Birthdate'] = pd.to_numeric(md['Birthdate'], downcast='integer')\n",
    "md.head()"
   ]
  },
  {
   "cell_type": "code",
   "execution_count": null,
   "metadata": {},
   "outputs": [],
   "source": [
    "md.columns\n",
    "md = md.drop('Daethdate', axis=1)"
   ]
  },
  {
   "cell_type": "code",
   "execution_count": null,
   "metadata": {},
   "outputs": [],
   "source": [
    "md.at[2700, 'Deathdate'] = -1"
   ]
  },
  {
   "cell_type": "code",
   "execution_count": null,
   "metadata": {},
   "outputs": [],
   "source": [
    "for idx in md.query('Deathdate == \"  \"').index:\n",
    "    md.at[idx, 'Deathdate'] = -1"
   ]
  },
  {
   "cell_type": "code",
   "execution_count": null,
   "metadata": {},
   "outputs": [],
   "source": [
    "def update_deathdate(row):\n",
    "    if row['Deathdate'] == 'UNKNOWN':\n",
    "        return -1\n",
    "    return row['Deathdate']\n",
    "md['Deathdate'] = md.apply(lambda row: update_deathdate(row), axis=1)"
   ]
  },
  {
   "cell_type": "code",
   "execution_count": null,
   "metadata": {},
   "outputs": [],
   "source": [
    "md['Deathdate'] = md['Deathdate'].fillna(-1)\n",
    "md['Deathdate'] = pd.to_numeric(md['Deathdate'], downcast='integer')"
   ]
  },
  {
   "cell_type": "code",
   "execution_count": null,
   "metadata": {},
   "outputs": [],
   "source": [
    "# put book title in collection field for works other than 262 and 278\n",
    "def get_collection(row):\n",
    "    if row['Collection'] == 'NONE':\n",
    "        print(row['Title'])\n",
    "        return row['Title']\n",
    "    return row['Collection']\n",
    "    \n",
    "md['Collection'] = md.apply(lambda row: get_collection(row), axis=1)"
   ]
  },
  {
   "cell_type": "code",
   "execution_count": null,
   "metadata": {},
   "outputs": [],
   "source": [
    "len(md['Collection'].unique())"
   ]
  },
  {
   "cell_type": "code",
   "execution_count": null,
   "metadata": {},
   "outputs": [],
   "source": [
    "# Do not update the notebook with this! It will add X-es to long author names\n",
    "def too_long(row, max_len=94):\n",
    "    if len(row['Author']) >= max_len:\n",
    "        #print('Too long', len(row['Author']))\n",
    "        print(row['BookURI'])\n",
    "        return 'X ' + row['Author'][:max_len-2]\n",
    "    return row['Author']\n",
    "\n",
    "md.apply(lambda row: too_long(row), axis=1)"
   ]
  },
  {
   "cell_type": "code",
   "execution_count": null,
   "metadata": {},
   "outputs": [],
   "source": [
    "def check(row):\n",
    "    if row['BookURI'].startswith('262_'):\n",
    "        return True\n",
    "    return False\n",
    "\n",
    "md['auth_len'] = md.apply(lambda row: len(row['Author']), axis=1)\n",
    "md['check'] = md.apply(lambda row: check(row), axis=1)\n",
    "md.head()"
   ]
  },
  {
   "cell_type": "code",
   "execution_count": null,
   "metadata": {},
   "outputs": [],
   "source": [
    "md.query('check==False')['auth_len'].max()"
   ]
  },
  {
   "cell_type": "code",
   "execution_count": null,
   "metadata": {},
   "outputs": [],
   "source": [
    "def author_repr(row):\n",
    "    if row['BookURI'].startswith('262_'):\n",
    "        #print(repr(row['Author']))\n",
    "        return True\n",
    "    return False\n",
    "md.apply(lambda row: author_repr(row), axis=1)"
   ]
  },
  {
   "cell_type": "code",
   "execution_count": null,
   "metadata": {},
   "outputs": [],
   "source": [
    "from collections import Counter\n",
    "\n",
    "from adhtools.split_text_openiti_markers import smart_strip\n",
    "\n",
    "c = Counter(list(md[md.apply(lambda row: author_repr(row), axis=1)]['Author']))\n",
    "\n",
    "for t, f in c.most_common():\n",
    "    print(repr(t))\n",
    "    print(t)\n",
    "    print(repr(smart_strip(t)))\n",
    "    print(smart_strip(t))\n",
    "    print(f)\n",
    "    print()"
   ]
  },
  {
   "cell_type": "code",
   "execution_count": null,
   "metadata": {},
   "outputs": [],
   "source": [
    "len(md['Author'].unique())"
   ]
  },
  {
   "cell_type": "code",
   "execution_count": null,
   "metadata": {},
   "outputs": [],
   "source": [
    "md.sample(10)"
   ]
  },
  {
   "cell_type": "code",
   "execution_count": null,
   "metadata": {},
   "outputs": [],
   "source": [
    "md.to_csv(md_file)"
   ]
  }
 ],
 "metadata": {
  "language_info": {
   "name": "python",
   "pygments_lexer": "ipython3"
  }
 },
 "nbformat": 4,
 "nbformat_minor": 2
}
