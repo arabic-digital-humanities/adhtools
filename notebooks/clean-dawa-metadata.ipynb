{
 "cells": [
  {
   "cell_type": "code",
   "execution_count": null,
   "metadata": {},
   "outputs": [],
   "source": [
    "%load_ext autoreload\n",
    "%autoreload 2"
   ]
  },
  {
   "cell_type": "code",
   "execution_count": null,
   "metadata": {},
   "outputs": [],
   "source": [
    "import pandas as pd\n",
    "import numpy as np\n",
    "\n",
    "#md_file = '/home/jvdzwaan/data/adh-corpora/fiqh_corpus/Meta/Metadata_Fiqh.csv'\n",
    "md_file = '/home/jvdzwaan/data/adh-corpora/dawa/DawaMetadata.csv'\n",
    "#md_file = '/media/sf_VBox_Shared/Arabic/fiqh_corpus/Meta/Metadata_Fiqh.csv'"
   ]
  },
  {
   "cell_type": "code",
   "execution_count": null,
   "metadata": {},
   "outputs": [],
   "source": [
    "md = pd.read_csv(md_file, sep=',', encoding='utf-8', index_col=0)\n",
    "md.head()"
   ]
  },
  {
   "cell_type": "code",
   "execution_count": null,
   "metadata": {},
   "outputs": [],
   "source": [
    "# replace \\ as a separator between authors (blacklab/corpus-frontend don't like it)\n",
    "\n",
    "md['Author'] = md['Author'].fillna('UNKNOWN')\n",
    "md['Editor'] = md['Editor'].fillna('UNKNOWN')\n",
    "md['Author'] = md.apply(lambda row: row['Author'].replace('\\\\', '-'), axis=1)"
   ]
  },
  {
   "cell_type": "code",
   "execution_count": null,
   "metadata": {},
   "outputs": [],
   "source": [
    "md['Collection'] = md['Collection'].fillna('NONE')\n",
    "md['Extra'] = md['Extra'].fillna('')\n",
    "md.head()"
   ]
  },
  {
   "cell_type": "code",
   "execution_count": null,
   "metadata": {},
   "outputs": [],
   "source": [
    "md['Chapter'] = md['Chapter'].fillna(-1)\n",
    "md['Chapter'] = pd.to_numeric(md['Chapter'], downcast='integer')\n",
    "\n",
    "md['Section'] = md['Section'].fillna(-1)\n",
    "md['Section'] = pd.to_numeric(md['Section'], downcast='integer')"
   ]
  },
  {
   "cell_type": "code",
   "execution_count": null,
   "metadata": {},
   "outputs": [],
   "source": [
    "md.head()"
   ]
  },
  {
   "cell_type": "code",
   "execution_count": null,
   "metadata": {},
   "outputs": [],
   "source": [
    "md['Year'] = md['Year'].fillna(-1)\n",
    "md['Year'] = pd.to_numeric(md['Year'], downcast='integer')"
   ]
  },
  {
   "cell_type": "code",
   "execution_count": null,
   "metadata": {},
   "outputs": [],
   "source": [
    "md.at[216, 'Birthdate'] = -1\n",
    "md.at[216, 'Deathdate'] = -1\n",
    "md.loc[216]"
   ]
  },
  {
   "cell_type": "code",
   "execution_count": null,
   "metadata": {},
   "outputs": [],
   "source": [
    "md.at[2611, 'Birthdate'] = -1\n",
    "md.at[2611, 'Deathdate'] = -1\n",
    "md.loc[2611]"
   ]
  },
  {
   "cell_type": "code",
   "execution_count": null,
   "metadata": {},
   "outputs": [],
   "source": [
    "md['Birthdate'] = md['Birthdate'].fillna(-1)\n",
    "md['Birthdate'] = pd.to_numeric(md['Birthdate'], downcast='integer')\n",
    "md.head()"
   ]
  },
  {
   "cell_type": "code",
   "execution_count": null,
   "metadata": {},
   "outputs": [],
   "source": [
    "md.to_csv(md_file)"
   ]
  }
 ],
 "metadata": {
  "language_info": {
   "name": "python",
   "pygments_lexer": "ipython3"
  }
 },
 "nbformat": 4,
 "nbformat_minor": 2
}
