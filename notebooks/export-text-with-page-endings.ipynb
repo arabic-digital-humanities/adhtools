{
 "cells": [
  {
   "cell_type": "code",
   "execution_count": null,
   "metadata": {},
   "outputs": [],
   "source": [
    "%load_ext autoreload\n",
    "%autoreload 2"
   ]
  },
  {
   "cell_type": "code",
   "execution_count": null,
   "metadata": {},
   "outputs": [],
   "source": [
    "from collections import OrderedDict\n",
    "\n",
    "from lxml import etree\n",
    "from tqdm import tqdm_notebook as tqdm\n",
    "\n",
    "import re\n",
    "\n",
    "def read_book(fname, book_id):\n",
    "    with open('{}.txt'.format(book_id), 'w') as f:\n",
    "        context = etree.iterparse(fname, events=('end', ), tag=('book'))\n",
    "        for event, elem in context:\n",
    "            for e in elem.iterchildren():\n",
    "                if e.tag == 'id':\n",
    "                    t_id = e.text\n",
    "                    #print(t_id)\n",
    "                elif e.tag == 'nass':   # text\n",
    "                    # sometimes the text is None (e.g., file 16, id 214)\n",
    "                    text = e.text\n",
    "                    fn = None\n",
    "                    if text is None:\n",
    "                        print('None text found in {} (prev? id: {})'.format(fname, t_id))\n",
    "                    else:\n",
    "                        # &#xd; is automatically replaced by \\r, but we would like to have \\n\n",
    "                        text = text.replace('\\r', '\\n')\n",
    "                        f.write(text)\n",
    "                        f.write('\\n')\n",
    "                        f.write('V000P0000\\n')\n",
    "                    \n",
    "read_book('/home/jvdzwaan/data/adh-corpora/dawa/New_xml_corpus/278/book.xml', 278)"
   ]
  }
 ],
 "metadata": {
  "language_info": {
   "name": "python",
   "pygments_lexer": "ipython3"
  }
 },
 "nbformat": 4,
 "nbformat_minor": 2
}
