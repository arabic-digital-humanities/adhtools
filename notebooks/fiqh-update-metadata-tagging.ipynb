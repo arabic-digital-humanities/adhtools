{
 "cells": [
  {
   "cell_type": "code",
   "execution_count": null,
   "metadata": {},
   "outputs": [],
   "source": [
    "%load_ext autoreload\n",
    "%autoreload 2"
   ]
  },
  {
   "cell_type": "code",
   "execution_count": null,
   "metadata": {},
   "outputs": [],
   "source": [
    "%matplotlib inline\n",
    "\n",
    "import numpy as np\n",
    "import pandas as pd\n",
    "import matplotlib.pyplot as plt"
   ]
  },
  {
   "cell_type": "code",
   "execution_count": null,
   "metadata": {},
   "outputs": [],
   "source": [
    "import re\n",
    "import os\n",
    "\n",
    "from collections import Counter\n",
    "from nlppln.utils import get_files\n",
    "from adhtools.split_text_openiti_markers import smart_strip\n",
    "\n",
    "in_dir = '/home/jvdzwaan/data/adh-corpora/fiqh_corpus/txt/'\n",
    "\n",
    "regex = r'\\#\\#\\# (?P<level>\\|+) (?P<header>.+?)\\n|' \\\n",
    "            '@(?P<source>[QH])B@(?P<quote>.+?)@(?P=source)E@'\n",
    "\n",
    "max_level = 0\n",
    "lvls = []\n",
    "qs = []\n",
    "\n",
    "result = {}\n",
    "\n",
    "for in_file in get_files(in_dir):\n",
    "    doc_id = os.path.splitext(os.path.basename(in_file))[0]\n",
    "    \n",
    "    levels = []\n",
    "    quotes = []\n",
    "    c = Counter()\n",
    "    with open(in_file) as f:\n",
    "        text = f.read()\n",
    "        \n",
    "    for m in re.finditer(regex, text):\n",
    "        matches = m.groupdict()\n",
    "        \n",
    "        if matches['header']:\n",
    "            title = smart_strip(matches.get('header', ''))\n",
    "            level = len(matches.get('level'))\n",
    "                                \n",
    "            if level > max_level:\n",
    "                max_level = level\n",
    "        \n",
    "            levels.append(level)\n",
    "            lvls.append(level)\n",
    "            c[level] += 1\n",
    "        else:\n",
    "            source = matches.get('source')\n",
    "            quotes.append(source)\n",
    "            qs.append(source)\n",
    "            c[source] += 1\n",
    "            \n",
    "    result[doc_id] = {'header_1': c[1],\n",
    "                      'header_2': c[2],\n",
    "                      'header_3': c[3],\n",
    "                      'quran': c['Q'],\n",
    "                      'hadith': c['H']}        \n",
    "        \n",
    "    #print(in_file, set(levels))\n",
    "    #print('number of header markers:', sum(c.values()))\n",
    "    #print(set(quotes))\n",
    "\n",
    "print(max_level)\n",
    "print(set(lvls))\n",
    "print(set(qs))\n",
    "    \n",
    "new_metadata = pd.DataFrame.from_dict(result).T\n",
    "new_metadata.index.names = ['BookURI']\n",
    "new_metadata"
   ]
  },
  {
   "cell_type": "code",
   "execution_count": null,
   "metadata": {},
   "outputs": [],
   "source": [
    "# merge with old metadata\n",
    "\n",
    "md_file = '/home/jvdzwaan/data/adh-corpora/fiqh_corpus/Meta/Metadata_Fiqh.csv'\n",
    "\n",
    "md = pd.read_csv(md_file, index_col=1)\n",
    "md = md.drop(columns=['header_1', 'header_2', 'header_3', 'quran', 'hadith'])\n",
    "md"
   ]
  },
  {
   "cell_type": "code",
   "execution_count": null,
   "metadata": {},
   "outputs": [],
   "source": [
    "r = md.join(new_metadata)"
   ]
  },
  {
   "cell_type": "code",
   "execution_count": null,
   "metadata": {},
   "outputs": [],
   "source": [
    "# remove bookuri as index and turn it into a column\n",
    "r = r.reset_index()"
   ]
  },
  {
   "cell_type": "code",
   "execution_count": null,
   "metadata": {},
   "outputs": [],
   "source": [
    "r.head()"
   ]
  },
  {
   "cell_type": "code",
   "execution_count": null,
   "metadata": {},
   "outputs": [],
   "source": [
    "r.columns"
   ]
  },
  {
   "cell_type": "code",
   "execution_count": null,
   "metadata": {},
   "outputs": [],
   "source": [
    "# reorder the columns\n",
    "cols = ['Order', 'BookURI', 'BookSource', 'BookTITLE_SHORT', 'BookTITLE',  \n",
    "       'BookSUBJ', 'Number_of_tokens', 'AuthorAKA', 'AuthorNAME',\n",
    "       'AuthorBORNH', 'AuthorBORNC', 'AuthorDIEDH', 'AuthorDIEDC', 'Century',\n",
    "       'All_tokens_per-century', 'Author_Geographical_Area', #'Tagging',\n",
    "       'BookVOLS', 'header_1', 'header_2', 'header_3', 'quran', 'hadith']\n",
    "r = r[cols]\n",
    "r.head()"
   ]
  },
  {
   "cell_type": "code",
   "execution_count": null,
   "metadata": {},
   "outputs": [],
   "source": [
    "# remove tagging column (it is no longer up to date)\n",
    "r = r.drop('Tagging', axis=1)"
   ]
  },
  {
   "cell_type": "code",
   "execution_count": null,
   "metadata": {},
   "outputs": [],
   "source": [
    "r.to_csv(md_file, index=False)\n",
    "r"
   ]
  },
  {
   "cell_type": "code",
   "execution_count": null,
   "metadata": {},
   "outputs": [],
   "source": [
    "md.to_csv(md_file, index=False)"
   ]
  }
 ],
 "metadata": {
  "language_info": {
   "name": "python",
   "pygments_lexer": "ipython3"
  }
 },
 "nbformat": 4,
 "nbformat_minor": 2
}
