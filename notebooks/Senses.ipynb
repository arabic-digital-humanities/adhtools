{
 "cells": [
  {
   "cell_type": "code",
   "execution_count": null,
   "metadata": {},
   "outputs": [],
   "source": [
    "import os\n",
    "from bs4 import BeautifulSoup\n",
    "import pandas as pd\n",
    "import random"
   ]
  },
  {
   "cell_type": "code",
   "execution_count": null,
   "metadata": {},
   "outputs": [],
   "source": [
    "fp_in = '/media/sf_VBox_Shared/Arabic/indices/20180515/fiqh-al-khalil-analyzed/Al-khalil/'"
   ]
  },
  {
   "cell_type": "code",
   "execution_count": null,
   "metadata": {},
   "outputs": [],
   "source": [
    "senses_roots = set('''سمع\n",
    "بصر\n",
    "لمس \n",
    "شمم\n",
    "ذوق'''.split('\\n'))"
   ]
  },
  {
   "cell_type": "code",
   "execution_count": null,
   "metadata": {},
   "outputs": [],
   "source": [
    "random.random()"
   ]
  },
  {
   "cell_type": "code",
   "execution_count": null,
   "metadata": {},
   "outputs": [],
   "source": [
    "metadata = []\n",
    "matched_words = []\n",
    "for dirname in os.listdir(fp_in):\n",
    "    sub_dir = os.path.join(fp_in, dirname)\n",
    "    for filename in os.listdir(sub_dir)[5:7]:\n",
    "        with open(os.path.join(sub_dir, filename)) as fn:\n",
    "            xml_data = BeautifulSoup(fn, 'xml')\n",
    "            meta_dict = {meta['name']: meta.text.strip() for meta in xml_data.metadata.find_all('meta')}\n",
    "            meta_dict['Bookname'] = dirname\n",
    "            meta_dict['Filename'] = filename\n",
    "            metadata.append(meta_dict)\n",
    "\n",
    "            # loop over words and match with the searched words\n",
    "            for word in xml_data.morphology_analysis.find_all('word'):\n",
    "                roots = set([a.get('root', '') for a in word.find_all('analysis')])\n",
    "                if not senses_roots.isdisjoint(roots):\n",
    "                    matched_words.append((filename, word.attrs, [a.attrs for a in word_analysis.find_all('analysis')]))"
   ]
  },
  {
   "cell_type": "code",
   "execution_count": null,
   "metadata": {},
   "outputs": [],
   "source": [
    "len(matched_words)"
   ]
  },
  {
   "cell_type": "code",
   "execution_count": null,
   "metadata": {},
   "outputs": [],
   "source": [
    "# Put all results in a dataframe\n",
    "df_total = pd.DataFrame()\n",
    "for filename, word_dict, analyses in matched_words:\n",
    "    df_analyses = pd.DataFrame(analyses)\n",
    "    df_analyses['Filename'] = filename\n",
    "    for att in word_dict:\n",
    "        df_analyses[att] = word_dict[att]\n",
    "    df_total = df_total.append(df_analyses)"
   ]
  },
  {
   "cell_type": "code",
   "execution_count": null,
   "metadata": {},
   "outputs": [],
   "source": [
    "df_total.head()"
   ]
  },
  {
   "cell_type": "code",
   "execution_count": null,
   "metadata": {},
   "outputs": [],
   "source": [
    "df_total['root'].unique()"
   ]
  },
  {
   "cell_type": "code",
   "execution_count": null,
   "metadata": {},
   "outputs": [],
   "source": [
    "df_total['value'].unique()"
   ]
  },
  {
   "cell_type": "code",
   "execution_count": null,
   "metadata": {},
   "outputs": [],
   "source": [
    "df_total.groupby('value').nunique()['root']"
   ]
  },
  {
   "cell_type": "code",
   "execution_count": null,
   "metadata": {},
   "outputs": [],
   "source": [
    "metadata_df = pd.DataFrame(metadata).set_index('Filename')\n",
    "metadata_df.head()"
   ]
  },
  {
   "cell_type": "code",
   "execution_count": null,
   "metadata": {},
   "outputs": [],
   "source": [
    "metadata_df.columns"
   ]
  },
  {
   "cell_type": "code",
   "execution_count": null,
   "metadata": {},
   "outputs": [],
   "source": []
  }
 ],
 "metadata": {
  "language_info": {
   "name": "python",
   "pygments_lexer": "ipython3"
  }
 },
 "nbformat": 4,
 "nbformat_minor": 2
}
