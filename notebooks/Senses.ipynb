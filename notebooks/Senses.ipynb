{
 "cells": [
  {
   "cell_type": "code",
   "execution_count": null,
   "metadata": {},
   "outputs": [],
   "source": [
    "%matplotlib inline\n",
    "import os\n",
    "from bs4 import BeautifulSoup\n",
    "import pandas as pd\n",
    "import random\n",
    "import matplotlib.pyplot as plt"
   ]
  },
  {
   "cell_type": "code",
   "execution_count": null,
   "metadata": {},
   "outputs": [],
   "source": [
    "senses_roots = set('''سمع\n",
    "بصر\n",
    "لمس\n",
    "شمم\n",
    "ذوق'''.split('\\n'))"
   ]
  },
  {
   "cell_type": "markdown",
   "metadata": {},
   "source": [
    "## Read in csv"
   ]
  },
  {
   "cell_type": "code",
   "execution_count": null,
   "metadata": {},
   "outputs": [],
   "source": [
    "df_total = pd.read_csv('/media/sf_VBox_Shared/Arabic/Analyses/senses_fiqh.csv')\n",
    "df_agg_merged = pd.read_csv('/media/sf_VBox_Shared/Arabic/Analyses/senses_fiqh_agg.csv')"
   ]
  },
  {
   "cell_type": "code",
   "execution_count": null,
   "metadata": {},
   "outputs": [],
   "source": [
    "senses_dict = {\n",
    "    u'بصر': 'see',\n",
    "    u'سمع': 'hear',\n",
    "    u'لمس': 'touch',\n",
    "    u'شمم': 'smell',\n",
    "    u'ذوق': 'taste'\n",
    "}"
   ]
  },
  {
   "cell_type": "code",
   "execution_count": null,
   "metadata": {},
   "outputs": [],
   "source": [
    "senses_cols = list(senses_dict.values())\n",
    "senses_cols_rel = [c+'_p' for c in senses_cols]"
   ]
  },
  {
   "cell_type": "code",
   "execution_count": null,
   "metadata": {},
   "outputs": [],
   "source": [
    "df_total.shape"
   ]
  },
  {
   "cell_type": "code",
   "execution_count": null,
   "metadata": {},
   "outputs": [],
   "source": [
    "df_total.sense.value_counts()"
   ]
  },
  {
   "cell_type": "code",
   "execution_count": null,
   "metadata": {},
   "outputs": [],
   "source": [
    "for sense in senses_dict:\n",
    "    print('Top words for {} / {}'.format(sense, senses_dict[sense]))\n",
    "    print(df_total[df_total.sense==senses_dict[sense]].word.value_counts().head(20))"
   ]
  },
  {
   "cell_type": "markdown",
   "metadata": {},
   "source": [
    "## Per subject (school)"
   ]
  },
  {
   "cell_type": "code",
   "execution_count": null,
   "metadata": {},
   "outputs": [],
   "source": [
    "# How many books per subject?\n",
    "df_agg_merged.BookSUBJ.value_counts()"
   ]
  },
  {
   "cell_type": "code",
   "execution_count": null,
   "metadata": {},
   "outputs": [],
   "source": [
    "# Plot the distributions per subject\n",
    "\n",
    "per_subj = df_total.groupby(['BookSUBJ', 'sense' ]).size().unstack()\n",
    "per_subj.plot(kind='bar', stacked=True)\n",
    "plt.show()\n",
    "per_subj.divide(per_subj.sum(axis=1), axis=0).plot(kind='bar', stacked=True)\n",
    "plt.show()"
   ]
  },
  {
   "cell_type": "code",
   "execution_count": null,
   "metadata": {},
   "outputs": [],
   "source": [
    "for col in senses_cols_rel:\n",
    "    ax = df_agg_merged.boxplot(col, by='BookSUBJ')\n",
    "    ax.set_title(col)\n",
    "    plt.show()"
   ]
  },
  {
   "cell_type": "markdown",
   "metadata": {},
   "source": [
    "## Analysis per book"
   ]
  },
  {
   "cell_type": "code",
   "execution_count": null,
   "metadata": {},
   "outputs": [],
   "source": [
    "# How many hits do we get per book?\n",
    "df_total.BookURI.value_counts()"
   ]
  },
  {
   "cell_type": "code",
   "execution_count": null,
   "metadata": {},
   "outputs": [],
   "source": [
    "df_agg_merged.set_index('BookURI')[list(senses_dict.values())].plot(kind='barh', stacked=True, figsize=(15, 10))"
   ]
  },
  {
   "cell_type": "markdown",
   "metadata": {},
   "source": [
    "## Per year/century"
   ]
  },
  {
   "cell_type": "code",
   "execution_count": null,
   "metadata": {},
   "outputs": [],
   "source": [
    "import numpy as np\n",
    "def cast_year(val):\n",
    "    try:\n",
    "        return int(str(val).split('-')[0])\n",
    "    except (ValueError, TypeError):\n",
    "        return np.nan\n",
    "\n",
    "\n",
    "df_agg_merged['AuthorDIEDC_int'] = df_agg_merged.AuthorDIEDC.apply(cast_year)"
   ]
  },
  {
   "cell_type": "code",
   "execution_count": null,
   "metadata": {},
   "outputs": [],
   "source": [
    "df_agg_merged[senses_cols_rel].max()"
   ]
  },
  {
   "cell_type": "code",
   "execution_count": null,
   "metadata": {},
   "outputs": [],
   "source": [
    "fig, axes = plt.subplots(1)\n",
    "colors = ['lightgreen', 'orange', 'black', 'red', 'lightblue']\n",
    "for i in range(len(senses_cols_rel)):\n",
    "    df_agg_merged.plot('AuthorDIEDC_int', senses_cols_rel[i], kind='scatter', ax=axes, c=colors[i], label=senses_cols_rel[i])\n",
    "\n",
    "axes.set_ylim(0, 0.0022)\n",
    "plt.legend()\n",
    "plt.show()"
   ]
  },
  {
   "cell_type": "markdown",
   "metadata": {},
   "source": [
    "## Per geographical area"
   ]
  },
  {
   "cell_type": "code",
   "execution_count": null,
   "metadata": {},
   "outputs": [],
   "source": [
    "# How many books per area?\n",
    "df_agg_merged.AuthorGeographicalArea.value_counts()"
   ]
  },
  {
   "cell_type": "code",
   "execution_count": null,
   "metadata": {},
   "outputs": [],
   "source": [
    "for col in senses_cols_rel:\n",
    "    ax = df_agg_merged.boxplot(col, by='AuthorGeographicalArea')\n",
    "    plt.title(col)\n",
    "    plt.show()"
   ]
  },
  {
   "cell_type": "code",
   "execution_count": null,
   "metadata": {},
   "outputs": [],
   "source": []
  },
  {
   "cell_type": "code",
   "execution_count": null,
   "metadata": {},
   "outputs": [],
   "source": []
  },
  {
   "cell_type": "code",
   "execution_count": null,
   "metadata": {},
   "outputs": [],
   "source": []
  }
 ],
 "metadata": {
  "language_info": {
   "name": "python",
   "pygments_lexer": "ipython3"
  }
 },
 "nbformat": 4,
 "nbformat_minor": 2
}
