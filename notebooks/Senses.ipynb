{
 "cells": [
  {
   "cell_type": "code",
   "execution_count": null,
   "metadata": {},
   "outputs": [],
   "source": [
    "%matplotlib inline\n",
    "import os\n",
    "from bs4 import BeautifulSoup\n",
    "import pandas as pd\n",
    "import random\n",
    "import matplotlib.pyplot as plt"
   ]
  },
  {
   "cell_type": "code",
   "execution_count": null,
   "metadata": {},
   "outputs": [],
   "source": [
    "senses_roots = set('''سمع\n",
    "بصر\n",
    "لمس \n",
    "شمم\n",
    "ذوق'''.split('\\n'))"
   ]
  },
  {
   "cell_type": "markdown",
   "metadata": {},
   "source": [
    "## Read in csv"
   ]
  },
  {
   "cell_type": "code",
   "execution_count": null,
   "metadata": {},
   "outputs": [],
   "source": [
    "df_total = pd.read_csv('/media/sf_VBox_Shared/Arabic/Analyses/senses_fiqh.csv')\n",
    "df_agg_merged = pd.read_csv('/media/sf_VBox_Shared/Arabic/Analyses/senses_fiqh_agg.csv')"
   ]
  },
  {
   "cell_type": "code",
   "execution_count": null,
   "metadata": {},
   "outputs": [],
   "source": [
    "df_total.shape"
   ]
  },
  {
   "cell_type": "code",
   "execution_count": null,
   "metadata": {},
   "outputs": [],
   "source": [
    "df_total.head()"
   ]
  },
  {
   "cell_type": "code",
   "execution_count": null,
   "metadata": {},
   "outputs": [],
   "source": [
    "df_total.root.value_counts()"
   ]
  },
  {
   "cell_type": "code",
   "execution_count": null,
   "metadata": {},
   "outputs": [],
   "source": [
    "df_total.word.value_counts().head(20)"
   ]
  },
  {
   "cell_type": "code",
   "execution_count": null,
   "metadata": {},
   "outputs": [],
   "source": [
    "# For each of the words, what is the number of roots?\n",
    "df_total.groupby('word').nunique()['root'].sort_values(ascending=False).head()"
   ]
  },
  {
   "cell_type": "code",
   "execution_count": null,
   "metadata": {},
   "outputs": [],
   "source": [
    "df_agg_merged.head()"
   ]
  },
  {
   "cell_type": "code",
   "execution_count": null,
   "metadata": {},
   "outputs": [],
   "source": [
    "df_agg_merged.shape"
   ]
  },
  {
   "cell_type": "code",
   "execution_count": null,
   "metadata": {},
   "outputs": [],
   "source": [
    "import numpy as np\n",
    "def cast_year(val):\n",
    "    try:\n",
    "        return int(str(val).split('-')[0])\n",
    "    except (ValueError, TypeError):\n",
    "        return np.nan\n",
    "\n",
    "\n",
    "df_agg_merged['AuthorDIEDC_int'] = df_agg_merged.AuthorDIEDC.apply(cast_year)"
   ]
  },
  {
   "cell_type": "code",
   "execution_count": null,
   "metadata": {},
   "outputs": [],
   "source": [
    "df_agg_merged[senses_cols].max()"
   ]
  },
  {
   "cell_type": "code",
   "execution_count": null,
   "metadata": {},
   "outputs": [],
   "source": [
    "fig, axes = plt.subplots(1)\n",
    "colors = ['lightgreen', 'yellow', 'black', 'red']\n",
    "for i in range(len(senses_cols)):\n",
    "    df_agg_merged.plot('AuthorDIEDC_int', senses_cols[i], kind='scatter', ax=axes, c=colors[i], label=senses_cols[i])\n",
    "\n",
    "axes.set_ylim(0, 0.0022)\n",
    "plt.legend()\n",
    "plt.show()"
   ]
  },
  {
   "cell_type": "code",
   "execution_count": null,
   "metadata": {},
   "outputs": [],
   "source": [
    "df_agg_merged.AuthorGeographicalArea.value_counts()"
   ]
  },
  {
   "cell_type": "code",
   "execution_count": null,
   "metadata": {},
   "outputs": [],
   "source": [
    "for col in senses_cols:\n",
    "    ax = df_agg_merged.boxplot(col, by='AuthorGeographicalArea')\n",
    "    ax.set_title(col)\n",
    "    plt.show()"
   ]
  },
  {
   "cell_type": "code",
   "execution_count": null,
   "metadata": {},
   "outputs": [],
   "source": [
    "# UTF encoding stuff\n",
    "arab_text = 'سمع'\n",
    "latin_text = 'smE'\n",
    "ltr_char = '\\u200E'\n",
    "rtl_char = '\\u061C'\n",
    "text1 = '{}: ({})'.format(arab_text, latin_text)\n",
    "text2 = '{}{}{}: ({})'.format(rtl_char, arab_text, ltr_char, latin_text)"
   ]
  },
  {
   "cell_type": "code",
   "execution_count": null,
   "metadata": {},
   "outputs": [],
   "source": [
    "print(text1)\n",
    "print(text2)"
   ]
  },
  {
   "cell_type": "code",
   "execution_count": null,
   "metadata": {},
   "outputs": [],
   "source": [
    "fig, axes = plt.subplots(2,2)\n",
    "axes[0,0].set_title(latin_text)\n",
    "axes[1,0].set_title(arab_text)\n",
    "axes[0,1].set_title(text1)\n",
    "axes[1,1].set_title(text2)\n",
    "\n",
    "for i in range(2):\n",
    "    for j in range(2):\n",
    "        axes[i,j].set_xticks([])\n",
    "plt.show()"
   ]
  },
  {
   "cell_type": "code",
   "execution_count": null,
   "metadata": {},
   "outputs": [],
   "source": [
    "ax"
   ]
  },
  {
   "cell_type": "code",
   "execution_count": null,
   "metadata": {},
   "outputs": [],
   "source": []
  }
 ],
 "metadata": {
  "language_info": {
   "name": "python",
   "pygments_lexer": "ipython3"
  }
 },
 "nbformat": 4,
 "nbformat_minor": 2
}
