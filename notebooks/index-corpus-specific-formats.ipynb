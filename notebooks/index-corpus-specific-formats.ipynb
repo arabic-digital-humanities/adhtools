{
 "cells": [
  {
   "cell_type": "code",
   "execution_count": null,
   "metadata": {},
   "outputs": [],
   "source": [
    "%load_ext autoreload\n",
    "%autoreload 2"
   ]
  },
  {
   "cell_type": "code",
   "execution_count": null,
   "metadata": {},
   "outputs": [],
   "source": [
    "from nlppln import WorkflowGenerator\n",
    "#cwl_working_dir = '/home/dafne/cwl-working-dir/'\n",
    "cwl_working_dir = '/home/jvdzwaan/cwl-working-dir/'"
   ]
  },
  {
   "cell_type": "code",
   "execution_count": null,
   "metadata": {},
   "outputs": [],
   "source": [
    "with WorkflowGenerator(working_dir=cwl_working_dir) as wf:\n",
    "    wf.load(steps_dir='../adhtools/cwl/')\n",
    "    wf.load(steps_dir='../java/cwl/')\n",
    "    wf.load(step_file='https://raw.githubusercontent.com/arabic-digital-humanities/BlackLabIndexer-docker/master/blacklabindexer.cwl')\n",
    "    \n",
    "    print(wf.list_steps())"
   ]
  },
  {
   "cell_type": "code",
   "execution_count": null,
   "metadata": {},
   "outputs": [],
   "source": [
    "with WorkflowGenerator(working_dir=cwl_working_dir) as wf:\n",
    "    wf.load(steps_dir='../adhtools/cwl/')\n",
    "    wf.load(steps_dir='../java/cwl/')\n",
    "    wf.load(step_file='https://raw.githubusercontent.com/arabic-digital-humanities/BlackLabIndexer-docker/master/blacklabindexer.cwl')\n",
    "    \n",
    "    generic_yaml = wf.add_input(generic_yaml='File')\n",
    "    specific_yaml = wf.add_input(specific_yaml='File')\n",
    "    yaml_name = wf.add_input(yaml_name='string')\n",
    "    in_dir = wf.add_input(in_dir='Directory')\n",
    "    index_name = wf.add_input(index_name='string', default='corpus')\n",
    "    action = wf.add_input(action='string', default='create')\n",
    "    index_format = wf.add_input(index_format='string', default='safar-stemmer')\n",
    "    xmx = wf.add_input(xmx='string', default='2G')\n",
    "    \n",
    "    doc = \"\"\"\n",
    "    Index a corpus with corpus specific metadata.\n",
    "    \n",
    "    Inputs:\n",
    "        generic_yaml (File): yaml file containing the generic indexer configuration, \n",
    "            i.e., one of the blacklab indexer formats from \n",
    "            https://github.com/arabic-digital-humanities/index-safar.\n",
    "            Specifies how to index SAFAR analyzer/stemmer output.\n",
    "        specific_yaml (File): yaml file containing the corpus specific indexer \n",
    "            configuration, i.e., one of the files from \n",
    "            https://github.com/arabic-digital-humanities/corpus-blacklab-metadata-config.\n",
    "            Determines what metadata and how the metadata is displayed in the corpus frontend.\n",
    "        yaml_name (str): name for the file in which the generic_yaml and specific_yaml are \n",
    "            combined. In practice this should be either ``safar-analyzer.blf.yaml`` or \n",
    "            ``safar-stemmer.blf.yaml``.\n",
    "        in_dir (Directory): Directory containing SAFAR XML files.\n",
    "        index_name (str): The name of the index (default: corpus).\n",
    "        action (str): The action that should be performed on the index, e.g., creation \n",
    "            (default: create). Other options are explained on \n",
    "            http://inl.github.io/BlackLab/indexing-with-blacklab.html#index-supported-format.\n",
    "        index_format (str): The index format to be used, i.e., either ``safar-stemmer`` or \n",
    "            ``safar-analyzer`` (see https://github.com/arabic-digital-humanities/index-safar).\n",
    "        xmx (str): Optional parameter to set the Java heap space (default: 2G).\n",
    "    \n",
    "    Outputs:\n",
    "        Directory containing a BlackLab index.\n",
    "    \"\"\"\n",
    "    \n",
    "    wf.set_documentation(doc)\n",
    "\n",
    "    blf_format_file = wf.merge_yaml(in_files=[generic_yaml, specific_yaml], out_name=yaml_name)\n",
    "    indexed = wf.blacklabindexer(action=action, \n",
    "                                 config=blf_format_file, \n",
    "                                 in_dir=in_dir, \n",
    "                                 index_format=index_format, \n",
    "                                 index_name=index_name,\n",
    "                                 xmx=xmx)\n",
    "    \n",
    "    wf.add_outputs(indexed=indexed)\n",
    "    #wf.add_outputs(yaml=blf_format_file)\n",
    "    \n",
    "    wf.save('../adhtools/cwl/index-corpus-specific.cwl', wd=True, relative=False)\n"
   ]
  }
 ],
 "metadata": {
  "language_info": {
   "name": "python",
   "pygments_lexer": "ipython3"
  }
 },
 "nbformat": 4,
 "nbformat_minor": 2
}
