{
 "cells": [
  {
   "cell_type": "code",
   "execution_count": null,
   "metadata": {},
   "outputs": [],
   "source": [
    "%load_ext autoreload\n",
    "%autoreload 2"
   ]
  },
  {
   "cell_type": "code",
   "execution_count": null,
   "metadata": {},
   "outputs": [],
   "source": [
    "from nlppln import WorkflowGenerator\n",
    "#cwl_working_dir = '/home/dafne/cwl-working-dir/'\n",
    "cwl_working_dir = '/home/jvdzwaan/cwl-working-dir/'"
   ]
  },
  {
   "cell_type": "code",
   "execution_count": null,
   "metadata": {},
   "outputs": [],
   "source": [
    "with WorkflowGenerator(working_dir=cwl_working_dir) as wf:\n",
    "    wf.load(steps_dir='../adhtools/cwl/')\n",
    "    wf.load(steps_dir='../java/cwl/')\n",
    "    wf.load(step_file='https://raw.githubusercontent.com/arabic-digital-humanities/BlackLabIndexer-docker/master/blacklabindexer.cwl')\n",
    "    \n",
    "    print(wf.list_steps())"
   ]
  },
  {
   "cell_type": "code",
   "execution_count": null,
   "metadata": {},
   "outputs": [],
   "source": [
    "with WorkflowGenerator(working_dir=cwl_working_dir) as wf:\n",
    "    wf.load(steps_dir='../adhtools/cwl/')\n",
    "    wf.load(steps_dir='../java/cwl/')\n",
    "    wf.load(step_file='https://raw.githubusercontent.com/arabic-digital-humanities/BlackLabIndexer-docker/master/blacklabindexer.cwl')\n",
    "    \n",
    "    generic_yaml = wf.add_input(generic_yaml='File')\n",
    "    specific_yaml = wf.add_input(specific_yaml='File')\n",
    "    yaml_name = wf.add_input(yaml_name='string')\n",
    "    in_dir = wf.add_input(in_dir='Directory')\n",
    "    index_name = wf.add_input(index_name='string', default='corpus')\n",
    "    action = wf.add_input(action='string', default='create')\n",
    "    index_format = wf.add_input(index_format='string', default='safar-stemmer')\n",
    "    \n",
    "    \n",
    "    # to do this, you need to (manually) add a MultipleInputFeatureRequirement to the resulting workflow\n",
    "    # see https://github.com/NLeSC/scriptcwl/issues/105\n",
    "    blf_format_file = wf.merge_yaml(in_files=[generic_yaml, specific_yaml], out_name=yaml_name)\n",
    "    indexed = wf.blacklabindexer(action=action, \n",
    "                                 config=blf_format_file, \n",
    "                                 in_dir=in_dir, \n",
    "                                 index_format=index_format, \n",
    "                                 index_name=index_name)\n",
    "    \n",
    "    wf.add_outputs(indexed=indexed)\n",
    "    #wf.add_outputs(yaml=blf_format_file)\n",
    "    \n",
    "    wf.save('../adhtools/cwl/index-corpus-specific.cwl', wd=True, relative=False)\n"
   ]
  }
 ],
 "metadata": {
  "language_info": {
   "name": "python",
   "pygments_lexer": "ipython3"
  }
 },
 "nbformat": 4,
 "nbformat_minor": 2
}
