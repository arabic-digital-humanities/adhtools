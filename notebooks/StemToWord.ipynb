{
 "cells": [
  {
   "cell_type": "code",
   "execution_count": 9,
   "metadata": {},
   "outputs": [],
   "source": [
    "%matplotlib inline\n",
    "import matplotlib.pyplot as plt\n",
    "import adhtools.utils\n",
    "import pandas as pd\n",
    "import os\n",
    "import glob"
   ]
  },
  {
   "cell_type": "code",
   "execution_count": 4,
   "metadata": {},
   "outputs": [],
   "source": [
    "topics = pd.read_csv('/media/sf_VBox_Shared/Arabic/Analyses/Fiqh_final2/topicmodeling/fiqh-light10-20/topics_20.csv', index_col=0)"
   ]
  },
  {
   "cell_type": "code",
   "execution_count": 5,
   "metadata": {},
   "outputs": [
    {
     "data": {
      "text/html": [
       "<div>\n",
       "<style scoped>\n",
       "    .dataframe tbody tr th:only-of-type {\n",
       "        vertical-align: middle;\n",
       "    }\n",
       "\n",
       "    .dataframe tbody tr th {\n",
       "        vertical-align: top;\n",
       "    }\n",
       "\n",
       "    .dataframe thead th {\n",
       "        text-align: right;\n",
       "    }\n",
       "</style>\n",
       "<table border=\"1\" class=\"dataframe\">\n",
       "  <thead>\n",
       "    <tr style=\"text-align: right;\">\n",
       "      <th></th>\n",
       "      <th>0</th>\n",
       "      <th>1</th>\n",
       "      <th>2</th>\n",
       "      <th>3</th>\n",
       "      <th>4</th>\n",
       "      <th>5</th>\n",
       "      <th>6</th>\n",
       "      <th>7</th>\n",
       "      <th>8</th>\n",
       "      <th>9</th>\n",
       "    </tr>\n",
       "  </thead>\n",
       "  <tbody>\n",
       "    <tr>\n",
       "      <th>0</th>\n",
       "      <td>اذ</td>\n",
       "      <td>دار</td>\n",
       "      <td>علي</td>\n",
       "      <td>قتل</td>\n",
       "      <td>امام</td>\n",
       "      <td>حرب</td>\n",
       "      <td>اهل</td>\n",
       "      <td>اسلام</td>\n",
       "      <td>ول</td>\n",
       "      <td>مسلم</td>\n",
       "    </tr>\n",
       "    <tr>\n",
       "      <th>1</th>\n",
       "      <td>يد</td>\n",
       "      <td>نفس</td>\n",
       "      <td>عمد</td>\n",
       "      <td>رجل</td>\n",
       "      <td>اذ</td>\n",
       "      <td>قصاص</td>\n",
       "      <td>قطع</td>\n",
       "      <td>ول</td>\n",
       "      <td>حد</td>\n",
       "      <td>قتل</td>\n",
       "    </tr>\n",
       "    <tr>\n",
       "      <th>2</th>\n",
       "      <td>سحن</td>\n",
       "      <td>اشهب</td>\n",
       "      <td>كتاب</td>\n",
       "      <td>مدون</td>\n",
       "      <td>ول</td>\n",
       "      <td>هذ</td>\n",
       "      <td>فل</td>\n",
       "      <td>اذ</td>\n",
       "      <td>مالك</td>\n",
       "      <td>قاسم</td>\n",
       "    </tr>\n",
       "    <tr>\n",
       "      <th>3</th>\n",
       "      <td>نجس</td>\n",
       "      <td>مسح</td>\n",
       "      <td>حيض</td>\n",
       "      <td>دم</td>\n",
       "      <td>نجاس</td>\n",
       "      <td>صلا</td>\n",
       "      <td>وض</td>\n",
       "      <td>اذ</td>\n",
       "      <td>ول</td>\n",
       "      <td>غسل</td>\n",
       "    </tr>\n",
       "    <tr>\n",
       "      <th>4</th>\n",
       "      <td>خيار</td>\n",
       "      <td>هذ</td>\n",
       "      <td>ول</td>\n",
       "      <td>بااع</td>\n",
       "      <td>اذ</td>\n",
       "      <td>قبض</td>\n",
       "      <td>عقد</td>\n",
       "      <td>ثمن</td>\n",
       "      <td>مشتر</td>\n",
       "      <td>بيع</td>\n",
       "    </tr>\n",
       "  </tbody>\n",
       "</table>\n",
       "</div>"
      ],
      "text/plain": [
       "      0     1     2     3     4     5    6      7     8     9\n",
       "0    اذ   دار   علي   قتل  امام   حرب  اهل  اسلام    ول  مسلم\n",
       "1    يد   نفس   عمد   رجل    اذ  قصاص  قطع     ول    حد   قتل\n",
       "2   سحن  اشهب  كتاب  مدون    ول    هذ   فل     اذ  مالك  قاسم\n",
       "3   نجس   مسح   حيض    دم  نجاس   صلا   وض     اذ    ول   غسل\n",
       "4  خيار    هذ    ول  بااع    اذ   قبض  عقد    ثمن  مشتر   بيع"
      ]
     },
     "execution_count": 5,
     "metadata": {},
     "output_type": "execute_result"
    }
   ],
   "source": [
    "topics.head()"
   ]
  },
  {
   "cell_type": "code",
   "execution_count": 31,
   "metadata": {},
   "outputs": [
    {
     "name": "stdout",
     "output_type": "stream",
     "text": [
      "125\n"
     ]
    }
   ],
   "source": [
    "stems_of_interest = list(set(topics.values.flatten()))\n",
    "print(len(stems_of_interest))"
   ]
  },
  {
   "cell_type": "code",
   "execution_count": 74,
   "metadata": {},
   "outputs": [],
   "source": [
    "files_light10 = glob.glob('/media/sf_VBox_Shared/Arabic/Fiqh/2019-02-08-fiqh-newfiles-light10-chapters/*.xml')"
   ]
  },
  {
   "cell_type": "code",
   "execution_count": 75,
   "metadata": {},
   "outputs": [],
   "source": [
    "from collections import Counter\n",
    "results = {stem: Counter() for stem in stems_of_interest}\n",
    "for fname in files_light10:\n",
    "    df = adhtools.utils.stemmer_xml2df(fname)\n",
    "    df_sub = df[df.proposed_root.isin(stems_of_interest)]\n",
    "    counts_df = df_sub.groupby(['proposed_root','word']).apply(len)\n",
    "    for (stem, word), cnt in counts_df.iteritems():\n",
    "        results[stem][word] += 1"
   ]
  },
  {
   "cell_type": "code",
   "execution_count": 76,
   "metadata": {},
   "outputs": [],
   "source": [
    "results_df = pd.DataFrame(results).stack().reset_index()\n",
    "results_df.columns = ['word', 'stem', 'cnt']\n",
    "results_df = results_df[['stem', 'word', 'cnt']]"
   ]
  },
  {
   "cell_type": "code",
   "execution_count": 77,
   "metadata": {},
   "outputs": [
    {
     "data": {
      "text/plain": [
       "125"
      ]
     },
     "execution_count": 77,
     "metadata": {},
     "output_type": "execute_result"
    }
   ],
   "source": [
    "results_df.stem.nunique()"
   ]
  },
  {
   "cell_type": "code",
   "execution_count": 78,
   "metadata": {},
   "outputs": [
    {
     "data": {
      "text/plain": [
       "7766"
      ]
     },
     "execution_count": 78,
     "metadata": {},
     "output_type": "execute_result"
    }
   ],
   "source": [
    "results_df.word.nunique()"
   ]
  },
  {
   "cell_type": "code",
   "execution_count": 79,
   "metadata": {},
   "outputs": [],
   "source": [
    "results_df = results_df.sort_values(['stem', 'cnt'], ascending=False)"
   ]
  },
  {
   "cell_type": "code",
   "execution_count": 95,
   "metadata": {},
   "outputs": [],
   "source": [
    "results_df.to_csv('/media/sf_VBox_Shared/Arabic/Analyses/Fiqh_final2/topicmodeling/fiqh-light10-20/topics-stems-words.csv', index=False)"
   ]
  },
  {
   "cell_type": "code",
   "execution_count": 96,
   "metadata": {},
   "outputs": [
    {
     "name": "stdout",
     "output_type": "stream",
     "text": [
      "Topic 0\n"
     ]
    },
    {
     "data": {
      "text/markdown": [
       "**اذ**: إذا ,إذ ,الأذان ,الأذى ,أذى ,اذا ,إذنا ,أذان ,يتأذى ,بماذا"
      ],
      "text/plain": [
       "<IPython.core.display.Markdown object>"
      ]
     },
     "metadata": {},
     "output_type": "display_data"
    },
    {
     "data": {
      "text/markdown": [
       "**دار**: دار ,الدار ,دارا ,داره ,والدار ,داري ,بالدار ,دارنا ,الدارين ,دارهم"
      ],
      "text/plain": [
       "<IPython.core.display.Markdown object>"
      ]
     },
     "metadata": {},
     "output_type": "display_data"
    },
    {
     "data": {
      "text/markdown": [
       "**علي**: عليها ,عليهم ,عليكم ,علينا ,عليا ,عليهن ,العليا ,والعليا ,عليين ,للعليا"
      ],
      "text/plain": [
       "<IPython.core.display.Markdown object>"
      ]
     },
     "metadata": {},
     "output_type": "display_data"
    },
    {
     "data": {
      "text/markdown": [
       "**قتل**: قتل ,القتل ,قتله ,بالقتل ,والقتل ,قتلها ,قتلا ,قتلوا ,للقتل ,قتلهم"
      ],
      "text/plain": [
       "<IPython.core.display.Markdown object>"
      ]
     },
     "metadata": {},
     "output_type": "display_data"
    },
    {
     "data": {
      "text/markdown": [
       "**امام**: الإمام ,للإمام ,إمام ,والإمام ,إماما ,إمامه ,الإمامة ,أمامة ,بالإمام ,الامام"
      ],
      "text/plain": [
       "<IPython.core.display.Markdown object>"
      ]
     },
     "metadata": {},
     "output_type": "display_data"
    },
    {
     "data": {
      "text/markdown": [
       "**حرب**: الحرب ,الحربي ,حرب ,حربي ,والحربي ,حربية ,للحربي ,الحربية ,للحرب ,حربا"
      ],
      "text/plain": [
       "<IPython.core.display.Markdown object>"
      ]
     },
     "metadata": {},
     "output_type": "display_data"
    },
    {
     "data": {
      "text/markdown": [
       "**اهل**: أهل ,أهله ,أهلها ,أهلا ,أهلية ,الأهلية ,الأهل ,أهلي ,بالأهلة ,الأهلة"
      ],
      "text/plain": [
       "<IPython.core.display.Markdown object>"
      ]
     },
     "metadata": {},
     "output_type": "display_data"
    },
    {
     "data": {
      "text/markdown": [
       "**اسلام**: الإسلام ,إسلامه ,إسلام ,بالإسلام ,والإسلام ,الاسلام ,للإسلام ,إسلامها ,إسلامهم ,إسلاما"
      ],
      "text/plain": [
       "<IPython.core.display.Markdown object>"
      ]
     },
     "metadata": {},
     "output_type": "display_data"
    },
    {
     "data": {
      "text/markdown": [
       "**ول**: ولا ,وله ,ولأن ,ولي ,الولي ,ولها ,ولنا ,وليه ,وأولى ,ولهم"
      ],
      "text/plain": [
       "<IPython.core.display.Markdown object>"
      ]
     },
     "metadata": {},
     "output_type": "display_data"
    },
    {
     "data": {
      "text/markdown": [
       "**مسلم**: مسلم ,المسلم ,المسلمين ,مسلما ,المسلمون ,مسلمة ,للمسلمين ,للمسلم ,مسلمين ,والمسلم"
      ],
      "text/plain": [
       "<IPython.core.display.Markdown object>"
      ]
     },
     "metadata": {},
     "output_type": "display_data"
    },
    {
     "name": "stdout",
     "output_type": "stream",
     "text": [
      "\n",
      "\n",
      "Topic 1\n"
     ]
    },
    {
     "data": {
      "text/markdown": [
       "**يد**: يده ,يد ,اليد ,يديه ,يدي ,باليد ,يدا ,اليدين ,يدها ,واليد"
      ],
      "text/plain": [
       "<IPython.core.display.Markdown object>"
      ]
     },
     "metadata": {},
     "output_type": "display_data"
    },
    {
     "data": {
      "text/markdown": [
       "**نفس**: نفسه ,نفس ,نفسها ,النفس ,نفسي ,نفسا ,بالنفس ,لأنفسهم ,للنفس ,بأنفسهم"
      ],
      "text/plain": [
       "<IPython.core.display.Markdown object>"
      ]
     },
     "metadata": {},
     "output_type": "display_data"
    },
    {
     "data": {
      "text/markdown": [
       "**عمد**: عمدا ,العمد ,عمد ,متعمدا ,يتعمد ,بالعمد ,والعمد ,عمده ,العمدة ,عمدة"
      ],
      "text/plain": [
       "<IPython.core.display.Markdown object>"
      ]
     },
     "metadata": {},
     "output_type": "display_data"
    },
    {
     "data": {
      "text/markdown": [
       "**رجل**: رجل ,الرجل ,رجلا ,رجلين ,للرجل ,رجلان ,الرجلين ,والرجل ,رجله ,رجليه"
      ],
      "text/plain": [
       "<IPython.core.display.Markdown object>"
      ]
     },
     "metadata": {},
     "output_type": "display_data"
    },
    {
     "data": {
      "text/markdown": [
       "**اذ**: إذا ,إذ ,الأذان ,الأذى ,أذى ,اذا ,إذنا ,أذان ,يتأذى ,بماذا"
      ],
      "text/plain": [
       "<IPython.core.display.Markdown object>"
      ]
     },
     "metadata": {},
     "output_type": "display_data"
    },
    {
     "data": {
      "text/markdown": [
       "**قصاص**: القصاص ,قصاص ,قصاصا ,والقصاص ,بالقصاص ,للقصاص ,فالقصاص ,قصاصه ,قصاصها ,لاقصاص"
      ],
      "text/plain": [
       "<IPython.core.display.Markdown object>"
      ]
     },
     "metadata": {},
     "output_type": "display_data"
    },
    {
     "data": {
      "text/markdown": [
       "**قطع**: قطع ,قطعا ,القطع ,قطعه ,قطعها ,قطعة ,بالقطع ,والقطع ,ويقطع ,للقطع"
      ],
      "text/plain": [
       "<IPython.core.display.Markdown object>"
      ]
     },
     "metadata": {},
     "output_type": "display_data"
    },
    {
     "data": {
      "text/markdown": [
       "**ول**: ولا ,وله ,ولأن ,ولي ,الولي ,ولها ,ولنا ,وليه ,وأولى ,ولهم"
      ],
      "text/plain": [
       "<IPython.core.display.Markdown object>"
      ]
     },
     "metadata": {},
     "output_type": "display_data"
    },
    {
     "data": {
      "text/markdown": [
       "**حد**: واحد ,واحدة ,واحدا ,حد ,لأحد ,الحد ,بأحد ,حدة ,حدا ,حده"
      ],
      "text/plain": [
       "<IPython.core.display.Markdown object>"
      ]
     },
     "metadata": {},
     "output_type": "display_data"
    },
    {
     "data": {
      "text/markdown": [
       "**قتل**: قتل ,القتل ,قتله ,بالقتل ,والقتل ,قتلها ,قتلا ,قتلوا ,للقتل ,قتلهم"
      ],
      "text/plain": [
       "<IPython.core.display.Markdown object>"
      ]
     },
     "metadata": {},
     "output_type": "display_data"
    },
    {
     "name": "stdout",
     "output_type": "stream",
     "text": [
      "\n",
      "\n",
      "Topic 2\n"
     ]
    },
    {
     "data": {
      "text/markdown": [
       "**سحن**: سحنون ,والسحن ,سحن ,السحن ,بالسحن ,ويسحن ,للسحن"
      ],
      "text/plain": [
       "<IPython.core.display.Markdown object>"
      ]
     },
     "metadata": {},
     "output_type": "display_data"
    },
    {
     "data": {
      "text/markdown": [
       "**اشهب**: أشهب ,اشهب ,الأشهب ,فالأشهب ,والأشهب ,الاشهب ,أشهبه"
      ],
      "text/plain": [
       "<IPython.core.display.Markdown object>"
      ]
     },
     "metadata": {},
     "output_type": "display_data"
    },
    {
     "data": {
      "text/markdown": [
       "**كتاب**: كتاب ,الكتاب ,الكتابة ,كتابه ,كتابة ,بالكتاب ,كتابا ,والكتابة ,كتابته ,بالكتابة"
      ],
      "text/plain": [
       "<IPython.core.display.Markdown object>"
      ]
     },
     "metadata": {},
     "output_type": "display_data"
    },
    {
     "data": {
      "text/markdown": [
       "**مدون**: المدونة ,للمدونة ,والمدونة ,مدونته ,المدونه ,مدونة ,بالمدونة ,المدونات ,مدوني ,للمدونه"
      ],
      "text/plain": [
       "<IPython.core.display.Markdown object>"
      ]
     },
     "metadata": {},
     "output_type": "display_data"
    },
    {
     "data": {
      "text/markdown": [
       "**ول**: ولا ,وله ,ولأن ,ولي ,الولي ,ولها ,ولنا ,وليه ,وأولى ,ولهم"
      ],
      "text/plain": [
       "<IPython.core.display.Markdown object>"
      ]
     },
     "metadata": {},
     "output_type": "display_data"
    },
    {
     "data": {
      "text/markdown": [
       "**هذ**: هذا ,هذه ,هذين ,هذان ,هذ ,هذى ,ألهذا ,هذي ,هذة ,ويهذا"
      ],
      "text/plain": [
       "<IPython.core.display.Markdown object>"
      ]
     },
     "metadata": {},
     "output_type": "display_data"
    },
    {
     "data": {
      "text/markdown": [
       "**فل**: فلا ,فله ,فلان ,فلأن ,فلها ,فلهم ,فلي ,فلكم ,فلهن ,فلنا"
      ],
      "text/plain": [
       "<IPython.core.display.Markdown object>"
      ]
     },
     "metadata": {},
     "output_type": "display_data"
    },
    {
     "data": {
      "text/markdown": [
       "**اذ**: إذا ,إذ ,الأذان ,الأذى ,أذى ,اذا ,إذنا ,أذان ,يتأذى ,بماذا"
      ],
      "text/plain": [
       "<IPython.core.display.Markdown object>"
      ]
     },
     "metadata": {},
     "output_type": "display_data"
    },
    {
     "data": {
      "text/markdown": [
       "**مالك**: مالك ,المالك ,مالكا ,مالكه ,للمالك ,مالكها ,المالكية ,والمالك ,المالكي ,بالمالك"
      ],
      "text/plain": [
       "<IPython.core.display.Markdown object>"
      ]
     },
     "metadata": {},
     "output_type": "display_data"
    },
    {
     "data": {
      "text/markdown": [
       "**قاسم**: القاسم ,قاسم ,والقاسم ,قاسمه ,قاسما ,ويقاسم ,للقاسم ,قاسمهم ,فيقاسمه ,ويقاسمه"
      ],
      "text/plain": [
       "<IPython.core.display.Markdown object>"
      ]
     },
     "metadata": {},
     "output_type": "display_data"
    },
    {
     "name": "stdout",
     "output_type": "stream",
     "text": [
      "\n",
      "\n",
      "Topic 3\n"
     ]
    },
    {
     "data": {
      "text/markdown": [
       "**نجس**: نجس ,النجس ,نجسا ,نجسة ,النجسة ,والنجس ,بالنجس ,يتنجس ,متنجس ,فينجس"
      ],
      "text/plain": [
       "<IPython.core.display.Markdown object>"
      ]
     },
     "metadata": {},
     "output_type": "display_data"
    },
    {
     "data": {
      "text/markdown": [
       "**مسح**: مسح ,المسح ,مسحه ,بالمسح ,ويمسح ,والمسح ,مسحا ,فيمسح ,وامسحوا ,مسحها"
      ],
      "text/plain": [
       "<IPython.core.display.Markdown object>"
      ]
     },
     "metadata": {},
     "output_type": "display_data"
    },
    {
     "data": {
      "text/markdown": [
       "**حيض**: الحيض ,حيض ,حيضها ,والحيض ,الحيضة ,حيضة ,بالحيض ,حيضا ,للحيض ,بالحيضة"
      ],
      "text/plain": [
       "<IPython.core.display.Markdown object>"
      ]
     },
     "metadata": {},
     "output_type": "display_data"
    },
    {
     "data": {
      "text/markdown": [
       "**دم**: الدم ,دم ,دمه ,دما ,والدم ,دمها ,بالدم ,لآدمي ,للدم ,دمان"
      ],
      "text/plain": [
       "<IPython.core.display.Markdown object>"
      ]
     },
     "metadata": {},
     "output_type": "display_data"
    },
    {
     "data": {
      "text/markdown": [
       "**نجاس**: النجاسة ,نجاسة ,النجاسات ,نجاسته ,بالنجاسة ,للنجاسة ,والنجاسة ,والنجاسات ,فالنجاسة ,بالنجاسات"
      ],
      "text/plain": [
       "<IPython.core.display.Markdown object>"
      ]
     },
     "metadata": {},
     "output_type": "display_data"
    },
    {
     "data": {
      "text/markdown": [
       "**صلا**: الصلاة ,صلاة ,صلاته ,والصلاة ,للصلاة ,بالصلاة ,صلاها ,صلاتي ,صلاتك ,فالصلاة"
      ],
      "text/plain": [
       "<IPython.core.display.Markdown object>"
      ]
     },
     "metadata": {},
     "output_type": "display_data"
    },
    {
     "data": {
      "text/markdown": [
       "**وض**: الوضوء ,وضوء ,يتوضأ ,والوضوء ,بالوضوء ,للوضوء ,وتوضأ ,تتوضأ ,متوضئ ,فالوضوء"
      ],
      "text/plain": [
       "<IPython.core.display.Markdown object>"
      ]
     },
     "metadata": {},
     "output_type": "display_data"
    },
    {
     "data": {
      "text/markdown": [
       "**اذ**: إذا ,إذ ,الأذان ,الأذى ,أذى ,اذا ,إذنا ,أذان ,يتأذى ,بماذا"
      ],
      "text/plain": [
       "<IPython.core.display.Markdown object>"
      ]
     },
     "metadata": {},
     "output_type": "display_data"
    },
    {
     "data": {
      "text/markdown": [
       "**ول**: ولا ,وله ,ولأن ,ولي ,الولي ,ولها ,ولنا ,وليه ,وأولى ,ولهم"
      ],
      "text/plain": [
       "<IPython.core.display.Markdown object>"
      ]
     },
     "metadata": {},
     "output_type": "display_data"
    },
    {
     "data": {
      "text/markdown": [
       "**غسل**: غسل ,الغسل ,غسله ,بالغسل ,والغسل ,غسلها ,ويغسل ,للغسل ,غسلا ,فيغسل"
      ],
      "text/plain": [
       "<IPython.core.display.Markdown object>"
      ]
     },
     "metadata": {},
     "output_type": "display_data"
    },
    {
     "name": "stdout",
     "output_type": "stream",
     "text": [
      "\n",
      "\n",
      "Topic 4\n"
     ]
    },
    {
     "data": {
      "text/markdown": [
       "**خيار**: الخيار ,بالخيار ,خيار ,والخيار ,خياره ,فالخيار ,خيارها ,خيارا ,للخيار ,الخيارات"
      ],
      "text/plain": [
       "<IPython.core.display.Markdown object>"
      ]
     },
     "metadata": {},
     "output_type": "display_data"
    },
    {
     "data": {
      "text/markdown": [
       "**هذ**: هذا ,هذه ,هذين ,هذان ,هذ ,هذى ,ألهذا ,هذي ,هذة ,ويهذا"
      ],
      "text/plain": [
       "<IPython.core.display.Markdown object>"
      ]
     },
     "metadata": {},
     "output_type": "display_data"
    },
    {
     "data": {
      "text/markdown": [
       "**ول**: ولا ,وله ,ولأن ,ولي ,الولي ,ولها ,ولنا ,وليه ,وأولى ,ولهم"
      ],
      "text/plain": [
       "<IPython.core.display.Markdown object>"
      ]
     },
     "metadata": {},
     "output_type": "display_data"
    },
    {
     "data": {
      "text/markdown": [
       "**بااع**: البائع ,للبائع ,والبائع ,فالبائع ,بالبائع ,البائعين ,البائعان ,للبائعين ,البائعة ,البائعون"
      ],
      "text/plain": [
       "<IPython.core.display.Markdown object>"
      ]
     },
     "metadata": {},
     "output_type": "display_data"
    },
    {
     "data": {
      "text/markdown": [
       "**اذ**: إذا ,إذ ,الأذان ,الأذى ,أذى ,اذا ,إذنا ,أذان ,يتأذى ,بماذا"
      ],
      "text/plain": [
       "<IPython.core.display.Markdown object>"
      ]
     },
     "metadata": {},
     "output_type": "display_data"
    },
    {
     "data": {
      "text/markdown": [
       "**قبض**: قبض ,القبض ,قبضه ,بالقبض ,قبضها ,والقبض ,قبضته ,قبضا ,ويقبض ,قبضة"
      ],
      "text/plain": [
       "<IPython.core.display.Markdown object>"
      ]
     },
     "metadata": {},
     "output_type": "display_data"
    },
    {
     "data": {
      "text/markdown": [
       "**عقد**: العقد ,عقد ,بالعقد ,عقده ,للعقد ,عقدا ,والعقد ,عقدة ,عقدها ,فالعقد"
      ],
      "text/plain": [
       "<IPython.core.display.Markdown object>"
      ]
     },
     "metadata": {},
     "output_type": "display_data"
    },
    {
     "data": {
      "text/markdown": [
       "**ثمن**: الثمن ,ثمن ,ثمنه ,بالثمن ,ثمنها ,والثمن ,للثمن ,فالثمن ,الثمنين ,الثمنية"
      ],
      "text/plain": [
       "<IPython.core.display.Markdown object>"
      ]
     },
     "metadata": {},
     "output_type": "display_data"
    },
    {
     "data": {
      "text/markdown": [
       "**مشتر**: المشتري ,للمشتري ,والمشتري ,المشترى ,مشتر ,مشتريه ,فالمشتري ,مشتري ,بالمشتري ,مشترى"
      ],
      "text/plain": [
       "<IPython.core.display.Markdown object>"
      ]
     },
     "metadata": {},
     "output_type": "display_data"
    },
    {
     "data": {
      "text/markdown": [
       "**بيع**: البيع ,بيع ,بيعه ,بالبيع ,بيعها ,والبيع ,بيعا ,للبيع ,فالبيع ,بيعة"
      ],
      "text/plain": [
       "<IPython.core.display.Markdown object>"
      ]
     },
     "metadata": {},
     "output_type": "display_data"
    },
    {
     "name": "stdout",
     "output_type": "stream",
     "text": [
      "\n",
      "\n",
      "Topic 5\n"
     ]
    },
    {
     "data": {
      "text/markdown": [
       "**هذ**: هذا ,هذه ,هذين ,هذان ,هذ ,هذى ,ألهذا ,هذي ,هذة ,ويهذا"
      ],
      "text/plain": [
       "<IPython.core.display.Markdown object>"
      ]
     },
     "metadata": {},
     "output_type": "display_data"
    },
    {
     "data": {
      "text/markdown": [
       "**سلام**: السلام ,والسلام ,السلامة ,سلامة ,سلام ,بإسلامه ,بإسلام ,بالسلام ,سلامته ,سلامه"
      ],
      "text/plain": [
       "<IPython.core.display.Markdown object>"
      ]
     },
     "metadata": {},
     "output_type": "display_data"
    },
    {
     "data": {
      "text/markdown": [
       "**ركع**: ركعة ,الركعة ,ركعات ,ركع ,ركعتي ,الركعات ,ركعتا ,ويركع ,بالركعة ,ركعته"
      ],
      "text/plain": [
       "<IPython.core.display.Markdown object>"
      ]
     },
     "metadata": {},
     "output_type": "display_data"
    },
    {
     "data": {
      "text/markdown": [
       "**وقت**: وقت ,الوقت ,وقتها ,والوقت ,بالوقت ,الوقتين ,وقتين ,للوقت ,يتوقت ,وقتنا"
      ],
      "text/plain": [
       "<IPython.core.display.Markdown object>"
      ]
     },
     "metadata": {},
     "output_type": "display_data"
    },
    {
     "data": {
      "text/markdown": [
       "**اول**: الأول ,أولى ,الأولى ,أول ,أولا ,والأول ,والأولى ,أوله ,للأول ,بالأول"
      ],
      "text/plain": [
       "<IPython.core.display.Markdown object>"
      ]
     },
     "metadata": {},
     "output_type": "display_data"
    },
    {
     "data": {
      "text/markdown": [
       "**صل**: صلى ,وأصل ,بأصل ,وأصله ,متصلا ,متصل ,ويصلي ,يتصل ,متصلة ,صلوا"
      ],
      "text/plain": [
       "<IPython.core.display.Markdown object>"
      ]
     },
     "metadata": {},
     "output_type": "display_data"
    },
    {
     "data": {
      "text/markdown": [
       "**ول**: ولا ,وله ,ولأن ,ولي ,الولي ,ولها ,ولنا ,وليه ,وأولى ,ولهم"
      ],
      "text/plain": [
       "<IPython.core.display.Markdown object>"
      ]
     },
     "metadata": {},
     "output_type": "display_data"
    },
    {
     "data": {
      "text/markdown": [
       "**اذ**: إذا ,إذ ,الأذان ,الأذى ,أذى ,اذا ,إذنا ,أذان ,يتأذى ,بماذا"
      ],
      "text/plain": [
       "<IPython.core.display.Markdown object>"
      ]
     },
     "metadata": {},
     "output_type": "display_data"
    },
    {
     "data": {
      "text/markdown": [
       "**امام**: الإمام ,للإمام ,إمام ,والإمام ,إماما ,إمامه ,الإمامة ,أمامة ,بالإمام ,الامام"
      ],
      "text/plain": [
       "<IPython.core.display.Markdown object>"
      ]
     },
     "metadata": {},
     "output_type": "display_data"
    },
    {
     "data": {
      "text/markdown": [
       "**صلا**: الصلاة ,صلاة ,صلاته ,والصلاة ,للصلاة ,بالصلاة ,صلاها ,صلاتي ,صلاتك ,فالصلاة"
      ],
      "text/plain": [
       "<IPython.core.display.Markdown object>"
      ]
     },
     "metadata": {},
     "output_type": "display_data"
    },
    {
     "name": "stdout",
     "output_type": "stream",
     "text": [
      "\n",
      "\n",
      "Topic 6\n"
     ]
    },
    {
     "data": {
      "text/markdown": [
       "**عد**: العدة ,عدة ,عدا ,يتعدى ,عد ,متعد ,والعدة ,عدي ,يتعد ,لتعديه"
      ],
      "text/plain": [
       "<IPython.core.display.Markdown object>"
      ]
     },
     "metadata": {},
     "output_type": "display_data"
    },
    {
     "data": {
      "text/markdown": [
       "**فل**: فلا ,فله ,فلان ,فلأن ,فلها ,فلهم ,فلي ,فلكم ,فلهن ,فلنا"
      ],
      "text/plain": [
       "<IPython.core.display.Markdown object>"
      ]
     },
     "metadata": {},
     "output_type": "display_data"
    },
    {
     "data": {
      "text/markdown": [
       "**مهر**: المهر ,مهر ,مهرها ,والمهر ,مهرا ,بالمهر ,مهران ,فالمهر ,للمهر ,مهري"
      ],
      "text/plain": [
       "<IPython.core.display.Markdown object>"
      ]
     },
     "metadata": {},
     "output_type": "display_data"
    },
    {
     "data": {
      "text/markdown": [
       "**ام**: أما ,أم ,إما ,الأمة ,أمة ,الأم ,أمه ,أمته ,أمين ,والأمة"
      ],
      "text/plain": [
       "<IPython.core.display.Markdown object>"
      ]
     },
     "metadata": {},
     "output_type": "display_data"
    },
    {
     "data": {
      "text/markdown": [
       "**حد**: واحد ,واحدة ,واحدا ,حد ,لأحد ,الحد ,بأحد ,حدة ,حدا ,حده"
      ],
      "text/plain": [
       "<IPython.core.display.Markdown object>"
      ]
     },
     "metadata": {},
     "output_type": "display_data"
    },
    {
     "data": {
      "text/markdown": [
       "**اذ**: إذا ,إذ ,الأذان ,الأذى ,أذى ,اذا ,إذنا ,أذان ,يتأذى ,بماذا"
      ],
      "text/plain": [
       "<IPython.core.display.Markdown object>"
      ]
     },
     "metadata": {},
     "output_type": "display_data"
    },
    {
     "data": {
      "text/markdown": [
       "**نكاح**: النكاح ,نكاح ,والنكاح ,بالنكاح ,نكاحها ,نكاحه ,نكاحا ,للنكاح ,فالنكاح ,نكاحهن"
      ],
      "text/plain": [
       "<IPython.core.display.Markdown object>"
      ]
     },
     "metadata": {},
     "output_type": "display_data"
    },
    {
     "data": {
      "text/markdown": [
       "**ول**: ولا ,وله ,ولأن ,ولي ,الولي ,ولها ,ولنا ,وليه ,وأولى ,ولهم"
      ],
      "text/plain": [
       "<IPython.core.display.Markdown object>"
      ]
     },
     "metadata": {},
     "output_type": "display_data"
    },
    {
     "data": {
      "text/markdown": [
       "**طلاق**: الطلاق ,طلاق ,بالطلاق ,والطلاق ,لإطلاق ,طلاقا ,طلاقها ,وإطلاق ,طلاقه ,للطلاق"
      ],
      "text/plain": [
       "<IPython.core.display.Markdown object>"
      ]
     },
     "metadata": {},
     "output_type": "display_data"
    },
    {
     "data": {
      "text/markdown": [
       "**زوج**: الزوج ,زوجها ,زوج ,زوجته ,الزوجة ,زوجة ,للزوج ,الزوجين ,يتزوج ,الزوجية"
      ],
      "text/plain": [
       "<IPython.core.display.Markdown object>"
      ]
     },
     "metadata": {},
     "output_type": "display_data"
    },
    {
     "name": "stdout",
     "output_type": "stream",
     "text": [
      "\n",
      "\n",
      "Topic 7\n"
     ]
    },
    {
     "data": {
      "text/markdown": [
       "**دم**: الدم ,دم ,دمه ,دما ,والدم ,دمها ,بالدم ,لآدمي ,للدم ,دمان"
      ],
      "text/plain": [
       "<IPython.core.display.Markdown object>"
      ]
     },
     "metadata": {},
     "output_type": "display_data"
    },
    {
     "data": {
      "text/markdown": [
       "**طواف**: الطواف ,طواف ,والطواف ,طوافه ,بالطواف ,للطواف ,طوافا ,الطوافين ,طوافها ,طوافين"
      ],
      "text/plain": [
       "<IPython.core.display.Markdown object>"
      ]
     },
     "metadata": {},
     "output_type": "display_data"
    },
    {
     "data": {
      "text/markdown": [
       "**محرم**: محرم ,المحرم ,محرما ,محرمة ,المحرمة ,المحرمات ,والمحرم ,للمحرم ,بالمحرم ,محرمات"
      ],
      "text/plain": [
       "<IPython.core.display.Markdown object>"
      ]
     },
     "metadata": {},
     "output_type": "display_data"
    },
    {
     "data": {
      "text/markdown": [
       "**احرام**: الإحرام ,إحرامه ,إحرام ,والإحرام ,بالإحرام ,للإحرام ,إحرامها ,إحراما ,الاحرام ,إحرامهم"
      ],
      "text/plain": [
       "<IPython.core.display.Markdown object>"
      ]
     },
     "metadata": {},
     "output_type": "display_data"
    },
    {
     "data": {
      "text/markdown": [
       "**عمر**: عمر ,عمران ,عمرة ,العمرة ,والعمرة ,عمره ,العمر ,بالعمرة ,عمرا ,عمرته"
      ],
      "text/plain": [
       "<IPython.core.display.Markdown object>"
      ]
     },
     "metadata": {},
     "output_type": "display_data"
    },
    {
     "data": {
      "text/markdown": [
       "**حرم**: حرم ,حرمة ,ويحرم ,الحرمة ,الحرم ,فيحرم ,حرمته ,وتحرم ,والحرمة ,حرمه"
      ],
      "text/plain": [
       "<IPython.core.display.Markdown object>"
      ]
     },
     "metadata": {},
     "output_type": "display_data"
    },
    {
     "data": {
      "text/markdown": [
       "**اذ**: إذا ,إذ ,الأذان ,الأذى ,أذى ,اذا ,إذنا ,أذان ,يتأذى ,بماذا"
      ],
      "text/plain": [
       "<IPython.core.display.Markdown object>"
      ]
     },
     "metadata": {},
     "output_type": "display_data"
    },
    {
     "data": {
      "text/markdown": [
       "**صيد**: الصيد ,صيد ,صيدا ,والصيد ,للصيد ,صيده ,بالصيد ,صيدها ,فالصيد ,ليصيد"
      ],
      "text/plain": [
       "<IPython.core.display.Markdown object>"
      ]
     },
     "metadata": {},
     "output_type": "display_data"
    },
    {
     "data": {
      "text/markdown": [
       "**ول**: ولا ,وله ,ولأن ,ولي ,الولي ,ولها ,ولنا ,وليه ,وأولى ,ولهم"
      ],
      "text/plain": [
       "<IPython.core.display.Markdown object>"
      ]
     },
     "metadata": {},
     "output_type": "display_data"
    },
    {
     "data": {
      "text/markdown": [
       "**حج**: حجة ,الحج ,الحجة ,حج ,بالحج ,والحج ,حجته ,حجه ,للحج ,والحجة"
      ],
      "text/plain": [
       "<IPython.core.display.Markdown object>"
      ]
     },
     "metadata": {},
     "output_type": "display_data"
    },
    {
     "name": "stdout",
     "output_type": "stream",
     "text": [
      "\n",
      "\n",
      "Topic 8\n"
     ]
    },
    {
     "data": {
      "text/markdown": [
       "**هذ**: هذا ,هذه ,هذين ,هذان ,هذ ,هذى ,ألهذا ,هذي ,هذة ,ويهذا"
      ],
      "text/plain": [
       "<IPython.core.display.Markdown object>"
      ]
     },
     "metadata": {},
     "output_type": "display_data"
    },
    {
     "data": {
      "text/markdown": [
       "**حق**: حق ,حقه ,الحق ,حقا ,حقها ,حقهم ,ألحق ,والحق ,وألحق ,بالحق"
      ],
      "text/plain": [
       "<IPython.core.display.Markdown object>"
      ]
     },
     "metadata": {},
     "output_type": "display_data"
    },
    {
     "data": {
      "text/markdown": [
       "**حد**: واحد ,واحدة ,واحدا ,حد ,لأحد ,الحد ,بأحد ,حدة ,حدا ,حده"
      ],
      "text/plain": [
       "<IPython.core.display.Markdown object>"
      ]
     },
     "metadata": {},
     "output_type": "display_data"
    },
    {
     "data": {
      "text/markdown": [
       "**يد**: يده ,يد ,اليد ,يديه ,يدي ,باليد ,يدا ,اليدين ,يدها ,واليد"
      ],
      "text/plain": [
       "<IPython.core.display.Markdown object>"
      ]
     },
     "metadata": {},
     "output_type": "display_data"
    },
    {
     "data": {
      "text/markdown": [
       "**اذ**: إذا ,إذ ,الأذان ,الأذى ,أذى ,اذا ,إذنا ,أذان ,يتأذى ,بماذا"
      ],
      "text/plain": [
       "<IPython.core.display.Markdown object>"
      ]
     },
     "metadata": {},
     "output_type": "display_data"
    },
    {
     "data": {
      "text/markdown": [
       "**مدع**: المدعي ,المدعى ,للمدعي ,مدعي ,مدع ,مدعى ,والمدعى ,والمدعي ,للمدعى ,مدعيه"
      ],
      "text/plain": [
       "<IPython.core.display.Markdown object>"
      ]
     },
     "metadata": {},
     "output_type": "display_data"
    },
    {
     "data": {
      "text/markdown": [
       "**قاض**: القاضي ,للقاضي ,قاض ,والقاضي ,قاضي ,فالقاضي ,بالقاضي ,قاضية ,القاضى ,قاضيه"
      ],
      "text/plain": [
       "<IPython.core.display.Markdown object>"
      ]
     },
     "metadata": {},
     "output_type": "display_data"
    },
    {
     "data": {
      "text/markdown": [
       "**اقرار**: الإقرار ,إقرار ,إقراره ,بالإقرار ,والإقرار ,إقرارا ,إقرارها ,الاقرار ,إقرارهم ,للإقرار"
      ],
      "text/plain": [
       "<IPython.core.display.Markdown object>"
      ]
     },
     "metadata": {},
     "output_type": "display_data"
    },
    {
     "data": {
      "text/markdown": [
       "**ول**: ولا ,وله ,ولأن ,ولي ,الولي ,ولها ,ولنا ,وليه ,وأولى ,ولهم"
      ],
      "text/plain": [
       "<IPython.core.display.Markdown object>"
      ]
     },
     "metadata": {},
     "output_type": "display_data"
    },
    {
     "data": {
      "text/markdown": [
       "**شهاد**: الشهادة ,شهادة ,شهادته ,والشهادة ,الشهادات ,بالشهادة ,للشهادة ,شهادات ,فالشهادة ,شهادتي"
      ],
      "text/plain": [
       "<IPython.core.display.Markdown object>"
      ]
     },
     "metadata": {},
     "output_type": "display_data"
    },
    {
     "name": "stdout",
     "output_type": "stream",
     "text": [
      "\n",
      "\n",
      "Topic 9\n"
     ]
    },
    {
     "data": {
      "text/markdown": [
       "**وكذ**: وكذا ,وكذ ,وكذات ,وكذي ,وكذان ,وكذى"
      ],
      "text/plain": [
       "<IPython.core.display.Markdown object>"
      ]
     },
     "metadata": {},
     "output_type": "display_data"
    },
    {
     "data": {
      "text/markdown": [
       "**حق**: حق ,حقه ,الحق ,حقا ,حقها ,حقهم ,ألحق ,والحق ,وألحق ,بالحق"
      ],
      "text/plain": [
       "<IPython.core.display.Markdown object>"
      ]
     },
     "metadata": {},
     "output_type": "display_data"
    },
    {
     "data": {
      "text/markdown": [
       "**فل**: فلا ,فله ,فلان ,فلأن ,فلها ,فلهم ,فلي ,فلكم ,فلهن ,فلنا"
      ],
      "text/plain": [
       "<IPython.core.display.Markdown object>"
      ]
     },
     "metadata": {},
     "output_type": "display_data"
    },
    {
     "data": {
      "text/markdown": [
       "**يوسف**: يوسف ,اليوسفي ,اليوسفية ,يوسفية ,يوسفي ,واليوسفي"
      ],
      "text/plain": [
       "<IPython.core.display.Markdown object>"
      ]
     },
     "metadata": {},
     "output_type": "display_data"
    },
    {
     "data": {
      "text/markdown": [
       "**حنيف**: حنيفة ,حنيف ,حنيفا ,الحنيفية ,الحنيفة ,حنيفه ,بالحنيفية ,الحنيفي ,الحنيف ,والحنيفة"
      ],
      "text/plain": [
       "<IPython.core.display.Markdown object>"
      ]
     },
     "metadata": {},
     "output_type": "display_data"
    },
    {
     "data": {
      "text/markdown": [
       "**بخلاف**: بخلاف ,بخلافه ,بخلافها ,بخلافهم ,بخلافة ,بخلافنا ,بخلافكم ,بخلافته ,بخلافهن ,بخلافا"
      ],
      "text/plain": [
       "<IPython.core.display.Markdown object>"
      ]
     },
     "metadata": {},
     "output_type": "display_data"
    },
    {
     "data": {
      "text/markdown": [
       "**اب**: أبي ,أبيه ,أبا ,الأب ,أبى ,أبوه ,أب ,للأب ,ابنا ,والأب"
      ],
      "text/plain": [
       "<IPython.core.display.Markdown object>"
      ]
     },
     "metadata": {},
     "output_type": "display_data"
    },
    {
     "data": {
      "text/markdown": [
       "**ذكر**: ذكر ,ذكره ,ذكرنا ,الذكر ,ذكرها ,ذكرا ,بالذكر ,ذكروه ,ذكروا ,ذكرته"
      ],
      "text/plain": [
       "<IPython.core.display.Markdown object>"
      ]
     },
     "metadata": {},
     "output_type": "display_data"
    },
    {
     "data": {
      "text/markdown": [
       "**هذ**: هذا ,هذه ,هذين ,هذان ,هذ ,هذى ,ألهذا ,هذي ,هذة ,ويهذا"
      ],
      "text/plain": [
       "<IPython.core.display.Markdown object>"
      ]
     },
     "metadata": {},
     "output_type": "display_data"
    },
    {
     "data": {
      "text/markdown": [
       "**اذ**: إذا ,إذ ,الأذان ,الأذى ,أذى ,اذا ,إذنا ,أذان ,يتأذى ,بماذا"
      ],
      "text/plain": [
       "<IPython.core.display.Markdown object>"
      ]
     },
     "metadata": {},
     "output_type": "display_data"
    },
    {
     "name": "stdout",
     "output_type": "stream",
     "text": [
      "\n",
      "\n",
      "Topic 10\n"
     ]
    },
    {
     "data": {
      "text/markdown": [
       "**حد**: واحد ,واحدة ,واحدا ,حد ,لأحد ,الحد ,بأحد ,حدة ,حدا ,حده"
      ],
      "text/plain": [
       "<IPython.core.display.Markdown object>"
      ]
     },
     "metadata": {},
     "output_type": "display_data"
    },
    {
     "data": {
      "text/markdown": [
       "**اذ**: إذا ,إذ ,الأذان ,الأذى ,أذى ,اذا ,إذنا ,أذان ,يتأذى ,بماذا"
      ],
      "text/plain": [
       "<IPython.core.display.Markdown object>"
      ]
     },
     "metadata": {},
     "output_type": "display_data"
    },
    {
     "data": {
      "text/markdown": [
       "**نصاب**: النصاب ,نصاب ,نصابا ,والنصاب ,نصابه ,للنصاب ,بالنصاب ,نصابها ,نصابين ,النصابين"
      ],
      "text/plain": [
       "<IPython.core.display.Markdown object>"
      ]
     },
     "metadata": {},
     "output_type": "display_data"
    },
    {
     "data": {
      "text/markdown": [
       "**خمس**: خمسة ,خمس ,الخمس ,الخمسة ,خمسين ,خمسون ,خمسا ,الخمسين ,خمسه ,والخمس"
      ],
      "text/plain": [
       "<IPython.core.display.Markdown object>"
      ]
     },
     "metadata": {},
     "output_type": "display_data"
    },
    {
     "data": {
      "text/markdown": [
       "**عشر**: عشرة ,عشر ,عشرين ,العشرة ,العشر ,عشرون ,عشرا ,العشرين ,والعشرين ,والعشر"
      ],
      "text/plain": [
       "<IPython.core.display.Markdown object>"
      ]
     },
     "metadata": {},
     "output_type": "display_data"
    },
    {
     "data": {
      "text/markdown": [
       "**صدق**: صدق ,صدقة ,الصدقة ,صدقه ,يتصدق ,والصدقة ,الصدقات ,الصدق ,صدقته ,فيصدق"
      ],
      "text/plain": [
       "<IPython.core.display.Markdown object>"
      ]
     },
     "metadata": {},
     "output_type": "display_data"
    },
    {
     "data": {
      "text/markdown": [
       "**حول**: حول ,الحول ,حوله ,حولها ,يتحول ,حولا ,حولين ,ويحول ,الحولين ,والحول"
      ],
      "text/plain": [
       "<IPython.core.display.Markdown object>"
      ]
     },
     "metadata": {},
     "output_type": "display_data"
    },
    {
     "data": {
      "text/markdown": [
       "**مال**: مال ,المال ,ماله ,مالا ,بالمال ,والمال ,مالي ,المالية ,للمال ,مالها"
      ],
      "text/plain": [
       "<IPython.core.display.Markdown object>"
      ]
     },
     "metadata": {},
     "output_type": "display_data"
    },
    {
     "data": {
      "text/markdown": [
       "**ول**: ولا ,وله ,ولأن ,ولي ,الولي ,ولها ,ولنا ,وليه ,وأولى ,ولهم"
      ],
      "text/plain": [
       "<IPython.core.display.Markdown object>"
      ]
     },
     "metadata": {},
     "output_type": "display_data"
    },
    {
     "data": {
      "text/markdown": [
       "**زكا**: الزكاة ,زكاة ,والزكاة ,زكاته ,بالزكاة ,للزكاة ,زكاه ,فالزكاة ,زكاها ,زكاتي"
      ],
      "text/plain": [
       "<IPython.core.display.Markdown object>"
      ]
     },
     "metadata": {},
     "output_type": "display_data"
    },
    {
     "name": "stdout",
     "output_type": "stream",
     "text": [
      "\n",
      "\n",
      "Topic 11\n"
     ]
    },
    {
     "data": {
      "text/markdown": [
       "**شيخ**: الشيخ ,شيخنا ,شيخ ,الشيخين ,الشيخان ,والشيخ ,للشيخ ,شيخه ,شيخا ,للشيخين"
      ],
      "text/plain": [
       "<IPython.core.display.Markdown object>"
      ]
     },
     "metadata": {},
     "output_type": "display_data"
    },
    {
     "data": {
      "text/markdown": [
       "**بخلاف**: بخلاف ,بخلافه ,بخلافها ,بخلافهم ,بخلافة ,بخلافنا ,بخلافكم ,بخلافته ,بخلافهن ,بخلافا"
      ],
      "text/plain": [
       "<IPython.core.display.Markdown object>"
      ]
     },
     "metadata": {},
     "output_type": "display_data"
    },
    {
     "data": {
      "text/markdown": [
       "**كلام**: كلام ,الكلام ,كلامه ,كلامهم ,والكلام ,بالكلام ,كلاما ,فالكلام ,كلامها ,كلامنا"
      ],
      "text/plain": [
       "<IPython.core.display.Markdown object>"
      ]
     },
     "metadata": {},
     "output_type": "display_data"
    },
    {
     "data": {
      "text/markdown": [
       "**ول**: ولا ,وله ,ولأن ,ولي ,الولي ,ولها ,ولنا ,وليه ,وأولى ,ولهم"
      ],
      "text/plain": [
       "<IPython.core.display.Markdown object>"
      ]
     },
     "metadata": {},
     "output_type": "display_data"
    },
    {
     "data": {
      "text/markdown": [
       "**ظاهر**: ظاهر ,الظاهر ,والظاهر ,ظاهرا ,ظاهره ,فالظاهر ,ظاهرة ,الظاهرة ,بالظاهر ,ظاهرها"
      ],
      "text/plain": [
       "<IPython.core.display.Markdown object>"
      ]
     },
     "metadata": {},
     "output_type": "display_data"
    },
    {
     "data": {
      "text/markdown": [
       "**شرح**: شرح ,الشرح ,شرحه ,والشرح ,شرحها ,الشرحين ,شرحا ,شرحي ,شرحنا ,شرحيه"
      ],
      "text/plain": [
       "<IPython.core.display.Markdown object>"
      ]
     },
     "metadata": {},
     "output_type": "display_data"
    },
    {
     "data": {
      "text/markdown": [
       "**فل**: فلا ,فله ,فلان ,فلأن ,فلها ,فلهم ,فلي ,فلكم ,فلهن ,فلنا"
      ],
      "text/plain": [
       "<IPython.core.display.Markdown object>"
      ]
     },
     "metadata": {},
     "output_type": "display_data"
    },
    {
     "data": {
      "text/markdown": [
       "**اذ**: إذا ,إذ ,الأذان ,الأذى ,أذى ,اذا ,إذنا ,أذان ,يتأذى ,بماذا"
      ],
      "text/plain": [
       "<IPython.core.display.Markdown object>"
      ]
     },
     "metadata": {},
     "output_type": "display_data"
    },
    {
     "data": {
      "text/markdown": [
       "**اول**: الأول ,أولى ,الأولى ,أول ,أولا ,والأول ,والأولى ,أوله ,للأول ,بالأول"
      ],
      "text/plain": [
       "<IPython.core.display.Markdown object>"
      ]
     },
     "metadata": {},
     "output_type": "display_data"
    },
    {
     "data": {
      "text/markdown": [
       "**ذكر**: ذكر ,ذكره ,ذكرنا ,الذكر ,ذكرها ,ذكرا ,بالذكر ,ذكروه ,ذكروا ,ذكرته"
      ],
      "text/plain": [
       "<IPython.core.display.Markdown object>"
      ]
     },
     "metadata": {},
     "output_type": "display_data"
    },
    {
     "name": "stdout",
     "output_type": "stream",
     "text": [
      "\n",
      "\n",
      "Topic 12\n"
     ]
    },
    {
     "data": {
      "text/markdown": [
       "**ذكر**: ذكر ,ذكره ,ذكرنا ,الذكر ,ذكرها ,ذكرا ,بالذكر ,ذكروه ,ذكروا ,ذكرته"
      ],
      "text/plain": [
       "<IPython.core.display.Markdown object>"
      ]
     },
     "metadata": {},
     "output_type": "display_data"
    },
    {
     "data": {
      "text/markdown": [
       "**مذهب**: المذهب ,مذهب ,مذهبه ,والمذهب ,مذهبنا ,فالمذهب ,مذهبا ,المذهبين ,مذهبهم ,بالمذهب"
      ],
      "text/plain": [
       "<IPython.core.display.Markdown object>"
      ]
     },
     "metadata": {},
     "output_type": "display_data"
    },
    {
     "data": {
      "text/markdown": [
       "**احدهم**: أحدهما ,احدهما ,إحدهما ,آحدهما ,الأحدهما ,أحدهمها"
      ],
      "text/plain": [
       "<IPython.core.display.Markdown object>"
      ]
     },
     "metadata": {},
     "output_type": "display_data"
    },
    {
     "data": {
      "text/markdown": [
       "**ول**: ولا ,وله ,ولأن ,ولي ,الولي ,ولها ,ولنا ,وليه ,وأولى ,ولهم"
      ],
      "text/plain": [
       "<IPython.core.display.Markdown object>"
      ]
     },
     "metadata": {},
     "output_type": "display_data"
    },
    {
     "data": {
      "text/markdown": [
       "**وجه**: وجهين ,وجهان ,وجهه ,الوجهين ,وجهها ,الوجهان ,وجهي ,وجهة ,بالوجهين ,والوجهان"
      ],
      "text/plain": [
       "<IPython.core.display.Markdown object>"
      ]
     },
     "metadata": {},
     "output_type": "display_data"
    },
    {
     "data": {
      "text/markdown": [
       "**شافع**: الشافعي ,والشافعي ,للشافعي ,الشافعية ,شافعي ,للشافعية ,والشافعية ,شافع ,فالشافعي ,الشافعى"
      ],
      "text/plain": [
       "<IPython.core.display.Markdown object>"
      ]
     },
     "metadata": {},
     "output_type": "display_data"
    },
    {
     "data": {
      "text/markdown": [
       "**ابو**: أبو ,أبويه ,الأبوين ,أبوها ,الأبوة ,الأبوان ,للأبوين ,أبوان ,أبوين ,أبوي"
      ],
      "text/plain": [
       "<IPython.core.display.Markdown object>"
      ]
     },
     "metadata": {},
     "output_type": "display_data"
    },
    {
     "data": {
      "text/markdown": [
       "**فصل**: فصل ,الفصل ,فصلى ,الفصلين ,فصلوا ,فصله ,فصلين ,والفصل ,فصلا ,فصلان"
      ],
      "text/plain": [
       "<IPython.core.display.Markdown object>"
      ]
     },
     "metadata": {},
     "output_type": "display_data"
    },
    {
     "data": {
      "text/markdown": [
       "**مسال**: مسألة ,المسألة ,والمسألة ,فالمسألة ,للمسألة ,مسألته ,مسألتي ,بالمسألة ,مسالة ,المسالة"
      ],
      "text/plain": [
       "<IPython.core.display.Markdown object>"
      ]
     },
     "metadata": {},
     "output_type": "display_data"
    },
    {
     "data": {
      "text/markdown": [
       "**ثان**: الثاني ,الثانية ,والثاني ,والثانية ,للثاني ,ثانية ,بالثاني ,ثاني ,بالثانية ,للثانية"
      ],
      "text/plain": [
       "<IPython.core.display.Markdown object>"
      ]
     },
     "metadata": {},
     "output_type": "display_data"
    },
    {
     "name": "stdout",
     "output_type": "stream",
     "text": [
      "\n",
      "\n",
      "Topic 13\n"
     ]
    },
    {
     "data": {
      "text/markdown": [
       "**اصحاب**: أصحابنا ,أصحاب ,أصحابه ,الأصحاب ,والأصحاب ,للأصحاب ,أصحابها ,أصحابي ,الاصحاب ,اصحابنا"
      ],
      "text/plain": [
       "<IPython.core.display.Markdown object>"
      ]
     },
     "metadata": {},
     "output_type": "display_data"
    },
    {
     "data": {
      "text/markdown": [
       "**كلام**: كلام ,الكلام ,كلامه ,كلامهم ,والكلام ,بالكلام ,كلاما ,فالكلام ,كلامها ,كلامنا"
      ],
      "text/plain": [
       "<IPython.core.display.Markdown object>"
      ]
     },
     "metadata": {},
     "output_type": "display_data"
    },
    {
     "data": {
      "text/markdown": [
       "**ظاهر**: ظاهر ,الظاهر ,والظاهر ,ظاهرا ,ظاهره ,فالظاهر ,ظاهرة ,الظاهرة ,بالظاهر ,ظاهرها"
      ],
      "text/plain": [
       "<IPython.core.display.Markdown object>"
      ]
     },
     "metadata": {},
     "output_type": "display_data"
    },
    {
     "data": {
      "text/markdown": [
       "**ذكر**: ذكر ,ذكره ,ذكرنا ,الذكر ,ذكرها ,ذكرا ,بالذكر ,ذكروه ,ذكروا ,ذكرته"
      ],
      "text/plain": [
       "<IPython.core.display.Markdown object>"
      ]
     },
     "metadata": {},
     "output_type": "display_data"
    },
    {
     "data": {
      "text/markdown": [
       "**شيخ**: الشيخ ,شيخنا ,شيخ ,الشيخين ,الشيخان ,والشيخ ,للشيخ ,شيخه ,شيخا ,للشيخين"
      ],
      "text/plain": [
       "<IPython.core.display.Markdown object>"
      ]
     },
     "metadata": {},
     "output_type": "display_data"
    },
    {
     "data": {
      "text/markdown": [
       "**روا**: رواية ,رواه ,الرواية ,والرواية ,الرواة ,رواها ,رواة ,بالرواية ,للرواية ,رواته"
      ],
      "text/plain": [
       "<IPython.core.display.Markdown object>"
      ]
     },
     "metadata": {},
     "output_type": "display_data"
    },
    {
     "data": {
      "text/markdown": [
       "**اخبار**: الأخبار ,إخبار ,الإخبار ,أخبار ,الاخبار ,والأخبار ,إخباره ,إخبارا ,للأخبار ,أخبارنا"
      ],
      "text/plain": [
       "<IPython.core.display.Markdown object>"
      ]
     },
     "metadata": {},
     "output_type": "display_data"
    },
    {
     "data": {
      "text/markdown": [
       "**اب**: أبي ,أبيه ,أبا ,الأب ,أبى ,أبوه ,أب ,للأب ,ابنا ,والأب"
      ],
      "text/plain": [
       "<IPython.core.display.Markdown object>"
      ]
     },
     "metadata": {},
     "output_type": "display_data"
    },
    {
     "data": {
      "text/markdown": [
       "**هذ**: هذا ,هذه ,هذين ,هذان ,هذ ,هذى ,ألهذا ,هذي ,هذة ,ويهذا"
      ],
      "text/plain": [
       "<IPython.core.display.Markdown object>"
      ]
     },
     "metadata": {},
     "output_type": "display_data"
    },
    {
     "data": {
      "text/markdown": [
       "**سلام**: السلام ,والسلام ,السلامة ,سلامة ,سلام ,بإسلامه ,بإسلام ,بالسلام ,سلامته ,سلامه"
      ],
      "text/plain": [
       "<IPython.core.display.Markdown object>"
      ]
     },
     "metadata": {},
     "output_type": "display_data"
    },
    {
     "name": "stdout",
     "output_type": "stream",
     "text": [
      "\n",
      "\n",
      "Topic 14\n"
     ]
    },
    {
     "data": {
      "text/markdown": [
       "**ام**: أما ,أم ,إما ,الأمة ,أمة ,الأم ,أمه ,أمته ,أمين ,والأمة"
      ],
      "text/plain": [
       "<IPython.core.display.Markdown object>"
      ]
     },
     "metadata": {},
     "output_type": "display_data"
    },
    {
     "data": {
      "text/markdown": [
       "**صحيح**: الصحيح ,صحيح ,صحيحا ,صحيحة ,والصحيح ,الصحيحة ,الصحيحين ,فالصحيح ,للصحيح ,صحيحه"
      ],
      "text/plain": [
       "<IPython.core.display.Markdown object>"
      ]
     },
     "metadata": {},
     "output_type": "display_data"
    },
    {
     "data": {
      "text/markdown": [
       "**ول**: ولا ,وله ,ولأن ,ولي ,الولي ,ولها ,ولنا ,وليه ,وأولى ,ولهم"
      ],
      "text/plain": [
       "<IPython.core.display.Markdown object>"
      ]
     },
     "metadata": {},
     "output_type": "display_data"
    },
    {
     "data": {
      "text/markdown": [
       "**ثان**: الثاني ,الثانية ,والثاني ,والثانية ,للثاني ,ثانية ,بالثاني ,ثاني ,بالثانية ,للثانية"
      ],
      "text/plain": [
       "<IPython.core.display.Markdown object>"
      ]
     },
     "metadata": {},
     "output_type": "display_data"
    },
    {
     "data": {
      "text/markdown": [
       "**اصل**: الأصل ,أصل ,أصلا ,والأصل ,أصله ,أصلها ,الأصلي ,بالأصل ,للأصل ,أصلي"
      ],
      "text/plain": [
       "<IPython.core.display.Markdown object>"
      ]
     },
     "metadata": {},
     "output_type": "display_data"
    },
    {
     "data": {
      "text/markdown": [
       "**اجماع**: إجماعا ,بالإجماع ,الإجماع ,إجماع ,والإجماع ,للإجماع ,إجماعهم ,الاجماع ,اجماعا ,والاجماع"
      ],
      "text/plain": [
       "<IPython.core.display.Markdown object>"
      ]
     },
     "metadata": {},
     "output_type": "display_data"
    },
    {
     "data": {
      "text/markdown": [
       "**مطلق**: مطلقا ,مطلق ,المطلق ,المطلقة ,مطلقة ,والمطلق ,والمطلقة ,للمطلق ,مطلقه ,المطلقات"
      ],
      "text/plain": [
       "<IPython.core.display.Markdown object>"
      ]
     },
     "metadata": {},
     "output_type": "display_data"
    },
    {
     "data": {
      "text/markdown": [
       "**عدم**: عدم ,عدمه ,العدم ,عدمها ,بالعدم ,والعدم ,عدما ,عدمهم ,عدموا ,عدمي"
      ],
      "text/plain": [
       "<IPython.core.display.Markdown object>"
      ]
     },
     "metadata": {},
     "output_type": "display_data"
    },
    {
     "data": {
      "text/markdown": [
       "**اول**: الأول ,أولى ,الأولى ,أول ,أولا ,والأول ,والأولى ,أوله ,للأول ,بالأول"
      ],
      "text/plain": [
       "<IPython.core.display.Markdown object>"
      ]
     },
     "metadata": {},
     "output_type": "display_data"
    },
    {
     "data": {
      "text/markdown": [
       "**خلاف**: خلاف ,الخلاف ,خلافا ,خلافه ,والخلاف ,للخلاف ,خلافة ,الخلافة ,فالخلاف ,خلافها"
      ],
      "text/plain": [
       "<IPython.core.display.Markdown object>"
      ]
     },
     "metadata": {},
     "output_type": "display_data"
    },
    {
     "name": "stdout",
     "output_type": "stream",
     "text": [
      "\n",
      "\n",
      "Topic 15\n"
     ]
    },
    {
     "data": {
      "text/markdown": [
       "**دار**: دار ,الدار ,دارا ,داره ,والدار ,داري ,بالدار ,دارنا ,الدارين ,دارهم"
      ],
      "text/plain": [
       "<IPython.core.display.Markdown object>"
      ]
     },
     "metadata": {},
     "output_type": "display_data"
    },
    {
     "data": {
      "text/markdown": [
       "**اخذ**: أخذ ,أخذه ,الأخذ ,أخذها ,ويأخذ ,أخذا ,ويؤخذ ,فيأخذ ,آخذ ,فيؤخذ"
      ],
      "text/plain": [
       "<IPython.core.display.Markdown object>"
      ]
     },
     "metadata": {},
     "output_type": "display_data"
    },
    {
     "data": {
      "text/markdown": [
       "**ملك**: ملك ,الملك ,ملكه ,ملكا ,ملكها ,بالملك ,والملك ,للملك ,ملكهم ,فيملك"
      ],
      "text/plain": [
       "<IPython.core.display.Markdown object>"
      ]
     },
     "metadata": {},
     "output_type": "display_data"
    },
    {
     "data": {
      "text/markdown": [
       "**عمل**: العمل ,عمل ,عملا ,عمله ,والعمل ,بالعمل ,فيعمل ,ويعمل ,للعمل ,عملها"
      ],
      "text/plain": [
       "<IPython.core.display.Markdown object>"
      ]
     },
     "metadata": {},
     "output_type": "display_data"
    },
    {
     "data": {
      "text/markdown": [
       "**فل**: فلا ,فله ,فلان ,فلأن ,فلها ,فلهم ,فلي ,فلكم ,فلهن ,فلنا"
      ],
      "text/plain": [
       "<IPython.core.display.Markdown object>"
      ]
     },
     "metadata": {},
     "output_type": "display_data"
    },
    {
     "data": {
      "text/markdown": [
       "**اذ**: إذا ,إذ ,الأذان ,الأذى ,أذى ,اذا ,إذنا ,أذان ,يتأذى ,بماذا"
      ],
      "text/plain": [
       "<IPython.core.display.Markdown object>"
      ]
     },
     "metadata": {},
     "output_type": "display_data"
    },
    {
     "data": {
      "text/markdown": [
       "**اجر**: أجرة ,أجر ,الأجرة ,الأجر ,أجره ,أجرته ,أجرا ,آجر ,بالأجرة ,أجرى"
      ],
      "text/plain": [
       "<IPython.core.display.Markdown object>"
      ]
     },
     "metadata": {},
     "output_type": "display_data"
    },
    {
     "data": {
      "text/markdown": [
       "**ول**: ولا ,وله ,ولأن ,ولي ,الولي ,ولها ,ولنا ,وليه ,وأولى ,ولهم"
      ],
      "text/plain": [
       "<IPython.core.display.Markdown object>"
      ]
     },
     "metadata": {},
     "output_type": "display_data"
    },
    {
     "data": {
      "text/markdown": [
       "**ارض**: الأرض ,أرض ,أرضا ,أرضه ,والأرض ,بالأرض ,للأرض ,أرضى ,الأرضين ,أرضها"
      ],
      "text/plain": [
       "<IPython.core.display.Markdown object>"
      ]
     },
     "metadata": {},
     "output_type": "display_data"
    },
    {
     "data": {
      "text/markdown": [
       "**مال**: مال ,المال ,ماله ,مالا ,بالمال ,والمال ,مالي ,المالية ,للمال ,مالها"
      ],
      "text/plain": [
       "<IPython.core.display.Markdown object>"
      ]
     },
     "metadata": {},
     "output_type": "display_data"
    },
    {
     "name": "stdout",
     "output_type": "stream",
     "text": [
      "\n",
      "\n",
      "Topic 16\n"
     ]
    },
    {
     "data": {
      "text/markdown": [
       "**ابو**: أبو ,أبويه ,الأبوين ,أبوها ,الأبوة ,الأبوان ,للأبوين ,أبوان ,أبوين ,أبوي"
      ],
      "text/plain": [
       "<IPython.core.display.Markdown object>"
      ]
     },
     "metadata": {},
     "output_type": "display_data"
    },
    {
     "data": {
      "text/markdown": [
       "**رجل**: رجل ,الرجل ,رجلا ,رجلين ,للرجل ,رجلان ,الرجلين ,والرجل ,رجله ,رجليه"
      ],
      "text/plain": [
       "<IPython.core.display.Markdown object>"
      ]
     },
     "metadata": {},
     "output_type": "display_data"
    },
    {
     "data": {
      "text/markdown": [
       "**شافع**: الشافعي ,والشافعي ,للشافعي ,الشافعية ,شافعي ,للشافعية ,والشافعية ,شافع ,فالشافعي ,الشافعى"
      ],
      "text/plain": [
       "<IPython.core.display.Markdown object>"
      ]
     },
     "metadata": {},
     "output_type": "display_data"
    },
    {
     "data": {
      "text/markdown": [
       "**نب**: النبي ,نبه ,للنبي ,نبي ,نبيه ,والنبي ,نبات ,النبات ,بالنبي ,نبين"
      ],
      "text/plain": [
       "<IPython.core.display.Markdown object>"
      ]
     },
     "metadata": {},
     "output_type": "display_data"
    },
    {
     "data": {
      "text/markdown": [
       "**حديث**: الحديث ,حديث ,والحديث ,بالحديث ,للحديث ,حديثا ,حديثه ,الحديثين ,الحديثان ,حديثان"
      ],
      "text/plain": [
       "<IPython.core.display.Markdown object>"
      ]
     },
     "metadata": {},
     "output_type": "display_data"
    },
    {
     "data": {
      "text/markdown": [
       "**مالك**: مالك ,المالك ,مالكا ,مالكه ,للمالك ,مالكها ,المالكية ,والمالك ,المالكي ,بالمالك"
      ],
      "text/plain": [
       "<IPython.core.display.Markdown object>"
      ]
     },
     "metadata": {},
     "output_type": "display_data"
    },
    {
     "data": {
      "text/markdown": [
       "**عمر**: عمر ,عمران ,عمرة ,العمرة ,والعمرة ,عمره ,العمر ,بالعمرة ,عمرا ,عمرته"
      ],
      "text/plain": [
       "<IPython.core.display.Markdown object>"
      ]
     },
     "metadata": {},
     "output_type": "display_data"
    },
    {
     "data": {
      "text/markdown": [
       "**رسول**: رسول ,الرسول ,رسوله ,رسولا ,والرسول ,للرسول ,بالرسول ,رسولي ,فالرسول ,رسولين"
      ],
      "text/plain": [
       "<IPython.core.display.Markdown object>"
      ]
     },
     "metadata": {},
     "output_type": "display_data"
    },
    {
     "data": {
      "text/markdown": [
       "**اب**: أبي ,أبيه ,أبا ,الأب ,أبى ,أبوه ,أب ,للأب ,ابنا ,والأب"
      ],
      "text/plain": [
       "<IPython.core.display.Markdown object>"
      ]
     },
     "metadata": {},
     "output_type": "display_data"
    },
    {
     "data": {
      "text/markdown": [
       "**صل**: صلى ,وأصل ,بأصل ,وأصله ,متصلا ,متصل ,ويصلي ,يتصل ,متصلة ,صلوا"
      ],
      "text/plain": [
       "<IPython.core.display.Markdown object>"
      ]
     },
     "metadata": {},
     "output_type": "display_data"
    },
    {
     "name": "stdout",
     "output_type": "stream",
     "text": [
      "\n",
      "\n",
      "Topic 17\n"
     ]
    },
    {
     "data": {
      "text/markdown": [
       "**موص**: الموصى ,الموصي ,للموصى ,والموصى ,موصى ,للموصي ,والموصي ,موص ,فالموصى ,موصي"
      ],
      "text/plain": [
       "<IPython.core.display.Markdown object>"
      ]
     },
     "metadata": {},
     "output_type": "display_data"
    },
    {
     "data": {
      "text/markdown": [
       "**ورث**: الورثة ,ورثته ,ورثة ,للورثة ,ورث ,ورثه ,والورثة ,ورثها ,ويورث ,ورثوا"
      ],
      "text/plain": [
       "<IPython.core.display.Markdown object>"
      ]
     },
     "metadata": {},
     "output_type": "display_data"
    },
    {
     "data": {
      "text/markdown": [
       "**ثلاث**: ثلاثة ,ثلاث ,الثلاثة ,ثلاثا ,الثلاث ,ثلاثين ,ثلاثون ,والثلاثة ,الثلاثين ,بالثلاث"
      ],
      "text/plain": [
       "<IPython.core.display.Markdown object>"
      ]
     },
     "metadata": {},
     "output_type": "display_data"
    },
    {
     "data": {
      "text/markdown": [
       "**نصف**: نصف ,النصف ,نصفه ,نصفين ,نصفها ,بالنصف ,والنصف ,نصفان ,نصفا ,للنصف"
      ],
      "text/plain": [
       "<IPython.core.display.Markdown object>"
      ]
     },
     "metadata": {},
     "output_type": "display_data"
    },
    {
     "data": {
      "text/markdown": [
       "**عشر**: عشرة ,عشر ,عشرين ,العشرة ,العشر ,عشرون ,عشرا ,العشرين ,والعشرين ,والعشر"
      ],
      "text/plain": [
       "<IPython.core.display.Markdown object>"
      ]
     },
     "metadata": {},
     "output_type": "display_data"
    },
    {
     "data": {
      "text/markdown": [
       "**ام**: أما ,أم ,إما ,الأمة ,أمة ,الأم ,أمه ,أمته ,أمين ,والأمة"
      ],
      "text/plain": [
       "<IPython.core.display.Markdown object>"
      ]
     },
     "metadata": {},
     "output_type": "display_data"
    },
    {
     "data": {
      "text/markdown": [
       "**مال**: مال ,المال ,ماله ,مالا ,بالمال ,والمال ,مالي ,المالية ,للمال ,مالها"
      ],
      "text/plain": [
       "<IPython.core.display.Markdown object>"
      ]
     },
     "metadata": {},
     "output_type": "display_data"
    },
    {
     "data": {
      "text/markdown": [
       "**اب**: أبي ,أبيه ,أبا ,الأب ,أبى ,أبوه ,أب ,للأب ,ابنا ,والأب"
      ],
      "text/plain": [
       "<IPython.core.display.Markdown object>"
      ]
     },
     "metadata": {},
     "output_type": "display_data"
    },
    {
     "data": {
      "text/markdown": [
       "**وص**: الوصية ,وصية ,الوصي ,والوصية ,وصي ,والوصي ,بالوصية ,وصيه ,وأوصى ,وصى"
      ],
      "text/plain": [
       "<IPython.core.display.Markdown object>"
      ]
     },
     "metadata": {},
     "output_type": "display_data"
    },
    {
     "data": {
      "text/markdown": [
       "**ثلث**: الثلث ,ثلث ,ثلثه ,ثلثا ,ثلثي ,الثلثين ,بالثلث ,والثلث ,الثلثان ,ثلثها"
      ],
      "text/plain": [
       "<IPython.core.display.Markdown object>"
      ]
     },
     "metadata": {},
     "output_type": "display_data"
    },
    {
     "name": "stdout",
     "output_type": "stream",
     "text": [
      "\n",
      "\n",
      "Topic 18\n"
     ]
    },
    {
     "data": {
      "text/markdown": [
       "**نذر**: نذر ,النذر ,بالنذر ,نذره ,والنذر ,نذرا ,نذرها ,للنذر ,فالنذر ,وأنذر"
      ],
      "text/plain": [
       "<IPython.core.display.Markdown object>"
      ]
     },
     "metadata": {},
     "output_type": "display_data"
    },
    {
     "data": {
      "text/markdown": [
       "**يحنث**: يحنث ,يحنثه ,يحنثان ,يحنثوا ,يحنثون ,لايحنث ,يحنثا ,يحنثها"
      ],
      "text/plain": [
       "<IPython.core.display.Markdown object>"
      ]
     },
     "metadata": {},
     "output_type": "display_data"
    },
    {
     "data": {
      "text/markdown": [
       "**اذ**: إذا ,إذ ,الأذان ,الأذى ,أذى ,اذا ,إذنا ,أذان ,يتأذى ,بماذا"
      ],
      "text/plain": [
       "<IPython.core.display.Markdown object>"
      ]
     },
     "metadata": {},
     "output_type": "display_data"
    },
    {
     "data": {
      "text/markdown": [
       "**حنث**: حنث ,الحنث ,حنثه ,فيحنث ,بالحنث ,والحنث ,ويحنث ,للحنث ,حنثا ,فالحنث"
      ],
      "text/plain": [
       "<IPython.core.display.Markdown object>"
      ]
     },
     "metadata": {},
     "output_type": "display_data"
    },
    {
     "data": {
      "text/markdown": [
       "**يم**: اليمين ,يمين ,واليمين ,باليمين ,يتيم ,لليمين ,فاليمين ,وأيما ,يتيما ,اليمان"
      ],
      "text/plain": [
       "<IPython.core.display.Markdown object>"
      ]
     },
     "metadata": {},
     "output_type": "display_data"
    },
    {
     "data": {
      "text/markdown": [
       "**ول**: ولا ,وله ,ولأن ,ولي ,الولي ,ولها ,ولنا ,وليه ,وأولى ,ولهم"
      ],
      "text/plain": [
       "<IPython.core.display.Markdown object>"
      ]
     },
     "metadata": {},
     "output_type": "display_data"
    },
    {
     "data": {
      "text/markdown": [
       "**حلف**: حلف ,الحلف ,ويحلف ,فيحلف ,حلفه ,حلفا ,بالحلف ,حلفوا ,والحلف ,ليحلف"
      ],
      "text/plain": [
       "<IPython.core.display.Markdown object>"
      ]
     },
     "metadata": {},
     "output_type": "display_data"
    },
    {
     "data": {
      "text/markdown": [
       "**يوم**: يوم ,اليوم ,يوما ,يومين ,يومه ,واليوم ,اليومين ,يومها ,باليوم ,يومنا"
      ],
      "text/plain": [
       "<IPython.core.display.Markdown object>"
      ]
     },
     "metadata": {},
     "output_type": "display_data"
    },
    {
     "data": {
      "text/markdown": [
       "**كفار**: كفارة ,الكفارة ,الكفار ,والكفارة ,الكفارات ,كفار ,بالكفارة ,كفارته ,والكفارات ,كفارات"
      ],
      "text/plain": [
       "<IPython.core.display.Markdown object>"
      ]
     },
     "metadata": {},
     "output_type": "display_data"
    },
    {
     "data": {
      "text/markdown": [
       "**صوم**: الصوم ,صوم ,والصوم ,بالصوم ,صومه ,صوما ,للصوم ,صومها ,ويصوم ,فيصوم"
      ],
      "text/plain": [
       "<IPython.core.display.Markdown object>"
      ]
     },
     "metadata": {},
     "output_type": "display_data"
    },
    {
     "name": "stdout",
     "output_type": "stream",
     "text": [
      "\n",
      "\n",
      "Topic 19\n"
     ]
    },
    {
     "data": {
      "text/markdown": [
       "**مول**: المولى ,مولى ,للمولى ,والمولى ,المولي ,موليه ,يتمول ,متمول ,فالمولى ,بالمولى"
      ],
      "text/plain": [
       "<IPython.core.display.Markdown object>"
      ]
     },
     "metadata": {},
     "output_type": "display_data"
    },
    {
     "data": {
      "text/markdown": [
       "**مكاتب**: المكاتب ,والمكاتب ,مكاتب ,مكاتبا ,المكاتبة ,مكاتبه ,مكاتبة ,للمكاتب ,مكاتبته ,والمكاتبة"
      ],
      "text/plain": [
       "<IPython.core.display.Markdown object>"
      ]
     },
     "metadata": {},
     "output_type": "display_data"
    },
    {
     "data": {
      "text/markdown": [
       "**قيم**: قيمة ,قيمته ,القيمة ,بالقيمة ,والقيمة ,القيم ,ويقيم ,قيم ,فالقيمة ,فيقيم"
      ],
      "text/plain": [
       "<IPython.core.display.Markdown object>"
      ]
     },
     "metadata": {},
     "output_type": "display_data"
    },
    {
     "data": {
      "text/markdown": [
       "**ملك**: ملك ,الملك ,ملكه ,ملكا ,ملكها ,بالملك ,والملك ,للملك ,ملكهم ,فيملك"
      ],
      "text/plain": [
       "<IPython.core.display.Markdown object>"
      ]
     },
     "metadata": {},
     "output_type": "display_data"
    },
    {
     "data": {
      "text/markdown": [
       "**حر**: حر ,الحر ,حرا ,حرة ,الحرية ,الحرة ,والحرية ,حرية ,والحر ,بالحرية"
      ],
      "text/plain": [
       "<IPython.core.display.Markdown object>"
      ]
     },
     "metadata": {},
     "output_type": "display_data"
    },
    {
     "data": {
      "text/markdown": [
       "**ام**: أما ,أم ,إما ,الأمة ,أمة ,الأم ,أمه ,أمته ,أمين ,والأمة"
      ],
      "text/plain": [
       "<IPython.core.display.Markdown object>"
      ]
     },
     "metadata": {},
     "output_type": "display_data"
    },
    {
     "data": {
      "text/markdown": [
       "**ول**: ولا ,وله ,ولأن ,ولي ,الولي ,ولها ,ولنا ,وليه ,وأولى ,ولهم"
      ],
      "text/plain": [
       "<IPython.core.display.Markdown object>"
      ]
     },
     "metadata": {},
     "output_type": "display_data"
    },
    {
     "data": {
      "text/markdown": [
       "**مال**: مال ,المال ,ماله ,مالا ,بالمال ,والمال ,مالي ,المالية ,للمال ,مالها"
      ],
      "text/plain": [
       "<IPython.core.display.Markdown object>"
      ]
     },
     "metadata": {},
     "output_type": "display_data"
    },
    {
     "data": {
      "text/markdown": [
       "**ولد**: الولد ,ولد ,ولده ,ولدها ,ولدا ,والولد ,للولد ,بالولد ,ولدته ,فالولد"
      ],
      "text/plain": [
       "<IPython.core.display.Markdown object>"
      ]
     },
     "metadata": {},
     "output_type": "display_data"
    },
    {
     "data": {
      "text/markdown": [
       "**عتق**: العتق ,عتق ,عتقه ,بالعتق ,والعتق ,ويعتق ,فيعتق ,عتقها ,فأعتقه ,عتقا"
      ],
      "text/plain": [
       "<IPython.core.display.Markdown object>"
      ]
     },
     "metadata": {},
     "output_type": "display_data"
    },
    {
     "name": "stdout",
     "output_type": "stream",
     "text": [
      "\n",
      "\n"
     ]
    }
   ],
   "source": [
    "# Print the words per stem, per topic\n",
    "from IPython.display import Markdown, display\n",
    "for topic in topics.index:\n",
    "    print('Topic {}'.format(topic))\n",
    "    for stem in topics.loc[topic]:\n",
    "        words = results[stem]\n",
    "        words_frequent = pd.Series(words).sort_values(ascending=False).head(10).index\n",
    "        display(Markdown('**'+stem+'**: '+ ' ,'.join(words_frequent) ))\n",
    "    print('\\n')"
   ]
  },
  {
   "cell_type": "code",
   "execution_count": null,
   "metadata": {},
   "outputs": [],
   "source": []
  }
 ],
 "metadata": {
  "kernelspec": {
   "display_name": "Python [conda env:adh]",
   "language": "python",
   "name": "conda-env-adh-py"
  },
  "language_info": {
   "codemirror_mode": {
    "name": "ipython",
    "version": 3
   },
   "file_extension": ".py",
   "mimetype": "text/x-python",
   "name": "python",
   "nbconvert_exporter": "python",
   "pygments_lexer": "ipython3",
   "version": "3.7.0"
  }
 },
 "nbformat": 4,
 "nbformat_minor": 2
}
