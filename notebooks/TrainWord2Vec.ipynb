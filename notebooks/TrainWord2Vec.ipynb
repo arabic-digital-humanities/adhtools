{
 "cells": [
  {
   "cell_type": "code",
   "execution_count": null,
   "metadata": {},
   "outputs": [],
   "source": [
    "import os\n",
    "import gensim\n",
    "import re"
   ]
  },
  {
   "cell_type": "code",
   "execution_count": null,
   "metadata": {},
   "outputs": [],
   "source": [
    "model_path = '/media/sf_VBox_Shared/Arabic/wordembedding'\n",
    "corpus_path = '/media/sf_VBox_Shared/Arabic/Fiqh/plaintext/'"
   ]
  },
  {
   "cell_type": "code",
   "execution_count": null,
   "metadata": {},
   "outputs": [],
   "source": [
    "def normalize_arabic(text):\n",
    "    # Remove non-arabic characters\n",
    "    nonarab_chars = '[^\\u0621-\\u064A ]'\n",
    "    text = re.sub(nonarab_chars, '', text)\n",
    "    text = text.strip()\n",
    "    return text\n",
    "\n",
    "class CorpusArabic(object):\n",
    "    def __init__(self, dirname):\n",
    "        self.dirname = dirname\n",
    " \n",
    "    def __iter__(self):\n",
    "        for fname in os.listdir(self.dirname):\n",
    "            for line in open(os.path.join(self.dirname, fname)):\n",
    "                words = [normalize_arabic(w) for w in line.split(' ')]\n",
    "                words = [w for w in words if len(w)>0]\n",
    "                if not len(words)==0:\n",
    "                    yield words"
   ]
  },
  {
   "cell_type": "markdown",
   "metadata": {},
   "source": [
    "## Finetune existing model"
   ]
  },
  {
   "cell_type": "code",
   "execution_count": null,
   "metadata": {},
   "outputs": [],
   "source": [
    "model_original = gensim.models.Word2Vec.load(os.path.join(model_path, 'wikipedia_cbow_100'))"
   ]
  },
  {
   "cell_type": "code",
   "execution_count": null,
   "metadata": {},
   "outputs": [],
   "source": [
    "corpus = CorpusArabic(corpus_path)\n",
    "model_original.train(corpus, total_examples=model_original.corpus_count, epochs=5)"
   ]
  },
  {
   "cell_type": "code",
   "execution_count": null,
   "metadata": {},
   "outputs": [],
   "source": [
    "model_original.save(os.path.join(model_path, 'wikipedia_cbow_100_finetuned'))"
   ]
  },
  {
   "cell_type": "code",
   "execution_count": null,
   "metadata": {},
   "outputs": [],
   "source": [
    "# Save vectors\n",
    "model_original.wv.save(os.path.join(model_path, 'wikipedia_cbow_100_finetuned_wv'))"
   ]
  },
  {
   "cell_type": "markdown",
   "metadata": {},
   "source": [
    "## Train original model"
   ]
  },
  {
   "cell_type": "code",
   "execution_count": null,
   "metadata": {},
   "outputs": [],
   "source": [
    "model_custom = gensim.models.word2vec.Word2Vec(\n",
    "    iter=10,\n",
    "    size=100, \n",
    "    window=5,\n",
    "    sg=0)"
   ]
  },
  {
   "cell_type": "code",
   "execution_count": null,
   "metadata": {},
   "outputs": [],
   "source": [
    "corpus = CorpusArabic(corpus_path)"
   ]
  },
  {
   "cell_type": "code",
   "execution_count": null,
   "metadata": {},
   "outputs": [],
   "source": [
    "#model_custom_w.reset_from(model_original)\n",
    "model_custom.build_vocab(corpus)"
   ]
  },
  {
   "cell_type": "code",
   "execution_count": null,
   "metadata": {},
   "outputs": [],
   "source": [
    "model_custom.train(corpus, \n",
    "                   model_custom.epochs, \n",
    "                   epochs=model_custom.epochs,\n",
    "                   total_examples=model_custom.corpus_count)"
   ]
  },
  {
   "cell_type": "code",
   "execution_count": null,
   "metadata": {},
   "outputs": [],
   "source": [
    "fname = 'fiqh-i{}-s{}-w{}-sg{}'.format(\n",
    "    model_custom.epochs, \n",
    "    model_custom.vector_size,\n",
    "    model_custom.window,\n",
    "    model_custom.sg)"
   ]
  },
  {
   "cell_type": "code",
   "execution_count": null,
   "metadata": {},
   "outputs": [],
   "source": [
    "model_custom.save(os.path.join(model_path, fname))\n",
    "model_original.wv.save(os.path.join(model_path, fname+'_wv'))"
   ]
  },
  {
   "cell_type": "code",
   "execution_count": null,
   "metadata": {},
   "outputs": [],
   "source": []
  }
 ],
 "metadata": {
  "language_info": {
   "name": "python",
   "pygments_lexer": "ipython3"
  }
 },
 "nbformat": 4,
 "nbformat_minor": 2
}
