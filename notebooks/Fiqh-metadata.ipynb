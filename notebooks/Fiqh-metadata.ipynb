{
 "cells": [
  {
   "cell_type": "code",
   "execution_count": null,
   "metadata": {},
   "outputs": [],
   "source": [
    "import os\n",
    "import pandas as pd"
   ]
  },
  {
   "cell_type": "code",
   "execution_count": null,
   "metadata": {},
   "outputs": [],
   "source": [
    "filepath = '/media/sf_VBox_Shared/Arabic/Fiqh/2018-04-24-Fiqh/'"
   ]
  },
  {
   "cell_type": "code",
   "execution_count": null,
   "metadata": {},
   "outputs": [],
   "source": [
    "filename = os.path.join(filepath, 'Fiqh', 'Fiqh1.txt')"
   ]
  },
  {
   "cell_type": "code",
   "execution_count": null,
   "metadata": {},
   "outputs": [],
   "source": [
    "metadata_dict = {}\n",
    "\n",
    "for filename in os.listdir( os.path.join(filepath, 'Fiqh')):\n",
    "    with open(os.path.join(filepath, 'Fiqh', filename)) as f:\n",
    "        metadata = {}\n",
    "        for line in f.readlines():\n",
    "            # TODO: metadata is sometimes inconsistent, (missing # before META,\n",
    "            # and fields not separated by :: but single :)\n",
    "            if line.startswith('#META#'):\n",
    "                splitted = line.split(u'::')\n",
    "                if(len(splitted)==2):\n",
    "                    name, value = line.split(u'::')\n",
    "\n",
    "                    value = value.strip()\n",
    "                    name = name.strip()\n",
    "\n",
    "                    # only save metadata that has a value\n",
    "                    #if value != 'NODATA':\n",
    "                    _, name = name.split(u' ', 1)\n",
    "                    name = name.replace(u' ', u'_')\n",
    "                    # remove left to right mark\n",
    "                    name = name.replace(u\"\\u200F\", u'')\n",
    "                    name = name.split(u'.')[-1]\n",
    "                    metadata[name] = value\n",
    "        metadata_dict[filename] = metadata"
   ]
  },
  {
   "cell_type": "code",
   "execution_count": null,
   "metadata": {},
   "outputs": [],
   "source": [
    "metadata_df = pd.DataFrame.from_dict(metadata_dict, orient='index')"
   ]
  },
  {
   "cell_type": "code",
   "execution_count": null,
   "metadata": {},
   "outputs": [],
   "source": [
    "metadata_df.index.name = 'filename'"
   ]
  },
  {
   "cell_type": "code",
   "execution_count": null,
   "metadata": {},
   "outputs": [],
   "source": [
    "metadata_df.to_csv(os.path.join(filepath, 'metadata-from-files.csv'))"
   ]
  },
  {
   "cell_type": "code",
   "execution_count": null,
   "metadata": {},
   "outputs": [],
   "source": [
    "metadata_df.info()"
   ]
  },
  {
   "cell_type": "code",
   "execution_count": null,
   "metadata": {},
   "outputs": [],
   "source": [
    "sorted(metadata_df.columns)"
   ]
  },
  {
   "cell_type": "code",
   "execution_count": null,
   "metadata": {},
   "outputs": [],
   "source": []
  }
 ],
 "metadata": {
  "language_info": {
   "name": "python",
   "pygments_lexer": "ipython3"
  }
 },
 "nbformat": 4,
 "nbformat_minor": 2
}
