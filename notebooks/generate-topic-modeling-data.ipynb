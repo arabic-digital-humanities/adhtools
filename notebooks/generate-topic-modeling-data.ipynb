{
 "cells": [
  {
   "cell_type": "code",
   "execution_count": null,
   "metadata": {},
   "outputs": [],
   "source": [
    "%load_ext autoreload\n",
    "%autoreload 2"
   ]
  },
  {
   "cell_type": "code",
   "execution_count": null,
   "metadata": {},
   "outputs": [],
   "source": [
    "%%time\n",
    "import os\n",
    "import codecs\n",
    "from lxml import etree\n",
    "\n",
    "from nlppln.utils import get_files, out_file_name, remove_ext\n",
    "\n",
    "in_dir = '/home/jvdzwaan/data/tmp/adh/stemmer/'\n",
    "in_files = get_files(in_dir, recursive=True)\n",
    "\n",
    "#print(in_files)\n",
    "\n",
    "out_file = '/home/jvdzwaan/data/tmp/adh/topics/txt/fiqh.txt'\n",
    "with codecs.open(out_file, 'w', encoding='utf-8') as f:\n",
    "    for fi in in_files:\n",
    "        #print(fi)\n",
    "        book = os.path.basename(fi).split('-')[0]\n",
    "        doc_id = remove_ext(os.path.basename(fi))\n",
    "        words = []\n",
    "        context = etree.iterparse(fi, events=('end', ), tag=('word'))\n",
    "        for event, elem in context:\n",
    "            words.append(elem.attrib['value'])\n",
    "        del context\n",
    "    \n",
    "        f.write(doc_id)\n",
    "        f.write(u'\\t')\n",
    "        f.write(book)\n",
    "        f.write(u'\\t')\n",
    "        f.write(u' '.join(words))\n",
    "        f.write(u'\\n')\n",
    "        \n",
    "# the resulting file can be read into mallet using mallet import-file"
   ]
  }
 ],
 "metadata": {
  "language_info": {
   "name": "python",
   "pygments_lexer": "ipython3"
  }
 },
 "nbformat": 4,
 "nbformat_minor": 2
}
