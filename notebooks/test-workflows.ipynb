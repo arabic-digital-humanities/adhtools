{
 "cells": [
  {
   "cell_type": "code",
   "execution_count": null,
   "metadata": {},
   "outputs": [],
   "source": [
    "from nlppln import WorkflowGenerator\n",
    "cwl_working_dir = '/home/dafne/cwl-working-dir/'"
   ]
  },
  {
   "cell_type": "code",
   "execution_count": null,
   "metadata": {},
   "outputs": [],
   "source": [
    "with WorkflowGenerator(working_dir=cwl_working_dir) as wf:\n",
    "    wf.load(steps_dir='../adhtools/cwl/')\n",
    "    wf.load(steps_dir='../java/cwl/')\n",
    "    print(wf.list_steps())\n",
    "    \n",
    "    tarfile = wf.add_input(tarfile='File')\n",
    "    out_name = wf.add_input(out_name='string')\n",
    "    \n",
    "    untarred_dir = wf.untar(tarfile=tarfile)\n",
    "    tar_out = wf.tar_compress(tarfile=out_name, in_dir=untarred_dir)\n",
    "    \n",
    "    wf.add_outputs(tar_out=tar_out)\n",
    "    wf.save('../adhtools/cwl/untar-tar.cwl', wd=True, relative=False)"
   ]
  },
  {
   "cell_type": "code",
   "execution_count": null,
   "metadata": {},
   "outputs": [],
   "source": []
  }
 ],
 "metadata": {
  "language_info": {
   "name": "python",
   "pygments_lexer": "ipython3"
  }
 },
 "nbformat": 4,
 "nbformat_minor": 2
}
