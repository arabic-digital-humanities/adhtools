{
 "cells": [
  {
   "cell_type": "code",
   "execution_count": null,
   "metadata": {},
   "outputs": [],
   "source": [
    "# workflow for single book\n",
    "from nlppln import WorkflowGenerator\n",
    "\n",
    "with WorkflowGenerator(working_dir='/home/jvdzwaan/cwl-working-dir/') as wf:\n",
    "    wf.load(steps_dir='../adhtools/cwl/')\n",
    "    wf.load(steps_dir='../java/cwl/')\n",
    "    \n",
    "    print wf.list_steps()\n",
    "    analyzer = wf.add_input(analyzer='string', default='Alkhalil')\n",
    "    book = wf.add_input(book='File')\n",
    "    cp = wf.add_input(cp='string')\n",
    "    \n",
    "    metadata, txt_dir = wf.txt2safar_input(in_file=book)\n",
    "    analyzed = wf.SafarAnalyze(in_dir=txt_dir, analyzer=analyzer, cp=cp)\n",
    "    to_index = wf.safar_add_metadata(in_files=analyzed, meta_in=metadata)\n",
    "    \n",
    "    #wf.add_outputs(analyzed=analyzed)\n",
    "    wf.add_outputs(to_index=to_index)\n",
    "    \n",
    "    wf.save('../adhtools/cwl/process.cwl', wd=True, relative=False)\n",
    "    \n",
    "    # select txt files -> ls?\n",
    "    # divide and extract metadata -> safar2text_and_metadata\n",
    "    # save to dir -> save_to_dir\n",
    "    # safar analyze -> SafarAnalyze.java -> maak dat ie uit dir leest\n",
    "    # add metadata -> safar_add_metadata\n",
    "    # index with blacklab"
   ]
  }
 ],
 "metadata": {
  "language_info": {
   "name": "python",
   "pygments_lexer": "ipython3"
  }
 },
 "nbformat": 4,
 "nbformat_minor": 2
}
