{
 "cells": [
  {
   "cell_type": "code",
   "execution_count": null,
   "metadata": {},
   "outputs": [],
   "source": [
    "%load_ext autoreload\n",
    "%autoreload 2"
   ]
  },
  {
   "cell_type": "code",
   "execution_count": null,
   "metadata": {},
   "outputs": [],
   "source": [
    "%matplotlib inline\n",
    "\n",
    "import numpy as np\n",
    "import pandas as pd\n",
    "import matplotlib.pyplot as plt"
   ]
  },
  {
   "cell_type": "code",
   "execution_count": null,
   "metadata": {},
   "outputs": [],
   "source": [
    "%%time\n",
    "# load analysed words\n",
    "analysed_words = pd.read_csv('/home/jvdzwaan/data/tmp/adh/merged/analysed_words.csv', encoding='utf-8')"
   ]
  },
  {
   "cell_type": "code",
   "execution_count": null,
   "metadata": {},
   "outputs": [],
   "source": [
    "analysed_words.head()"
   ]
  },
  {
   "cell_type": "code",
   "execution_count": null,
   "metadata": {},
   "outputs": [],
   "source": [
    "%%time\n",
    "# select a single book\n",
    "book = analysed_words[analysed_words['title'] == 'Fiqh2'].copy()"
   ]
  },
  {
   "cell_type": "code",
   "execution_count": null,
   "metadata": {},
   "outputs": [],
   "source": [
    "books = analysed_words.groupby('title')"
   ]
  },
  {
   "cell_type": "code",
   "execution_count": null,
   "metadata": {},
   "outputs": [],
   "source": [
    "book.shape"
   ]
  },
  {
   "cell_type": "code",
   "execution_count": null,
   "metadata": {},
   "outputs": [],
   "source": [
    "book.head()"
   ]
  },
  {
   "cell_type": "code",
   "execution_count": null,
   "metadata": {},
   "outputs": [],
   "source": [
    "senses_roots = list('''سمع\n",
    "بصر\n",
    "لمس\n",
    "شمم\n",
    "ذوق'''.split('\\n'))\n",
    "# select certain root\n",
    "root = senses_roots[0]"
   ]
  },
  {
   "cell_type": "code",
   "execution_count": null,
   "metadata": {},
   "outputs": [],
   "source": [
    "# number of words in book\n",
    "total_words = book.groupby(['file_name', 'position']).count().shape[0]"
   ]
  },
  {
   "cell_type": "code",
   "execution_count": null,
   "metadata": {},
   "outputs": [],
   "source": [
    "%%time\n",
    "\n",
    "\n",
    "res = []\n",
    "titles = []\n",
    "\n",
    "for title, book in books:\n",
    "    #print(title)\n",
    "    b = {}\n",
    "    total_words = book.groupby(['file_name', 'position']).count().shape[0]\n",
    "    for i, r in enumerate(senses_roots):\n",
    "        num = book[book['root'] == r].shape[0]\n",
    "        print(u'sense {} ({}): {} of {}'.format(i, r, num, total_words))\n",
    "        b['sense {}'.format(i)] = num\n",
    "    print(sum(b.values()))\n",
    "    b['total_words'] = total_words-sum(b.values())\n",
    "    res.append(b)\n",
    "    titles.append(title)\n",
    "data = pd.DataFrame(res, index=titles)\n",
    "data.head()"
   ]
  },
  {
   "cell_type": "code",
   "execution_count": null,
   "metadata": {},
   "outputs": [],
   "source": [
    "data.head()"
   ]
  },
  {
   "cell_type": "code",
   "execution_count": null,
   "metadata": {},
   "outputs": [],
   "source": [
    "data.columns = ['hear', 'see', 'touch', 'smell', 'taste', 'total_words']"
   ]
  },
  {
   "cell_type": "code",
   "execution_count": null,
   "metadata": {},
   "outputs": [],
   "source": [
    "data.plot.barh(figsize=(15,10), stacked=True)"
   ]
  },
  {
   "cell_type": "code",
   "execution_count": null,
   "metadata": {},
   "outputs": [],
   "source": [
    "data[['hear', 'see', 'touch', 'smell', 'taste']].plot.barh(figsize=(15,10), stacked=True)"
   ]
  },
  {
   "cell_type": "code",
   "execution_count": null,
   "metadata": {},
   "outputs": [],
   "source": [
    "query = {'hear': [], 'see': [], 'touch': [], 'smell': [], 'taste': []}\n",
    "query['hear'].append(senses_roots[0])\n",
    "query['see'].append(senses_roots[1])\n",
    "query['touch'].append(senses_roots[2])\n",
    "query['smell'].append(senses_roots[3])\n",
    "query['taste'].append(senses_roots[4])"
   ]
  },
  {
   "cell_type": "code",
   "execution_count": null,
   "metadata": {},
   "outputs": [],
   "source": [
    "query"
   ]
  },
  {
   "cell_type": "code",
   "execution_count": null,
   "metadata": {},
   "outputs": [],
   "source": [
    "query = {'hear': ['سمع', 'صوت', 'ضجج'],\n",
    " 'see': ['بصر', 'نظر', 'رأي'],\n",
    " 'touch': ['لمس', 'مسس', 'لصق'],\n",
    " 'smell': ['شمم', 'ريح', 'عطر'],\n",
    " 'taste': ['ذوق', 'طعم', 'لذذ']}\n",
    "query"
   ]
  },
  {
   "cell_type": "code",
   "execution_count": null,
   "metadata": {},
   "outputs": [],
   "source": [
    "senses = {'universe': ['كون']}"
   ]
  },
  {
   "cell_type": "code",
   "execution_count": null,
   "metadata": {},
   "outputs": [],
   "source": [
    "def match_roots(row, to_count):\n",
    "    #print(row)\n",
    "    roots = row['proposed_root'].split('\\\\')\n",
    "    overlap = set(roots).intersection(to_count)\n",
    "    if len(overlap) > 0:\n",
    "        return True\n",
    "    return False"
   ]
  },
  {
   "cell_type": "code",
   "execution_count": null,
   "metadata": {},
   "outputs": [],
   "source": [
    "senses = query\n",
    "senses"
   ]
  },
  {
   "cell_type": "code",
   "execution_count": null,
   "metadata": {},
   "outputs": [],
   "source": [
    "in_files = get_files(in_dir)\n",
    "print(in_files)"
   ]
  },
  {
   "cell_type": "code",
   "execution_count": null,
   "metadata": {},
   "outputs": [],
   "source": [
    "import os\n",
    "\n",
    "from tqdm import tqdm_notebook as tqdm\n",
    "\n",
    "from nlppln.utils import get_files\n",
    "\n",
    "from adhtools.utils import analyzer_xml2df\n",
    "\n",
    "in_dir = '/home/jvdzwaan/Downloads/2019-02-08-fiqh-newfiles-alkhalil/'\n",
    "\n",
    "in_files = get_files(in_dir)\n",
    "\n",
    "result = {}\n",
    "\n",
    "for in_file in tqdm(in_files):\n",
    "    df = analyzer_xml2df(in_file)\n",
    "    #print(df.columns)\n",
    "    res = {}\n",
    "    for name, s in senses.items():\n",
    "        to_count = set(s)\n",
    "        #print(name, s)\n",
    "        res[name] = df.apply(lambda row: match_roots(row, to_count), axis=1).sum()\n",
    "    res['total'] = df.shape[0]\n",
    "    #print(res)\n",
    "    file_id = os.path.splitext(os.path.basename(in_file))[0]\n",
    "    #print(file_id)\n",
    "    result[file_id] = res\n",
    "    #break\n",
    "alk = pd.DataFrame.from_dict(result, orient='index')\n",
    "alk"
   ]
  },
  {
   "cell_type": "code",
   "execution_count": null,
   "metadata": {},
   "outputs": [],
   "source": [
    "alk_dfs = []\n",
    "for in_file in tqdm(in_files):\n",
    "    df = analyzer_xml2df(in_file)\n",
    "    alk_dfs.append(df)"
   ]
  },
  {
   "cell_type": "code",
   "execution_count": null,
   "metadata": {},
   "outputs": [],
   "source": [
    "print(len(alk_dfs))"
   ]
  },
  {
   "cell_type": "code",
   "execution_count": null,
   "metadata": {},
   "outputs": [],
   "source": [
    "import pickle\n",
    "\n",
    "def pickle_obj(fname, obj):\n",
    "    with open(fname, 'wb') as f:\n",
    "        pickle.dump(obj, f)\n",
    "\n",
    "pickle_obj('alk_dfs.pkl', alk_dfs)"
   ]
  },
  {
   "cell_type": "code",
   "execution_count": null,
   "metadata": {},
   "outputs": [],
   "source": [
    "def save_dfs(dfs, fname):\n",
    "    for i, df in enumerate(dfs):\n",
    "        df.to_csv('{}-{}.csv'.format(fname, i))\n",
    "save_dfs(alk_dfs, 'alkhalil-fiqh')"
   ]
  },
  {
   "cell_type": "code",
   "execution_count": null,
   "metadata": {},
   "outputs": [],
   "source": []
  },
  {
   "cell_type": "code",
   "execution_count": null,
   "metadata": {},
   "outputs": [],
   "source": [
    "result = {}\n",
    "for df in tqdm(alk_dfs):\n",
    "    res = {}\n",
    "    for name, s in senses.items():\n",
    "        #print(name, s)\n",
    "        to_count = set(s)\n",
    "        res[name] = df.apply(lambda row: match_roots(row, to_count), axis=1).sum()\n",
    "    res['total'] = df.shape[0]\n",
    "    #print(res)\n",
    "    file_id = os.path.splitext(os.path.basename(in_file))[0]\n",
    "    #print(file_id)\n",
    "    result[file_id] = res\n",
    "    #break\n",
    "alk = pd.DataFrame.from_dict(result, orient='index')\n",
    "alk"
   ]
  },
  {
   "cell_type": "code",
   "execution_count": null,
   "metadata": {},
   "outputs": [],
   "source": [
    "alk.shape"
   ]
  },
  {
   "cell_type": "code",
   "execution_count": null,
   "metadata": {},
   "outputs": [],
   "source": []
  },
  {
   "cell_type": "code",
   "execution_count": null,
   "metadata": {},
   "outputs": [],
   "source": []
  },
  {
   "cell_type": "code",
   "execution_count": null,
   "metadata": {},
   "outputs": [],
   "source": [
    "alk.to_csv('senses-fiqh-0179-alkhalil.csv')"
   ]
  },
  {
   "cell_type": "code",
   "execution_count": null,
   "metadata": {},
   "outputs": [],
   "source": [
    "alk = pd.read_csv('senses-fiqh-new_files-alkhalil.csv')\n",
    "#alk = pd.read_csv('senses-single-fiqh-new_files-alkhalil.csv')\n",
    "alk = alk.rename(columns={'Unnamed: 0': 'BookURI'})\n",
    "alk = alk.set_index('BookURI')\n",
    "alk"
   ]
  },
  {
   "cell_type": "code",
   "execution_count": null,
   "metadata": {},
   "outputs": [],
   "source": [
    "senses"
   ]
  },
  {
   "cell_type": "code",
   "execution_count": null,
   "metadata": {},
   "outputs": [],
   "source": [
    "import os\n",
    "\n",
    "from tqdm import tqdm_notebook as tqdm\n",
    "\n",
    "from nlppln.utils import get_files\n",
    "\n",
    "from adhtools.utils import stemmer_xml2df\n",
    "\n",
    "in_dir = '/home/jvdzwaan/data/tmp/adh/20190325-fiqh-khoja/'\n",
    "\n",
    "in_files = get_files(in_dir)\n",
    "in_files = [in_files[0]]\n",
    "\n",
    "result = {}\n",
    "\n",
    "for in_file in tqdm(in_files):\n",
    "    df = stemmer_xml2df(in_file)\n",
    "    #print(df.columns)\n",
    "    res = {}\n",
    "    for name, s in senses.items():\n",
    "        #print(name, s)\n",
    "        df['match_{}'.format(name)] = df.apply(lambda row: match_roots(row, s), axis=1)\n",
    "        res[name] = df['match_{}'.format(name)].sum()\n",
    "    res['total'] = df.shape[0]\n",
    "    #print(res)\n",
    "    file_id = os.path.splitext(os.path.basename(in_file))[0]\n",
    "    #print(file_id)\n",
    "    result[file_id] = res\n",
    "    #break\n",
    "khod = pd.DataFrame.from_dict(result, orient='index')\n",
    "khod"
   ]
  },
  {
   "cell_type": "code",
   "execution_count": null,
   "metadata": {},
   "outputs": [],
   "source": [
    "khod.to_csv('senses-fiqh-0179-khoja.csv')"
   ]
  },
  {
   "cell_type": "code",
   "execution_count": null,
   "metadata": {},
   "outputs": [],
   "source": [
    "senses"
   ]
  },
  {
   "cell_type": "code",
   "execution_count": null,
   "metadata": {},
   "outputs": [],
   "source": [
    "import os\n",
    "\n",
    "from tqdm import tqdm_notebook as tqdm\n",
    "\n",
    "from nlppln.utils import get_files\n",
    "\n",
    "from adhtools.utils import stemmer_xml2df\n",
    "\n",
    "in_dir = '/home/jvdzwaan/data/tmp/adh/20190326-fiqh-isri/'\n",
    "\n",
    "in_files = get_files(in_dir)\n",
    "in_files = [in_files[0]]\n",
    "\n",
    "result = {}\n",
    "\n",
    "for in_file in tqdm(in_files):\n",
    "    df = stemmer_xml2df(in_file)\n",
    "    #print(df.columns)\n",
    "    res = {}\n",
    "    for name, s in senses.items():\n",
    "        #print(name, s)\n",
    "        df['match_{}'.format(name)] = df.apply(lambda row: match_roots(row, s), axis=1)\n",
    "        res[name] = df['match_{}'.format(name)].sum()\n",
    "    res['total'] = df.shape[0]\n",
    "    #print(res)\n",
    "    file_id = os.path.splitext(os.path.basename(in_file))[0]\n",
    "    #print(file_id)\n",
    "    result[file_id] = res\n",
    "    #break\n",
    "isri = pd.DataFrame.from_dict(result, orient='index')\n",
    "isri"
   ]
  },
  {
   "cell_type": "code",
   "execution_count": null,
   "metadata": {},
   "outputs": [],
   "source": [
    "isri.to_csv('senses-fiqh-0179-isri.csv')"
   ]
  },
  {
   "cell_type": "code",
   "execution_count": null,
   "metadata": {},
   "outputs": [],
   "source": [
    "khod = pd.read_csv('senses-fiqh-new_files-khoja.csv')\n",
    "khod = khod.rename(columns={'Unnamed: 0': 'BookURI'})\n",
    "khod = khod.set_index('BookURI')"
   ]
  },
  {
   "cell_type": "code",
   "execution_count": null,
   "metadata": {},
   "outputs": [],
   "source": [
    "khod"
   ]
  },
  {
   "cell_type": "code",
   "execution_count": null,
   "metadata": {},
   "outputs": [],
   "source": [
    "md_file = '/home/jvdzwaan/data/adh-corpora/fiqh_corpus/Meta/Metadata_Fiqh.csv'\n",
    "\n",
    "md = pd.read_csv(md_file, sep=';|,')\n",
    "print(md.columns)\n",
    "md = md.set_index('BookURI')\n",
    "md"
   ]
  },
  {
   "cell_type": "code",
   "execution_count": null,
   "metadata": {},
   "outputs": [],
   "source": [
    "khoja = pd.concat([khod.copy(), md.copy()], axis=1, sort=True)"
   ]
  },
  {
   "cell_type": "code",
   "execution_count": null,
   "metadata": {},
   "outputs": [],
   "source": [
    "khoja.columns"
   ]
  },
  {
   "cell_type": "code",
   "execution_count": null,
   "metadata": {},
   "outputs": [],
   "source": [
    "def set_schools(row):\n",
    "    if row['BookSUBJ'] == 'جعفري':\n",
    "        return 'Shi'\n",
    "    return 'Sun'\n",
    "\n",
    "\n",
    "khoja['school'] = khoja.apply(lambda row: set_schools(row), axis=1)"
   ]
  },
  {
   "cell_type": "code",
   "execution_count": null,
   "metadata": {},
   "outputs": [],
   "source": [
    "k_s = khoja.groupby('school').sum()[['hear', 'see', 'touch', 'smell', 'taste', 'total']].T\n",
    "k_s"
   ]
  },
  {
   "cell_type": "code",
   "execution_count": null,
   "metadata": {},
   "outputs": [],
   "source": []
  },
  {
   "cell_type": "code",
   "execution_count": null,
   "metadata": {},
   "outputs": [],
   "source": [
    "shii_total = k_s.loc['total', 'Shi']\n",
    "print(shii_total)\n",
    "k_s['Shi\\'i'] = k_s['Shi']/shii_total *100.0"
   ]
  },
  {
   "cell_type": "code",
   "execution_count": null,
   "metadata": {},
   "outputs": [],
   "source": [
    "sunni_total = k_s.loc['total', 'Sun']\n",
    "print(sunni_total)\n",
    "k_s['Sunni'] = k_s['Sun']/sunni_total *100.0"
   ]
  },
  {
   "cell_type": "code",
   "execution_count": null,
   "metadata": {},
   "outputs": [],
   "source": [
    "k_s"
   ]
  },
  {
   "cell_type": "code",
   "execution_count": null,
   "metadata": {},
   "outputs": [],
   "source": [
    "alkhalil = pd.concat([alk.copy(), md.copy()], axis=1, sort=True)\n",
    "alkhalil['school'] = alkhalil.apply(lambda row: set_schools(row), axis=1)\n",
    "alkhalil"
   ]
  },
  {
   "cell_type": "code",
   "execution_count": null,
   "metadata": {},
   "outputs": [],
   "source": [
    "a_s = alkhalil.groupby('school').sum()[['hear', 'see', 'touch', 'smell', 'taste', 'total']].T\n",
    "a_s"
   ]
  },
  {
   "cell_type": "code",
   "execution_count": null,
   "metadata": {},
   "outputs": [],
   "source": [
    "shii_total = a_s.loc['total', 'Shi']\n",
    "print(shii_total)\n",
    "a_s['Shi\\'i'] = a_s['Shi']/shii_total *100.0\n",
    "sunni_total = a_s.loc['total', 'Sun']\n",
    "print(sunni_total)\n",
    "a_s['Sunni'] = a_s['Sun']/sunni_total *100.0\n",
    "a_s"
   ]
  },
  {
   "cell_type": "code",
   "execution_count": null,
   "metadata": {},
   "outputs": [],
   "source": [
    "k_s"
   ]
  },
  {
   "cell_type": "code",
   "execution_count": null,
   "metadata": {},
   "outputs": [],
   "source": [
    "k_s[['Shi\\'i', 'Sunni']].drop(k_s[['Shi\\'i', 'Sunni']].tail(1).index).plot(kind='bar', figsize=(7,5), fontsize=12)\n",
    "plt.legend(fontsize=12)"
   ]
  },
  {
   "cell_type": "code",
   "execution_count": null,
   "metadata": {},
   "outputs": [],
   "source": [
    "a_s[['Shi\\'i', 'Sunni']].drop(a_s[['Shi\\'i', 'Sunni']].tail(1).index).plot(kind='bar', figsize=(7,5), fontsize=12)\n",
    "plt.legend(fontsize=12)"
   ]
  },
  {
   "cell_type": "code",
   "execution_count": null,
   "metadata": {},
   "outputs": [],
   "source": [
    "isr = pd.read_csv('senses-fiqh-new_files-isri.csv')\n",
    "isr = isr.rename(columns={'Unnamed: 0': 'BookURI'})\n",
    "isr = isr.set_index('BookURI')\n",
    "\n",
    "isri = pd.concat([isr.copy(), md.copy()], axis=1, sort=True)\n",
    "isri['school'] = isri.apply(lambda row: set_schools(row), axis=1)\n",
    "isri"
   ]
  },
  {
   "cell_type": "code",
   "execution_count": null,
   "metadata": {},
   "outputs": [],
   "source": [
    "i_s = isri.groupby('school').sum()[['hear', 'see', 'touch', 'smell', 'taste', 'total']].T\n",
    "shii_total = i_s.loc['total', 'Shi']\n",
    "print(shii_total)\n",
    "i_s['Shi\\'i'] = i_s['Shi']/shii_total *100.0\n",
    "sunni_total = i_s.loc['total', 'Sun']\n",
    "print(sunni_total)\n",
    "i_s['Sunni'] = i_s['Sun']/sunni_total *100.0\n",
    "i_s"
   ]
  },
  {
   "cell_type": "code",
   "execution_count": null,
   "metadata": {},
   "outputs": [],
   "source": [
    "i_s[['Shi\\'i', 'Sunni']].drop(i_s[['Shi\\'i', 'Sunni']].tail(1).index).plot(kind='bar', figsize=(7,5), fontsize=12)\n",
    "plt.legend(fontsize=12)"
   ]
  },
  {
   "cell_type": "code",
   "execution_count": null,
   "metadata": {},
   "outputs": [],
   "source": [
    "a_s2 = alkhalil.groupby('BookSUBJ').sum()[['hear', 'see', 'touch', 'smell', 'taste', 'total']].T\n",
    "a_s2"
   ]
  },
  {
   "cell_type": "code",
   "execution_count": null,
   "metadata": {},
   "outputs": [],
   "source": [
    "for c in a_s2.columns:\n",
    "    print(c)\n",
    "    c_total = a_s2.loc['total', c]\n",
    "    print(c_total)\n",
    "    a_s2['{} %'.format(c)] = a_s2[c]/c_total *100.0\n",
    "a_s2"
   ]
  },
  {
   "cell_type": "code",
   "execution_count": null,
   "metadata": {},
   "outputs": [],
   "source": [
    "k_s2 = khoja.groupby('BookSUBJ').sum()[['hear', 'see', 'touch', 'smell', 'taste', 'total']].T\n",
    "k_s2"
   ]
  },
  {
   "cell_type": "code",
   "execution_count": null,
   "metadata": {},
   "outputs": [],
   "source": [
    "cols = []\n",
    "for c in k_s2.columns:\n",
    "    print(c)\n",
    "    c_total = k_s2.loc['total', c]\n",
    "    print(c_total)\n",
    "    n = '{} %'.format(c)\n",
    "    cols.append(n)\n",
    "    k_s2[n] = k_s2[c]/c_total *100.0\n",
    "k_s2"
   ]
  },
  {
   "cell_type": "code",
   "execution_count": null,
   "metadata": {},
   "outputs": [],
   "source": [
    "a_s2[cols].drop(a_s2[cols].tail(1).index).plot(kind='bar')"
   ]
  },
  {
   "cell_type": "code",
   "execution_count": null,
   "metadata": {},
   "outputs": [],
   "source": [
    "k_s2[cols].drop(k_s2[cols].tail(1).index).plot(kind='bar')"
   ]
  },
  {
   "cell_type": "code",
   "execution_count": null,
   "metadata": {},
   "outputs": [],
   "source": [
    "%%time\n",
    "res = []\n",
    "titles = []\n",
    "\n",
    "for title, book in books:\n",
    "    #print(title)\n",
    "    b = {}\n",
    "    for i, roots in query.items():\n",
    "        num = book[book['root'].isin(roots)].shape[0]\n",
    "        #print(u'sense {} ({}): {} of {}'.format(i, r, num, total_words))\n",
    "        b[i] = num\n",
    "    total_words = book.groupby(['file_name', 'position']).count().shape[0]\n",
    "    b['other_words'] = total_words-sum(b.values)\n",
    "    res.append(b)\n",
    "    titles.append(title)\n",
    "data = pd.DataFrame(res, index=titles)"
   ]
  },
  {
   "cell_type": "code",
   "execution_count": null,
   "metadata": {},
   "outputs": [],
   "source": [
    "shii = 'شيعي'"
   ]
  }
 ],
 "metadata": {
  "language_info": {
   "name": "python",
   "pygments_lexer": "ipython3"
  }
 },
 "nbformat": 4,
 "nbformat_minor": 2
}
