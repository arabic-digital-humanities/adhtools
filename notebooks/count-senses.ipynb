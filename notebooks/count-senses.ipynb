{
 "cells": [
  {
   "cell_type": "code",
   "execution_count": null,
   "metadata": {},
   "outputs": [],
   "source": [
    "%load_ext autoreload\n",
    "%autoreload 2"
   ]
  },
  {
   "cell_type": "code",
   "execution_count": null,
   "metadata": {},
   "outputs": [],
   "source": [
    "%matplotlib inline\n",
    "\n",
    "import numpy as np\n",
    "import pandas as pd\n",
    "import matplotlib.pyplot as plt"
   ]
  },
  {
   "cell_type": "code",
   "execution_count": null,
   "metadata": {},
   "outputs": [],
   "source": [
    "%%time\n",
    "# load analysed words\n",
    "analysed_words = pd.read_csv('/home/jvdzwaan/data/tmp/adh/merged/analysed_words.csv', encoding='utf-8')"
   ]
  },
  {
   "cell_type": "code",
   "execution_count": null,
   "metadata": {},
   "outputs": [],
   "source": [
    "analysed_words.head()"
   ]
  },
  {
   "cell_type": "code",
   "execution_count": null,
   "metadata": {},
   "outputs": [],
   "source": [
    "%%time\n",
    "# select a single book\n",
    "book = analysed_words[analysed_words['title'] == 'Fiqh2'].copy()"
   ]
  },
  {
   "cell_type": "code",
   "execution_count": null,
   "metadata": {},
   "outputs": [],
   "source": [
    "books = analysed_words.groupby('title')"
   ]
  },
  {
   "cell_type": "code",
   "execution_count": null,
   "metadata": {},
   "outputs": [],
   "source": [
    "book.shape"
   ]
  },
  {
   "cell_type": "code",
   "execution_count": null,
   "metadata": {},
   "outputs": [],
   "source": [
    "book.head()"
   ]
  },
  {
   "cell_type": "code",
   "execution_count": null,
   "metadata": {},
   "outputs": [],
   "source": [
    "senses_roots = list('''سمع\n",
    "بصر\n",
    "لمس\n",
    "شمم\n",
    "ذوق'''.split('\\n'))\n",
    "# select certain root\n",
    "root = senses_roots[0]"
   ]
  },
  {
   "cell_type": "code",
   "execution_count": null,
   "metadata": {},
   "outputs": [],
   "source": [
    "# number of words in book\n",
    "total_words = book.groupby(['file_name', 'position']).count().shape[0]"
   ]
  },
  {
   "cell_type": "code",
   "execution_count": null,
   "metadata": {},
   "outputs": [],
   "source": [
    "%%time\n",
    "\n",
    "\n",
    "res = []\n",
    "titles = []\n",
    "\n",
    "for title, book in books:\n",
    "    #print(title)\n",
    "    b = {}\n",
    "    total_words = book.groupby(['file_name', 'position']).count().shape[0]\n",
    "    for i, r in enumerate(senses_roots):\n",
    "        num = book[book['root'] == r].shape[0]\n",
    "        print(u'sense {} ({}): {} of {}'.format(i, r, num, total_words))\n",
    "        b['sense {}'.format(i)] = num\n",
    "    print(sum(b.values()))\n",
    "    b['total_words'] = total_words-sum(b.values())\n",
    "    res.append(b)\n",
    "    titles.append(title)\n",
    "data = pd.DataFrame(res, index=titles)\n",
    "data.head()"
   ]
  },
  {
   "cell_type": "code",
   "execution_count": null,
   "metadata": {},
   "outputs": [],
   "source": [
    "data.head()"
   ]
  },
  {
   "cell_type": "code",
   "execution_count": null,
   "metadata": {},
   "outputs": [],
   "source": [
    "data.columns = ['hear', 'see', 'touch', 'smell', 'taste', 'total_words']"
   ]
  },
  {
   "cell_type": "code",
   "execution_count": null,
   "metadata": {},
   "outputs": [],
   "source": [
    "data.plot.barh(figsize=(15,10), stacked=True)"
   ]
  },
  {
   "cell_type": "code",
   "execution_count": null,
   "metadata": {},
   "outputs": [],
   "source": [
    "data[['hear', 'see', 'touch', 'smell', 'taste']].plot.barh(figsize=(15,10), stacked=True)"
   ]
  },
  {
   "cell_type": "code",
   "execution_count": null,
   "metadata": {},
   "outputs": [],
   "source": [
    "query = {'hear': [], 'see': [], 'touch': [], 'smell': [], 'taste': []}\n",
    "query['hear'].append(senses_roots[0])\n",
    "query['see'].append(senses_roots[1])\n",
    "query['touch'].append(senses_roots[2])\n",
    "query['smell'].append(senses_roots[3])\n",
    "query['taste'].append(senses_roots[4])"
   ]
  },
  {
   "cell_type": "code",
   "execution_count": null,
   "metadata": {},
   "outputs": [],
   "source": [
    "query"
   ]
  },
  {
   "cell_type": "code",
   "execution_count": null,
   "metadata": {},
   "outputs": [],
   "source": [
    "%%time\n",
    "res = []\n",
    "titles = []\n",
    "\n",
    "for title, book in books:\n",
    "    #print(title)\n",
    "    b = {}\n",
    "    for i, roots in query.items():\n",
    "        num = book[book['root'].isin(roots)].shape[0]\n",
    "        #print(u'sense {} ({}): {} of {}'.format(i, r, num, total_words))\n",
    "        b[i] = num\n",
    "    total_words = book.groupby(['file_name', 'position']).count().shape[0]\n",
    "    b['other_words'] = total_words-sum(b.values)\n",
    "    res.append(b)\n",
    "    titles.append(title)\n",
    "data = pd.DataFrame(res, index=titles)"
   ]
  }
 ],
 "metadata": {
  "language_info": {
   "name": "python",
   "pygments_lexer": "ipython3"
  }
 },
 "nbformat": 4,
 "nbformat_minor": 2
}
