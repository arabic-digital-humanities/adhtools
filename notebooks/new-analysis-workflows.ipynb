{
 "cells": [
  {
   "cell_type": "code",
   "execution_count": null,
   "metadata": {},
   "outputs": [],
   "source": [
    "%load_ext autoreload\n",
    "%autoreload 2"
   ]
  },
  {
   "cell_type": "code",
   "execution_count": null,
   "metadata": {},
   "outputs": [],
   "source": [
    "from nlppln import WorkflowGenerator\n",
    "#cwl_working_dir = '/home/dafne/cwl-working-dir/'\n",
    "cwl_working_dir = '/home/jvdzwaan/cwl-working-dir/'"
   ]
  },
  {
   "cell_type": "code",
   "execution_count": null,
   "metadata": {},
   "outputs": [],
   "source": [
    "with WorkflowGenerator(working_dir=cwl_working_dir) as wf:\n",
    "    wf.load(steps_dir='../adhtools/cwl/')\n",
    "    wf.load(steps_dir='../java/cwl/')\n",
    "    print(wf.list_steps())"
   ]
  },
  {
   "cell_type": "code",
   "execution_count": null,
   "metadata": {},
   "outputs": [],
   "source": [
    "# remove openiti metadata and divide a file in books/chapters \n",
    "\n",
    "with WorkflowGenerator(working_dir=cwl_working_dir) as wf:\n",
    "    wf.load(steps_dir='../adhtools/cwl/')\n",
    "    wf.load(steps_dir='../java/cwl/')\n",
    "    #print(wf.list_steps())\n",
    "    \n",
    "    txt_file = wf.add_input(txt_file='File')\n",
    "    regex = wf.add_input(regex='string[]', default=['### |', '### ||'])\n",
    "    chapter_dir_name = wf.add_input(dir_name='string?')\n",
    "    \n",
    "    txt_file = wf.openiti2txt(in_file=txt_file)\n",
    "    chapters = wf.split_text(in_file=txt_file, regex=regex)\n",
    "    wf.add_outputs(chapters=chapters)\n",
    "    \n",
    "    wf.save('../adhtools/cwl/split-books-chapters-file.cwl', wd=True, relative=False)    "
   ]
  },
  {
   "cell_type": "code",
   "execution_count": null,
   "metadata": {},
   "outputs": [],
   "source": [
    "# split books/chapters for a directory of text files\n",
    "with WorkflowGenerator(working_dir=cwl_working_dir) as wf:\n",
    "    wf.load(steps_dir='../adhtools/cwl/')\n",
    "    wf.load(steps_dir='../java/cwl/')\n",
    "    #print(wf.list_steps())\n",
    "    \n",
    "    in_dir = wf.add_input(in_dir='Directory')\n",
    "    regex = wf.add_input(regex='string[]', default=['### |', '### ||'])\n",
    "    \n",
    "    txt_files = wf.ls(in_dir=in_dir)\n",
    "    chapters = wf.split_books_chapters_file(txt_file=txt_files, regex=regex, \n",
    "                                            scatter='txt_file', scatter_method='dotproduct')\n",
    "    \n",
    "    wf.add_outputs(texts=chapters)\n",
    "    \n",
    "    wf.save('../adhtools/cwl/split-books-chapters-dir.cwl', wd=True, relative=False)"
   ]
  },
  {
   "cell_type": "code",
   "execution_count": null,
   "metadata": {},
   "outputs": [],
   "source": [
    "# analyze file (first split it into multiple smaller subfiles)\n",
    "with WorkflowGenerator(working_dir=cwl_working_dir) as wf:\n",
    "    wf.load(steps_dir='../adhtools/cwl/')\n",
    "    wf.load(steps_dir='../java/cwl/')\n",
    "    \n",
    "    analyzer = wf.add_input(analyzer='enum', symbols=['Alkhalil', 'BAMA'], default='Alkhalil')\n",
    "    txt_file = wf.add_input(txt_file='File')\n",
    "    metadata = wf.add_input(metadata='File')\n",
    "    cp = wf.add_input(cp='string')\n",
    "    split_regex_small = wf.add_input(split_regex_small='string[]', default=['Milestone300', '### |', '### ||'])\n",
    "        \n",
    "    txt_file = wf.openiti2txt(in_file=txt_file)\n",
    "    snippets = wf.split_text(in_file=txt_file, regex=split_regex_small)\n",
    "        \n",
    "    analyzed_files = wf.SafarAnalyze(in_files=snippets, analyzer=analyzer, cp=cp)\n",
    "    merged_file = wf.merge_safar_xml(in_files=analyzed_files)\n",
    "    #filtered_file = wf.safar_filter_analyses(in_file=merged_file)\n",
    "    \n",
    "    out_file = wf.safar_add_metadata_file(in_file=merged_file, in_file_meta=metadata)\n",
    "    \n",
    "    # Output is one xml file\n",
    "    wf.add_outputs(out_file=out_file)\n",
    "    \n",
    "    wf.save('../adhtools/cwl/safar-split-and-analyze-file-no-filtering.cwl', wd=True, relative=False)"
   ]
  },
  {
   "cell_type": "code",
   "execution_count": null,
   "metadata": {},
   "outputs": [],
   "source": [
    "# Split and analyze multiple books\n",
    "with WorkflowGenerator(working_dir=cwl_working_dir) as wf:\n",
    "    wf.load(steps_dir='../adhtools/cwl/')\n",
    "    wf.load(steps_dir='../java/cwl/')\n",
    "    \n",
    "    analyzer = wf.add_input(analyzer='enum', symbols=['Alkhalil', 'BAMA'], default='Alkhalil')\n",
    "    in_dir = wf.add_input(in_dir='Directory')\n",
    "    metadata = wf.add_input(metadata='File')\n",
    "    cp = wf.add_input(cp='string')\n",
    "    split_regex_small = wf.add_input(split_regex_small='string[]', default=['Milestone300', '### |', '### ||'])   \n",
    "    \n",
    "    books = wf.ls(in_dir=in_dir)\n",
    "    \n",
    "    safar_output = wf.safar_split_and_analyze_file(analyzer=analyzer, txt_file=books, cp=cp, \n",
    "                                                   split_regex_small=split_regex_small,\n",
    "                                                   metadata=metadata,\n",
    "                                                   scatter='txt_file', scatter_method='dotproduct')\n",
    "    \n",
    "    wf.add_outputs(safar_output=safar_output)\n",
    "    \n",
    "    wf.save('../adhtools/cwl/safar-split-and-analyze-dir.cwl', wd=True, relative=False)"
   ]
  },
  {
   "cell_type": "code",
   "execution_count": null,
   "metadata": {},
   "outputs": [],
   "source": [
    "# Split and stem single book (txt file)\n",
    "with WorkflowGenerator(working_dir=cwl_working_dir) as wf:\n",
    "    wf.load(steps_dir='../adhtools/cwl/')\n",
    "    wf.load(steps_dir='../java/cwl/')\n",
    "    \n",
    "    stemmer = wf.add_input(stemmer='enum', \n",
    "                           symbols=['KHOJA', 'LIGHT10', 'ISRI', 'MOTAZ', 'TASHAPHYNE'], \n",
    "                           default='LIGHT10')\n",
    "    in_file = wf.add_input(in_file='File')\n",
    "    metadata = wf.add_input(metadata='File')\n",
    "    regex = wf.add_input(regex='string[]', default=['### |', '### ||'])\n",
    "    cp = wf.add_input(cp='string')\n",
    "    \n",
    "    txt_file = wf.openiti2txt(in_file=in_file)\n",
    "    \n",
    "    snippets = wf.split_text(in_file=txt_file, regex=regex)\n",
    "        \n",
    "    stemmed_files = wf.SafarStem(in_files=snippets, stemmer=stemmer, cp=cp)\n",
    "    merged_file = wf.merge_safar_xml(in_files=stemmed_files)\n",
    "    out_file = wf.safar_add_metadata_file(in_file=merged_file, in_file_meta=metadata)\n",
    "\n",
    "    wf.add_outputs(out_file=out_file)\n",
    "    \n",
    "    wf.save('../adhtools/cwl/safar-split-and-stem-file.cwl', wd=True, relative=False)"
   ]
  },
  {
   "cell_type": "code",
   "execution_count": null,
   "metadata": {},
   "outputs": [],
   "source": [
    "# Split and stem single book (txt file)\n",
    "with WorkflowGenerator(working_dir=cwl_working_dir) as wf:\n",
    "    wf.load(steps_dir='../adhtools/cwl/')\n",
    "    wf.load(steps_dir='../java/cwl/')\n",
    "    \n",
    "    stemmer = wf.add_input(stemmer='enum', \n",
    "                           symbols=['KHOJA', 'LIGHT10', 'ISRI', 'MOTAZ', 'TASHAPHYNE'], \n",
    "                           default='LIGHT10')\n",
    "    in_dir = wf.add_input(in_dir='Directory')\n",
    "    metadata = wf.add_input(metadata='File')\n",
    "    regex = wf.add_input(regex='string[]', default=['### |', '### ||'])\n",
    "    cp = wf.add_input(cp='string')\n",
    "    \n",
    "    txt_files = wf.ls(in_dir=in_dir)\n",
    "    out_files = wf.safar_split_and_stem_file(in_file=txt_files, metadata=metadata, stemmer=stemmer, cp=cp,\n",
    "                                             scatter='in_file', scatter_method='dotproduct')\n",
    "\n",
    "    wf.add_outputs(out_files=out_files)\n",
    "    \n",
    "    wf.save('../adhtools/cwl/safar-split-and-stem-dir.cwl', wd=True, relative=False)"
   ]
  },
  {
   "cell_type": "code",
   "execution_count": null,
   "metadata": {},
   "outputs": [],
   "source": [
    "with WorkflowGenerator(working_dir=cwl_working_dir) as wf:\n",
    "    wf.load(steps_dir='../adhtools/cwl/')\n",
    "    wf.load(steps_dir='../java/cwl/')\n",
    "    \n",
    "    in_dir = wf.add_input(in_dir='Directory')\n",
    "    metadata = wf.add_input(metadata='File')\n",
    "    \n",
    "    in_files = wf.ls(in_dir=in_dir)\n",
    "    out_files = wf.safar_add_metadata_file(in_file=in_files, in_file_meta=metadata,\n",
    "                                          scatter='in_file', scatter_method='dotproduct')\n",
    "    \n",
    "    wf.add_outputs(out_files=out_files)\n",
    "    wf.save('../adhtools/cwl/add-metadata-dir.cwl', wd=True, relative=False)"
   ]
  }
 ],
 "metadata": {
  "language_info": {
   "name": "python",
   "pygments_lexer": "ipython3"
  }
 },
 "nbformat": 4,
 "nbformat_minor": 2
}
