{
 "cells": [
  {
   "cell_type": "code",
   "execution_count": null,
   "metadata": {},
   "outputs": [],
   "source": [
    "%load_ext autoreload\n",
    "%autoreload 2"
   ]
  },
  {
   "cell_type": "code",
   "execution_count": null,
   "metadata": {},
   "outputs": [],
   "source": [
    "%matplotlib inline\n",
    "\n",
    "import numpy as np\n",
    "import pandas as pd\n",
    "import matplotlib.pyplot as plt"
   ]
  },
  {
   "cell_type": "code",
   "execution_count": null,
   "metadata": {},
   "outputs": [],
   "source": [
    "def window(seq, side=1):\n",
    "    for i, item in enumerate(seq):\n",
    "        b = max(0, i-side)\n",
    "        e = min(i+side+1, len(seq))\n",
    "        yield seq[b:i], seq[i+1:e]"
   ]
  },
  {
   "cell_type": "code",
   "execution_count": null,
   "metadata": {},
   "outputs": [],
   "source": [
    "%%time\n",
    "csv_file = '/home/jvdzwaan/data/adh/0483IbnAhmadSarakhsi.Mabsut-khoja.csv'\n",
    "khoja_orig = pd.read_csv(csv_file, encoding='utf-8')\n",
    "khoja_data = khoja_orig.copy()"
   ]
  },
  {
   "cell_type": "code",
   "execution_count": null,
   "metadata": {},
   "outputs": [],
   "source": [
    "seq = list(range(100))\n",
    "for w in window(seq, 5):\n",
    "    print(w)"
   ]
  },
  {
   "cell_type": "code",
   "execution_count": null,
   "metadata": {},
   "outputs": [],
   "source": [
    "def window2(seq, i, side=1):\n",
    "    b = max(0, i-side)\n",
    "    e = min(i+side+1, len(seq))\n",
    "    return seq[b:i], seq[i+1:e]"
   ]
  },
  {
   "cell_type": "code",
   "execution_count": null,
   "metadata": {},
   "outputs": [],
   "source": [
    "from collections import Counter\n",
    "query = 'الفرائض'\n",
    "\n",
    "counts = Counter()\n",
    "matches = 0\n",
    "for i, word in enumerate(khoja_data['word']):\n",
    "    if word == query:\n",
    "        matches += 1\n",
    "        left, right = window2(khoja_data['word'], i, 5)\n",
    "        counts.update(left)\n",
    "        counts.update(right)    "
   ]
  },
  {
   "cell_type": "code",
   "execution_count": null,
   "metadata": {},
   "outputs": [],
   "source": [
    "matches"
   ]
  },
  {
   "cell_type": "code",
   "execution_count": null,
   "metadata": {},
   "outputs": [],
   "source": [
    "# taken from test2.ipynb\n",
    "def get_terms(txt_file):\n",
    "    # get the terms list\n",
    "    terms = pd.read_csv(txt_file, encoding='utf-8', index_col=None, header=None)\n",
    "    t = terms[0].tolist()\n",
    "    print('total number of terms:', len(t))\n",
    "    terms = set(t)\n",
    "    print('number of unique terms:', len(terms))\n",
    "    return terms"
   ]
  },
  {
   "cell_type": "code",
   "execution_count": null,
   "metadata": {},
   "outputs": [],
   "source": [
    "stopwords = get_terms('/home/jvdzwaan/data/adh/stopwords/custom.txt')"
   ]
  },
  {
   "cell_type": "code",
   "execution_count": null,
   "metadata": {},
   "outputs": [],
   "source": [
    "import codecs\n",
    "\n",
    "with codecs.open('frequencies.txt', 'w', encoding='utf-8') as f:\n",
    "    for k,freq in counts.most_common():\n",
    "        if k not in stopwords:\n",
    "            f.write('{} {}\\n'.format(k, freq))\n",
    "        "
   ]
  }
 ],
 "metadata": {
  "language_info": {
   "name": "python",
   "pygments_lexer": "ipython3"
  }
 },
 "nbformat": 4,
 "nbformat_minor": 2
}
