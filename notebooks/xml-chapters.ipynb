{
 "cells": [
  {
   "cell_type": "code",
   "execution_count": null,
   "metadata": {},
   "outputs": [],
   "source": [
    "%load_ext autoreload\n",
    "%autoreload 2"
   ]
  },
  {
   "cell_type": "code",
   "execution_count": null,
   "metadata": {},
   "outputs": [],
   "source": [
    "from lxml import etree\n",
    "from tqdm import tqdm\n",
    "\n",
    "\n",
    "def analyzer_xml2words_and_headers(fname):\n",
    "    words = {}\n",
    "    headers = {}\n",
    "    metadata = b'<metadata></metadata>'\n",
    "    nr_headers = 0\n",
    "    # Extract the words\n",
    "    context = etree.iterparse(fname, events=('end', ), tag=('word'))\n",
    "    for event, elem in tqdm(context):\n",
    "        if elem.tag == 'word':\n",
    "            w_id = elem.attrib['w_id']\n",
    "            # Setting method to html (instead of xml) fixes problems\n",
    "            # with writing Arabic characters in the value attribute of\n",
    "            # the word element.\n",
    "            words[int(w_id)] = etree.tostring(elem, encoding='utf-8', method='html')\n",
    "        # make iteration over context fast and consume less memory\n",
    "        #https://www.ibm.com/developerworks/xml/library/x-hiperfparse\n",
    "        elem.clear()\n",
    "        while elem.getprevious() is not None:\n",
    "            del elem.getparent()[0]\n",
    "            \n",
    "    del context\n",
    "\n",
    "    # Extract the headers\n",
    "    context = etree.iterparse(fname, events=('end', ), tag=('header'))\n",
    "    for event, elem in tqdm(context):\n",
    "        nr_headers += 1\n",
    "        level = int(elem.attrib['level'])\n",
    "        if level not in headers:\n",
    "            headers[level] = {}\n",
    "            \n",
    "        header_title = elem.attrib['text']\n",
    "        for ref in elem.getchildren():\n",
    "            if ref.tag == 'ref':\n",
    "                headers[level][int(ref.attrib['id'])] = header_title\n",
    "        #if elem.tag == 'metadata':\n",
    "        #    metadata = etree.tostring(elem, encoding='utf-8')\n",
    "                    \n",
    "        # make iteration over context fast and consume less memory\n",
    "        #https://www.ibm.com/developerworks/xml/library/x-hiperfparse\n",
    "        elem.clear()\n",
    "        while elem.getprevious() is not None:\n",
    "            del elem.getparent()[0]\n",
    "    \n",
    "    # Extract the metadata\n",
    "    context = etree.iterparse(fname, events=('end', ), tag=('metadata'))\n",
    "    for event, elem in tqdm(context):\n",
    "        metadata = etree.tostring(elem, encoding='utf-8')\n",
    "                    \n",
    "        # make iteration over context fast and consume less memory\n",
    "        #https://www.ibm.com/developerworks/xml/library/x-hiperfparse\n",
    "        elem.clear()\n",
    "        while elem.getprevious() is not None:\n",
    "            del elem.getparent()[0]\n",
    "    print('nr of headers: {}'.format(nr_headers))        \n",
    "    return words, headers, metadata"
   ]
  },
  {
   "cell_type": "code",
   "execution_count": null,
   "metadata": {},
   "outputs": [],
   "source": [
    "#xml_file = '/home/jvdzwaan/data/tmp/adh/chapters/0381IbnBabawayh.Hidaya.xml'\n",
    "xml_file = '/home/dafne/bridging-the-gap/data/20181009/books-stemmed/0897IbnYusufCabdariGharnati.TajWaIklilLiMukhtasarKhalil.xml'\n",
    "words, headers, metadata = analyzer_xml2words_and_headers(xml_file)"
   ]
  },
  {
   "cell_type": "code",
   "execution_count": null,
   "metadata": {},
   "outputs": [],
   "source": [
    "print(len(words), len(headers))"
   ]
  },
  {
   "cell_type": "code",
   "execution_count": null,
   "metadata": {},
   "outputs": [],
   "source": [
    "headers.keys()"
   ]
  },
  {
   "cell_type": "code",
   "execution_count": null,
   "metadata": {},
   "outputs": [],
   "source": [
    "# How many headers?\n",
    "len(headers[2])"
   ]
  },
  {
   "cell_type": "code",
   "execution_count": null,
   "metadata": {},
   "outputs": [],
   "source": [
    "headers[2][426]"
   ]
  },
  {
   "cell_type": "code",
   "execution_count": null,
   "metadata": {},
   "outputs": [],
   "source": [
    "headers.get(1, {}).update(headers.get(2, {}) )"
   ]
  },
  {
   "cell_type": "code",
   "execution_count": null,
   "metadata": {},
   "outputs": [],
   "source": [
    "h = headers[2]\n",
    "h.update()"
   ]
  },
  {
   "cell_type": "code",
   "execution_count": null,
   "metadata": {},
   "outputs": [],
   "source": [
    "metadata_elem = etree.fromstring(metadata)\n",
    "lev1_el = etree.Element('meta', attrib={'name': 'VolumeTitle'})\n",
    "lev1_el.text = 'abc'\n",
    "metadata_elem.append(lev1_el)\n",
    "etree.tostring(metadata_elem, encoding='utf-8', pretty_print=True)"
   ]
  },
  {
   "cell_type": "code",
   "execution_count": null,
   "metadata": {},
   "outputs": [],
   "source": [
    "# To do: add chapter name / number to metadata\n",
    "import os\n",
    "import codecs\n",
    "import shutil\n",
    "\n",
    "from nlppln.utils import out_file_name\n",
    "\n",
    "def write_xml(xml_out, metadata, words, analysis_tag = 'morphology_analysis', lev1_title='', lev2_title=''):\n",
    "    total_words = len(words)\n",
    "    with codecs.open(xml_out, 'wb') as f:\n",
    "        f.write(b'<?xml version=\"1.0\" encoding=\"utf-8\"?>\\n')\n",
    "        f.write(b'<document>\\n')\n",
    "\n",
    "        ## Add metadata\n",
    "        if lev1_title=='':\n",
    "            lev1_title = '-'\n",
    "        if lev2_title=='':\n",
    "            lev2_title = '-'   \n",
    "        metadata_elem = etree.fromstring(metadata)\n",
    "        metadata_elem.append(etree.fromstring('<meta name=\"VolumeTitle\">{}</meta>'.format(lev1_title)))\n",
    "        metadata_elem.append(etree.fromstring('<meta name=\"ChapterTitle\">{}</meta>'.format(lev2_title)))\n",
    "        \n",
    "        f.write(etree.tostring(metadata_elem, encoding='utf-8', pretty_print=True))\n",
    "        f.write(b'\\n')\n",
    "\n",
    "        tag = '<{} total_words=\"{}\">\\n'.format(analysis_tag, total_words)\n",
    "        f.write(tag.encode('utf-8'))\n",
    "\n",
    "        for w in words:\n",
    "            f.write(w)\n",
    "\n",
    "        f.write('</{}>\\n'.format(analysis_tag).encode('utf-8'))\n",
    "\n",
    "        #f.write(markers)\n",
    "\n",
    "        f.write(b'</document>\\n')"
   ]
  },
  {
   "cell_type": "code",
   "execution_count": null,
   "metadata": {},
   "outputs": [],
   "source": [
    "def get_out_file_name(doc_name, out_dir, i):\n",
    "    fname = '{}-{:05}.xml'.format(doc_name, i)\n",
    "    fname = out_file_name(out_dir, fname)\n",
    "    return fname"
   ]
  },
  {
   "cell_type": "code",
   "execution_count": null,
   "metadata": {},
   "outputs": [],
   "source": [
    "#out_dir = '/home/jvdzwaan/data/tmp/adh/chapter-files/'\n",
    "out_dir = '/home/dafne/bridging-the-gap/data/20181009/chapters/'\n",
    "doc_name = os.path.splitext(os.path.basename(xml_file))[0]\n",
    "header_ids = None\n",
    "\n",
    "\n",
    "header_ids = list(headers.get(1, {}).keys()) + list(headers.get(2, {}).keys() )\n",
    "\n",
    "if(len(header_ids)>0):\n",
    "    # do the stuff\n",
    "    print('Available headers: {}'.format(list(headers.keys())))\n",
    "    text = []\n",
    "    header1 = False\n",
    "    header2 = False\n",
    "    i = 0\n",
    "    header1_name = ''\n",
    "    header2_name = ''\n",
    "    for wid, word in words.items():\n",
    "        # Level 1 header\n",
    "        if wid in headers.get(1,{}):\n",
    "            if header1 == False:\n",
    "                if len(text) > 0:\n",
    "                    # start of new header\n",
    "                    # write text to file\n",
    "                    fname = get_out_file_name(doc_name, out_dir, i)\n",
    "                    write_xml(fname, metadata, text, lev1_title=header1_name, lev2_title=header2_name)\n",
    "                    \n",
    "                    #reset\n",
    "                    text = []\n",
    "                    header1_name = headers[1][wid]\n",
    "                    i += 1\n",
    "                header1 = True\n",
    "        else:\n",
    "            header1 = False\n",
    "        \n",
    "        # Level 2 header\n",
    "        if wid in headers.get(2,{}):\n",
    "            if header2 == False:\n",
    "                if len(text) > 0:\n",
    "                    # start of new header\n",
    "                    # write text to file\n",
    "                    fname = get_out_file_name(doc_name, out_dir, i)\n",
    "                    write_xml(fname, metadata, text, lev1_title=header1_name, lev2_title=header2_name)\n",
    "                    \n",
    "                    #reset\n",
    "                    text = []\n",
    "                    header2_name = headers[2][wid]\n",
    "                    i += 1\n",
    "                header2 = True\n",
    "        else:\n",
    "            header2 = False\n",
    "        \n",
    "        text.append(word)\n",
    "    \n",
    "    # Also write away the last chapter\n",
    "    if len(text) > 0:\n",
    "        # write text to file\n",
    "        fname = get_out_file_name(doc_name, out_dir, i)\n",
    "        write_xml(fname, metadata, text, lev1_title=header1_name, lev2_title=header2_name)\n",
    "else:\n",
    "    # no header information, just copy the input file\n",
    "    print('No headers in', doc_name)\n",
    "    fo = out_file_name(out_dir, xml_file)\n",
    "    if os.path.abspath(xml_file) != fo:\n",
    "        shutil.copy2(xml_file, fo)"
   ]
  },
  {
   "cell_type": "markdown",
   "metadata": {},
   "source": [
    "* Geen headers: gewoon hele file outputten (0182AbuYusufYacqub.Kharaj.xml)\n",
    "* Alleen header 1: file voor elke header (0373AbuLaythSamarqandi.CuyunMasail.xml)\n",
    "* Alleen header 2: file voor elke header (0381IbnBabawayh.Hidaya.xml)\n",
    "  * Er zou text voor de eerste header kunnen staan, wordt die goed meegenomen?\n",
    "* Header 1 en header 2: (0897IbnYusufCabdariGharnati.TajWaIklilLiMukhtasarKhalil.xml)\n",
    "  * Als er tekst is tussen het einde van header 1 en het begin van header 2, moet die in een aparte file worden opgeslagen, anders komt de header 1 tekst bij het volgende chapter\n",
    "  * Als er tekst is voor header 1 begint, aparte file\n",
    "* Level 3 of dieper: negeren we"
   ]
  },
  {
   "cell_type": "code",
   "execution_count": null,
   "metadata": {},
   "outputs": [],
   "source": []
  }
 ],
 "metadata": {
  "language_info": {
   "name": "python",
   "pygments_lexer": "ipython3"
  }
 },
 "nbformat": 4,
 "nbformat_minor": 2
}
