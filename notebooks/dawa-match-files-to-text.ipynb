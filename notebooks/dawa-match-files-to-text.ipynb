{
 "cells": [
  {
   "cell_type": "code",
   "execution_count": null,
   "metadata": {},
   "outputs": [],
   "source": [
    "%load_ext autoreload\n",
    "%autoreload 2"
   ]
  },
  {
   "cell_type": "code",
   "execution_count": null,
   "metadata": {},
   "outputs": [],
   "source": [
    "import numpy as np\n",
    "import pandas as pd\n",
    "\n",
    "from tqdm import tqdm_notebook as tqdm "
   ]
  },
  {
   "cell_type": "code",
   "execution_count": null,
   "metadata": {},
   "outputs": [],
   "source": [
    "md = pd.read_csv('/home/jvdzwaan/data/adh-corpora/dawa/DawaMetadata.csv', index_col=0)\n",
    "md"
   ]
  },
  {
   "cell_type": "code",
   "execution_count": null,
   "metadata": {},
   "outputs": [],
   "source": [
    "len(md['Author'].unique())"
   ]
  },
  {
   "cell_type": "code",
   "execution_count": null,
   "metadata": {},
   "outputs": [],
   "source": [
    "md.columns"
   ]
  },
  {
   "cell_type": "code",
   "execution_count": null,
   "metadata": {},
   "outputs": [],
   "source": [
    "import os\n",
    "\n",
    "from nlppln.utils import get_files\n",
    "\n",
    "txt_dir = '/home/jvdzwaan/data/adh-corpora/dawa/txt/'\n",
    "\n",
    "txt_files = get_files(txt_dir)\n",
    "\n",
    "num_removed = 0\n",
    "\n",
    "for in_file in txt_files:\n",
    "    bn = os.path.splitext(os.path.basename(in_file))[0]\n",
    "    #print(bn)\n",
    "    if bn not in list(md['BookURI']):\n",
    "        #print('Removing', bn)\n",
    "        num_removed += 1\n",
    "        os.remove(in_file)\n",
    "\n",
    "print(f'Removed {num_removed} files.')\n",
    "        \n",
    "#for uri in md['BookURI']:\n",
    "#    print(uri)"
   ]
  },
  {
   "cell_type": "code",
   "execution_count": null,
   "metadata": {},
   "outputs": [],
   "source": [
    "# remove xml files\n",
    "import os\n",
    "\n",
    "from nlppln.utils import get_files\n",
    "\n",
    "xml_dir = '/home/jvdzwaan/data/tmp/adh/2019-05-28-dawa-complete/'\n",
    "\n",
    "xml_files = get_files(xml_dir)\n",
    "\n",
    "num_removed = 0\n",
    "\n",
    "for in_file in xml_files:\n",
    "    if '-' in os.path.basename(in_file):\n",
    "        bn = os.path.basename(in_file).split('-')[0]\n",
    "    else:\n",
    "        bn = os.path.splitext(os.path.basename(in_file))[0]\n",
    "    #print(bn)\n",
    "    if bn not in list(md['BookURI']):\n",
    "        print('Removing', bn)\n",
    "        num_removed += 1\n",
    "        #os.remove(in_file)\n",
    "\n",
    "print(f'Removed {num_removed} files.')\n",
    "        \n",
    "#for uri in md['BookURI']:\n",
    "#    print(uri)"
   ]
  }
 ],
 "metadata": {
  "language_info": {
   "name": "python",
   "pygments_lexer": "ipython3"
  }
 },
 "nbformat": 4,
 "nbformat_minor": 2
}
