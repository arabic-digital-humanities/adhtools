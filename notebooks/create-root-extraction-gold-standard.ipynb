{
 "cells": [
  {
   "cell_type": "code",
   "execution_count": null,
   "metadata": {},
   "outputs": [],
   "source": [
    "%load_ext autoreload\n",
    "%autoreload 2"
   ]
  },
  {
   "cell_type": "code",
   "execution_count": null,
   "metadata": {},
   "outputs": [],
   "source": [
    "%matplotlib inline\n",
    "\n",
    "import numpy as np\n",
    "import pandas as pd\n",
    "import matplotlib.pyplot as plt"
   ]
  },
  {
   "cell_type": "code",
   "execution_count": null,
   "metadata": {},
   "outputs": [],
   "source": [
    "csv = pd.read_csv('/home/jvdzwaan/data/tmp/adh/sample/0274AhmadBarqi.Mahasin-to_merge.csv', encoding='utf-8')\n",
    "csv"
   ]
  },
  {
   "cell_type": "code",
   "execution_count": null,
   "metadata": {},
   "outputs": [],
   "source": [
    "data = pd.read_excel('/home/jvdzwaan/Downloads/Max Roots.xlsx', sheet_name='Sheet 2 - No Duplicates', header=2)\n",
    "data"
   ]
  },
  {
   "cell_type": "code",
   "execution_count": null,
   "metadata": {},
   "outputs": [],
   "source": [
    "result = data.apply(lambda row: (row['word'], row['MAX ROOT']), axis=1)"
   ]
  },
  {
   "cell_type": "code",
   "execution_count": null,
   "metadata": {},
   "outputs": [],
   "source": [
    "lookup = {}\n",
    "\n",
    "for r in result:\n",
    "    k = r[0]\n",
    "    v = r[1]\n",
    "    if k in lookup.keys():\n",
    "        print('error, word', k, 'found multiple times')\n",
    "    else:\n",
    "        lookup[r[0]] = r[1]\n",
    "print(len(result))\n",
    "print(len(lookup))"
   ]
  },
  {
   "cell_type": "code",
   "execution_count": null,
   "metadata": {},
   "outputs": [],
   "source": [
    "csv['max'] = csv.apply(lambda row: lookup.get(row['word'], 'ERROR'), axis=1)"
   ]
  },
  {
   "cell_type": "code",
   "execution_count": null,
   "metadata": {},
   "outputs": [],
   "source": [
    "sum(csv['max']=='ERROR')"
   ]
  },
  {
   "cell_type": "code",
   "execution_count": null,
   "metadata": {},
   "outputs": [],
   "source": [
    "csv"
   ]
  },
  {
   "cell_type": "code",
   "execution_count": null,
   "metadata": {},
   "outputs": [],
   "source": [
    "csv.columns = ['file_name', 'position', 'word', 'alkhalil', 'root']\n",
    "csv"
   ]
  },
  {
   "cell_type": "code",
   "execution_count": null,
   "metadata": {},
   "outputs": [],
   "source": [
    "fname = '/home/jvdzwaan/data/tmp/adh/sample/0274AhmadBarqi.Mahasin.csv'\n",
    "csv.to_csv(fname, index=False, columns=['file_name', 'position', 'word', 'root'], encoding='utf-8')"
   ]
  },
  {
   "cell_type": "markdown",
   "metadata": {},
   "source": [
    "Merge Maksim's roots with khoja words (more than found by al khalil, but not different types)"
   ]
  },
  {
   "cell_type": "code",
   "execution_count": null,
   "metadata": {},
   "outputs": [],
   "source": [
    "book = pd.read_csv('/home/jvdzwaan/data/tmp/adh/sample/merged-khodja.csv', encoding='utf-8')\n",
    "book"
   ]
  },
  {
   "cell_type": "code",
   "execution_count": null,
   "metadata": {},
   "outputs": [],
   "source": [
    "result = book.apply(lambda row: row['word'], axis=1)"
   ]
  },
  {
   "cell_type": "code",
   "execution_count": null,
   "metadata": {},
   "outputs": [],
   "source": [
    "new_data = []\n",
    "\n",
    "for w in result:\n",
    "    #print(w)\n",
    "    #print(lookup.get(w, 'ERROR'))\n",
    "    new_data.append({'word': w, 'root': lookup.get(w, 'ERROR')})\n",
    "new_csv = pd.DataFrame(new_data)\n",
    "new_csv"
   ]
  },
  {
   "cell_type": "code",
   "execution_count": null,
   "metadata": {},
   "outputs": [],
   "source": [
    "sum(new_csv['root']=='ERROR')"
   ]
  },
  {
   "cell_type": "markdown",
   "metadata": {},
   "source": [
    "# New samples of ~1000 words each\n",
    "\n",
    "## 0450AbuHasanMawardi.HawiKabir"
   ]
  },
  {
   "cell_type": "code",
   "execution_count": null,
   "metadata": {},
   "outputs": [],
   "source": [
    "input_data = pd.read_csv('/home/jvdzwaan/data/adh/root-evaluation-data/send-to-max/0450AbuHasanMawardi.HawiKabir-sample.csv')\n",
    "input_data"
   ]
  },
  {
   "cell_type": "code",
   "execution_count": null,
   "metadata": {},
   "outputs": [],
   "source": [
    "input_max = pd.read_csv('/home/jvdzwaan/data/adh/root-evaluation-data/received-from-max/0450AbuHasanMawardi.HawiKabir-sample.csv')\n",
    "print(input_max.columns)\n",
    "input_max.columns = ['word_max', 'root_max', 'MAX Root', 'Unnamed: 3', 'Notes', 'Hits', 'Unnamed: 6',\n",
    "       'Unnamed: 7']\n",
    "input_max"
   ]
  },
  {
   "cell_type": "code",
   "execution_count": null,
   "metadata": {},
   "outputs": [],
   "source": [
    "data = pd.concat([input_data, input_max], axis=1, sort=False)\n",
    "data"
   ]
  },
  {
   "cell_type": "code",
   "execution_count": null,
   "metadata": {},
   "outputs": [],
   "source": [
    "print(data.columns)"
   ]
  },
  {
   "cell_type": "code",
   "execution_count": null,
   "metadata": {},
   "outputs": [],
   "source": [
    "data.columns = ['word', 'proposed_root', 'word_max', 'root_max', 'MAX Root', 'Unnamed: 3',\n",
    "       'Notes', 'Hits', 'Unnamed: 6', 'Unnamed: 7']"
   ]
  },
  {
   "cell_type": "code",
   "execution_count": null,
   "metadata": {},
   "outputs": [],
   "source": [
    "def get_root(row):\n",
    "    new_root = row['proposed_root']\n",
    "    if isinstance(row['MAX Root'], str):\n",
    "        new_root = row['MAX Root']\n",
    "    if isinstance(row['Unnamed: 3'], str):\n",
    "        new_root = row['Unnamed: 3']\n",
    "    return new_root\n",
    "\n",
    "data['root'] = data.apply(lambda row: get_root(row), axis=1)"
   ]
  },
  {
   "cell_type": "code",
   "execution_count": null,
   "metadata": {},
   "outputs": [],
   "source": [
    "data"
   ]
  },
  {
   "cell_type": "code",
   "execution_count": null,
   "metadata": {},
   "outputs": [],
   "source": [
    "data.to_csv('/home/jvdzwaan/data/tmp/adh/evaluation/0450AbuHasanMawardi.HawiKabir-sample.csv', index=False, columns=['word', 'root'])"
   ]
  },
  {
   "cell_type": "markdown",
   "metadata": {},
   "source": [
    "## 0460ShaykhTusi.Mabsut"
   ]
  },
  {
   "cell_type": "code",
   "execution_count": null,
   "metadata": {},
   "outputs": [],
   "source": [
    "input_data = pd.read_csv('/home/jvdzwaan/data/adh/root-evaluation-data/send-to-max/0460ShaykhTusi.Mabsut-sample.csv')\n",
    "input_data"
   ]
  },
  {
   "cell_type": "code",
   "execution_count": null,
   "metadata": {},
   "outputs": [],
   "source": [
    "input_max = pd.read_csv('/home/jvdzwaan/data/adh/root-evaluation-data/received-from-max/0460ShaykhTusi.Mabsut-sample.csv')\n",
    "print(input_max.columns)\n",
    "input_max.columns = ['word_max', 'root_max', 'MAX Root', 'Arabic Nouns Mark', 'Notes', 'Hits',\n",
    "       'Unnamed: 6']\n",
    "input_max"
   ]
  },
  {
   "cell_type": "code",
   "execution_count": null,
   "metadata": {},
   "outputs": [],
   "source": [
    "data = pd.concat([input_data, input_max], axis=1, sort=False)\n",
    "data"
   ]
  },
  {
   "cell_type": "code",
   "execution_count": null,
   "metadata": {},
   "outputs": [],
   "source": [
    "print(data.columns)"
   ]
  },
  {
   "cell_type": "code",
   "execution_count": null,
   "metadata": {},
   "outputs": [],
   "source": [
    "data.columns = ['word', 'proposed_root', 'word_max', 'root_max', 'MAX Root', 'Arabic Nouns Mark',\n",
    "       'Notes', 'Hits', 'Unnamed: 6']"
   ]
  },
  {
   "cell_type": "code",
   "execution_count": null,
   "metadata": {},
   "outputs": [],
   "source": [
    "def get_root(row):\n",
    "    new_root = row['proposed_root']\n",
    "    if isinstance(row['MAX Root'], str):\n",
    "        new_root = row['MAX Root']\n",
    "    if isinstance(row['Arabic Nouns Mark'], str):\n",
    "        new_root = row['Arabic Nouns Mark']\n",
    "    return new_root\n",
    "\n",
    "data['root'] = data.apply(lambda row: get_root(row), axis=1)"
   ]
  },
  {
   "cell_type": "code",
   "execution_count": null,
   "metadata": {},
   "outputs": [],
   "source": [
    "data"
   ]
  },
  {
   "cell_type": "code",
   "execution_count": null,
   "metadata": {},
   "outputs": [],
   "source": [
    "data.to_csv('/home/jvdzwaan/data/tmp/adh/evaluation/0460ShaykhTusi.Mabsut-sample.csv', index=False, columns=['word', 'root'])"
   ]
  },
  {
   "cell_type": "code",
   "execution_count": null,
   "metadata": {},
   "outputs": [],
   "source": [
    "## 0483IbnAhmadSarakhsi.Mabsut"
   ]
  },
  {
   "cell_type": "code",
   "execution_count": null,
   "metadata": {},
   "outputs": [],
   "source": [
    "input_data = pd.read_csv('/home/jvdzwaan/data/adh/root-evaluation-data/send-to-max/0483IbnAhmadSarakhsi.Mabsut-sample.csv')\n",
    "input_data"
   ]
  },
  {
   "cell_type": "code",
   "execution_count": null,
   "metadata": {},
   "outputs": [],
   "source": [
    "input_max = pd.read_csv('/home/jvdzwaan/data/adh/root-evaluation-data/received-from-max/0483IbnAhmadSarakhsi.Mabsut-sample.csv')\n",
    "print(input_max.columns)\n",
    "input_max.columns = ['word_max', 'root_max', 'MAX Root', 'Arabic Nouns Mark', 'Nots', 'Hits',\n",
    "       'Unnamed: 6', 'Unnamed: 7']\n",
    "input_max"
   ]
  },
  {
   "cell_type": "code",
   "execution_count": null,
   "metadata": {},
   "outputs": [],
   "source": [
    "data = pd.concat([input_data, input_max], axis=1, sort=False)\n",
    "data"
   ]
  },
  {
   "cell_type": "code",
   "execution_count": null,
   "metadata": {},
   "outputs": [],
   "source": [
    "print(data.columns)"
   ]
  },
  {
   "cell_type": "code",
   "execution_count": null,
   "metadata": {},
   "outputs": [],
   "source": [
    "data.columns = ['word', 'proposed_root', 'word_max', 'root_max', 'MAX Root', 'Arabic Nouns Mark',\n",
    "       'Nots', 'Hits', 'Unnamed: 6', 'Unnamed: 7']"
   ]
  },
  {
   "cell_type": "code",
   "execution_count": null,
   "metadata": {},
   "outputs": [],
   "source": [
    "def get_root(row):\n",
    "    new_root = row['proposed_root']\n",
    "    if isinstance(row['MAX Root'], str):\n",
    "        new_root = row['MAX Root']\n",
    "    if isinstance(row['Arabic Nouns Mark'], str):\n",
    "        new_root = row['Arabic Nouns Mark']\n",
    "    return new_root\n",
    "\n",
    "data['root'] = data.apply(lambda row: get_root(row), axis=1)"
   ]
  },
  {
   "cell_type": "code",
   "execution_count": null,
   "metadata": {},
   "outputs": [],
   "source": [
    "data = data.drop([996])\n",
    "data"
   ]
  },
  {
   "cell_type": "code",
   "execution_count": null,
   "metadata": {},
   "outputs": [],
   "source": [
    "data.to_csv('/home/jvdzwaan/data/tmp/adh/evaluation/0483IbnAhmadSarakhsi.Mabsut-sample.csv', index=False, columns=['word', 'root'])"
   ]
  }
 ],
 "metadata": {
  "language_info": {
   "name": "python",
   "pygments_lexer": "ipython3"
  }
 },
 "nbformat": 4,
 "nbformat_minor": 2
}
