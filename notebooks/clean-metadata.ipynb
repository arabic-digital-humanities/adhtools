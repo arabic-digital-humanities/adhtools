{
 "cells": [
  {
   "cell_type": "code",
   "execution_count": 1,
   "metadata": {},
   "outputs": [],
   "source": [
    "%load_ext autoreload\n",
    "%autoreload 2"
   ]
  },
  {
   "cell_type": "code",
   "execution_count": 6,
   "metadata": {},
   "outputs": [],
   "source": [
    "import pandas as pd\n",
    "\n",
    "#md_file = '/home/jvdzwaan/data/adh-corpora/fiqh_corpus/Meta/Metadata_Fiqh.csv'\n",
    "#md_file = '/home/jvdzwaan/data/adh-corpora/dawa/DawaMetadata.csv'\n",
    "md_file = '/media/sf_VBox_Shared/Arabic/fiqh_corpus/Meta/Metadata_Fiqh.csv'"
   ]
  },
  {
   "cell_type": "code",
   "execution_count": null,
   "metadata": {},
   "outputs": [],
   "source": [
    "md = pd.read_csv(md_file, sep=',|;', encoding='utf-8')\n",
    "md.head()"
   ]
  },
  {
   "cell_type": "code",
   "execution_count": null,
   "metadata": {},
   "outputs": [],
   "source": [
    "len(md['BookTITLE'].unique())"
   ]
  },
  {
   "cell_type": "code",
   "execution_count": null,
   "metadata": {},
   "outputs": [],
   "source": [
    "md['BookTITLE2'] = md['BookTITLE'].apply(lambda x: x.strip())"
   ]
  },
  {
   "cell_type": "code",
   "execution_count": null,
   "metadata": {},
   "outputs": [],
   "source": [
    "md[md.duplicated('BookTITLE2', keep=False)]"
   ]
  },
  {
   "cell_type": "code",
   "execution_count": null,
   "metadata": {},
   "outputs": [],
   "source": [
    "import six\n",
    "\n",
    "from adhtools.split_text_openiti_markers import smart_strip\n",
    "\n",
    "def clean(item):\n",
    "    if isinstance(item, six.string_types):\n",
    "        item = smart_strip(item)\n",
    "        item = item.replace('&', 'and')\n",
    "    return item\n",
    "\n",
    "md = md.applymap(clean)\n",
    "md.head()"
   ]
  },
  {
   "cell_type": "code",
   "execution_count": null,
   "metadata": {},
   "outputs": [],
   "source": [
    "md.columns = md.columns.str.replace(r'^[0-9]*\\.', '')"
   ]
  },
  {
   "cell_type": "code",
   "execution_count": null,
   "metadata": {},
   "outputs": [],
   "source": [
    "md.columns = md.columns.str.replace(' ', '_')"
   ]
  },
  {
   "cell_type": "code",
   "execution_count": null,
   "metadata": {},
   "outputs": [],
   "source": [
    "md.head()"
   ]
  },
  {
   "cell_type": "code",
   "execution_count": null,
   "metadata": {},
   "outputs": [],
   "source": [
    "md.to_csv(md_file, index=False, encoding='utf-8')"
   ]
  },
  {
   "cell_type": "code",
   "execution_count": 7,
   "metadata": {},
   "outputs": [],
   "source": [
    "md = pd.read_csv(md_file, encoding='utf-8')"
   ]
  },
  {
   "cell_type": "code",
   "execution_count": 8,
   "metadata": {},
   "outputs": [
    {
     "data": {
      "text/html": [
       "<div>\n",
       "<style scoped>\n",
       "    .dataframe tbody tr th:only-of-type {\n",
       "        vertical-align: middle;\n",
       "    }\n",
       "\n",
       "    .dataframe tbody tr th {\n",
       "        vertical-align: top;\n",
       "    }\n",
       "\n",
       "    .dataframe thead th {\n",
       "        text-align: right;\n",
       "    }\n",
       "</style>\n",
       "<table border=\"1\" class=\"dataframe\">\n",
       "  <thead>\n",
       "    <tr style=\"text-align: right;\">\n",
       "      <th></th>\n",
       "      <th>Order</th>\n",
       "      <th>BookURI</th>\n",
       "      <th>BookSource</th>\n",
       "      <th>BookTITLE_SHORT</th>\n",
       "      <th>BookTITLE</th>\n",
       "      <th>BookSUBJ</th>\n",
       "      <th>Number_of_tokens</th>\n",
       "      <th>AuthorAKA</th>\n",
       "      <th>AuthorNAME</th>\n",
       "      <th>AuthorBORNH</th>\n",
       "      <th>AuthorBORNC</th>\n",
       "      <th>AuthorDIEDH</th>\n",
       "      <th>AuthorDIEDC</th>\n",
       "      <th>Century</th>\n",
       "      <th>All_tokens_per-century</th>\n",
       "      <th>Author_Geographical_Area</th>\n",
       "      <th>Tagging</th>\n",
       "      <th>BookVOLS</th>\n",
       "      <th>Unnamed:_17</th>\n",
       "    </tr>\n",
       "  </thead>\n",
       "  <tbody>\n",
       "    <tr>\n",
       "      <th>0</th>\n",
       "      <td>1.0</td>\n",
       "      <td>0182AbuYusufYacqub.Kharaj</td>\n",
       "      <td>http://shamela.ws/index.php/book/26333</td>\n",
       "      <td>الخراج</td>\n",
       "      <td>الخراج</td>\n",
       "      <td>حنفي</td>\n",
       "      <td>76062.0</td>\n",
       "      <td>أبو يوسف</td>\n",
       "      <td>أبو يوسف يعقوب بن إبراهيم بن حبيب بن سعد بن حب...</td>\n",
       "      <td>113</td>\n",
       "      <td>798</td>\n",
       "      <td>182.0</td>\n",
       "      <td>731</td>\n",
       "      <td>2ndH/8thC and 3rdH/9thC century</td>\n",
       "      <td>NaN</td>\n",
       "      <td>Fertile Crescent</td>\n",
       "      <td>Quran @QB@ @QE@ Hadith @HB@</td>\n",
       "      <td>1</td>\n",
       "      <td>NaN</td>\n",
       "    </tr>\n",
       "    <tr>\n",
       "      <th>1</th>\n",
       "      <td>2.0</td>\n",
       "      <td>0204Shafici.Umm</td>\n",
       "      <td>http://shamela.ws/index.php/book/1655</td>\n",
       "      <td>الأم</td>\n",
       "      <td>الأم</td>\n",
       "      <td>شافعي</td>\n",
       "      <td>1205588.0</td>\n",
       "      <td>الشافعي</td>\n",
       "      <td>أبو عبد الله محمد بن إدريس الشافعيّ المطَّلِبي...</td>\n",
       "      <td>150</td>\n",
       "      <td>767</td>\n",
       "      <td>204.0</td>\n",
       "      <td>820</td>\n",
       "      <td>2ndH/8thC and 3rdH/9thC century</td>\n",
       "      <td>NaN</td>\n",
       "      <td>Fertile Crescent</td>\n",
       "      <td>Books ### |  Chapters ### || Subchapters ### |...</td>\n",
       "      <td>8</td>\n",
       "      <td>NaN</td>\n",
       "    </tr>\n",
       "    <tr>\n",
       "      <th>2</th>\n",
       "      <td>3.0</td>\n",
       "      <td>0179MalikIbnAnas.Muwatta</td>\n",
       "      <td>http://shamela.ws/index.php/book/28107</td>\n",
       "      <td>الموطأ</td>\n",
       "      <td>الموطّأ</td>\n",
       "      <td>مالكي</td>\n",
       "      <td>151424.0</td>\n",
       "      <td>مالك بن أنس</td>\n",
       "      <td>مالك بن أنس بن مالك بن عامر الأصبحي المدني</td>\n",
       "      <td>93</td>\n",
       "      <td>711</td>\n",
       "      <td>179.0</td>\n",
       "      <td>795</td>\n",
       "      <td>2ndH/8thC and 3rdH/9thC century</td>\n",
       "      <td>NaN</td>\n",
       "      <td>Fertile Crescent</td>\n",
       "      <td>Books ### | Chapters ### ||  Quran @QB@ @QE@</td>\n",
       "      <td>1</td>\n",
       "      <td>NaN</td>\n",
       "    </tr>\n",
       "    <tr>\n",
       "      <th>3</th>\n",
       "      <td>4.0</td>\n",
       "      <td>0311AbuBakrKhallal.WuqufWaTarajjul</td>\n",
       "      <td>http://shamela.ws/index.php/book/26883</td>\n",
       "      <td>الوقوف والترجل</td>\n",
       "      <td>الوقوف والترجل من الجامع لمسائل الإمام أحمد بن...</td>\n",
       "      <td>حنبلي</td>\n",
       "      <td>32349.0</td>\n",
       "      <td>الخلال</td>\n",
       "      <td>أبو بكر أحمد بن محمد بن هارون بن يزيد الخلال ا...</td>\n",
       "      <td>234</td>\n",
       "      <td>848</td>\n",
       "      <td>311.0</td>\n",
       "      <td>923</td>\n",
       "      <td>2ndH/8thC and 3rdH/9thC century</td>\n",
       "      <td>NaN</td>\n",
       "      <td>Fertile Crescent</td>\n",
       "      <td>Chapters ### ||  Quran @QB@ @QE@  Hadith @HB@</td>\n",
       "      <td>1</td>\n",
       "      <td>NaN</td>\n",
       "    </tr>\n",
       "    <tr>\n",
       "      <th>4</th>\n",
       "      <td>5.0</td>\n",
       "      <td>0274AhmadBarqi.Mahasin</td>\n",
       "      <td>http://siratali.org/maktaba/mahasin1/</td>\n",
       "      <td>المحاسن</td>\n",
       "      <td>المحاسن</td>\n",
       "      <td>شيعي</td>\n",
       "      <td>145940.0</td>\n",
       "      <td>البرقي</td>\n",
       "      <td>أحمد بن محمد بن خالد البرقي</td>\n",
       "      <td>NODATA</td>\n",
       "      <td>NODATA</td>\n",
       "      <td>274.0</td>\n",
       "      <td>887</td>\n",
       "      <td>2ndH/8thC and 3rdH/9thC century</td>\n",
       "      <td>1611363.0</td>\n",
       "      <td>Fertile Crescent</td>\n",
       "      <td>Chapters ### ||</td>\n",
       "      <td>2</td>\n",
       "      <td>NaN</td>\n",
       "    </tr>\n",
       "  </tbody>\n",
       "</table>\n",
       "</div>"
      ],
      "text/plain": [
       "   Order                             BookURI  \\\n",
       "0    1.0           0182AbuYusufYacqub.Kharaj   \n",
       "1    2.0                     0204Shafici.Umm   \n",
       "2    3.0            0179MalikIbnAnas.Muwatta   \n",
       "3    4.0  0311AbuBakrKhallal.WuqufWaTarajjul   \n",
       "4    5.0              0274AhmadBarqi.Mahasin   \n",
       "\n",
       "                               BookSource BookTITLE_SHORT  \\\n",
       "0  http://shamela.ws/index.php/book/26333          الخراج   \n",
       "1   http://shamela.ws/index.php/book/1655            الأم   \n",
       "2  http://shamela.ws/index.php/book/28107          الموطأ   \n",
       "3  http://shamela.ws/index.php/book/26883  الوقوف والترجل   \n",
       "4   http://siratali.org/maktaba/mahasin1/         المحاسن   \n",
       "\n",
       "                                           BookTITLE BookSUBJ  \\\n",
       "0                                             الخراج     حنفي   \n",
       "1                                               الأم    شافعي   \n",
       "2                                            الموطّأ    مالكي   \n",
       "3  الوقوف والترجل من الجامع لمسائل الإمام أحمد بن...    حنبلي   \n",
       "4                                            المحاسن     شيعي   \n",
       "\n",
       "   Number_of_tokens    AuthorAKA  \\\n",
       "0           76062.0     أبو يوسف   \n",
       "1         1205588.0      الشافعي   \n",
       "2          151424.0  مالك بن أنس   \n",
       "3           32349.0       الخلال   \n",
       "4          145940.0       البرقي   \n",
       "\n",
       "                                          AuthorNAME AuthorBORNH AuthorBORNC  \\\n",
       "0  أبو يوسف يعقوب بن إبراهيم بن حبيب بن سعد بن حب...         113         798   \n",
       "1  أبو عبد الله محمد بن إدريس الشافعيّ المطَّلِبي...         150         767   \n",
       "2         مالك بن أنس بن مالك بن عامر الأصبحي المدني          93         711   \n",
       "3  أبو بكر أحمد بن محمد بن هارون بن يزيد الخلال ا...         234         848   \n",
       "4                        أحمد بن محمد بن خالد البرقي      NODATA      NODATA   \n",
       "\n",
       "   AuthorDIEDH AuthorDIEDC                          Century  \\\n",
       "0        182.0         731  2ndH/8thC and 3rdH/9thC century   \n",
       "1        204.0         820  2ndH/8thC and 3rdH/9thC century   \n",
       "2        179.0         795  2ndH/8thC and 3rdH/9thC century   \n",
       "3        311.0         923  2ndH/8thC and 3rdH/9thC century   \n",
       "4        274.0         887  2ndH/8thC and 3rdH/9thC century   \n",
       "\n",
       "   All_tokens_per-century Author_Geographical_Area  \\\n",
       "0                     NaN         Fertile Crescent   \n",
       "1                     NaN         Fertile Crescent   \n",
       "2                     NaN         Fertile Crescent   \n",
       "3                     NaN         Fertile Crescent   \n",
       "4               1611363.0         Fertile Crescent   \n",
       "\n",
       "                                             Tagging BookVOLS  Unnamed:_17  \n",
       "0                        Quran @QB@ @QE@ Hadith @HB@        1          NaN  \n",
       "1  Books ### |  Chapters ### || Subchapters ### |...        8          NaN  \n",
       "2       Books ### | Chapters ### ||  Quran @QB@ @QE@        1          NaN  \n",
       "3      Chapters ### ||  Quran @QB@ @QE@  Hadith @HB@        1          NaN  \n",
       "4                                    Chapters ### ||        2          NaN  "
      ]
     },
     "execution_count": 8,
     "metadata": {},
     "output_type": "execute_result"
    }
   ],
   "source": [
    "md.head()"
   ]
  },
  {
   "cell_type": "code",
   "execution_count": 10,
   "metadata": {},
   "outputs": [],
   "source": [
    "# Drop unnamed column\n",
    "md = md.drop(md.columns[-1], axis=1)"
   ]
  },
  {
   "cell_type": "code",
   "execution_count": 11,
   "metadata": {},
   "outputs": [],
   "source": [
    "md.to_csv(md_file, index=False, encoding='utf-8')"
   ]
  },
  {
   "cell_type": "code",
   "execution_count": null,
   "metadata": {},
   "outputs": [],
   "source": []
  }
 ],
 "metadata": {
  "kernelspec": {
   "display_name": "Python [conda env:adh]",
   "language": "python",
   "name": "conda-env-adh-py"
  },
  "language_info": {
   "codemirror_mode": {
    "name": "ipython",
    "version": 3
   },
   "file_extension": ".py",
   "mimetype": "text/x-python",
   "name": "python",
   "nbconvert_exporter": "python",
   "pygments_lexer": "ipython3",
   "version": "3.7.0"
  }
 },
 "nbformat": 4,
 "nbformat_minor": 2
}
