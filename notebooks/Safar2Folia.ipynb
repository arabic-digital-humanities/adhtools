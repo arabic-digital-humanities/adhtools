{
 "cells": [
  {
   "cell_type": "code",
   "execution_count": null,
   "metadata": {},
   "outputs": [],
   "source": [
    "from pynlpl.formats import folia\n",
    "from lxml import etree"
   ]
  },
  {
   "cell_type": "code",
   "execution_count": null,
   "metadata": {},
   "outputs": [],
   "source": [
    "# Results are different for other analyzer\n",
    "# TODO: make sure we have sentence boundaries\n",
    "fp = '/media/sf_VBox_Shared/Arabic/stemmer-output/results_BAMA.xml'\n",
    "with open(fp) as f:\n",
    "    safar_el = etree.parse(f)"
   ]
  },
  {
   "cell_type": "code",
   "execution_count": null,
   "metadata": {},
   "outputs": [],
   "source": [
    "doc = folia.Document(id='test')\n",
    "# TODO: have proper definition of POS tags\n",
    "pos_set = 'http://somewhere/my-pos'\n",
    "doc.declare(folia.PosAnnotation, pos_set)"
   ]
  },
  {
   "cell_type": "code",
   "execution_count": null,
   "metadata": {},
   "outputs": [],
   "source": [
    "folia.MetaDataType?"
   ]
  },
  {
   "cell_type": "code",
   "execution_count": null,
   "metadata": {},
   "outputs": [],
   "source": [
    "text = doc.add(folia.Text)"
   ]
  },
  {
   "cell_type": "code",
   "execution_count": null,
   "metadata": {},
   "outputs": [],
   "source": [
    "for w in safar_el.iter('word'):\n",
    "    print(w.attrib['value'])\n",
    "    folia_word = text.add(folia.Word, w.attrib['value'])\n",
    "    analyses = list(w.iter('analysis'))\n",
    "    if len(analyses)>0:\n",
    "        a = analyses[-1]\n",
    "        folia_word.add(folia.PosAnnotation, set=pos_set, cls=a.attrib['pos'])"
   ]
  },
  {
   "cell_type": "code",
   "execution_count": null,
   "metadata": {},
   "outputs": [],
   "source": [
    "print(doc)"
   ]
  },
  {
   "cell_type": "code",
   "execution_count": null,
   "metadata": {},
   "outputs": [],
   "source": [
    "fp_out = '/media/sf_VBox_Shared/Arabic/Folia/mabsut_sub.xml'\n",
    "doc.save(fp_out)"
   ]
  },
  {
   "cell_type": "code",
   "execution_count": null,
   "metadata": {},
   "outputs": [],
   "source": []
  }
 ],
 "metadata": {
  "language_info": {
   "name": "python",
   "pygments_lexer": "ipython3"
  }
 },
 "nbformat": 4,
 "nbformat_minor": 0
}
