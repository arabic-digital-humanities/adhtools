{
 "cells": [
  {
   "cell_type": "code",
   "execution_count": null,
   "metadata": {},
   "outputs": [],
   "source": [
    "%load_ext autoreload\n",
    "%autoreload 2"
   ]
  },
  {
   "cell_type": "code",
   "execution_count": null,
   "metadata": {},
   "outputs": [],
   "source": [
    "import numpy as np\n",
    "import pandas as pd\n",
    "\n",
    "from tqdm import tqdm_notebook as tqdm "
   ]
  },
  {
   "cell_type": "code",
   "execution_count": null,
   "metadata": {},
   "outputs": [],
   "source": [
    "metadata262 = pd.read_csv('/home/jvdzwaan/data/adh-corpora/dawa/262_metadata_merged.csv', index_col=0)\n",
    "metadata262"
   ]
  },
  {
   "cell_type": "code",
   "execution_count": null,
   "metadata": {},
   "outputs": [],
   "source": [
    "metadata278 = pd.read_csv('278_metadata.csv', index_col=0)\n",
    "metadata278"
   ]
  },
  {
   "cell_type": "code",
   "execution_count": null,
   "metadata": {},
   "outputs": [],
   "source": [
    "metadata = pd.read_csv('/home/jvdzwaan/data/adh-corpora/dawa/DawaMetadata.csv', index_col=0)\n",
    "metadata"
   ]
  },
  {
   "cell_type": "code",
   "execution_count": null,
   "metadata": {},
   "outputs": [],
   "source": [
    "metadata = metadata.dropna(subset=['Title'])"
   ]
  },
  {
   "cell_type": "code",
   "execution_count": null,
   "metadata": {},
   "outputs": [],
   "source": [
    "print(metadata.columns)\n",
    "print(metadata262.columns)\n",
    "print(metadata278.columns)"
   ]
  },
  {
   "cell_type": "code",
   "execution_count": null,
   "metadata": {},
   "outputs": [],
   "source": [
    "metadata.columns = ['BookURI', 'Title', 'Weblink', 'Birthdate', 'Deathdate', 'Author',\n",
    "       'Editor', 'Publisher', 'Place', 'Country', 'Year', 'Chapter',\n",
    "       'Section']\n",
    "metadata"
   ]
  },
  {
   "cell_type": "code",
   "execution_count": null,
   "metadata": {},
   "outputs": [],
   "source": [
    "metadata262.columns = ['BookURI', 'Title', 'TitleMarker', 'Collection', 'Weblink',\n",
    "       'Birthdate', 'Deathdate', 'Author', 'Editor', 'Publisher', 'Place',\n",
    "       'Country', 'Year', 'Chapter', 'Section']"
   ]
  },
  {
   "cell_type": "code",
   "execution_count": null,
   "metadata": {},
   "outputs": [],
   "source": [
    "metadata278.columns = ['BookURI', 'Title', 'Collection', 'Birthdate', 'Deathdate', 'Author',\n",
    "       'Editor', 'Publisher', 'Place', 'Country', 'Chapter', 'Section',\n",
    "       'Extra']"
   ]
  },
  {
   "cell_type": "code",
   "execution_count": null,
   "metadata": {},
   "outputs": [],
   "source": [
    "result = pd.concat([metadata, metadata262, metadata278])"
   ]
  },
  {
   "cell_type": "code",
   "execution_count": null,
   "metadata": {},
   "outputs": [],
   "source": [
    "result = result.reset_index()"
   ]
  },
  {
   "cell_type": "code",
   "execution_count": null,
   "metadata": {},
   "outputs": [],
   "source": [
    "result.columns"
   ]
  },
  {
   "cell_type": "code",
   "execution_count": null,
   "metadata": {},
   "outputs": [],
   "source": [
    "result[['BookURI', 'Title', 'Author', 'Birthdate', 'Deathdate', 'Year', 'Collection',\n",
    "       'Country', 'Place', 'Editor', 'Publisher', 'Weblink', 'Chapter', 'Section', 'Extra']]"
   ]
  },
  {
   "cell_type": "code",
   "execution_count": null,
   "metadata": {},
   "outputs": [],
   "source": [
    "result[['BookURI', 'Title', 'Author', 'Birthdate', 'Deathdate', 'Year', 'Collection',\n",
    "       'Country', 'Place', 'Editor', 'Publisher', 'Weblink', 'Chapter', 'Section', \n",
    "        'Extra']].to_csv('/home/jvdzwaan/data/adh-corpora/dawa/DawaMetadata.csv')"
   ]
  }
 ],
 "metadata": {
  "language_info": {
   "name": "python",
   "pygments_lexer": "ipython3"
  }
 },
 "nbformat": 4,
 "nbformat_minor": 2
}
