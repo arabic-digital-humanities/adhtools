{
 "cells": [
  {
   "cell_type": "code",
   "execution_count": 15,
   "metadata": {},
   "outputs": [],
   "source": [
    "%matplotlib inline\n",
    "import pandas as pd\n",
    "import os\n",
    "import matplotlib.pyplot as plt"
   ]
  },
  {
   "cell_type": "code",
   "execution_count": 21,
   "metadata": {},
   "outputs": [],
   "source": [
    "fpath = '/media/sf_VBox_Shared/Arabic/Analyses/'\n",
    "counts_category = pd.read_csv(os.path.join(fpath, 'fiqh-reasoning-aggregated.csv'))"
   ]
  },
  {
   "cell_type": "code",
   "execution_count": 22,
   "metadata": {},
   "outputs": [
    {
     "data": {
      "text/html": [
       "<div>\n",
       "<style>\n",
       "    .dataframe thead tr:only-child th {\n",
       "        text-align: right;\n",
       "    }\n",
       "\n",
       "    .dataframe thead th {\n",
       "        text-align: left;\n",
       "    }\n",
       "\n",
       "    .dataframe tbody tr th {\n",
       "        vertical-align: top;\n",
       "    }\n",
       "</style>\n",
       "<table border=\"1\" class=\"dataframe\">\n",
       "  <thead>\n",
       "    <tr style=\"text-align: right;\">\n",
       "      <th></th>\n",
       "      <th>BookURI</th>\n",
       "      <th>following</th>\n",
       "      <th>free</th>\n",
       "      <th>School</th>\n",
       "      <th>AuthorAKA</th>\n",
       "      <th>AuthorBORNH</th>\n",
       "      <th>AuthorBORNC</th>\n",
       "      <th>AuthorDIEDH</th>\n",
       "      <th>AuthorDIEDC</th>\n",
       "      <th>Century</th>\n",
       "      <th>Geographical_area</th>\n",
       "      <th>Number_of_tokens</th>\n",
       "      <th>century_n</th>\n",
       "    </tr>\n",
       "  </thead>\n",
       "  <tbody>\n",
       "    <tr>\n",
       "      <th>0</th>\n",
       "      <td>0179MalikIbnAnas.Muwatta</td>\n",
       "      <td>2.0</td>\n",
       "      <td>11.0</td>\n",
       "      <td>مالكي</td>\n",
       "      <td>مالك</td>\n",
       "      <td>93</td>\n",
       "      <td>711</td>\n",
       "      <td>179.0</td>\n",
       "      <td>795</td>\n",
       "      <td>2ndH/8thC and 3rdH/9thC century</td>\n",
       "      <td>Fertile Crescent</td>\n",
       "      <td>151424</td>\n",
       "      <td>2</td>\n",
       "    </tr>\n",
       "    <tr>\n",
       "      <th>1</th>\n",
       "      <td>0264IbnYahyaMuzani.Mukhtasar</td>\n",
       "      <td>3.0</td>\n",
       "      <td>10.0</td>\n",
       "      <td>شافعي</td>\n",
       "      <td>المزني</td>\n",
       "      <td>175</td>\n",
       "      <td>791-92</td>\n",
       "      <td>264.0</td>\n",
       "      <td>877-78</td>\n",
       "      <td>2ndH/8thC and 3rdH/9thC century</td>\n",
       "      <td>Fertile Crescent</td>\n",
       "      <td>201828</td>\n",
       "      <td>2</td>\n",
       "    </tr>\n",
       "    <tr>\n",
       "      <th>2</th>\n",
       "      <td>0274AhmadBarqi.Mahasin</td>\n",
       "      <td>0.0</td>\n",
       "      <td>7.0</td>\n",
       "      <td>شيعي</td>\n",
       "      <td>أبو جعفر البرقي</td>\n",
       "      <td>NODATA</td>\n",
       "      <td>NODATA</td>\n",
       "      <td>274.0</td>\n",
       "      <td>887</td>\n",
       "      <td>2ndH/8thC and 3rdH/9thC century</td>\n",
       "      <td>Fertile Crescent</td>\n",
       "      <td>145940</td>\n",
       "      <td>2</td>\n",
       "    </tr>\n",
       "    <tr>\n",
       "      <th>3</th>\n",
       "      <td>0334IbnHusaynKhiraqi.MukhtasarMinMasailIbnHanbal</td>\n",
       "      <td>0.0</td>\n",
       "      <td>3.0</td>\n",
       "      <td>حنبلي</td>\n",
       "      <td>الخرقي</td>\n",
       "      <td>NODATA</td>\n",
       "      <td>NODATA</td>\n",
       "      <td>334.0</td>\n",
       "      <td>945/946</td>\n",
       "      <td>4th/10th century</td>\n",
       "      <td>Fertile Crescent</td>\n",
       "      <td>36539</td>\n",
       "      <td>4</td>\n",
       "    </tr>\n",
       "    <tr>\n",
       "      <th>4</th>\n",
       "      <td>0373AbuLaythSamarqandi.CuyunMasail</td>\n",
       "      <td>1.0</td>\n",
       "      <td>0.0</td>\n",
       "      <td>حنفي</td>\n",
       "      <td>أبو الليث السمرقندي</td>\n",
       "      <td>333</td>\n",
       "      <td>944/945</td>\n",
       "      <td>373.0</td>\n",
       "      <td>983-84</td>\n",
       "      <td>4th/10th century</td>\n",
       "      <td>Fertile Crescent</td>\n",
       "      <td>89370</td>\n",
       "      <td>4</td>\n",
       "    </tr>\n",
       "  </tbody>\n",
       "</table>\n",
       "</div>"
      ],
      "text/plain": [
       "                                            BookURI  following  free School  \\\n",
       "0                          0179MalikIbnAnas.Muwatta        2.0  11.0  مالكي   \n",
       "1                      0264IbnYahyaMuzani.Mukhtasar        3.0  10.0  شافعي   \n",
       "2                            0274AhmadBarqi.Mahasin        0.0   7.0   شيعي   \n",
       "3  0334IbnHusaynKhiraqi.MukhtasarMinMasailIbnHanbal        0.0   3.0  حنبلي   \n",
       "4                0373AbuLaythSamarqandi.CuyunMasail        1.0   0.0   حنفي   \n",
       "\n",
       "             AuthorAKA AuthorBORNH AuthorBORNC  AuthorDIEDH AuthorDIEDC  \\\n",
       "0                 مالك          93         711        179.0         795   \n",
       "1               المزني         175      791-92        264.0      877-78   \n",
       "2      أبو جعفر البرقي      NODATA      NODATA        274.0         887   \n",
       "3               الخرقي      NODATA      NODATA        334.0     945/946   \n",
       "4  أبو الليث السمرقندي         333     944/945        373.0      983-84   \n",
       "\n",
       "                           Century Geographical_area  Number_of_tokens  \\\n",
       "0  2ndH/8thC and 3rdH/9thC century  Fertile Crescent            151424   \n",
       "1  2ndH/8thC and 3rdH/9thC century  Fertile Crescent            201828   \n",
       "2  2ndH/8thC and 3rdH/9thC century  Fertile Crescent            145940   \n",
       "3                 4th/10th century  Fertile Crescent             36539   \n",
       "4                 4th/10th century  Fertile Crescent             89370   \n",
       "\n",
       "   century_n  \n",
       "0          2  \n",
       "1          2  \n",
       "2          2  \n",
       "3          4  \n",
       "4          4  "
      ]
     },
     "execution_count": 22,
     "metadata": {},
     "output_type": "execute_result"
    }
   ],
   "source": [
    "counts_category.head()"
   ]
  },
  {
   "cell_type": "markdown",
   "metadata": {},
   "source": [
    "How much more often do words related to 'free reasoning' occur, compared to 'following existing reasoning'?"
   ]
  },
  {
   "cell_type": "code",
   "execution_count": 60,
   "metadata": {},
   "outputs": [
    {
     "name": "stdout",
     "output_type": "stream",
     "text": [
      "3.37278390034\n"
     ]
    }
   ],
   "source": [
    "print(counts_category.free.sum() / counts_category.following.sum())"
   ]
  },
  {
   "cell_type": "markdown",
   "metadata": {},
   "source": [
    "## By school\n",
    "We divide the text per school, and look at what percentage of the total words refers to 'free reasoning' and 'following existing reasoning'"
   ]
  },
  {
   "cell_type": "code",
   "execution_count": 26,
   "metadata": {},
   "outputs": [
    {
     "data": {
      "text/html": [
       "<div>\n",
       "<style>\n",
       "    .dataframe thead tr:only-child th {\n",
       "        text-align: right;\n",
       "    }\n",
       "\n",
       "    .dataframe thead th {\n",
       "        text-align: left;\n",
       "    }\n",
       "\n",
       "    .dataframe tbody tr th {\n",
       "        vertical-align: top;\n",
       "    }\n",
       "</style>\n",
       "<table border=\"1\" class=\"dataframe\">\n",
       "  <thead>\n",
       "    <tr style=\"text-align: right;\">\n",
       "      <th></th>\n",
       "      <th>following</th>\n",
       "      <th>free</th>\n",
       "    </tr>\n",
       "    <tr>\n",
       "      <th>School</th>\n",
       "      <th></th>\n",
       "      <th></th>\n",
       "    </tr>\n",
       "  </thead>\n",
       "  <tbody>\n",
       "    <tr>\n",
       "      <th>حنبلي</th>\n",
       "      <td>0.000036</td>\n",
       "      <td>0.000124</td>\n",
       "    </tr>\n",
       "    <tr>\n",
       "      <th>حنفي</th>\n",
       "      <td>0.000037</td>\n",
       "      <td>0.000119</td>\n",
       "    </tr>\n",
       "    <tr>\n",
       "      <th>شافعي</th>\n",
       "      <td>0.000076</td>\n",
       "      <td>0.000267</td>\n",
       "    </tr>\n",
       "    <tr>\n",
       "      <th>شيعي</th>\n",
       "      <td>0.000034</td>\n",
       "      <td>0.000109</td>\n",
       "    </tr>\n",
       "    <tr>\n",
       "      <th>مالكي</th>\n",
       "      <td>0.000039</td>\n",
       "      <td>0.000138</td>\n",
       "    </tr>\n",
       "  </tbody>\n",
       "</table>\n",
       "</div>"
      ],
      "text/plain": [
       "        following      free\n",
       "School                     \n",
       "حنبلي    0.000036  0.000124\n",
       "حنفي     0.000037  0.000119\n",
       "شافعي    0.000076  0.000267\n",
       "شيعي     0.000034  0.000109\n",
       "مالكي    0.000039  0.000138"
      ]
     },
     "execution_count": 26,
     "metadata": {},
     "output_type": "execute_result"
    }
   ],
   "source": [
    "by_school = counts_category.groupby(['School']).sum()[['following', 'free', 'Number_of_tokens']]\n",
    "by_school = by_school[['following', 'free']].divide(by_school.Number_of_tokens, axis=0)\n",
    "by_school"
   ]
  },
  {
   "cell_type": "markdown",
   "metadata": {},
   "source": [
    "How much more often does free occur compared to following?"
   ]
  },
  {
   "cell_type": "code",
   "execution_count": 62,
   "metadata": {},
   "outputs": [
    {
     "data": {
      "text/plain": [
       "School\n",
       "حنبلي    3.408284\n",
       "حنفي     3.174840\n",
       "شافعي    3.512668\n",
       "شيعي     3.187179\n",
       "مالكي    3.541237\n",
       "dtype: float64"
      ]
     },
     "execution_count": 62,
     "metadata": {},
     "output_type": "execute_result"
    }
   ],
   "source": [
    "by_school.free / by_school.following"
   ]
  },
  {
   "cell_type": "markdown",
   "metadata": {},
   "source": [
    "Let's plot these percentages. The higher the total bar, the more often these words appear in the text, relatively"
   ]
  },
  {
   "cell_type": "code",
   "execution_count": 41,
   "metadata": {},
   "outputs": [
    {
     "data": {
      "image/png": "[encoded data removed]",
      "text/plain": [
       "<matplotlib.figure.Figure at 0x7f98e5413940>"
      ]
     },
     "metadata": {},
     "output_type": "display_data"
    }
   ],
   "source": [
    "import matplotlib.ticker as ticker\n",
    "ax = (by_school*100).plot(kind='bar', stacked=True)\n",
    "plt.title('Categories as percentages of total texts')\n",
    "ax.yaxis.set_major_formatter(ticker.FormatStrFormatter('%1.3f%%'))\n",
    "plt.show()"
   ]
  },
  {
   "cell_type": "markdown",
   "metadata": {},
   "source": [
    "The same plot, but then the bars not stacked, to more clearly see the difference in height"
   ]
  },
  {
   "cell_type": "code",
   "execution_count": 40,
   "metadata": {},
   "outputs": [
    {
     "data": {
      "image/png": "[encoded data removed]",
      "text/plain": [
       "<matplotlib.figure.Figure at 0x7f98e5584470>"
      ]
     },
     "metadata": {},
     "output_type": "display_data"
    }
   ],
   "source": [
    "ax = (by_school*100).plot(kind='bar', stacked=False)\n",
    "plt.title('Categories as percentages of total texts')\n",
    "ax.yaxis.set_major_formatter(ticker.FormatStrFormatter('%1.3f%%'))\n",
    "plt.show()"
   ]
  },
  {
   "cell_type": "markdown",
   "metadata": {},
   "source": [
    "## Over centuries\n",
    "We create the same counts and plots, but now for the centuries.\n",
    "But first check how many books we have per century "
   ]
  },
  {
   "cell_type": "code",
   "execution_count": 51,
   "metadata": {},
   "outputs": [
    {
     "data": {
      "text/plain": [
       "<matplotlib.axes._subplots.AxesSubplot at 0x7f98e4b246d8>"
      ]
     },
     "execution_count": 51,
     "metadata": {},
     "output_type": "execute_result"
    },
    {
     "data": {
      "image/png": "[encoded data removed]",
      "text/plain": [
       "<matplotlib.figure.Figure at 0x7f98e4b34048>"
      ]
     },
     "metadata": {},
     "output_type": "display_data"
    }
   ],
   "source": [
    "counts_category.century_n.value_counts(sort=False).plot(kind='bar')"
   ]
  },
  {
   "cell_type": "code",
   "execution_count": 52,
   "metadata": {},
   "outputs": [
    {
     "data": {
      "text/html": [
       "<div>\n",
       "<style>\n",
       "    .dataframe thead tr:only-child th {\n",
       "        text-align: right;\n",
       "    }\n",
       "\n",
       "    .dataframe thead th {\n",
       "        text-align: left;\n",
       "    }\n",
       "\n",
       "    .dataframe tbody tr th {\n",
       "        vertical-align: top;\n",
       "    }\n",
       "</style>\n",
       "<table border=\"1\" class=\"dataframe\">\n",
       "  <thead>\n",
       "    <tr style=\"text-align: right;\">\n",
       "      <th></th>\n",
       "      <th>following</th>\n",
       "      <th>free</th>\n",
       "    </tr>\n",
       "    <tr>\n",
       "      <th>century_n</th>\n",
       "      <th></th>\n",
       "      <th></th>\n",
       "    </tr>\n",
       "  </thead>\n",
       "  <tbody>\n",
       "    <tr>\n",
       "      <th>2</th>\n",
       "      <td>0.000010</td>\n",
       "      <td>0.000056</td>\n",
       "    </tr>\n",
       "    <tr>\n",
       "      <th>4</th>\n",
       "      <td>0.000009</td>\n",
       "      <td>0.000103</td>\n",
       "    </tr>\n",
       "    <tr>\n",
       "      <th>5</th>\n",
       "      <td>0.000058</td>\n",
       "      <td>0.000218</td>\n",
       "    </tr>\n",
       "    <tr>\n",
       "      <th>6</th>\n",
       "      <td>0.000030</td>\n",
       "      <td>0.000113</td>\n",
       "    </tr>\n",
       "    <tr>\n",
       "      <th>7</th>\n",
       "      <td>0.000030</td>\n",
       "      <td>0.000106</td>\n",
       "    </tr>\n",
       "    <tr>\n",
       "      <th>8</th>\n",
       "      <td>0.000059</td>\n",
       "      <td>0.000136</td>\n",
       "    </tr>\n",
       "    <tr>\n",
       "      <th>9</th>\n",
       "      <td>0.000035</td>\n",
       "      <td>0.000129</td>\n",
       "    </tr>\n",
       "    <tr>\n",
       "      <th>10</th>\n",
       "      <td>0.000045</td>\n",
       "      <td>0.000149</td>\n",
       "    </tr>\n",
       "    <tr>\n",
       "      <th>11</th>\n",
       "      <td>0.000042</td>\n",
       "      <td>0.000174</td>\n",
       "    </tr>\n",
       "    <tr>\n",
       "      <th>12</th>\n",
       "      <td>0.000055</td>\n",
       "      <td>0.000176</td>\n",
       "    </tr>\n",
       "    <tr>\n",
       "      <th>13</th>\n",
       "      <td>0.000049</td>\n",
       "      <td>0.000143</td>\n",
       "    </tr>\n",
       "  </tbody>\n",
       "</table>\n",
       "</div>"
      ],
      "text/plain": [
       "           following      free\n",
       "century_n                     \n",
       "2           0.000010  0.000056\n",
       "4           0.000009  0.000103\n",
       "5           0.000058  0.000218\n",
       "6           0.000030  0.000113\n",
       "7           0.000030  0.000106\n",
       "8           0.000059  0.000136\n",
       "9           0.000035  0.000129\n",
       "10          0.000045  0.000149\n",
       "11          0.000042  0.000174\n",
       "12          0.000055  0.000176\n",
       "13          0.000049  0.000143"
      ]
     },
     "execution_count": 52,
     "metadata": {},
     "output_type": "execute_result"
    }
   ],
   "source": [
    "by_century = counts_category.groupby(['century_n']).sum()[['following', 'free', 'Number_of_tokens']]\n",
    "by_century = by_century[['following', 'free']].divide(by_century.Number_of_tokens, axis=0)\n",
    "by_century"
   ]
  },
  {
   "cell_type": "markdown",
   "metadata": {},
   "source": [
    "How much more often does free occur?"
   ]
  },
  {
   "cell_type": "code",
   "execution_count": 61,
   "metadata": {},
   "outputs": [
    {
     "data": {
      "text/plain": [
       "century_n\n",
       "2      5.600000\n",
       "4     11.294118\n",
       "5      3.730667\n",
       "6      3.764706\n",
       "7      3.523490\n",
       "8      2.287805\n",
       "9      3.674157\n",
       "10     3.328205\n",
       "11     4.145161\n",
       "12     3.169550\n",
       "13     2.921875\n",
       "dtype: float64"
      ]
     },
     "execution_count": 61,
     "metadata": {},
     "output_type": "execute_result"
    }
   ],
   "source": [
    "by_century.free / by_century.following"
   ]
  },
  {
   "cell_type": "code",
   "execution_count": 43,
   "metadata": {},
   "outputs": [
    {
     "data": {
      "image/png": "[encoded data removed]",
      "text/plain": [
       "<matplotlib.figure.Figure at 0x7f98e4bec160>"
      ]
     },
     "metadata": {},
     "output_type": "display_data"
    }
   ],
   "source": [
    "ax = (by_century*100).plot(kind='bar', stacked=True)\n",
    "plt.title('Categories as percentages of total texts')\n",
    "ax.yaxis.set_major_formatter(ticker.FormatStrFormatter('%1.3f%%'))\n",
    "plt.show()"
   ]
  },
  {
   "cell_type": "code",
   "execution_count": 53,
   "metadata": {},
   "outputs": [
    {
     "data": {
      "image/png": "[encoded data removed]",
      "text/plain": [
       "<matplotlib.figure.Figure at 0x7f98e556df60>"
      ]
     },
     "metadata": {},
     "output_type": "display_data"
    }
   ],
   "source": [
    "ax = (by_century*100).plot(kind='bar', stacked=False)\n",
    "plt.title('Categories as percentages of total texts')\n",
    "ax.yaxis.set_major_formatter(ticker.FormatStrFormatter('%1.3f%%'))\n",
    "plt.show()"
   ]
  },
  {
   "cell_type": "markdown",
   "metadata": {},
   "source": [
    "## Per region\n",
    "The same plots for the regions"
   ]
  },
  {
   "cell_type": "code",
   "execution_count": 54,
   "metadata": {},
   "outputs": [
    {
     "data": {
      "text/html": [
       "<div>\n",
       "<style>\n",
       "    .dataframe thead tr:only-child th {\n",
       "        text-align: right;\n",
       "    }\n",
       "\n",
       "    .dataframe thead th {\n",
       "        text-align: left;\n",
       "    }\n",
       "\n",
       "    .dataframe tbody tr th {\n",
       "        vertical-align: top;\n",
       "    }\n",
       "</style>\n",
       "<table border=\"1\" class=\"dataframe\">\n",
       "  <thead>\n",
       "    <tr style=\"text-align: right;\">\n",
       "      <th></th>\n",
       "      <th>following</th>\n",
       "      <th>free</th>\n",
       "    </tr>\n",
       "    <tr>\n",
       "      <th>Geographical_area</th>\n",
       "      <th></th>\n",
       "      <th></th>\n",
       "    </tr>\n",
       "  </thead>\n",
       "  <tbody>\n",
       "    <tr>\n",
       "      <th>Anatolia and Balkans</th>\n",
       "      <td>0.000029</td>\n",
       "      <td>0.000106</td>\n",
       "    </tr>\n",
       "    <tr>\n",
       "      <th>Arabian Peninsula</th>\n",
       "      <td>0.000118</td>\n",
       "      <td>0.000163</td>\n",
       "    </tr>\n",
       "    <tr>\n",
       "      <th>Fertile Crescent</th>\n",
       "      <td>0.000048</td>\n",
       "      <td>0.000158</td>\n",
       "    </tr>\n",
       "    <tr>\n",
       "      <th>Greater Khorasan</th>\n",
       "      <td>0.000031</td>\n",
       "      <td>0.000129</td>\n",
       "    </tr>\n",
       "    <tr>\n",
       "      <th>Iran</th>\n",
       "      <td>0.000056</td>\n",
       "      <td>0.000144</td>\n",
       "    </tr>\n",
       "    <tr>\n",
       "      <th>Islamic West</th>\n",
       "      <td>0.000020</td>\n",
       "      <td>0.000124</td>\n",
       "    </tr>\n",
       "  </tbody>\n",
       "</table>\n",
       "</div>"
      ],
      "text/plain": [
       "                      following      free\n",
       "Geographical_area                        \n",
       "Anatolia and Balkans   0.000029  0.000106\n",
       "Arabian Peninsula      0.000118  0.000163\n",
       "Fertile Crescent       0.000048  0.000158\n",
       "Greater Khorasan       0.000031  0.000129\n",
       "Iran                   0.000056  0.000144\n",
       "Islamic West           0.000020  0.000124"
      ]
     },
     "execution_count": 54,
     "metadata": {},
     "output_type": "execute_result"
    }
   ],
   "source": [
    "by_region = counts_category.groupby(['Geographical_area']).sum()[['following', 'free', 'Number_of_tokens']]\n",
    "by_region = by_region[['following', 'free']].divide(by_region.Number_of_tokens, axis=0)\n",
    "by_region"
   ]
  },
  {
   "cell_type": "code",
   "execution_count": 57,
   "metadata": {},
   "outputs": [
    {
     "data": {
      "text/plain": [
       "Geographical_area\n",
       "Anatolia and Balkans    3.705882\n",
       "Arabian Peninsula       1.389381\n",
       "Fertile Crescent        3.281541\n",
       "Greater Khorasan        4.199170\n",
       "Iran                    2.550847\n",
       "Islamic West            6.130435\n",
       "dtype: float64"
      ]
     },
     "execution_count": 57,
     "metadata": {},
     "output_type": "execute_result"
    }
   ],
   "source": [
    "by_region.free / by_region.following"
   ]
  },
  {
   "cell_type": "code",
   "execution_count": 55,
   "metadata": {},
   "outputs": [
    {
     "data": {
      "image/png": "[encoded data removed]",
      "text/plain": [
       "<matplotlib.figure.Figure at 0x7f98e4b4b198>"
      ]
     },
     "metadata": {},
     "output_type": "display_data"
    }
   ],
   "source": [
    "ax = (by_region*100).plot(kind='bar', stacked=True)\n",
    "plt.title('Categories as percentages of total texts')\n",
    "ax.yaxis.set_major_formatter(ticker.FormatStrFormatter('%1.3f%%'))\n",
    "plt.show()"
   ]
  },
  {
   "cell_type": "code",
   "execution_count": null,
   "metadata": {},
   "outputs": [],
   "source": []
  }
 ],
 "metadata": {
  "kernelspec": {
   "display_name": "Python [conda env:adh]",
   "language": "python",
   "name": "conda-env-adh-py"
  },
  "language_info": {
   "codemirror_mode": {
    "name": "ipython",
    "version": 3
   },
   "file_extension": ".py",
   "mimetype": "text/x-python",
   "name": "python",
   "nbconvert_exporter": "python",
   "pygments_lexer": "ipython3",
   "version": "3.6.2"
  }
 },
 "nbformat": 4,
 "nbformat_minor": 2
}
