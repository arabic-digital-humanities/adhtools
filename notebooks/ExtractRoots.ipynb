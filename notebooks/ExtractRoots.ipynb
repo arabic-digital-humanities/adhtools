{
 "cells": [
  {
   "cell_type": "code",
   "execution_count": 30,
   "metadata": {},
   "outputs": [],
   "source": [
    "import os\n",
    "from bs4 import BeautifulSoup\n",
    "import pandas as pd\n",
    "import itertools"
   ]
  },
  {
   "cell_type": "code",
   "execution_count": 74,
   "metadata": {},
   "outputs": [],
   "source": [
    "## Read the XML files\n",
    "def extract_from_xml(search_roots, filenames):\n",
    "    metadata = []\n",
    "    matched_words = []\n",
    "    for filename in filenames:\n",
    "        with open(filename) as fn:\n",
    "            xml_data = BeautifulSoup(fn, 'xml')\n",
    "            meta_dict = {meta['name']: meta.text.strip() for meta in xml_data.metadata.find_all('meta')}\n",
    "            #meta_dict['Bookname'] = dirname\n",
    "            #meta_dict['Filename'] = filename\n",
    "            metadata.append(meta_dict)\n",
    "\n",
    "            # loop over words and match with the searched words\n",
    "            # To do: do not include roots that are not within the search set\n",
    "            for word in xml_data.morphology_analysis.find_all('word'):\n",
    "                roots = set([a.get('root', '') for a in word.find_all('analysis')])\n",
    "                if not set(search_roots).isdisjoint(roots):\n",
    "                    matched_words.append((filename, word.attrs, [a.attrs for a in word.find_all('analysis')]))\n",
    "                    \n",
    "    # # Put all results in a dataframe\n",
    "    df_total = pd.DataFrame()\n",
    "    for filename, word_dict, analyses in matched_words:\n",
    "        df_analyses = pd.DataFrame(analyses)\n",
    "        df_analyses['Filename'] = os.path.basename(filename)\n",
    "        for att in word_dict:\n",
    "            df_analyses[att] = word_dict[att]\n",
    "        df_total = df_total.append(df_analyses)\n",
    "    return metadata, df_total"
   ]
  },
  {
   "cell_type": "code",
   "execution_count": 75,
   "metadata": {},
   "outputs": [],
   "source": [
    "## Read the csv files\n",
    "def extract_from_csv(search_roots, filenames):\n",
    "    df_total = pd.DataFrame()\n",
    "    for i in range(len(filenames)):\n",
    "        if i%1000==0:\n",
    "            print(i)\n",
    "        filename = filenames[i]\n",
    "        df_sub = pd.read_csv(filename, index_col=0)\n",
    "        df_sub = df_sub[df_sub.root.isin(search_roots)]\n",
    "        df_total = df_total.append(df_sub)\n",
    "    return df_total"
   ]
  },
  {
   "cell_type": "code",
   "execution_count": 25,
   "metadata": {},
   "outputs": [],
   "source": [
    "from lxml import etree\n",
    "from tqdm import tqdm\n",
    "import pandas as pd\n",
    "\n",
    "def analyzer_xml2df2(fname, filter_roots=None, filter_stems=None, filter_words=None):\n",
    "    result = []\n",
    "    \n",
    "    # Extract the words\n",
    "    context = etree.iterparse(fname, events=('end', ), tag=('word'))\n",
    "    for event, elem in tqdm(context):\n",
    "        word = elem.attrib['value']\n",
    "        if word != '' and (filter_words is None or word in filter_words):\n",
    "            roots = []\n",
    "            stems = []\n",
    "            for a in elem.getchildren():\n",
    "                if a.tag == 'analysis':\n",
    "                    try:\n",
    "                        roots.append(a.attrib['root'])\n",
    "                    except:\n",
    "                        pass\n",
    "                    try:\n",
    "                        stems.append(a.attrib['stem'])\n",
    "                    except:\n",
    "                        pass\n",
    "            roots = list(set(roots))\n",
    "            stems = list(set(stems))\n",
    "            if len(roots) == 0:\n",
    "                roots.append('NOANALYSIS')\n",
    "            if len(stems) == 0:\n",
    "                stems.append('NOANALYSIS')\n",
    "            if filter_roots is None or not set(filter_roots).isdisjoint(set(roots)):\n",
    "                if filter_stems is None or not set(filter_stems).isdisjoint(set(stems)):\n",
    "                    result.append({'word': elem.attrib['value'], 'proposed_root': '\\\\'.join(roots), 'proposed_stem': '\\\\'.join(stems)})\n",
    "        \n",
    "        # make iteration over context fast and consume less memory\n",
    "        #https://www.ibm.com/developerworks/xml/library/x-hiperfparse\n",
    "        elem.clear()\n",
    "        while elem.getprevious() is not None:\n",
    "            del elem.getparent()[0]\n",
    "    \n",
    "    return pd.DataFrame(result)"
   ]
  },
  {
   "cell_type": "markdown",
   "metadata": {},
   "source": [
    "## Free reasoning"
   ]
  },
  {
   "cell_type": "code",
   "execution_count": 58,
   "metadata": {},
   "outputs": [],
   "source": [
    "stems_dict = {\n",
    "    u'اجتهاد': 'free',\n",
    "    u'مجتهد': 'free',\n",
    "    u'مقلد': 'following',\n",
    "    u'تقليد': 'following'\n",
    "}\n",
    "\n",
    "\n",
    "stems_list = stems_dict.keys()"
   ]
  },
  {
   "cell_type": "code",
   "execution_count": 34,
   "metadata": {},
   "outputs": [
    {
     "name": "stderr",
     "output_type": "stream",
     "text": [
      "639it [00:00, 6240.20it/s]"
     ]
    },
    {
     "name": "stdout",
     "output_type": "stream",
     "text": [
      "0179MalikIbnAnas.Muwatta.xml\n"
     ]
    },
    {
     "name": "stderr",
     "output_type": "stream",
     "text": [
      "131338it [00:08, 15041.65it/s]\n",
      "604it [00:00, 6031.10it/s]"
     ]
    },
    {
     "name": "stdout",
     "output_type": "stream",
     "text": [
      "0182AbuYusufYacqub.Kharaj.xml\n"
     ]
    },
    {
     "name": "stderr",
     "output_type": "stream",
     "text": [
      "63518it [00:05, 12419.39it/s]\n",
      "530it [00:00, 5286.32it/s]"
     ]
    },
    {
     "name": "stdout",
     "output_type": "stream",
     "text": [
      "0264IbnYahyaMuzani.Mukhtasar.xml\n"
     ]
    },
    {
     "name": "stderr",
     "output_type": "stream",
     "text": [
      "168993it [00:11, 14840.28it/s]\n",
      "932it [00:00, 9315.90it/s]"
     ]
    },
    {
     "name": "stdout",
     "output_type": "stream",
     "text": [
      "0274AhmadBarqi.Mahasin.xml\n"
     ]
    },
    {
     "name": "stderr",
     "output_type": "stream",
     "text": [
      "119926it [00:07, 15157.21it/s]\n",
      "551it [00:00, 5495.79it/s]"
     ]
    },
    {
     "name": "stdout",
     "output_type": "stream",
     "text": [
      "0311AbuBakrKhallal.WuqufWaTarajjul.xml\n"
     ]
    },
    {
     "name": "stderr",
     "output_type": "stream",
     "text": [
      "28239it [00:02, 11107.63it/s]\n",
      "658it [00:00, 6559.89it/s]"
     ]
    },
    {
     "name": "stdout",
     "output_type": "stream",
     "text": [
      "0334IbnHusaynKhiraqi.MukhtasarMinMasailIbnHanbal.xml\n"
     ]
    },
    {
     "name": "stderr",
     "output_type": "stream",
     "text": [
      "29891it [00:02, 12555.86it/s]\n",
      "876it [00:00, 8758.00it/s]"
     ]
    },
    {
     "name": "stdout",
     "output_type": "stream",
     "text": [
      "0373AbuLaythSamarqandi.CuyunMasail.xml\n"
     ]
    },
    {
     "name": "stderr",
     "output_type": "stream",
     "text": [
      "48316it [00:04, 11680.61it/s]\n",
      "494it [00:00, 4760.29it/s]"
     ]
    },
    {
     "name": "stdout",
     "output_type": "stream",
     "text": [
      "0381IbnBabawayh.Hidaya.xml\n"
     ]
    },
    {
     "name": "stderr",
     "output_type": "stream",
     "text": [
      "17888it [00:01, 14400.27it/s]\n",
      "1254it [00:00, 12536.16it/s]"
     ]
    },
    {
     "name": "stdout",
     "output_type": "stream",
     "text": [
      "0386IbnAbiZaydQayrawani.NawadirWaZiyadat.xml\n"
     ]
    },
    {
     "name": "stderr",
     "output_type": "stream",
     "text": [
      "1566042it [01:27, 17855.02it/s]\n",
      "754it [00:00, 7499.69it/s]"
     ]
    },
    {
     "name": "stdout",
     "output_type": "stream",
     "text": [
      "0415IbnMuhammadMahamili.LubabFiFiqhShafici.xml\n"
     ]
    },
    {
     "name": "stderr",
     "output_type": "stream",
     "text": [
      "26278it [00:01, 18296.80it/s]\n",
      "1228it [00:00, 12172.08it/s]"
     ]
    },
    {
     "name": "stdout",
     "output_type": "stream",
     "text": [
      "0422QadiCabdWahhabThaclabi.IkmalMuCallim.xml\n"
     ]
    },
    {
     "name": "stderr",
     "output_type": "stream",
     "text": [
      "1131695it [01:01, 18478.54it/s]\n",
      "1095it [00:00, 10938.61it/s]"
     ]
    },
    {
     "name": "stdout",
     "output_type": "stream",
     "text": [
      "0450AbuHasanMawardi.HawiKabir.xml\n"
     ]
    },
    {
     "name": "stderr",
     "output_type": "stream",
     "text": [
      "2563290it [03:11, 13409.37it/s]\n",
      "845it [00:00, 8443.91it/s]"
     ]
    },
    {
     "name": "stdout",
     "output_type": "stream",
     "text": [
      "0458QadiAbuYacla.MasailFiqhyya.xml\n"
     ]
    },
    {
     "name": "stderr",
     "output_type": "stream",
     "text": [
      "152023it [00:12, 12266.07it/s]\n",
      "627it [00:00, 6267.56it/s]"
     ]
    },
    {
     "name": "stdout",
     "output_type": "stream",
     "text": [
      "0460ShaykhTusi.Mabsut.xml\n"
     ]
    },
    {
     "name": "stderr",
     "output_type": "stream",
     "text": [
      "748994it [01:02, 12063.01it/s]\n",
      "588it [00:00, 5495.58it/s]"
     ]
    },
    {
     "name": "stdout",
     "output_type": "stream",
     "text": [
      "0463IbnCabdBarr.KafiFiFiqh.xml\n"
     ]
    },
    {
     "name": "stderr",
     "output_type": "stream",
     "text": [
      "187213it [00:13, 13825.88it/s]\n",
      "447it [00:00, 4080.49it/s]"
     ]
    },
    {
     "name": "stdout",
     "output_type": "stream",
     "text": [
      "0483IbnAhmadSarakhsi.Mabsut.xml\n"
     ]
    },
    {
     "name": "stderr",
     "output_type": "stream",
     "text": [
      "2368787it [03:14, 12190.92it/s]\n",
      "985it [00:00, 9846.37it/s]"
     ]
    },
    {
     "name": "stdout",
     "output_type": "stream",
     "text": [
      "0507AbuBakrShashi.HilyaCulama.xml\n"
     ]
    },
    {
     "name": "stderr",
     "output_type": "stream",
     "text": [
      "93498it [00:05, 16387.77it/s]\n",
      "720it [00:00, 7192.31it/s]"
     ]
    },
    {
     "name": "stdout",
     "output_type": "stream",
     "text": [
      "0587IbnMascudCalaDinKasani.BadaicSanaic.xml\n"
     ]
    },
    {
     "name": "stderr",
     "output_type": "stream",
     "text": [
      "1374076it [01:24, 16288.21it/s]\n",
      "739it [00:00, 7074.88it/s]"
     ]
    },
    {
     "name": "stdout",
     "output_type": "stream",
     "text": [
      "0597IbnJawzi.TahqiqFiAhadithKhilaf.xml\n"
     ]
    },
    {
     "name": "stderr",
     "output_type": "stream",
     "text": [
      "183128it [00:09, 18765.70it/s]\n",
      "780it [00:00, 7705.43it/s]"
     ]
    },
    {
     "name": "stdout",
     "output_type": "stream",
     "text": [
      "0600QutbdinBayhaqiKaydari.IdahShica.xml\n"
     ]
    },
    {
     "name": "stderr",
     "output_type": "stream",
     "text": [
      "63395it [00:03, 18478.42it/s]\n",
      "1300it [00:00, 12764.13it/s]"
     ]
    },
    {
     "name": "stdout",
     "output_type": "stream",
     "text": [
      "0620IbnQudamaMaqdisi.MughniFiFiqh.xml\n"
     ]
    },
    {
     "name": "stderr",
     "output_type": "stream",
     "text": [
      "1675300it [01:33, 17892.16it/s]\n",
      "1173it [00:00, 11726.88it/s]"
     ]
    },
    {
     "name": "stdout",
     "output_type": "stream",
     "text": [
      "0676IbnHasanMuhaqqiqHilli.SharaicIslam.xml\n"
     ]
    },
    {
     "name": "stderr",
     "output_type": "stream",
     "text": [
      "173686it [00:08, 19467.40it/s]\n",
      "764it [00:00, 7599.04it/s]"
     ]
    },
    {
     "name": "stdout",
     "output_type": "stream",
     "text": [
      "0676Nawawi.ManahijTalibin.xml\n"
     ]
    },
    {
     "name": "stderr",
     "output_type": "stream",
     "text": [
      "73299it [00:03, 18537.75it/s]\n",
      "1275it [00:00, 12746.40it/s]"
     ]
    },
    {
     "name": "stdout",
     "output_type": "stream",
     "text": [
      "0684ShihabDinQarafi.Thakhira.xml\n"
     ]
    },
    {
     "name": "stderr",
     "output_type": "stream",
     "text": [
      "1153964it [01:00, 18979.97it/s]\n",
      "700it [00:00, 6990.42it/s]"
     ]
    },
    {
     "name": "stdout",
     "output_type": "stream",
     "text": [
      "0710IbnAhmadHafizDinNasafi.KanzDaqaiq.xml\n"
     ]
    },
    {
     "name": "stderr",
     "output_type": "stream",
     "text": [
      "27179it [00:01, 17315.43it/s]\n",
      "1275it [00:00, 12745.30it/s]"
     ]
    },
    {
     "name": "stdout",
     "output_type": "stream",
     "text": [
      "0763IbnMuflihHanbaliMuqaddasi.FurucWaTashihFuruc..xml\n"
     ]
    },
    {
     "name": "stderr",
     "output_type": "stream",
     "text": [
      "763054it [00:43, 17351.62it/s]\n",
      "1086it [00:00, 10856.57it/s]"
     ]
    },
    {
     "name": "stdout",
     "output_type": "stream",
     "text": [
      "0769IbnLuluShihabDinIbnNaqibShafici.CumdatSalik.xml\n"
     ]
    },
    {
     "name": "stderr",
     "output_type": "stream",
     "text": [
      "38891it [00:02, 17426.84it/s]\n",
      "1248it [00:00, 12476.12it/s]"
     ]
    },
    {
     "name": "stdout",
     "output_type": "stream",
     "text": [
      "0776Aljundi.AltawdihFiShafh.xml\n"
     ]
    },
    {
     "name": "stderr",
     "output_type": "stream",
     "text": [
      "1097144it [00:56, 19256.76it/s]\n",
      "761it [00:00, 7450.21it/s]"
     ]
    },
    {
     "name": "stdout",
     "output_type": "stream",
     "text": [
      "0786IbnMuhammadBabarti.CinayaSharhHidaya.xml\n"
     ]
    },
    {
     "name": "stderr",
     "output_type": "stream",
     "text": [
      "1126139it [01:02, 18126.64it/s]\n",
      "1436it [00:00, 14338.75it/s]"
     ]
    },
    {
     "name": "stdout",
     "output_type": "stream",
     "text": [
      "0786ShahidAwwal.Durus.xml\n"
     ]
    },
    {
     "name": "stderr",
     "output_type": "stream",
     "text": [
      "190183it [00:09, 20032.66it/s]\n",
      "1302it [00:00, 13013.28it/s]"
     ]
    },
    {
     "name": "stdout",
     "output_type": "stream",
     "text": [
      "0829TaqiDinDimashqiHisni.KifayatAkhyar.xml\n"
     ]
    },
    {
     "name": "stderr",
     "output_type": "stream",
     "text": [
      "185423it [00:09, 19675.07it/s]\n",
      "1282it [00:00, 12813.29it/s]"
     ]
    },
    {
     "name": "stdout",
     "output_type": "stream",
     "text": [
      "0841JamalDinIbnFahdHilli.MuhadhdhabBaric.xml\n"
     ]
    },
    {
     "name": "stderr",
     "output_type": "stream",
     "text": [
      "336263it [00:19, 17378.27it/s]\n",
      "1414it [00:00, 14134.55it/s]"
     ]
    },
    {
     "name": "stdout",
     "output_type": "stream",
     "text": [
      "0861IbnCabdWahidIbnHumamSiwasi.FathQadir.xml\n"
     ]
    },
    {
     "name": "stderr",
     "output_type": "stream",
     "text": [
      "1974742it [01:50, 17855.93it/s]\n",
      "1180it [00:00, 11797.68it/s]"
     ]
    },
    {
     "name": "stdout",
     "output_type": "stream",
     "text": [
      "0884IbnMuflih.MubdicFiSharhMuqnic.xml\n"
     ]
    },
    {
     "name": "stderr",
     "output_type": "stream",
     "text": [
      "948556it [00:50, 18925.42it/s]\n",
      "1104it [00:00, 11037.75it/s]"
     ]
    },
    {
     "name": "stdout",
     "output_type": "stream",
     "text": [
      "0897IbnYusufCabdariGharnati.TajWaIklilLiMukhtasarKhalil.xml\n"
     ]
    },
    {
     "name": "stderr",
     "output_type": "stream",
     "text": [
      "670267it [00:40, 16684.88it/s]\n",
      "1386it [00:00, 13853.84it/s]"
     ]
    },
    {
     "name": "stdout",
     "output_type": "stream",
     "text": [
      "0940IbnHusaynMuhaqqiqThaniKaraki.JamicMaqasid.xml\n"
     ]
    },
    {
     "name": "stderr",
     "output_type": "stream",
     "text": [
      "1085712it [00:57, 18735.18it/s]\n",
      "1386it [00:00, 13661.39it/s]"
     ]
    },
    {
     "name": "stdout",
     "output_type": "stream",
     "text": [
      "0970IbnIbrahimIbnNujaymMisri.BahrRaiq.xml\n"
     ]
    },
    {
     "name": "stderr",
     "output_type": "stream",
     "text": [
      "1640137it [01:32, 17769.30it/s]\n",
      "1316it [00:00, 13156.47it/s]"
     ]
    },
    {
     "name": "stdout",
     "output_type": "stream",
     "text": [
      "0972IbnAhmadIbnNajjarHanbali.MuntahaIradat.xml\n"
     ]
    },
    {
     "name": "stderr",
     "output_type": "stream",
     "text": [
      "117570it [00:06, 18522.91it/s]\n",
      "1365it [00:00, 13644.61it/s]"
     ]
    },
    {
     "name": "stdout",
     "output_type": "stream",
     "text": [
      "0977KhatibShirbini.MughniMuhtaj.xml\n"
     ]
    },
    {
     "name": "stderr",
     "output_type": "stream",
     "text": [
      "1135403it [01:01, 18602.10it/s]\n",
      "1297it [00:00, 12840.94it/s]"
     ]
    },
    {
     "name": "stdout",
     "output_type": "stream",
     "text": [
      "0995Manjur.SharhManhajMuntakhab.xml\n"
     ]
    },
    {
     "name": "stderr",
     "output_type": "stream",
     "text": [
      "106457it [00:05, 20523.36it/s]\n",
      "1596it [00:00, 15955.07it/s]"
     ]
    },
    {
     "name": "stdout",
     "output_type": "stream",
     "text": [
      "1004ShamsDinRamli.NihayatMuhtaj.xml\n"
     ]
    },
    {
     "name": "stderr",
     "output_type": "stream",
     "text": [
      "973638it [00:56, 17250.42it/s]\n",
      "1358it [00:00, 13556.90it/s]"
     ]
    },
    {
     "name": "stdout",
     "output_type": "stream",
     "text": [
      "1051IbnYunusBuhutiHanbali.RawdMurbic.xml\n"
     ]
    },
    {
     "name": "stderr",
     "output_type": "stream",
     "text": [
      "142483it [00:07, 19057.97it/s]\n",
      "1421it [00:00, 14055.20it/s]"
     ]
    },
    {
     "name": "stdout",
     "output_type": "stream",
     "text": [
      "1078ShaykhiZadahDamadAfandi.MajmacAnhur..xml\n"
     ]
    },
    {
     "name": "stderr",
     "output_type": "stream",
     "text": [
      "369086it [00:18, 20041.71it/s]\n",
      "1142it [00:00, 11416.01it/s]"
     ]
    },
    {
     "name": "stdout",
     "output_type": "stream",
     "text": [
      "1091MuhammadMuhsinFaydKashani.MafatihSaraiC.xml\n"
     ]
    },
    {
     "name": "stderr",
     "output_type": "stream",
     "text": [
      "172694it [00:08, 21224.34it/s]\n",
      "1369it [00:00, 13685.51it/s]"
     ]
    },
    {
     "name": "stdout",
     "output_type": "stream",
     "text": [
      "1122MuhammadZarqani.SharhCalaMuwatta.xml\n"
     ]
    },
    {
     "name": "stderr",
     "output_type": "stream",
     "text": [
      "880388it [00:51, 17252.06it/s]\n",
      "1292it [00:00, 12916.44it/s]"
     ]
    },
    {
     "name": "stdout",
     "output_type": "stream",
     "text": [
      "1204SulaymanJamal.Hashiya.xml\n"
     ]
    },
    {
     "name": "stderr",
     "output_type": "stream",
     "text": [
      "2095952it [01:51, 18864.57it/s]\n",
      "1163it [00:00, 11304.88it/s]"
     ]
    },
    {
     "name": "stdout",
     "output_type": "stream",
     "text": [
      "1205MuhammadBaqirWahidBahbahani.xml\n"
     ]
    },
    {
     "name": "stderr",
     "output_type": "stream",
     "text": [
      "820584it [00:44, 18527.06it/s]\n",
      "1125it [00:00, 11247.97it/s]"
     ]
    },
    {
     "name": "stdout",
     "output_type": "stream",
     "text": [
      "1206IbnCabdWahhab.MajmuucAlhadith.xml\n"
     ]
    },
    {
     "name": "stderr",
     "output_type": "stream",
     "text": [
      "128344it [00:07, 17169.46it/s]\n",
      "1194it [00:00, 11852.92it/s]"
     ]
    },
    {
     "name": "stdout",
     "output_type": "stream",
     "text": [
      "1230Dusuqi.SharhKabir.xml\n"
     ]
    },
    {
     "name": "stderr",
     "output_type": "stream",
     "text": [
      "1529755it [01:23, 18332.33it/s]\n",
      "1258it [00:00, 12575.63it/s]"
     ]
    },
    {
     "name": "stdout",
     "output_type": "stream",
     "text": [
      "1231Tahtawi.Hashia.xml\n"
     ]
    },
    {
     "name": "stderr",
     "output_type": "stream",
     "text": [
      "309203it [00:15, 20186.87it/s]\n",
      "1345it [00:00, 13265.28it/s]"
     ]
    },
    {
     "name": "stdout",
     "output_type": "stream",
     "text": [
      "1252IbnCabidinDimashqi.RaddMuhtar.xml\n"
     ]
    },
    {
     "name": "stderr",
     "output_type": "stream",
     "text": [
      "2417710it [02:16, 17705.62it/s]\n",
      "1088it [00:00, 10877.34it/s]"
     ]
    },
    {
     "name": "stdout",
     "output_type": "stream",
     "text": [
      "1266MuhammadHasanNajafiJawhari.JawahirKalam.xml\n"
     ]
    },
    {
     "name": "stderr",
     "output_type": "stream",
     "text": [
      "4466424it [04:17, 17338.08it/s]\n",
      "1322it [00:00, 13216.07it/s]"
     ]
    },
    {
     "name": "stdout",
     "output_type": "stream",
     "text": [
      "1310BakriDimyati.HashiyaIcanaTalibin.xml\n"
     ]
    },
    {
     "name": "stderr",
     "output_type": "stream",
     "text": [
      "832425it [00:46, 17754.40it/s]\n",
      "1297it [00:00, 12965.13it/s]"
     ]
    },
    {
     "name": "stdout",
     "output_type": "stream",
     "text": [
      "1319IbnYasinLabadiNabulusi.HashiyatCalaNaylMaarib.xml\n"
     ]
    },
    {
     "name": "stderr",
     "output_type": "stream",
     "text": [
      "101820it [00:05, 18157.08it/s]\n",
      "1281it [00:00, 12805.55it/s]"
     ]
    },
    {
     "name": "stdout",
     "output_type": "stream",
     "text": [
      "1335IbnCabdSamicAbiAzhari.ThamrDani.xml\n"
     ]
    },
    {
     "name": "stderr",
     "output_type": "stream",
     "text": [
      "141512it [00:07, 19189.19it/s]\n"
     ]
    }
   ],
   "source": [
    "fpath = '/media/sf_VBox_Shared/Arabic/Fiqh/2018-09-18-Al-Khalil/'\n",
    "\n",
    "df = pd.DataFrame()\n",
    "for fname in os.listdir(fpath):\n",
    "    print(fname)\n",
    "    df_sub = analyzer_xml2df2(os.path.join(fpath, fname), filter_stems=stems_list)\n",
    "    df_sub['fname'] = fname\n",
    "    df = df.append(df_sub)"
   ]
  },
  {
   "cell_type": "code",
   "execution_count": 38,
   "metadata": {},
   "outputs": [],
   "source": [
    "fname_out = '/media/sf_VBox_Shared/Arabic/Analyses/fiqh-reasoning-raw.csv'\n",
    "df.to_csv(fname_out, index=False)"
   ]
  },
  {
   "cell_type": "code",
   "execution_count": 55,
   "metadata": {},
   "outputs": [],
   "source": [
    "# Retrieve the stem we were originally interested in\n",
    "def get_original_stem(stems):\n",
    "    l = set(stems.split('\\\\'))\n",
    "    overlap = l.intersection(set(stems_list))\n",
    "    if len(overlap)>0:\n",
    "        return list(overlap)[0]\n",
    "    else:\n",
    "        return None\n",
    "\n",
    "df['stem'] = df.proposed_stem.map(get_original_stem)"
   ]
  },
  {
   "cell_type": "code",
   "execution_count": 59,
   "metadata": {},
   "outputs": [],
   "source": [
    "df['category'] = df['stem'].map(lambda s: stems_dict[s])"
   ]
  },
  {
   "cell_type": "code",
   "execution_count": 69,
   "metadata": {},
   "outputs": [],
   "source": [
    "df['BookURI'] = df['fname'].map(lambda s: s.replace('.xml', ''))"
   ]
  },
  {
   "cell_type": "code",
   "execution_count": 70,
   "metadata": {},
   "outputs": [],
   "source": [
    "counts_category = df.groupby(['BookURI', 'category']).size().unstack().fillna(0)"
   ]
  },
  {
   "cell_type": "code",
   "execution_count": 71,
   "metadata": {},
   "outputs": [
    {
     "data": {
      "text/html": [
       "<div>\n",
       "<style>\n",
       "    .dataframe thead tr:only-child th {\n",
       "        text-align: right;\n",
       "    }\n",
       "\n",
       "    .dataframe thead th {\n",
       "        text-align: left;\n",
       "    }\n",
       "\n",
       "    .dataframe tbody tr th {\n",
       "        vertical-align: top;\n",
       "    }\n",
       "</style>\n",
       "<table border=\"1\" class=\"dataframe\">\n",
       "  <thead>\n",
       "    <tr style=\"text-align: right;\">\n",
       "      <th>category</th>\n",
       "      <th>following</th>\n",
       "      <th>free</th>\n",
       "    </tr>\n",
       "    <tr>\n",
       "      <th>BookURI</th>\n",
       "      <th></th>\n",
       "      <th></th>\n",
       "    </tr>\n",
       "  </thead>\n",
       "  <tbody>\n",
       "    <tr>\n",
       "      <th>0179MalikIbnAnas.Muwatta</th>\n",
       "      <td>2.0</td>\n",
       "      <td>11.0</td>\n",
       "    </tr>\n",
       "    <tr>\n",
       "      <th>0264IbnYahyaMuzani.Mukhtasar</th>\n",
       "      <td>3.0</td>\n",
       "      <td>10.0</td>\n",
       "    </tr>\n",
       "    <tr>\n",
       "      <th>0274AhmadBarqi.Mahasin</th>\n",
       "      <td>0.0</td>\n",
       "      <td>7.0</td>\n",
       "    </tr>\n",
       "    <tr>\n",
       "      <th>0334IbnHusaynKhiraqi.MukhtasarMinMasailIbnHanbal</th>\n",
       "      <td>0.0</td>\n",
       "      <td>3.0</td>\n",
       "    </tr>\n",
       "    <tr>\n",
       "      <th>0373AbuLaythSamarqandi.CuyunMasail</th>\n",
       "      <td>1.0</td>\n",
       "      <td>0.0</td>\n",
       "    </tr>\n",
       "  </tbody>\n",
       "</table>\n",
       "</div>"
      ],
      "text/plain": [
       "category                                          following  free\n",
       "BookURI                                                          \n",
       "0179MalikIbnAnas.Muwatta                                2.0  11.0\n",
       "0264IbnYahyaMuzani.Mukhtasar                            3.0  10.0\n",
       "0274AhmadBarqi.Mahasin                                  0.0   7.0\n",
       "0334IbnHusaynKhiraqi.MukhtasarMinMasailIbnHanbal        0.0   3.0\n",
       "0373AbuLaythSamarqandi.CuyunMasail                      1.0   0.0"
      ]
     },
     "execution_count": 71,
     "metadata": {},
     "output_type": "execute_result"
    }
   ],
   "source": [
    "counts_category.head()"
   ]
  },
  {
   "cell_type": "markdown",
   "metadata": {},
   "source": [
    "merge with meta data:"
   ]
  },
  {
   "cell_type": "code",
   "execution_count": 132,
   "metadata": {},
   "outputs": [
    {
     "name": "stderr",
     "output_type": "stream",
     "text": [
      "/home/dafne/anaconda2/envs/adh/lib/python3.6/site-packages/ipykernel/__main__.py:3: FutureWarning: currently extract(expand=None) means expand=False (return Index/Series/DataFrame) but in a future version of pandas this will be changed to expand=True (return DataFrame)\n",
      "  app.launch_new_instance()\n"
     ]
    },
    {
     "data": {
      "text/plain": [
       "Index(['Order', 'School', 'Number_of_tokens', 'AuthorAKA', 'Author',\n",
       "       'AuthorBORNH', 'AuthorBORNC', 'AuthorDIEDH', 'AuthorDIEDC', 'Century',\n",
       "       'Title', 'Geographical_area', 'Tagging', 'BookVOLS', 'century_n'],\n",
       "      dtype='object')"
      ]
     },
     "execution_count": 132,
     "metadata": {},
     "output_type": "execute_result"
    }
   ],
   "source": [
    "metadata_fname = '/media/sf_VBox_Shared/Arabic/fiqh_corpus/Meta/Metadata_Fiqh.csv'\n",
    "metadata = pd.read_csv(metadata_fname, index_col=1)\n",
    "metadata['century_n'] = metadata.Century.str.extract('([0-9]*)')\n",
    "metadata.columns"
   ]
  },
  {
   "cell_type": "code",
   "execution_count": 133,
   "metadata": {},
   "outputs": [],
   "source": [
    "metadata_columns = ['AuthorAKA', 'AuthorBORNH', 'AuthorBORNC', 'AuthorDIEDH', 'AuthorDIEDC', 'Century', 'School', 'Geographical_area', 'Number_of_tokens', 'century_n']\n",
    "metadata = metadata[metadata_columns]"
   ]
  },
  {
   "cell_type": "code",
   "execution_count": 134,
   "metadata": {},
   "outputs": [],
   "source": [
    "counts_category[metadata_columns] = metadata[metadata_columns]"
   ]
  },
  {
   "cell_type": "code",
   "execution_count": 135,
   "metadata": {},
   "outputs": [
    {
     "data": {
      "text/plain": [
       "BookURI                       stem    category \n",
       "0179MalikIbnAnas.Muwatta      اجتهاد  free          9\n",
       "                              تقليد   following     2\n",
       "                              مجتهد   free          2\n",
       "0264IbnYahyaMuzani.Mukhtasar  اجتهاد  free         10\n",
       "                              تقليد   following     3\n",
       "dtype: int64"
      ]
     },
     "execution_count": 135,
     "metadata": {},
     "output_type": "execute_result"
    }
   ],
   "source": [
    "counts_long = df.groupby(['BookURI', 'stem', 'category']).size()\n",
    "counts_long.head()"
   ]
  },
  {
   "cell_type": "code",
   "execution_count": 136,
   "metadata": {},
   "outputs": [],
   "source": [
    "counts_long_merged = pd.merge(pd.DataFrame(counts_long, columns=['count']).reset_index(), \n",
    "         metadata.reset_index(), left_on='BookURI', right_on='BookURI')"
   ]
  },
  {
   "cell_type": "code",
   "execution_count": 137,
   "metadata": {},
   "outputs": [],
   "source": [
    "fname_out = '/media/sf_VBox_Shared/Arabic/Analyses/fiqh-reasoning-aggregated.csv'\n",
    "counts_category.to_csv(fname_out)"
   ]
  },
  {
   "cell_type": "code",
   "execution_count": 138,
   "metadata": {},
   "outputs": [],
   "source": [
    "fname_out = '/media/sf_VBox_Shared/Arabic/Analyses/fiqh-reasoning-aggregated-long.csv'\n",
    "counts_long_merged.to_csv(fname_out, index=False)"
   ]
  },
  {
   "cell_type": "markdown",
   "metadata": {},
   "source": [
    "# Extract senses"
   ]
  },
  {
   "cell_type": "code",
   "execution_count": 76,
   "metadata": {},
   "outputs": [],
   "source": [
    "senses_roots = set('''سمع\n",
    "بصر\n",
    "لمس\n",
    "شمم\n",
    "ذوق'''.split('\\n'))"
   ]
  },
  {
   "cell_type": "code",
   "execution_count": null,
   "metadata": {},
   "outputs": [],
   "source": [
    "## from XML\n",
    "filepath = '/media/sf_VBox_Shared/Arabic/indices/20180424/merged/'\n",
    "xml_file_names = itertools.chain.from_iterable([[os.path.join(d, f) for f in fnames] for d, dnames, fnames in os.walk(filepath)])\n",
    "metadata, matched_words = extract_from_xml(senses_roots, list(xml_file_names)[:20])"
   ]
  },
  {
   "cell_type": "code",
   "execution_count": 78,
   "metadata": {},
   "outputs": [
    {
     "name": "stdout",
     "output_type": "stream",
     "text": [
      "0\n",
      "1000\n",
      "2000\n",
      "3000\n",
      "4000\n",
      "5000\n",
      "6000\n",
      "7000\n",
      "8000\n",
      "9000\n",
      "10000\n",
      "11000\n",
      "12000\n",
      "13000\n",
      "14000\n",
      "15000\n",
      "16000\n",
      "17000\n",
      "18000\n",
      "19000\n",
      "20000\n",
      "21000\n",
      "22000\n",
      "23000\n",
      "24000\n",
      "25000\n",
      "26000\n",
      "27000\n",
      "28000\n",
      "29000\n",
      "30000\n",
      "31000\n",
      "32000\n",
      "33000\n",
      "34000\n",
      "35000\n",
      "36000\n",
      "37000\n",
      "38000\n",
      "39000\n",
      "40000\n",
      "41000\n",
      "42000\n",
      "43000\n",
      "44000\n",
      "45000\n",
      "46000\n",
      "47000\n",
      "48000\n",
      "49000\n",
      "50000\n",
      "51000\n",
      "52000\n",
      "53000\n",
      "54000\n",
      "55000\n",
      "56000\n",
      "57000\n",
      "58000\n",
      "59000\n",
      "60000\n",
      "61000\n",
      "62000\n",
      "63000\n",
      "64000\n",
      "65000\n",
      "66000\n",
      "67000\n",
      "68000\n",
      "69000\n",
      "70000\n",
      "71000\n",
      "72000\n",
      "73000\n",
      "74000\n",
      "75000\n",
      "76000\n",
      "77000\n",
      "78000\n",
      "79000\n",
      "80000\n",
      "81000\n",
      "82000\n",
      "83000\n",
      "84000\n",
      "85000\n",
      "86000\n",
      "87000\n",
      "88000\n",
      "89000\n",
      "90000\n",
      "91000\n",
      "92000\n",
      "93000\n",
      "94000\n",
      "95000\n",
      "96000\n",
      "97000\n",
      "98000\n",
      "99000\n"
     ]
    }
   ],
   "source": [
    "# from CSV\n",
    "filepath = '/media/sf_VBox_Shared/Arabic/Fiqh/Fiqh-Alkhalil-csv/csv'\n",
    "csv_file_names = [os.path.join(filepath, fn) for fn in os.listdir(filepath)]\n",
    "df_total = extract_from_csv(senses_roots, list(csv_file_names))"
   ]
  },
  {
   "cell_type": "code",
   "execution_count": 79,
   "metadata": {},
   "outputs": [
    {
     "data": {
      "text/plain": [
       "(29505, 7)"
      ]
     },
     "execution_count": 79,
     "metadata": {},
     "output_type": "execute_result"
    }
   ],
   "source": [
    "df_total.shape"
   ]
  },
  {
   "cell_type": "code",
   "execution_count": 80,
   "metadata": {},
   "outputs": [
    {
     "data": {
      "text/plain": [
       "سمع    18732\n",
       "بصر     5296\n",
       "لمس     2976\n",
       "شمم     1860\n",
       "ذوق      641\n",
       "Name: root, dtype: int64"
      ]
     },
     "execution_count": 80,
     "metadata": {},
     "output_type": "execute_result"
    }
   ],
   "source": [
    "df_total['root'].value_counts()"
   ]
  },
  {
   "cell_type": "code",
   "execution_count": 81,
   "metadata": {},
   "outputs": [],
   "source": [
    "senses_dict = {\n",
    "    u'بصر': 'see',\n",
    "    u'سمع': 'hear',\n",
    "    u'لمس': 'touch',\n",
    "    u'شمم': 'smell',\n",
    "    u'ذوق': 'taste'\n",
    "}\n",
    "\n",
    "df_total['sense'] = [senses_dict[s] for s in df_total['root']]"
   ]
  },
  {
   "cell_type": "markdown",
   "metadata": {},
   "source": [
    "## Merged with metadata"
   ]
  },
  {
   "cell_type": "code",
   "execution_count": 82,
   "metadata": {},
   "outputs": [
    {
     "data": {
      "text/plain": [
       "Index(['Bookname', 'BookURI', 'Century', 'AuthorNAME',\n",
       "       'AuthorGeographicalArea', 'AuthorBORNH', 'AuthorBORNC', 'AuthorDIEDH',\n",
       "       'AuthorDIEDC', 'BookSUBJ', 'NumberOfTokens'],\n",
       "      dtype='object')"
      ]
     },
     "execution_count": 82,
     "metadata": {},
     "output_type": "execute_result"
    }
   ],
   "source": [
    "metadata_fields = ['BookURI', 'Century', 'AuthorNAME', 'AuthorGeographicalArea', 'AuthorBORNH', 'AuthorBORNC', 'AuthorDIEDH', 'AuthorDIEDC',  'BookSUBJ', 'NumberOfTokens']\n",
    "\n",
    "metadata_new = pd.read_csv('/media/sf_VBox_Shared/Arabic/Fiqh/merged_metadata.csv')\n",
    "\n",
    "metadata_new['Bookname'] = metadata_new.filename_old.str.extract('(.*)\\.txt', expand=False)\n",
    "\n",
    "#metadata_merged = metadata_df['Bookname'].reset_index().merge(metadata_new, left_on='Bookname', right_on='Bookname', how='left')\n",
    "metadata_merged = metadata_new[['Bookname']+metadata_fields].copy()\n",
    "\n",
    "metadata_merged.columns"
   ]
  },
  {
   "cell_type": "code",
   "execution_count": 83,
   "metadata": {},
   "outputs": [],
   "source": [
    "df_merged = df_total.merge(metadata_merged, left_on='title', right_on='Bookname', how='left').drop(['Bookname', 'title'], axis=1)"
   ]
  },
  {
   "cell_type": "code",
   "execution_count": 84,
   "metadata": {},
   "outputs": [],
   "source": [
    "df_merged.to_csv('/media/sf_VBox_Shared/Arabic/Analyses/senses_fiqh.csv', index=False)"
   ]
  },
  {
   "cell_type": "code",
   "execution_count": 85,
   "metadata": {},
   "outputs": [
    {
     "data": {
      "text/plain": [
       "{'بصر': 'bSr', 'ذوق': '*wq', 'سمع': 'smE', 'شمم': '$mm', 'لمس': 'lms'}"
      ]
     },
     "execution_count": 85,
     "metadata": {},
     "output_type": "execute_result"
    }
   ],
   "source": [
    "tr_dict = {s['root']: s['tr_root'] for i, s in df_total[['root', 'tr_root']].drop_duplicates().iterrows()}\n",
    "tr_dict"
   ]
  },
  {
   "cell_type": "code",
   "execution_count": 88,
   "metadata": {},
   "outputs": [],
   "source": [
    "# Also prepare aggregated csv\n",
    "df_agg = df_total.groupby(['title', 'sense']).size().unstack(fill_value=0)\n",
    "#df_agg.columns = [u'{} ({})'.format(c, tr_dict[c]) for c in df_agg.columns]\n",
    "\n",
    "df_agg_merged = df_agg.reset_index().merge(metadata_merged, left_on='title', right_on='Bookname', how='left').drop(['Bookname'], axis=1)\n",
    "\n",
    "senses_cols = df_agg.columns\n",
    "senses_cols_relative = [c+'_p' for c in df_agg.columns]\n",
    "df_agg_merged[senses_cols_relative] = df_agg_merged.apply(lambda r: r[senses_cols]/r['NumberOfTokens'], axis=1)\n",
    "\n",
    "df_agg_merged.to_csv('/media/sf_VBox_Shared/Arabic/Analyses/senses_fiqh_agg.csv')"
   ]
  },
  {
   "cell_type": "code",
   "execution_count": null,
   "metadata": {},
   "outputs": [],
   "source": []
  }
 ],
 "metadata": {
  "kernelspec": {
   "display_name": "Python [conda env:adh]",
   "language": "python",
   "name": "conda-env-adh-py"
  },
  "language_info": {
   "codemirror_mode": {
    "name": "ipython",
    "version": 3
   },
   "file_extension": ".py",
   "mimetype": "text/x-python",
   "name": "python",
   "nbconvert_exporter": "python",
   "pygments_lexer": "ipython3",
   "version": "3.6.2"
  }
 },
 "nbformat": 4,
 "nbformat_minor": 2
}
