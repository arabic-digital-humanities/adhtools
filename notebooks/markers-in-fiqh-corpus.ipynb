{
 "cells": [
  {
   "cell_type": "code",
   "execution_count": null,
   "metadata": {},
   "outputs": [],
   "source": [
    "# get insight into what tags are used in the documents and how often they occur\n",
    "\n",
    "from nlppln.utils import get_files\n",
    "import codecs\n",
    "import re\n",
    "import os\n",
    "from collections import Counter\n",
    "\n",
    "import sys\n",
    "\n",
    "texts = {}\n",
    "counters = {}\n",
    "\n",
    "#fiqh = '/home/jvdzwaan/ownCloud/Shared/Bridging the gap/FiqhMaksim/Fiqh/Fiqh/'\n",
    "#fiqh = '/home/jvdzwaan/ownCloud/Shared/Bridging the gap/Cleaned_data/Fiqh Cleaned 8-June/'\n",
    "fiqh = '/home/jvdzwaan/code/fiqh_corpus/'\n",
    "for in_file in get_files(fiqh):\n",
    "    doc_id = os.path.basename(in_file)\n",
    "    if in_file.endswith('.txt'):\n",
    "        counters[doc_id] = Counter()\n",
    "        with codecs.open(in_file, encoding='utf-8') as f:\n",
    "            text = f.read()\n",
    "            \n",
    "        texts[doc_id] = text\n",
    "        \n",
    "        markers = re.findall('@(.+?)@', text)\n",
    "        for marker in markers:\n",
    "            \n",
    "            counters[doc_id][marker] += 1\n",
    "            # print markers that contain non-alphanumeric characters\n",
    "            if not marker.isalnum():\n",
    "                \n",
    "                print '!!!', doc_id, marker, repr(marker)\n",
    "\n",
    "        #print doc_id\n",
    "        #for m, f in counters[doc_id].most_common():\n",
    "        #    print m, f\n",
    "        #print\n",
    "\n"
   ]
  },
  {
   "cell_type": "code",
   "execution_count": null,
   "metadata": {},
   "outputs": [],
   "source": [
    "# Remove the non-printable characters from tags\n",
    "for in_file in get_files(fiqh):\n",
    "    doc_id = os.path.basename(in_file)\n",
    "    if in_file.endswith('.txt'):\n",
    "        with codecs.open(in_file, encoding='utf-8') as f:\n",
    "            text = f.read()\n",
    "    \n",
    "        markers = re.findall('@(.+?)@', text)\n",
    "        for marker in markers:\n",
    "            \n",
    "            counters[doc_id][marker] += 1\n",
    "            # print markers that contain non-alphanumeric characters\n",
    "            if not marker.isalnum():\n",
    "                print '!!!', doc_id, marker, repr(marker)\n",
    "                tag = ''.join(ch for ch in marker if ch.isalnum())\n",
    "                text = text.replace(marker, tag)\n",
    "         \n",
    "        # Uncomment to save the changes to file\n",
    "        #with codecs.open(in_file, 'w', encoding='utf-8') as f:\n",
    "        #    f.write(text)"
   ]
  },
  {
   "cell_type": "code",
   "execution_count": null,
   "metadata": {},
   "outputs": [],
   "source": [
    "import pandas as pd\n",
    "\n",
    "df = pd.DataFrame.from_dict(counters, orient='index')\n",
    "df = df.fillna(0)\n",
    "df"
   ]
  },
  {
   "cell_type": "code",
   "execution_count": null,
   "metadata": {},
   "outputs": [],
   "source": [
    "df.shape"
   ]
  },
  {
   "cell_type": "code",
   "execution_count": null,
   "metadata": {},
   "outputs": [],
   "source": [
    "df.columns"
   ]
  },
  {
   "cell_type": "code",
   "execution_count": null,
   "metadata": {},
   "outputs": [],
   "source": [
    "text = texts['Fiqh1.txt']"
   ]
  },
  {
   "cell_type": "code",
   "execution_count": null,
   "metadata": {},
   "outputs": [],
   "source": [
    "# Remove metadata: remove all lines that start with #\n",
    "text = text.replace('#.+\\n', '')\n",
    "text = re.sub(r'#.+\\n', '', text)\n",
    "print text"
   ]
  },
  {
   "cell_type": "code",
   "execution_count": null,
   "metadata": {},
   "outputs": [],
   "source": [
    "for doc_id, text in texts.items():\n",
    "    r1 = re.findall('PageV\\d{2}P\\d{3}', text)\n",
    "    r2 = re.findall(' PageV\\d{2}P\\d{3} ', text)\n",
    "    print doc_id, len(r1), len(r2)"
   ]
  },
  {
   "cell_type": "code",
   "execution_count": null,
   "metadata": {},
   "outputs": [],
   "source": [
    "for doc_id, text in texts.items():\n",
    "    r1 = re.findall('Milestone300', text)\n",
    "    r2 = re.findall(' Milestone300 ', text)\n",
    "    print doc_id, len(r1), len(r2)"
   ]
  },
  {
   "cell_type": "code",
   "execution_count": null,
   "metadata": {},
   "outputs": [],
   "source": [
    "# check/clean metadata\n",
    "\n",
    "metadata = {}\n",
    "metadata_values = {}\n",
    "md_fieldnames = {}\n",
    "\n",
    "for doc_id, text in texts.items():\n",
    "    metadata[doc_id] = Counter()\n",
    "    md_fieldnames[doc_id] = Counter()\n",
    "    r = re.findall(r'#META#(.+)\\n', text)\n",
    "    for m in r:\n",
    "        splitted = m.split(u'::')\n",
    "        if len(splitted)==2:\n",
    "            name = splitted[0].strip()\n",
    "            print name\n",
    "            value = splitted[1].strip()\n",
    "            metadata[doc_id][name] += 1\n",
    "            if name[0].isdigit():\n",
    "                md_fieldnames[doc_id]['numbers'] += 1\n",
    "            else:\n",
    "                md_fieldnames[doc_id]['text'] += 1\n",
    "            if name not in metadata_values.keys():\n",
    "                metadata_values[name] = Counter()\n",
    "            metadata_values[name][value] += 1\n",
    "        else:\n",
    "            print doc_id, '\\t\\t\\t\\t', m"
   ]
  },
  {
   "cell_type": "code",
   "execution_count": null,
   "metadata": {},
   "outputs": [],
   "source": [
    "# Header#End# without #META#\n",
    "for doc_id, text in texts.items():\n",
    "    metadata[doc_id] = Counter()\n",
    "    r = re.findall(r'#META#Header#End#\\n', text)\n",
    "    if len(r) == 0:\n",
    "        print doc_id\n"
   ]
  },
  {
   "cell_type": "code",
   "execution_count": null,
   "metadata": {},
   "outputs": [],
   "source": [
    "numbers = pd.DataFrame.from_dict(md_fieldnames, orient='index')\n",
    "numbers"
   ]
  },
  {
   "cell_type": "code",
   "execution_count": null,
   "metadata": {},
   "outputs": [],
   "source": [
    "md = pd.DataFrame.from_dict(metadata, orient='index')\n",
    "#md = md.fillna(0)\n",
    "md"
   ]
  },
  {
   "cell_type": "code",
   "execution_count": null,
   "metadata": {},
   "outputs": [],
   "source": [
    "mdv = pd.DataFrame.from_dict(metadata_values, orient='index')\n",
    "#md = md.fillna(0)\n",
    "mdv"
   ]
  },
  {
   "cell_type": "code",
   "execution_count": null,
   "metadata": {},
   "outputs": [],
   "source": [
    "print mdv.columns"
   ]
  }
 ],
 "metadata": {
  "language_info": {
   "name": "python",
   "pygments_lexer": "ipython3"
  }
 },
 "nbformat": 4,
 "nbformat_minor": 2
}
