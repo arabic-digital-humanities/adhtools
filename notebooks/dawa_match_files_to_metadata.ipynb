{
 "cells": [
  {
   "cell_type": "code",
   "execution_count": null,
   "metadata": {},
   "outputs": [],
   "source": [
    "%load_ext autoreload\n",
    "%autoreload 2"
   ]
  },
  {
   "cell_type": "code",
   "execution_count": null,
   "metadata": {},
   "outputs": [],
   "source": [
    "import pandas as pd\n",
    "\n",
    "#md_file = '/home/jvdzwaan/data/adh-corpora/fiqh_corpus/Meta/Metadata_Fiqh.csv'\n",
    "md_file = '/home/jvdzwaan/data/adh-corpora/dawa/DawaMetadata.csv'\n",
    "#md_file = '/media/sf_VBox_Shared/Arabic/fiqh_corpus/Meta/Metadata_Fiqh.csv'"
   ]
  },
  {
   "cell_type": "code",
   "execution_count": null,
   "metadata": {},
   "outputs": [],
   "source": [
    "md = pd.read_csv(md_file, sep=',', encoding='utf-8')\n",
    "md = md.fillna(0)\n",
    "md.head()"
   ]
  },
  {
   "cell_type": "code",
   "execution_count": null,
   "metadata": {},
   "outputs": [],
   "source": [
    "from nlppln.utils import get_files\n",
    "\n",
    "in_dir = '/home/jvdzwaan/data/adh-corpora/dawa/txt/'\n",
    "corpus = get_files(in_dir)\n",
    "print(len(corpus))"
   ]
  },
  {
   "cell_type": "code",
   "execution_count": null,
   "metadata": {},
   "outputs": [],
   "source": [
    "from nlppln.utils import remove_ext\n",
    "\n",
    "corpus = [remove_ext(b) for b in corpus]\n",
    "print(corpus[0])"
   ]
  },
  {
   "cell_type": "code",
   "execution_count": null,
   "metadata": {},
   "outputs": [],
   "source": [
    "corpus = set(corpus)\n",
    "print(len(corpus))"
   ]
  },
  {
   "cell_type": "code",
   "execution_count": null,
   "metadata": {},
   "outputs": [],
   "source": [
    "md_corpus = set([str(int(val)) for val in md['BookURI']])\n",
    "print(len(md_corpus))"
   ]
  },
  {
   "cell_type": "code",
   "execution_count": null,
   "metadata": {},
   "outputs": [],
   "source": [
    "# works we have files for, but no metadata\n",
    "corpus.difference(md_corpus)"
   ]
  },
  {
   "cell_type": "code",
   "execution_count": null,
   "metadata": {},
   "outputs": [],
   "source": [
    "# works we have metadata for, but no files\n",
    "md_corpus.difference(corpus)"
   ]
  },
  {
   "cell_type": "code",
   "execution_count": null,
   "metadata": {},
   "outputs": [],
   "source": [
    "md.query('BookURI == 0')"
   ]
  },
  {
   "cell_type": "code",
   "execution_count": null,
   "metadata": {},
   "outputs": [],
   "source": [
    "# remove files that are not in the metadata\n",
    "import os\n",
    "import shutil\n",
    "\n",
    "in_dir = '/home/jvdzwaan/data/tmp/adh/20190404-tmp-dawa'\n",
    "\n",
    "for n in corpus.difference(md_corpus):\n",
    "    fname = os.path.join(in_dir, '{}.txt'.format(n))\n",
    "    \n",
    "    if os.path.isfile(fname):\n",
    "        print(fname)\n",
    "        os.remove(fname)"
   ]
  }
 ],
 "metadata": {
  "language_info": {
   "name": "python",
   "pygments_lexer": "ipython3"
  }
 },
 "nbformat": 4,
 "nbformat_minor": 2
}
