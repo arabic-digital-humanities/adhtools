{
 "cells": [
  {
   "cell_type": "code",
   "execution_count": 1,
   "metadata": {},
   "outputs": [],
   "source": [
    "%load_ext autoreload\n",
    "%autoreload 2"
   ]
  },
  {
   "cell_type": "code",
   "execution_count": 3,
   "metadata": {},
   "outputs": [],
   "source": [
    "%matplotlib inline\n",
    "\n",
    "import numpy as np\n",
    "import pandas as pd\n",
    "import matplotlib.pyplot as plt\n",
    "import adhtools.utils"
   ]
  },
  {
   "cell_type": "code",
   "execution_count": 3,
   "metadata": {},
   "outputs": [],
   "source": [
    "from lxml import etree\n",
    "from tqdm import tqdm\n",
    "\n",
    "def stemmer_xml2df2(fname):\n",
    "    result = []\n",
    "    \n",
    "    # Extract the words\n",
    "    context = etree.iterparse(fname, events=('end', ), tag=('word'))\n",
    "    for event, elem in context:\n",
    "        stem = None\n",
    "        for a in elem.getchildren():\n",
    "            if a.tag == 'analysis':\n",
    "                stem = a.attrib['stem']\n",
    "        result.append({'word': elem.attrib['value'], 'proposed_root': stem})\n",
    "        \n",
    "        # make iteration over context fast and consume less memory\n",
    "        #https://www.ibm.com/developerworks/xml/library/x-hiperfparse\n",
    "        elem.clear()\n",
    "        while elem.getprevious() is not None:\n",
    "            del elem.getparent()[0]\n",
    "    \n",
    "    return pd.DataFrame(result)\n",
    "\n",
    "def analyzer_xml2df2(fname):\n",
    "    result = []\n",
    "    \n",
    "    # Extract the words\n",
    "    context = etree.iterparse(fname, events=('end', ), tag=('word'))\n",
    "    for event, elem in context:\n",
    "        word = elem.attrib['value']\n",
    "        #print(repr(word))\n",
    "        if word != '':\n",
    "            roots = []\n",
    "            for a in elem.getchildren():\n",
    "                if a.tag == 'analysis':\n",
    "                    try:\n",
    "                        roots.append(a.attrib['root'])\n",
    "                    except:\n",
    "                        pass\n",
    "            roots = list(set(roots))\n",
    "            if len(roots) == 0:\n",
    "                roots.append('NOANALYSIS')\n",
    "            result.append({'word': elem.attrib['value'], 'proposed_root': '\\\\'.join(roots)})\n",
    "        \n",
    "        # make iteration over context fast and consume less memory\n",
    "        #https://www.ibm.com/developerworks/xml/library/x-hiperfparse\n",
    "        elem.clear()\n",
    "        while elem.getprevious() is not None:\n",
    "            del elem.getparent()[0]\n",
    "    \n",
    "    return pd.DataFrame(result)"
   ]
  },
  {
   "cell_type": "code",
   "execution_count": 4,
   "metadata": {},
   "outputs": [],
   "source": [
    "def read_file_analyzer(in_file):\n",
    "    data = analyzer_xml2df2(in_file)\n",
    "    return(list(data['word']))\n",
    "\n",
    "def read_file_stemmer(in_file):\n",
    "    data = stemmer_xml2df2(in_file)\n",
    "    return(list(data['proposed_root']))\n",
    "\n",
    "def corpus(in_files, analyzer=True):\n",
    "\n",
    "    for in_file in in_files:\n",
    "        if analyzer:\n",
    "            ws = read_file_analyzer(in_file)\n",
    "        else:\n",
    "            ws = read_file_stemmer(in_file)\n",
    "        \n",
    "        yield(ws)"
   ]
  },
  {
   "cell_type": "code",
   "execution_count": 4,
   "metadata": {},
   "outputs": [
    {
     "name": "stdout",
     "output_type": "stream",
     "text": [
      "10066\n",
      "/media/sf_VBox_Shared/Arabic/Fiqh/2018-11-13-Fiqh-stemmed-chapters/0179MalikIbnAnas.Muwatta-00000.xml\n"
     ]
    }
   ],
   "source": [
    "# maak term/document matrix van 1 boek uit Fiqh met document per chapter\n",
    "\n",
    "import glob\n",
    "\n",
    "#book_files = glob.glob('/home/jvdzwaan/data/tmp/adh/2018-10-23-Fiqh-stemmed-chapters/*.xml')\n",
    "book_files = glob.glob('/media/sf_VBox_Shared/Arabic/Fiqh/2018-11-13-Fiqh-stemmed-chapters/*.xml')\n",
    "book_files.sort()\n",
    "print(len(book_files))\n",
    "print(book_files[0])"
   ]
  },
  {
   "cell_type": "code",
   "execution_count": 28,
   "metadata": {},
   "outputs": [
    {
     "name": "stdout",
     "output_type": "stream",
     "text": [
      "CPU times: user 0 ns, sys: 0 ns, total: 0 ns\n",
      "Wall time: 9.54 µs\n"
     ]
    }
   ],
   "source": [
    "%%time\n",
    "data = adhtools.utils.corpus_str(book_files, analyzer=False)\n",
    "#data = [' '.join(list(terms)) for terms in c]"
   ]
  },
  {
   "cell_type": "code",
   "execution_count": 29,
   "metadata": {},
   "outputs": [
    {
     "name": "stdout",
     "output_type": "stream",
     "text": [
      "CPU times: user 16min 17s, sys: 38 s, total: 16min 55s\n",
      "Wall time: 18min 26s\n"
     ]
    }
   ],
   "source": [
    "%%time\n",
    "from sklearn.feature_extraction.text import CountVectorizer\n",
    "\n",
    "def split(string):\n",
    "    return string.split()\n",
    "\n",
    "count_vect = CountVectorizer(input='content', lowercase=False, tokenizer=split)\n",
    "word_counts = count_vect.fit_transform(data)"
   ]
  },
  {
   "cell_type": "code",
   "execution_count": 30,
   "metadata": {},
   "outputs": [
    {
     "data": {
      "text/plain": [
       "(10066, 71036)"
      ]
     },
     "execution_count": 30,
     "metadata": {},
     "output_type": "execute_result"
    }
   ],
   "source": [
    "word_counts.shape"
   ]
  },
  {
   "cell_type": "code",
   "execution_count": 31,
   "metadata": {},
   "outputs": [
    {
     "data": {
      "text/plain": [
       "23446"
      ]
     },
     "execution_count": 31,
     "metadata": {},
     "output_type": "execute_result"
    }
   ],
   "source": [
    "count_vect.vocabulary_.get(u'غرب')"
   ]
  },
  {
   "cell_type": "code",
   "execution_count": 32,
   "metadata": {},
   "outputs": [
    {
     "name": "stdout",
     "output_type": "stream",
     "text": [
      "(10066, 71036)\n",
      "CPU times: user 1.68 s, sys: 36 ms, total: 1.72 s\n",
      "Wall time: 924 ms\n"
     ]
    }
   ],
   "source": [
    "%%time\n",
    "from sklearn.feature_extraction.text import TfidfTransformer\n",
    "\n",
    "tfidf_transformer = TfidfTransformer()\n",
    "tfidf = tfidf_transformer.fit_transform(word_counts)\n",
    "print(tfidf.shape)"
   ]
  },
  {
   "cell_type": "code",
   "execution_count": 33,
   "metadata": {},
   "outputs": [
    {
     "name": "stdout",
     "output_type": "stream",
     "text": [
      "CPU times: user 34.4 s, sys: 1.08 s, total: 35.5 s\n",
      "Wall time: 35 s\n"
     ]
    }
   ],
   "source": [
    "%%time\n",
    "from sklearn.metrics.pairwise import cosine_similarity\n",
    "\n",
    "result = cosine_similarity(tfidf, tfidf)"
   ]
  },
  {
   "cell_type": "code",
   "execution_count": 34,
   "metadata": {},
   "outputs": [
    {
     "data": {
      "text/plain": [
       "(10066, 10066)"
      ]
     },
     "execution_count": 34,
     "metadata": {},
     "output_type": "execute_result"
    }
   ],
   "source": [
    "result.shape"
   ]
  },
  {
   "cell_type": "code",
   "execution_count": 21,
   "metadata": {},
   "outputs": [],
   "source": [
    "chapter_names = [os.path.basename(f) for f in book_files]\n",
    "sim_df = pd.DataFrame(result, columns=chapter_names, index=chapter_names)"
   ]
  },
  {
   "cell_type": "code",
   "execution_count": null,
   "metadata": {},
   "outputs": [],
   "source": [
    "sim_df.to_csv('/media/sf_VBox_Shared/Arabic/Analyses/chapter_similarity/fiqh-chapters-similarities.csv')"
   ]
  },
  {
   "cell_type": "code",
   "execution_count": 14,
   "metadata": {},
   "outputs": [
    {
     "name": "stdout",
     "output_type": "stream",
     "text": [
      "CPU times: user 6min 45s, sys: 41.6 s, total: 7min 27s\n",
      "Wall time: 3min 11s\n"
     ]
    }
   ],
   "source": [
    "%%time\n",
    "\n",
    "# cluster chapters based on affinity propagation\n",
    "from sklearn.cluster import AffinityPropagation\n",
    "\n",
    "af = AffinityPropagation().fit(result)"
   ]
  },
  {
   "cell_type": "code",
   "execution_count": 15,
   "metadata": {},
   "outputs": [
    {
     "name": "stdout",
     "output_type": "stream",
     "text": [
      "Estimated number of clusters: 281\n"
     ]
    }
   ],
   "source": [
    "from sklearn import metrics\n",
    "\n",
    "cluster_centers_indices = af.cluster_centers_indices_\n",
    "labels = af.labels_\n",
    "\n",
    "n_clusters_ = len(cluster_centers_indices)\n",
    "\n",
    "print('Estimated number of clusters: %d' % n_clusters_)\n",
    "#print(\"Homogeneity: %0.3f\" % metrics.homogeneity_score(labels_true, labels))\n",
    "#print(\"Completeness: %0.3f\" % metrics.completeness_score(labels_true, labels))\n",
    "#print(\"V-measure: %0.3f\" % metrics.v_measure_score(labels_true, labels))\n",
    "#print(\"Adjusted Rand Index: %0.3f\"\n",
    "#      % metrics.adjusted_rand_score(labels_true, labels))\n",
    "#print(\"Adjusted Mutual Information: %0.3f\"\n",
    "#      % metrics.adjusted_mutual_info_score(labels_true, labels))\n",
    "#print(\"Silhouette Coefficient: %0.3f\"\n",
    "#      % metrics.silhouette_score(X, labels, metric='sqeuclidean'))"
   ]
  },
  {
   "cell_type": "code",
   "execution_count": 16,
   "metadata": {},
   "outputs": [
    {
     "data": {
      "image/png": "[encoded data removed]",
      "text/plain": [
       "<Figure size 432x288 with 1 Axes>"
      ]
     },
     "metadata": {
      "needs_background": "light"
     },
     "output_type": "display_data"
    }
   ],
   "source": [
    "import matplotlib.pyplot as plt\n",
    "from itertools import cycle\n",
    "\n",
    "plt.close('all')\n",
    "plt.figure(1)\n",
    "plt.clf()\n",
    "\n",
    "colors = cycle('bgrcmykbgrcmykbgrcmykbgrcmyk')\n",
    "for k, col in zip(range(n_clusters_), colors):\n",
    "    class_members = labels == k\n",
    "    cluster_center = result[cluster_centers_indices[k]]\n",
    "    plt.plot(result[class_members, 0], result[class_members, 1], col + '.')\n",
    "    plt.plot(cluster_center[0], cluster_center[1], 'o', markerfacecolor=col,\n",
    "             markeredgecolor='k', markersize=14)\n",
    "    for c in result[class_members]:\n",
    "        plt.plot([cluster_center[0], c[0]], [cluster_center[1], c[1]], col)\n",
    "\n",
    "plt.title('Estimated number of clusters: %d' % n_clusters_)\n",
    "plt.show()"
   ]
  },
  {
   "cell_type": "code",
   "execution_count": null,
   "metadata": {},
   "outputs": [],
   "source": [
    "import os\n",
    "\n",
    "from sklearn.metrics.pairwise import linear_kernel\n",
    "\n",
    "def find_similar(tfidf_matrix, index, top_n = 5):\n",
    "    cosine_similarities = linear_kernel(tfidf_matrix[index:index+1], tfidf_matrix).flatten()\n",
    "    related_docs_indices = [i for i in cosine_similarities.argsort()[::-1] if i != index]\n",
    "    return [(index, cosine_similarities[index]) for index in related_docs_indices][0:top_n]\n",
    "\n",
    "def find_similar_threshold(tfidf_matrix, index, threshold=0.5):\n",
    "    cosine_similarities = linear_kernel(tfidf_matrix[index:index+1], tfidf_matrix).flatten()\n",
    "    related_docs_indices = [i for i in cosine_similarities.argsort()[::-1] if i != index]\n",
    "    res = []\n",
    "    for index in related_docs_indices:\n",
    "        sim = cosine_similarities[index]\n",
    "        if sim > threshold:\n",
    "            res.append((index, sim))\n",
    "    return res\n",
    "\n",
    "for idx, sim in find_similar(x, 1, top_n=20):\n",
    "    print(sim, os.path.basename(book_files[idx]))"
   ]
  },
  {
   "cell_type": "code",
   "execution_count": null,
   "metadata": {},
   "outputs": [],
   "source": [
    "for idx, sim in find_similar_threshold(x, 1):\n",
    "    print(sim, idx)"
   ]
  },
  {
   "cell_type": "code",
   "execution_count": 18,
   "metadata": {},
   "outputs": [
    {
     "data": {
      "text/plain": [
       "'/media/sf_VBox_Shared/Arabic/Fiqh/2018-11-13-Fiqh-stemmed-chapters/1091MuhammadMuhsinFaydKashani.MafatihSaraiC-00543.xml'"
      ]
     },
     "execution_count": 18,
     "metadata": {},
     "output_type": "execute_result"
    }
   ],
   "source": [
    "book_files[8001]"
   ]
  },
  {
   "cell_type": "code",
   "execution_count": 25,
   "metadata": {},
   "outputs": [
    {
     "data": {
      "text/plain": [
       "(10066,)"
      ]
     },
     "execution_count": 25,
     "metadata": {},
     "output_type": "execute_result"
    }
   ],
   "source": [
    "x.shape"
   ]
  },
  {
   "cell_type": "code",
   "execution_count": 35,
   "metadata": {},
   "outputs": [
    {
     "name": "stdout",
     "output_type": "stream",
     "text": [
      "(10066, 2)\n",
      "CPU times: user 9min 9s, sys: 11.9 s, total: 9min 21s\n",
      "Wall time: 3min 46s\n"
     ]
    }
   ],
   "source": [
    "%%time\n",
    "from sklearn.metrics.pairwise import cosine_distances\n",
    "\n",
    "from sklearn.manifold import TSNE\n",
    "\n",
    "dist = cosine_distances(tfidf, tfidf)\n",
    "\n",
    "X_embedded = TSNE(n_components=2, metric='precomputed').fit_transform(dist)\n",
    "print(X_embedded.shape)"
   ]
  },
  {
   "cell_type": "code",
   "execution_count": 36,
   "metadata": {},
   "outputs": [
    {
     "data": {
      "text/plain": [
       "array([ 8.234939 ,  8.133355 ,  7.0359383, ..., -1.6819388, -2.1199534,\n",
       "       -2.1478717], dtype=float32)"
      ]
     },
     "execution_count": 36,
     "metadata": {},
     "output_type": "execute_result"
    }
   ],
   "source": [
    "X_embedded[:,0]"
   ]
  },
  {
   "cell_type": "code",
   "execution_count": 37,
   "metadata": {},
   "outputs": [
    {
     "data": {
      "image/png": "[encoded data removed]",
      "text/plain": [
       "<Figure size 432x288 with 1 Axes>"
      ]
     },
     "metadata": {
      "needs_background": "light"
     },
     "output_type": "display_data"
    }
   ],
   "source": [
    "plt.scatter(X_embedded[:,0], X_embedded[:,1])\n",
    "plt.show()"
   ]
  },
  {
   "cell_type": "code",
   "execution_count": 41,
   "metadata": {},
   "outputs": [
    {
     "name": "stderr",
     "output_type": "stream",
     "text": [
      "100%|██████████| 10066/10066 [14:48<00:00, 11.32it/s]\n"
     ]
    },
    {
     "data": {
      "text/html": [
       "<div>\n",
       "<style scoped>\n",
       "    .dataframe tbody tr th:only-of-type {\n",
       "        vertical-align: middle;\n",
       "    }\n",
       "\n",
       "    .dataframe tbody tr th {\n",
       "        vertical-align: top;\n",
       "    }\n",
       "\n",
       "    .dataframe thead th {\n",
       "        text-align: right;\n",
       "    }\n",
       "</style>\n",
       "<table border=\"1\" class=\"dataframe\">\n",
       "  <thead>\n",
       "    <tr style=\"text-align: right;\">\n",
       "      <th></th>\n",
       "      <th>All_tokens_per-century</th>\n",
       "      <th>AuthorAKA</th>\n",
       "      <th>AuthorBORNC</th>\n",
       "      <th>AuthorBORNH</th>\n",
       "      <th>AuthorDIEDC</th>\n",
       "      <th>AuthorDIEDH</th>\n",
       "      <th>AuthorNAME</th>\n",
       "      <th>Author_Geographical_Area</th>\n",
       "      <th>BookSUBJ</th>\n",
       "      <th>BookTITLE</th>\n",
       "      <th>BookURI</th>\n",
       "      <th>BookVOLS</th>\n",
       "      <th>Century</th>\n",
       "      <th>ChapterTitle</th>\n",
       "      <th>Number_of_tokens</th>\n",
       "      <th>Tagging</th>\n",
       "      <th>VolumeTitle</th>\n",
       "    </tr>\n",
       "  </thead>\n",
       "  <tbody>\n",
       "    <tr>\n",
       "      <th>0</th>\n",
       "      <td>nan</td>\n",
       "      <td>مالك</td>\n",
       "      <td>711</td>\n",
       "      <td>93</td>\n",
       "      <td>795</td>\n",
       "      <td>179</td>\n",
       "      <td>مالك بن أنس بن مالك بن عامر الأصبحي المدني</td>\n",
       "      <td>Fertile Crescent</td>\n",
       "      <td>مالكي</td>\n",
       "      <td>موطأ الإمام مالك</td>\n",
       "      <td>0179MalikIbnAnas.Muwatta</td>\n",
       "      <td>1</td>\n",
       "      <td>2ndH/8thC and 3rdH/9thC century</td>\n",
       "      <td>باب وقوت الصلاة</td>\n",
       "      <td>151424</td>\n",
       "      <td>Books ### | Chapters ### ||  Quran @QB@ @QE@</td>\n",
       "      <td>كتاب وقوت الصلاة</td>\n",
       "    </tr>\n",
       "    <tr>\n",
       "      <th>1</th>\n",
       "      <td>nan</td>\n",
       "      <td>مالك</td>\n",
       "      <td>711</td>\n",
       "      <td>93</td>\n",
       "      <td>795</td>\n",
       "      <td>179</td>\n",
       "      <td>مالك بن أنس بن مالك بن عامر الأصبحي المدني</td>\n",
       "      <td>Fertile Crescent</td>\n",
       "      <td>مالكي</td>\n",
       "      <td>موطأ الإمام مالك</td>\n",
       "      <td>0179MalikIbnAnas.Muwatta</td>\n",
       "      <td>1</td>\n",
       "      <td>2ndH/8thC and 3rdH/9thC century</td>\n",
       "      <td>باب وقت الجمعة</td>\n",
       "      <td>151424</td>\n",
       "      <td>Books ### | Chapters ### ||  Quran @QB@ @QE@</td>\n",
       "      <td>كتاب وقوت الصلاة</td>\n",
       "    </tr>\n",
       "    <tr>\n",
       "      <th>2</th>\n",
       "      <td>nan</td>\n",
       "      <td>مالك</td>\n",
       "      <td>711</td>\n",
       "      <td>93</td>\n",
       "      <td>795</td>\n",
       "      <td>179</td>\n",
       "      <td>مالك بن أنس بن مالك بن عامر الأصبحي المدني</td>\n",
       "      <td>Fertile Crescent</td>\n",
       "      <td>مالكي</td>\n",
       "      <td>موطأ الإمام مالك</td>\n",
       "      <td>0179MalikIbnAnas.Muwatta</td>\n",
       "      <td>1</td>\n",
       "      <td>2ndH/8thC and 3rdH/9thC century</td>\n",
       "      <td>باب من</td>\n",
       "      <td>151424</td>\n",
       "      <td>Books ### | Chapters ### ||  Quran @QB@ @QE@</td>\n",
       "      <td>كتاب وقوت الصلاة</td>\n",
       "    </tr>\n",
       "    <tr>\n",
       "      <th>3</th>\n",
       "      <td>nan</td>\n",
       "      <td>مالك</td>\n",
       "      <td>711</td>\n",
       "      <td>93</td>\n",
       "      <td>795</td>\n",
       "      <td>179</td>\n",
       "      <td>مالك بن أنس بن مالك بن عامر الأصبحي المدني</td>\n",
       "      <td>Fertile Crescent</td>\n",
       "      <td>مالكي</td>\n",
       "      <td>موطأ الإمام مالك</td>\n",
       "      <td>0179MalikIbnAnas.Muwatta</td>\n",
       "      <td>1</td>\n",
       "      <td>2ndH/8thC and 3rdH/9thC century</td>\n",
       "      <td>باب ما جاء في دلوك الشمس وغسق الليل حدثني يحيى عن</td>\n",
       "      <td>151424</td>\n",
       "      <td>Books ### | Chapters ### ||  Quran @QB@ @QE@</td>\n",
       "      <td>كتاب وقوت الصلاة</td>\n",
       "    </tr>\n",
       "    <tr>\n",
       "      <th>4</th>\n",
       "      <td>nan</td>\n",
       "      <td>مالك</td>\n",
       "      <td>711</td>\n",
       "      <td>93</td>\n",
       "      <td>795</td>\n",
       "      <td>179</td>\n",
       "      <td>مالك بن أنس بن مالك بن عامر الأصبحي المدني</td>\n",
       "      <td>Fertile Crescent</td>\n",
       "      <td>مالكي</td>\n",
       "      <td>موطأ الإمام مالك</td>\n",
       "      <td>0179MalikIbnAnas.Muwatta</td>\n",
       "      <td>1</td>\n",
       "      <td>2ndH/8thC and 3rdH/9thC century</td>\n",
       "      <td>باب النوم عن الصلاة</td>\n",
       "      <td>151424</td>\n",
       "      <td>Books ### | Chapters ### ||  Quran @QB@ @QE@</td>\n",
       "      <td>كتاب وقوت الصلاة</td>\n",
       "    </tr>\n",
       "  </tbody>\n",
       "</table>\n",
       "</div>"
      ],
      "text/plain": [
       "  All_tokens_per-century AuthorAKA AuthorBORNC AuthorBORNH AuthorDIEDC  \\\n",
       "0                    nan      مالك         711          93         795   \n",
       "1                    nan      مالك         711          93         795   \n",
       "2                    nan      مالك         711          93         795   \n",
       "3                    nan      مالك         711          93         795   \n",
       "4                    nan      مالك         711          93         795   \n",
       "\n",
       "  AuthorDIEDH                                  AuthorNAME  \\\n",
       "0         179  مالك بن أنس بن مالك بن عامر الأصبحي المدني   \n",
       "1         179  مالك بن أنس بن مالك بن عامر الأصبحي المدني   \n",
       "2         179  مالك بن أنس بن مالك بن عامر الأصبحي المدني   \n",
       "3         179  مالك بن أنس بن مالك بن عامر الأصبحي المدني   \n",
       "4         179  مالك بن أنس بن مالك بن عامر الأصبحي المدني   \n",
       "\n",
       "  Author_Geographical_Area BookSUBJ         BookTITLE  \\\n",
       "0         Fertile Crescent    مالكي  موطأ الإمام مالك   \n",
       "1         Fertile Crescent    مالكي  موطأ الإمام مالك   \n",
       "2         Fertile Crescent    مالكي  موطأ الإمام مالك   \n",
       "3         Fertile Crescent    مالكي  موطأ الإمام مالك   \n",
       "4         Fertile Crescent    مالكي  موطأ الإمام مالك   \n",
       "\n",
       "                    BookURI BookVOLS                          Century  \\\n",
       "0  0179MalikIbnAnas.Muwatta        1  2ndH/8thC and 3rdH/9thC century   \n",
       "1  0179MalikIbnAnas.Muwatta        1  2ndH/8thC and 3rdH/9thC century   \n",
       "2  0179MalikIbnAnas.Muwatta        1  2ndH/8thC and 3rdH/9thC century   \n",
       "3  0179MalikIbnAnas.Muwatta        1  2ndH/8thC and 3rdH/9thC century   \n",
       "4  0179MalikIbnAnas.Muwatta        1  2ndH/8thC and 3rdH/9thC century   \n",
       "\n",
       "                                        ChapterTitle Number_of_tokens  \\\n",
       "0                                    باب وقوت الصلاة           151424   \n",
       "1                                     باب وقت الجمعة           151424   \n",
       "2                                             باب من           151424   \n",
       "3  باب ما جاء في دلوك الشمس وغسق الليل حدثني يحيى عن           151424   \n",
       "4                                باب النوم عن الصلاة           151424   \n",
       "\n",
       "                                        Tagging       VolumeTitle  \n",
       "0  Books ### | Chapters ### ||  Quran @QB@ @QE@  كتاب وقوت الصلاة  \n",
       "1  Books ### | Chapters ### ||  Quran @QB@ @QE@  كتاب وقوت الصلاة  \n",
       "2  Books ### | Chapters ### ||  Quran @QB@ @QE@  كتاب وقوت الصلاة  \n",
       "3  Books ### | Chapters ### ||  Quran @QB@ @QE@  كتاب وقوت الصلاة  \n",
       "4  Books ### | Chapters ### ||  Quran @QB@ @QE@  كتاب وقوت الصلاة  "
      ]
     },
     "execution_count": 41,
     "metadata": {},
     "output_type": "execute_result"
    }
   ],
   "source": [
    "from tqdm import tqdm\n",
    "from lxml import etree\n",
    "\n",
    "# read the metadata\n",
    "def read_metadata(in_files):\n",
    "    result = []\n",
    "    \n",
    "    for fname in tqdm(in_files, total=len(in_files)):\n",
    "    \n",
    "        data = {}\n",
    "        # Extract the words\n",
    "        context = etree.iterparse(fname, events=('end', ), tag=('meta'))\n",
    "        for event, elem in context:\n",
    "            name = elem.attrib['name']\n",
    "            value = elem.text\n",
    "        \n",
    "            data[name] = value\n",
    "        \n",
    "            # make iteration over context fast and consume less memory\n",
    "            #https://www.ibm.com/developerworks/xml/library/x-hiperfparse\n",
    "            elem.clear()\n",
    "            while elem.getprevious() is not None:\n",
    "                del elem.getparent()[0]\n",
    "        result.append(data)\n",
    "    \n",
    "    return pd.DataFrame(result)\n",
    "\n",
    "md = read_metadata(book_files)\n",
    "md.head()"
   ]
  },
  {
   "cell_type": "code",
   "execution_count": 43,
   "metadata": {},
   "outputs": [
    {
     "data": {
      "text/plain": [
       "(10066, 17)"
      ]
     },
     "execution_count": 43,
     "metadata": {},
     "output_type": "execute_result"
    }
   ],
   "source": [
    "md.shape"
   ]
  },
  {
   "cell_type": "code",
   "execution_count": 45,
   "metadata": {},
   "outputs": [],
   "source": [
    "md['filename'] = chapter_names"
   ]
  },
  {
   "cell_type": "code",
   "execution_count": null,
   "metadata": {},
   "outputs": [],
   "source": [
    "import numpy as np\n",
    "import pandas as pd\n",
    "import holoviews as hv\n",
    "hv.extension('bokeh', 'matplotlib')"
   ]
  },
  {
   "cell_type": "code",
   "execution_count": 46,
   "metadata": {},
   "outputs": [
    {
     "data": {
      "text/plain": [
       "Index(['All_tokens_per-century', 'AuthorAKA', 'AuthorBORNC', 'AuthorBORNH',\n",
       "       'AuthorDIEDC', 'AuthorDIEDH', 'AuthorNAME', 'Author_Geographical_Area',\n",
       "       'BookSUBJ', 'BookTITLE', 'BookURI', 'BookVOLS', 'Century',\n",
       "       'ChapterTitle', 'Number_of_tokens', 'Tagging', 'VolumeTitle',\n",
       "       'filename'],\n",
       "      dtype='object')"
      ]
     },
     "execution_count": 46,
     "metadata": {},
     "output_type": "execute_result"
    }
   ],
   "source": [
    "md.columns"
   ]
  },
  {
   "cell_type": "code",
   "execution_count": 53,
   "metadata": {},
   "outputs": [],
   "source": [
    "data = md.copy()\n",
    "data['x'] = X_embedded[:,0]\n",
    "data['y'] = X_embedded[:,1]"
   ]
  },
  {
   "cell_type": "code",
   "execution_count": 54,
   "metadata": {},
   "outputs": [
    {
     "data": {
      "text/html": [
       "<div>\n",
       "<style scoped>\n",
       "    .dataframe tbody tr th:only-of-type {\n",
       "        vertical-align: middle;\n",
       "    }\n",
       "\n",
       "    .dataframe tbody tr th {\n",
       "        vertical-align: top;\n",
       "    }\n",
       "\n",
       "    .dataframe thead th {\n",
       "        text-align: right;\n",
       "    }\n",
       "</style>\n",
       "<table border=\"1\" class=\"dataframe\">\n",
       "  <thead>\n",
       "    <tr style=\"text-align: right;\">\n",
       "      <th></th>\n",
       "      <th>x</th>\n",
       "      <th>y</th>\n",
       "      <th>BookSUBJ</th>\n",
       "      <th>BookTITLE</th>\n",
       "      <th>VolumeTitle</th>\n",
       "      <th>ChapterTitle</th>\n",
       "      <th>Century</th>\n",
       "      <th>filename</th>\n",
       "      <th>BookURI</th>\n",
       "    </tr>\n",
       "  </thead>\n",
       "  <tbody>\n",
       "    <tr>\n",
       "      <th>0</th>\n",
       "      <td>8.234939</td>\n",
       "      <td>45.991196</td>\n",
       "      <td>مالكي</td>\n",
       "      <td>موطأ الإمام مالك</td>\n",
       "      <td>كتاب وقوت الصلاة</td>\n",
       "      <td>باب وقوت الصلاة</td>\n",
       "      <td>2ndH/8thC and 3rdH/9thC century</td>\n",
       "      <td>0179MalikIbnAnas.Muwatta-00000.xml</td>\n",
       "      <td>0179MalikIbnAnas.Muwatta</td>\n",
       "    </tr>\n",
       "    <tr>\n",
       "      <th>1</th>\n",
       "      <td>8.133355</td>\n",
       "      <td>45.129589</td>\n",
       "      <td>مالكي</td>\n",
       "      <td>موطأ الإمام مالك</td>\n",
       "      <td>كتاب وقوت الصلاة</td>\n",
       "      <td>باب وقت الجمعة</td>\n",
       "      <td>2ndH/8thC and 3rdH/9thC century</td>\n",
       "      <td>0179MalikIbnAnas.Muwatta-00001.xml</td>\n",
       "      <td>0179MalikIbnAnas.Muwatta</td>\n",
       "    </tr>\n",
       "    <tr>\n",
       "      <th>2</th>\n",
       "      <td>7.035938</td>\n",
       "      <td>57.224480</td>\n",
       "      <td>مالكي</td>\n",
       "      <td>موطأ الإمام مالك</td>\n",
       "      <td>كتاب وقوت الصلاة</td>\n",
       "      <td>باب من</td>\n",
       "      <td>2ndH/8thC and 3rdH/9thC century</td>\n",
       "      <td>0179MalikIbnAnas.Muwatta-00002.xml</td>\n",
       "      <td>0179MalikIbnAnas.Muwatta</td>\n",
       "    </tr>\n",
       "    <tr>\n",
       "      <th>3</th>\n",
       "      <td>7.538788</td>\n",
       "      <td>47.001827</td>\n",
       "      <td>مالكي</td>\n",
       "      <td>موطأ الإمام مالك</td>\n",
       "      <td>كتاب وقوت الصلاة</td>\n",
       "      <td>باب ما جاء في دلوك الشمس وغسق الليل حدثني يحيى عن</td>\n",
       "      <td>2ndH/8thC and 3rdH/9thC century</td>\n",
       "      <td>0179MalikIbnAnas.Muwatta-00003.xml</td>\n",
       "      <td>0179MalikIbnAnas.Muwatta</td>\n",
       "    </tr>\n",
       "    <tr>\n",
       "      <th>4</th>\n",
       "      <td>16.849596</td>\n",
       "      <td>42.098083</td>\n",
       "      <td>مالكي</td>\n",
       "      <td>موطأ الإمام مالك</td>\n",
       "      <td>كتاب وقوت الصلاة</td>\n",
       "      <td>باب النوم عن الصلاة</td>\n",
       "      <td>2ndH/8thC and 3rdH/9thC century</td>\n",
       "      <td>0179MalikIbnAnas.Muwatta-00004.xml</td>\n",
       "      <td>0179MalikIbnAnas.Muwatta</td>\n",
       "    </tr>\n",
       "  </tbody>\n",
       "</table>\n",
       "</div>"
      ],
      "text/plain": [
       "           x          y BookSUBJ         BookTITLE       VolumeTitle  \\\n",
       "0   8.234939  45.991196    مالكي  موطأ الإمام مالك  كتاب وقوت الصلاة   \n",
       "1   8.133355  45.129589    مالكي  موطأ الإمام مالك  كتاب وقوت الصلاة   \n",
       "2   7.035938  57.224480    مالكي  موطأ الإمام مالك  كتاب وقوت الصلاة   \n",
       "3   7.538788  47.001827    مالكي  موطأ الإمام مالك  كتاب وقوت الصلاة   \n",
       "4  16.849596  42.098083    مالكي  موطأ الإمام مالك  كتاب وقوت الصلاة   \n",
       "\n",
       "                                        ChapterTitle  \\\n",
       "0                                    باب وقوت الصلاة   \n",
       "1                                     باب وقت الجمعة   \n",
       "2                                             باب من   \n",
       "3  باب ما جاء في دلوك الشمس وغسق الليل حدثني يحيى عن   \n",
       "4                                باب النوم عن الصلاة   \n",
       "\n",
       "                           Century                            filename  \\\n",
       "0  2ndH/8thC and 3rdH/9thC century  0179MalikIbnAnas.Muwatta-00000.xml   \n",
       "1  2ndH/8thC and 3rdH/9thC century  0179MalikIbnAnas.Muwatta-00001.xml   \n",
       "2  2ndH/8thC and 3rdH/9thC century  0179MalikIbnAnas.Muwatta-00002.xml   \n",
       "3  2ndH/8thC and 3rdH/9thC century  0179MalikIbnAnas.Muwatta-00003.xml   \n",
       "4  2ndH/8thC and 3rdH/9thC century  0179MalikIbnAnas.Muwatta-00004.xml   \n",
       "\n",
       "                    BookURI  \n",
       "0  0179MalikIbnAnas.Muwatta  \n",
       "1  0179MalikIbnAnas.Muwatta  \n",
       "2  0179MalikIbnAnas.Muwatta  \n",
       "3  0179MalikIbnAnas.Muwatta  \n",
       "4  0179MalikIbnAnas.Muwatta  "
      ]
     },
     "execution_count": 54,
     "metadata": {},
     "output_type": "execute_result"
    }
   ],
   "source": [
    "data = data[['x', 'y', 'BookSUBJ', 'BookTITLE', 'VolumeTitle', 'ChapterTitle', 'Century', 'filename', 'BookURI']]\n",
    "data.head()"
   ]
  },
  {
   "cell_type": "code",
   "execution_count": 55,
   "metadata": {},
   "outputs": [],
   "source": [
    "data.to_csv('/media/sf_VBox_Shared/Arabic/Analyses/chapter_similarity/2018-12-21-fiqh-chapter-similarity.csv', index=False)"
   ]
  },
  {
   "cell_type": "code",
   "execution_count": null,
   "metadata": {},
   "outputs": [],
   "source": [
    "%%opts Scatter [tools=['hover'], height=800 width=800, color_index='BookSUBJ']\n",
    "hv.Scatter(data)"
   ]
  },
  {
   "cell_type": "code",
   "execution_count": null,
   "metadata": {},
   "outputs": [],
   "source": [
    "sc = hv.Scatter(data)\n",
    "sc.options(color_index='BookSUBJ', cmap='Category10', height=700, width=700, tools=['hover'])"
   ]
  },
  {
   "cell_type": "code",
   "execution_count": null,
   "metadata": {},
   "outputs": [],
   "source": [
    "sc = hv.Scatter(data)\n",
    "sc.options(color_index='Century', cmap='Category10', height=700, width=700, tools=['hover'])"
   ]
  },
  {
   "cell_type": "code",
   "execution_count": null,
   "metadata": {},
   "outputs": [],
   "source": [
    "renderer = hv.renderer('bokeh')\n",
    "renderer.save(sc, 'fiqh-chapter-similarity-per-century')"
   ]
  },
  {
   "cell_type": "code",
   "execution_count": null,
   "metadata": {},
   "outputs": [],
   "source": [
    "data.groupby('ChapterTitle').count().sort_values('x', ascending=False)"
   ]
  }
 ],
 "metadata": {
  "kernelspec": {
   "display_name": "Python [conda env:adh]",
   "language": "python",
   "name": "conda-env-adh-py"
  },
  "language_info": {
   "codemirror_mode": {
    "name": "ipython",
    "version": 3
   },
   "file_extension": ".py",
   "mimetype": "text/x-python",
   "name": "python",
   "nbconvert_exporter": "python",
   "pygments_lexer": "ipython3",
   "version": "3.7.0"
  }
 },
 "nbformat": 4,
 "nbformat_minor": 2
}
