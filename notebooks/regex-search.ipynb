{
 "cells": [
  {
   "cell_type": "code",
   "execution_count": null,
   "metadata": {},
   "outputs": [],
   "source": [
    "# load text\n",
    "# load search terms\n",
    "# make regex\n",
    "# save resuls"
   ]
  },
  {
   "cell_type": "code",
   "execution_count": null,
   "metadata": {},
   "outputs": [],
   "source": [
    "# get search terms\n",
    "terms_file = '/home/jvdzwaan/Downloads/Farad_Infixes (1).txt'\n",
    "with open(terms_file, encoding='utf-8') as f:\n",
    "    lines = f.readlines()\n",
    "\n",
    "terms = [t.strip() for t in lines]\n",
    "len(terms)"
   ]
  },
  {
   "cell_type": "code",
   "execution_count": null,
   "metadata": {},
   "outputs": [],
   "source": [
    "# load text\n",
    "text_file = '/home/jvdzwaan/code/fiqh_corpus/0483IbnAhmadSarakhsi.Mabsut.txt'\n",
    "with open(text_file, encoding='utf-8') as f:\n",
    "    text = f.read()\n",
    "print(len(text))"
   ]
  },
  {
   "cell_type": "code",
   "execution_count": null,
   "metadata": {},
   "outputs": [],
   "source": [
    "print(terms[0])"
   ]
  },
  {
   "cell_type": "code",
   "execution_count": null,
   "metadata": {},
   "outputs": [],
   "source": [
    "import re\n",
    "\n",
    "#regex = r'(.+\\s){0,5}.*فرض.*(.+\\s){0,5}'\n",
    "\n",
    "for match in re.finditer(r'\\S'+terms[0]+'\\S', text):\n",
    "    #print(match.span())\n",
    "    b, e = match.span()\n",
    "    if b < 25:\n",
    "        b = 0\n",
    "    else:\n",
    "        b = b-25\n",
    "    if e > len(text) - 25:\n",
    "        e = len(text)\n",
    "    else:\n",
    "        e = e + 27\n",
    "    print(text[b:e])\n",
    "    print('---')"
   ]
  },
  {
   "cell_type": "code",
   "execution_count": null,
   "metadata": {},
   "outputs": [],
   "source": [
    "from tqdm import tqdm\n",
    "\n",
    "results = []\n",
    "\n",
    "for t in terms:\n",
    "    regexes = [r'\\S'+t+'\\S', r'\\s'+t+'\\S', r'\\S'+t+'\\s']\n",
    "    for regex in regexes:\n",
    "        print(regex)\n",
    "        for match in re.finditer(r'\\S'+terms[0]+'\\S', text):\n",
    "            b, e = match.span()\n",
    "            if b < 25:\n",
    "                b = 0\n",
    "            else:\n",
    "                b = b-25\n",
    "            if e > len(text) - 25:\n",
    "                e = len(text)\n",
    "            else:\n",
    "                e = e + 27\n",
    "            context = text[b:e]\n",
    "            results.append({'term': t, 'context': context})"
   ]
  },
  {
   "cell_type": "code",
   "execution_count": null,
   "metadata": {},
   "outputs": [],
   "source": [
    "import pandas as pd\n",
    "\n",
    "df = pd.DataFrame(results)\n",
    "df"
   ]
  },
  {
   "cell_type": "code",
   "execution_count": null,
   "metadata": {},
   "outputs": [],
   "source": [
    "df.to_csv('0483IbnAhmadSarakhsi.Mabsut-farad_infix_matches.csv', encoding='utf-8')"
   ]
  }
 ],
 "metadata": {
  "language_info": {
   "name": "python",
   "pygments_lexer": "ipython3"
  }
 },
 "nbformat": 4,
 "nbformat_minor": 2
}
