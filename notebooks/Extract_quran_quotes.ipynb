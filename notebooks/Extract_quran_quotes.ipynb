{
 "cells": [
  {
   "cell_type": "code",
   "execution_count": null,
   "metadata": {},
   "outputs": [],
   "source": [
    "from lxml import etree\n",
    "from tqdm import tqdm\n",
    "import pandas as pd\n",
    "import os\n",
    "import glob"
   ]
  },
  {
   "cell_type": "code",
   "execution_count": null,
   "metadata": {},
   "outputs": [],
   "source": [
    "#fname = '/media/sf_VBox_Shared/Arabic/Fiqh/2019-01-08-Fiqh-Alkhalil/0311AbuBakrKhallal.WuqufWaTarajjul.xml'\n",
    "fpath = '/media/sf_VBox_Shared/Arabic/Fiqh/2019-01-08-Fiqh-Alkhalil/'"
   ]
  },
  {
   "cell_type": "code",
   "execution_count": null,
   "metadata": {},
   "outputs": [],
   "source": [
    "def extract_quotes(fname, quote_type = 'quran'):\n",
    "    quotes = []\n",
    "    context = etree.iterparse(fname, events=('end', ),tag=('quote'))\n",
    "    book_id = os.path.basename(fname)[:-4]\n",
    "    for event, elem in context:\n",
    "        if elem.attrib['type']==quote_type:\n",
    "            refs = list(elem.getchildren())\n",
    "            if len(refs)>0:\n",
    "                ref_position = refs[0].attrib['id']\n",
    "            else:\n",
    "                ref_position = -1\n",
    "\n",
    "            quotes.append({'BookURI': book_id,\n",
    "                           'quote': elem.attrib['text'],\n",
    "                          'position': ref_position})\n",
    "    return quotes"
   ]
  },
  {
   "cell_type": "code",
   "execution_count": null,
   "metadata": {},
   "outputs": [],
   "source": [
    "book_files = glob.glob(fpath+'*.xml')\n",
    "len(book_files)"
   ]
  },
  {
   "cell_type": "code",
   "execution_count": null,
   "metadata": {},
   "outputs": [],
   "source": [
    "quotes = []\n",
    "for fname in tqdm(book_files):\n",
    "    quotes.extend(extract_quotes(fname))"
   ]
  },
  {
   "cell_type": "code",
   "execution_count": null,
   "metadata": {},
   "outputs": [],
   "source": [
    "quotes_df = pd.DataFrame(quotes)"
   ]
  },
  {
   "cell_type": "code",
   "execution_count": null,
   "metadata": {},
   "outputs": [],
   "source": [
    "quotes_df.to_csv('/media/sf_VBox_Shared/Arabic/Analyses/Fiqh_final/quotes/quran_quotes.csv', index=False)"
   ]
  },
  {
   "cell_type": "code",
   "execution_count": null,
   "metadata": {},
   "outputs": [],
   "source": []
  }
 ],
 "metadata": {
  "kernelspec": {
   "display_name": "Python [conda env:adh]",
   "language": "python",
   "name": "conda-env-adh-py"
  },
  "language_info": {
   "codemirror_mode": {
    "name": "ipython",
    "version": 3
   },
   "file_extension": ".py",
   "mimetype": "text/x-python",
   "name": "python",
   "nbconvert_exporter": "python",
   "pygments_lexer": "ipython3",
   "version": "3.7.0"
  }
 },
 "nbformat": 4,
 "nbformat_minor": 2
}
