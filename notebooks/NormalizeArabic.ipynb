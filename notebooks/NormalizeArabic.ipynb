{
 "cells": [
  {
   "cell_type": "code",
   "execution_count": 41,
   "metadata": {},
   "outputs": [],
   "source": [
    "import os\n",
    "import re\n",
    "from tqdm import tqdm"
   ]
  },
  {
   "cell_type": "code",
   "execution_count": 27,
   "metadata": {},
   "outputs": [],
   "source": [
    "corpus_path = '/media/sf_VBox_Shared/Arabic/Fiqh/plaintext/'\n",
    "normalized_corpus_path = '/media/sf_VBox_Shared/Arabic/Fiqh/plaintext_normalized/'"
   ]
  },
  {
   "cell_type": "code",
   "execution_count": 22,
   "metadata": {},
   "outputs": [],
   "source": [
    "def normalize_arabic(text):\n",
    "    # Remove non-arabic characters\n",
    "    nonarab_chars = '[^\\u0621-\\u064A ]'\n",
    "    text = re.sub(nonarab_chars, '', text)\n",
    "    text = text.strip()\n",
    "    text = re.sub(\"[إأٱآا]\", \"ا\", text)\n",
    "    text = re.sub(\"ى\", \"ي\", text)\n",
    "    text = re.sub(\"ة\", \"ه\", text)\n",
    "    return text"
   ]
  },
  {
   "cell_type": "code",
   "execution_count": 37,
   "metadata": {},
   "outputs": [],
   "source": [
    "def normalize_file(fname_in, fname_out):\n",
    "    with open(fname_out, 'w') as fout: \n",
    "        for line in open(fname_in):\n",
    "            words = [normalize_arabic(w) for w in line.split(' ')]\n",
    "            words = [w for w in words if len(w)>0]\n",
    "            if len(words) > 0:\n",
    "                fout.write(' '.join(words))\n",
    "                fout.write('\\n')"
   ]
  },
  {
   "cell_type": "code",
   "execution_count": 42,
   "metadata": {},
   "outputs": [],
   "source": [
    "def normalize_dir(in_dir, out_dir):\n",
    "    for fname in tqdm(os.listdir(in_dir)):\n",
    "        fname_in = os.path.join(in_dir, fname)\n",
    "        fname_out = os.path.join(out_dir, fname)\n",
    "        normalize_file(fname_in, fname_out)"
   ]
  },
  {
   "cell_type": "code",
   "execution_count": 43,
   "metadata": {},
   "outputs": [
    {
     "name": "stderr",
     "output_type": "stream",
     "text": [
      "100%|██████████| 55/55 [10:45<00:00, 11.74s/it]\n"
     ]
    }
   ],
   "source": [
    "normalize_dir(corpus_path, normalized_corpus_path)"
   ]
  },
  {
   "cell_type": "code",
   "execution_count": null,
   "metadata": {},
   "outputs": [],
   "source": []
  }
 ],
 "metadata": {
  "kernelspec": {
   "display_name": "Python [conda env:adh]",
   "language": "python",
   "name": "conda-env-adh-py"
  },
  "language_info": {
   "codemirror_mode": {
    "name": "ipython",
    "version": 3
   },
   "file_extension": ".py",
   "mimetype": "text/x-python",
   "name": "python",
   "nbconvert_exporter": "python",
   "pygments_lexer": "ipython3",
   "version": "3.7.0"
  }
 },
 "nbformat": 4,
 "nbformat_minor": 2
}
