{
 "cells": [
  {
   "cell_type": "code",
   "execution_count": 1,
   "metadata": {},
   "outputs": [],
   "source": [
    "from sklearn.feature_extraction.text import CountVectorizer\n",
    "from sklearn.decomposition import LatentDirichletAllocation\n",
    "import adhtools.utils\n",
    "import pandas as pd\n",
    "import os\n",
    "import numpy as np"
   ]
  },
  {
   "cell_type": "markdown",
   "metadata": {},
   "source": [
    "## Load corpus"
   ]
  },
  {
   "cell_type": "code",
   "execution_count": 3,
   "metadata": {},
   "outputs": [
    {
     "name": "stdout",
     "output_type": "stream",
     "text": [
      "10065\n"
     ]
    }
   ],
   "source": [
    "import glob\n",
    "\n",
    "book_files = glob.glob('/media/sf_VBox_Shared/Arabic/Fiqh/2018-11-20-Fiqh-light10-chapters/*.xml')\n",
    "fnames = [os.path.basename(fn) for fn in book_files]\n",
    "print(len(book_files))"
   ]
  },
  {
   "cell_type": "code",
   "execution_count": 4,
   "metadata": {},
   "outputs": [],
   "source": [
    "path_to_stopwordlist = '/media/sf_VBox_Shared/Arabic/arabic_stop-words_7-8-2018.txt'\n",
    "external_stopwords = [line.strip() for line in open(path_to_stopwordlist, 'r', encoding='utf-8')]"
   ]
  },
  {
   "cell_type": "code",
   "execution_count": 5,
   "metadata": {},
   "outputs": [],
   "source": [
    "corpus = adhtools.utils.corpus_str(book_files, analyzer=False, field='proposed_root')"
   ]
  },
  {
   "cell_type": "markdown",
   "metadata": {},
   "source": [
    "## Make document-term matrix"
   ]
  },
  {
   "cell_type": "code",
   "execution_count": 6,
   "metadata": {},
   "outputs": [],
   "source": [
    "vectorizer = CountVectorizer( stop_words=external_stopwords, min_df=2, max_df=0.9)\n",
    "X = vectorizer.fit_transform(corpus)"
   ]
  },
  {
   "cell_type": "code",
   "execution_count": 7,
   "metadata": {},
   "outputs": [
    {
     "data": {
      "text/plain": [
       "79401"
      ]
     },
     "execution_count": 7,
     "metadata": {},
     "output_type": "execute_result"
    }
   ],
   "source": [
    "feature_names = vectorizer.get_feature_names()\n",
    "len(feature_names)"
   ]
  },
  {
   "cell_type": "code",
   "execution_count": 8,
   "metadata": {},
   "outputs": [
    {
     "data": {
      "text/plain": [
       "array(['اعلم', 'ابدانهم', 'حمل', 'يشق', 'سيد', 'يطيق', 'يكلف', 'وعمل',\n",
       "       'اكل', 'ترفق', 'تميز', 'يحتاج', 'اذن', 'رخص', 'وج', 'كر', 'اجماع',\n",
       "       'ادم', 'وخصا', 'فجااز', 'حمير', 'بغال', 'ذهب', 'ينقص', 'خيل',\n",
       "       'ونه', 'لحوم', 'صلاح', 'معز', 'بخصا', 'اتخاذ', 'لعب', 'عيال',\n",
       "       'وقوت', 'قو', 'لعيش', 'يصطاد', 'صيد', 'تت', 'يبيت', 'يرجع', 'يروح',\n",
       "       'صحرا', 'يصحب', 'غنم', 'ماش', 'جل', 'زرع', 'حراس', 'عقور'],\n",
       "      dtype='<U19')"
      ]
     },
     "execution_count": 8,
     "metadata": {},
     "output_type": "execute_result"
    }
   ],
   "source": [
    "# some example words from the first document\n",
    "np.array(feature_names)[X[0].indices][:50]"
   ]
  },
  {
   "cell_type": "code",
   "execution_count": 9,
   "metadata": {},
   "outputs": [
    {
     "data": {
      "text/plain": [
       "ول      534\n",
       "اب      440\n",
       "صلا     291\n",
       "صل      270\n",
       "اذ      242\n",
       "مال     158\n",
       "ام      152\n",
       "مالك    150\n",
       "حد      148\n",
       "زكا     146\n",
       "بيع     145\n",
       "حج      138\n",
       "شهاد     91\n",
       "قتل      89\n",
       "ارض      82\n",
       "عتق      81\n",
       "طلاق     77\n",
       "رسول     77\n",
       "زوج      77\n",
       "غسل      75\n",
       "dtype: int64"
      ]
     },
     "execution_count": 9,
     "metadata": {},
     "output_type": "execute_result"
    }
   ],
   "source": [
    "most_imp_words = pd.Series(np.array(feature_names)[X.argmax(axis=1)].flatten())\n",
    "most_imp_words.value_counts().head(20)"
   ]
  },
  {
   "cell_type": "markdown",
   "metadata": {},
   "source": [
    "## Train model"
   ]
  },
  {
   "cell_type": "code",
   "execution_count": 10,
   "metadata": {},
   "outputs": [],
   "source": [
    "nr_topics = 20"
   ]
  },
  {
   "cell_type": "code",
   "execution_count": 12,
   "metadata": {},
   "outputs": [
    {
     "name": "stderr",
     "output_type": "stream",
     "text": [
      "INFO:lda:n_documents: 10065\n",
      "INFO:lda:vocab_size: 79401\n",
      "INFO:lda:n_words: 25656190\n",
      "INFO:lda:n_topics: 20\n",
      "INFO:lda:n_iter: 500\n",
      "WARNING:lda:all zero row in document-term matrix found\n",
      "/home/dafne/anaconda3/envs/adh/lib/python3.7/site-packages/lda/utils.py:55: FutureWarning: Conversion of the second argument of issubdtype from `int` to `np.signedinteger` is deprecated. In future, it will be treated as `np.int64 == np.dtype(int).type`.\n",
      "  if sparse and not np.issubdtype(doc_word.dtype, int):\n",
      "INFO:lda:<0> log likelihood: -288552224\n",
      "INFO:lda:<10> log likelihood: -253597784\n",
      "INFO:lda:<20> log likelihood: -227908281\n",
      "INFO:lda:<30> log likelihood: -224636409\n",
      "INFO:lda:<40> log likelihood: -223296045\n",
      "INFO:lda:<50> log likelihood: -222536561\n",
      "INFO:lda:<60> log likelihood: -221984570\n",
      "INFO:lda:<70> log likelihood: -221608036\n",
      "INFO:lda:<80> log likelihood: -221322547\n",
      "INFO:lda:<90> log likelihood: -221089555\n",
      "INFO:lda:<100> log likelihood: -220896301\n",
      "INFO:lda:<110> log likelihood: -220735744\n",
      "INFO:lda:<120> log likelihood: -220560811\n",
      "INFO:lda:<130> log likelihood: -220436452\n",
      "INFO:lda:<140> log likelihood: -220329748\n",
      "INFO:lda:<150> log likelihood: -220218030\n",
      "INFO:lda:<160> log likelihood: -220121774\n",
      "INFO:lda:<170> log likelihood: -220033230\n",
      "INFO:lda:<180> log likelihood: -219941562\n",
      "INFO:lda:<190> log likelihood: -219869904\n",
      "INFO:lda:<200> log likelihood: -219812662\n",
      "INFO:lda:<210> log likelihood: -219783748\n",
      "INFO:lda:<220> log likelihood: -219731143\n",
      "INFO:lda:<230> log likelihood: -219681195\n",
      "INFO:lda:<240> log likelihood: -219648953\n",
      "INFO:lda:<250> log likelihood: -219620543\n",
      "INFO:lda:<260> log likelihood: -219584998\n",
      "INFO:lda:<270> log likelihood: -219564122\n",
      "INFO:lda:<280> log likelihood: -219535066\n",
      "INFO:lda:<290> log likelihood: -219501638\n",
      "INFO:lda:<300> log likelihood: -219472490\n",
      "INFO:lda:<310> log likelihood: -219436107\n",
      "INFO:lda:<320> log likelihood: -219405916\n",
      "INFO:lda:<330> log likelihood: -219396550\n",
      "INFO:lda:<340> log likelihood: -219376948\n",
      "INFO:lda:<350> log likelihood: -219339057\n",
      "INFO:lda:<360> log likelihood: -219321859\n",
      "INFO:lda:<370> log likelihood: -219301839\n",
      "INFO:lda:<380> log likelihood: -219282527\n",
      "INFO:lda:<390> log likelihood: -219261523\n",
      "INFO:lda:<400> log likelihood: -219262594\n",
      "INFO:lda:<410> log likelihood: -219233499\n",
      "INFO:lda:<420> log likelihood: -219231262\n",
      "INFO:lda:<430> log likelihood: -219220445\n",
      "INFO:lda:<440> log likelihood: -219214734\n",
      "INFO:lda:<450> log likelihood: -219196499\n",
      "INFO:lda:<460> log likelihood: -219173490\n",
      "INFO:lda:<470> log likelihood: -219190787\n",
      "INFO:lda:<480> log likelihood: -219173415\n",
      "INFO:lda:<490> log likelihood: -219166823\n",
      "INFO:lda:<499> log likelihood: -219137058\n"
     ]
    },
    {
     "data": {
      "text/plain": [
       "<lda.lda.LDA at 0x7f160f667898>"
      ]
     },
     "execution_count": 12,
     "metadata": {},
     "output_type": "execute_result"
    }
   ],
   "source": [
    "import lda\n",
    "model = lda.LDA(n_topics=nr_topics, n_iter=500, random_state=1)\n",
    "model.fit(X)"
   ]
  },
  {
   "cell_type": "code",
   "execution_count": 13,
   "metadata": {},
   "outputs": [],
   "source": [
    "# lda = LatentDirichletAllocation(n_components=nr_topics, random_state=0, max_iter=50)\n",
    "# document_topics = lda.fit_transform(X)"
   ]
  },
  {
   "cell_type": "code",
   "execution_count": 14,
   "metadata": {},
   "outputs": [],
   "source": [
    "document_topics = model.doc_topic_"
   ]
  },
  {
   "cell_type": "markdown",
   "metadata": {},
   "source": [
    "## Save files"
   ]
  },
  {
   "cell_type": "code",
   "execution_count": 15,
   "metadata": {},
   "outputs": [],
   "source": [
    "fp_out = '/media/sf_VBox_Shared/Arabic/Analyses/topicmodelling/'"
   ]
  },
  {
   "cell_type": "code",
   "execution_count": 16,
   "metadata": {},
   "outputs": [],
   "source": [
    "df_document_topics = pd.DataFrame(document_topics, index=fnames)\n",
    "df_document_topics.to_csv(os.path.join(fp_out, 'fiqh_light10_document_topics_{}.csv'.format(nr_topics)))"
   ]
  },
  {
   "cell_type": "code",
   "execution_count": 17,
   "metadata": {},
   "outputs": [
    {
     "data": {
      "text/plain": [
       "(20, 79401)"
      ]
     },
     "execution_count": 17,
     "metadata": {},
     "output_type": "execute_result"
    }
   ],
   "source": [
    "#lda.components_.shape\n",
    "model.components_.shape"
   ]
  },
  {
   "cell_type": "code",
   "execution_count": 18,
   "metadata": {},
   "outputs": [],
   "source": [
    "topic_words = pd.DataFrame(np.argsort(model.components_, axis=1)[:,-10:][::-1])"
   ]
  },
  {
   "cell_type": "code",
   "execution_count": 19,
   "metadata": {},
   "outputs": [],
   "source": [
    "topic_words = topic_words.applymap(lambda l: feature_names[l])"
   ]
  },
  {
   "cell_type": "code",
   "execution_count": 20,
   "metadata": {},
   "outputs": [],
   "source": [
    "topic_words.to_csv(os.path.join(fp_out, 'fiqh_light10_topics_{}.csv'.format(nr_topics)))"
   ]
  },
  {
   "cell_type": "code",
   "execution_count": 22,
   "metadata": {},
   "outputs": [
    {
     "data": {
      "text/html": [
       "<div>\n",
       "<style scoped>\n",
       "    .dataframe tbody tr th:only-of-type {\n",
       "        vertical-align: middle;\n",
       "    }\n",
       "\n",
       "    .dataframe tbody tr th {\n",
       "        vertical-align: top;\n",
       "    }\n",
       "\n",
       "    .dataframe thead th {\n",
       "        text-align: right;\n",
       "    }\n",
       "</style>\n",
       "<table border=\"1\" class=\"dataframe\">\n",
       "  <thead>\n",
       "    <tr style=\"text-align: right;\">\n",
       "      <th></th>\n",
       "      <th>0</th>\n",
       "      <th>1</th>\n",
       "      <th>2</th>\n",
       "      <th>3</th>\n",
       "      <th>4</th>\n",
       "      <th>5</th>\n",
       "      <th>6</th>\n",
       "      <th>7</th>\n",
       "      <th>8</th>\n",
       "      <th>9</th>\n",
       "    </tr>\n",
       "  </thead>\n",
       "  <tbody>\n",
       "    <tr>\n",
       "      <th>0</th>\n",
       "      <td>ورث</td>\n",
       "      <td>ام</td>\n",
       "      <td>اب</td>\n",
       "      <td>خمس</td>\n",
       "      <td>نصف</td>\n",
       "      <td>ثلاث</td>\n",
       "      <td>مال</td>\n",
       "      <td>عشر</td>\n",
       "      <td>وص</td>\n",
       "      <td>ثلث</td>\n",
       "    </tr>\n",
       "    <tr>\n",
       "      <th>1</th>\n",
       "      <td>رحم</td>\n",
       "      <td>وكذ</td>\n",
       "      <td>ظاهر</td>\n",
       "      <td>بخلاف</td>\n",
       "      <td>حنيف</td>\n",
       "      <td>يوسف</td>\n",
       "      <td>اب</td>\n",
       "      <td>ذكر</td>\n",
       "      <td>هذ</td>\n",
       "      <td>اذ</td>\n",
       "    </tr>\n",
       "    <tr>\n",
       "      <th>2</th>\n",
       "      <td>سجد</td>\n",
       "      <td>سلام</td>\n",
       "      <td>ركع</td>\n",
       "      <td>وقت</td>\n",
       "      <td>اول</td>\n",
       "      <td>صل</td>\n",
       "      <td>ول</td>\n",
       "      <td>اذ</td>\n",
       "      <td>امام</td>\n",
       "      <td>صلا</td>\n",
       "    </tr>\n",
       "    <tr>\n",
       "      <th>3</th>\n",
       "      <td>مال</td>\n",
       "      <td>مكاتب</td>\n",
       "      <td>ول</td>\n",
       "      <td>قيم</td>\n",
       "      <td>كتاب</td>\n",
       "      <td>ملك</td>\n",
       "      <td>حر</td>\n",
       "      <td>ام</td>\n",
       "      <td>ولد</td>\n",
       "      <td>عتق</td>\n",
       "    </tr>\n",
       "    <tr>\n",
       "      <th>4</th>\n",
       "      <td>طواف</td>\n",
       "      <td>محرم</td>\n",
       "      <td>حرم</td>\n",
       "      <td>احرام</td>\n",
       "      <td>عمر</td>\n",
       "      <td>اذ</td>\n",
       "      <td>صوم</td>\n",
       "      <td>يوم</td>\n",
       "      <td>ول</td>\n",
       "      <td>حج</td>\n",
       "    </tr>\n",
       "    <tr>\n",
       "      <th>5</th>\n",
       "      <td>اب</td>\n",
       "      <td>نفق</td>\n",
       "      <td>فل</td>\n",
       "      <td>اذ</td>\n",
       "      <td>عقد</td>\n",
       "      <td>مهر</td>\n",
       "      <td>ام</td>\n",
       "      <td>ول</td>\n",
       "      <td>نكاح</td>\n",
       "      <td>زوج</td>\n",
       "    </tr>\n",
       "    <tr>\n",
       "      <th>6</th>\n",
       "      <td>نجس</td>\n",
       "      <td>تيمم</td>\n",
       "      <td>مسح</td>\n",
       "      <td>دم</td>\n",
       "      <td>نجاس</td>\n",
       "      <td>صلا</td>\n",
       "      <td>وض</td>\n",
       "      <td>اذ</td>\n",
       "      <td>ول</td>\n",
       "      <td>غسل</td>\n",
       "    </tr>\n",
       "    <tr>\n",
       "      <th>7</th>\n",
       "      <td>هذ</td>\n",
       "      <td>ثمن</td>\n",
       "      <td>فل</td>\n",
       "      <td>قبض</td>\n",
       "      <td>ول</td>\n",
       "      <td>بيع</td>\n",
       "      <td>وكيل</td>\n",
       "      <td>اذ</td>\n",
       "      <td>حق</td>\n",
       "      <td>مال</td>\n",
       "    </tr>\n",
       "    <tr>\n",
       "      <th>8</th>\n",
       "      <td>ايض</td>\n",
       "      <td>وج</td>\n",
       "      <td>اذ</td>\n",
       "      <td>ظاهر</td>\n",
       "      <td>اول</td>\n",
       "      <td>ول</td>\n",
       "      <td>حيناذ</td>\n",
       "      <td>سلام</td>\n",
       "      <td>خلاف</td>\n",
       "      <td>عدم</td>\n",
       "    </tr>\n",
       "    <tr>\n",
       "      <th>9</th>\n",
       "      <td>نذر</td>\n",
       "      <td>اذ</td>\n",
       "      <td>فل</td>\n",
       "      <td>ول</td>\n",
       "      <td>هذ</td>\n",
       "      <td>كفار</td>\n",
       "      <td>يحنث</td>\n",
       "      <td>حنث</td>\n",
       "      <td>يم</td>\n",
       "      <td>حلف</td>\n",
       "    </tr>\n",
       "    <tr>\n",
       "      <th>10</th>\n",
       "      <td>اجار</td>\n",
       "      <td>ملك</td>\n",
       "      <td>فل</td>\n",
       "      <td>مالك</td>\n",
       "      <td>عمل</td>\n",
       "      <td>اذ</td>\n",
       "      <td>ول</td>\n",
       "      <td>مال</td>\n",
       "      <td>اجر</td>\n",
       "      <td>ارض</td>\n",
       "    </tr>\n",
       "    <tr>\n",
       "      <th>11</th>\n",
       "      <td>اخذ</td>\n",
       "      <td>اشهب</td>\n",
       "      <td>مدون</td>\n",
       "      <td>كتاب</td>\n",
       "      <td>اذ</td>\n",
       "      <td>فل</td>\n",
       "      <td>زكا</td>\n",
       "      <td>ول</td>\n",
       "      <td>مالك</td>\n",
       "      <td>قاسم</td>\n",
       "    </tr>\n",
       "    <tr>\n",
       "      <th>12</th>\n",
       "      <td>نفس</td>\n",
       "      <td>مال</td>\n",
       "      <td>فل</td>\n",
       "      <td>قصاص</td>\n",
       "      <td>اذ</td>\n",
       "      <td>حد</td>\n",
       "      <td>مسلم</td>\n",
       "      <td>قطع</td>\n",
       "      <td>ول</td>\n",
       "      <td>قتل</td>\n",
       "    </tr>\n",
       "    <tr>\n",
       "      <th>13</th>\n",
       "      <td>هذ</td>\n",
       "      <td>مالك</td>\n",
       "      <td>ابو</td>\n",
       "      <td>نب</td>\n",
       "      <td>عمر</td>\n",
       "      <td>حدث</td>\n",
       "      <td>حديث</td>\n",
       "      <td>رسول</td>\n",
       "      <td>اب</td>\n",
       "      <td>صل</td>\n",
       "    </tr>\n",
       "    <tr>\n",
       "      <th>14</th>\n",
       "      <td>فل</td>\n",
       "      <td>هذ</td>\n",
       "      <td>يد</td>\n",
       "      <td>اذ</td>\n",
       "      <td>قاض</td>\n",
       "      <td>مدع</td>\n",
       "      <td>اقرار</td>\n",
       "      <td>ول</td>\n",
       "      <td>حد</td>\n",
       "      <td>شهاد</td>\n",
       "    </tr>\n",
       "    <tr>\n",
       "      <th>15</th>\n",
       "      <td>ام</td>\n",
       "      <td>ظاهر</td>\n",
       "      <td>شيخ</td>\n",
       "      <td>فل</td>\n",
       "      <td>شرح</td>\n",
       "      <td>كلام</td>\n",
       "      <td>اذ</td>\n",
       "      <td>ول</td>\n",
       "      <td>ذكر</td>\n",
       "      <td>اول</td>\n",
       "    </tr>\n",
       "    <tr>\n",
       "      <th>16</th>\n",
       "      <td>اول</td>\n",
       "      <td>ول</td>\n",
       "      <td>طلق</td>\n",
       "      <td>عد</td>\n",
       "      <td>طالق</td>\n",
       "      <td>اذ</td>\n",
       "      <td>زوج</td>\n",
       "      <td>حد</td>\n",
       "      <td>ثلاث</td>\n",
       "      <td>طلاق</td>\n",
       "    </tr>\n",
       "    <tr>\n",
       "      <th>17</th>\n",
       "      <td>روا</td>\n",
       "      <td>ذكر</td>\n",
       "      <td>وجه</td>\n",
       "      <td>مسال</td>\n",
       "      <td>احدهم</td>\n",
       "      <td>ابو</td>\n",
       "      <td>فصل</td>\n",
       "      <td>شافع</td>\n",
       "      <td>ول</td>\n",
       "      <td>ثان</td>\n",
       "    </tr>\n",
       "    <tr>\n",
       "      <th>18</th>\n",
       "      <td>رد</td>\n",
       "      <td>قبض</td>\n",
       "      <td>اذ</td>\n",
       "      <td>ول</td>\n",
       "      <td>خيار</td>\n",
       "      <td>عقد</td>\n",
       "      <td>بااع</td>\n",
       "      <td>ثمن</td>\n",
       "      <td>مشتر</td>\n",
       "      <td>بيع</td>\n",
       "    </tr>\n",
       "    <tr>\n",
       "      <th>19</th>\n",
       "      <td>ظاهر</td>\n",
       "      <td>عدم</td>\n",
       "      <td>صحيح</td>\n",
       "      <td>وجوب</td>\n",
       "      <td>هذ</td>\n",
       "      <td>ذكر</td>\n",
       "      <td>صلا</td>\n",
       "      <td>ايض</td>\n",
       "      <td>اذ</td>\n",
       "      <td>سلام</td>\n",
       "    </tr>\n",
       "  </tbody>\n",
       "</table>\n",
       "</div>"
      ],
      "text/plain": [
       "       0      1     2      3      4     5      6     7     8     9\n",
       "0    ورث     ام    اب    خمس    نصف  ثلاث    مال   عشر    وص   ثلث\n",
       "1    رحم    وكذ  ظاهر  بخلاف   حنيف  يوسف     اب   ذكر    هذ    اذ\n",
       "2    سجد   سلام   ركع    وقت    اول    صل     ول    اذ  امام   صلا\n",
       "3    مال  مكاتب    ول    قيم   كتاب   ملك     حر    ام   ولد   عتق\n",
       "4   طواف   محرم   حرم  احرام    عمر    اذ    صوم   يوم    ول    حج\n",
       "5     اب    نفق    فل     اذ    عقد   مهر     ام    ول  نكاح   زوج\n",
       "6    نجس   تيمم   مسح     دم   نجاس   صلا     وض    اذ    ول   غسل\n",
       "7     هذ    ثمن    فل    قبض     ول   بيع   وكيل    اذ    حق   مال\n",
       "8    ايض     وج    اذ   ظاهر    اول    ول  حيناذ  سلام  خلاف   عدم\n",
       "9    نذر     اذ    فل     ول     هذ  كفار   يحنث   حنث    يم   حلف\n",
       "10  اجار    ملك    فل   مالك    عمل    اذ     ول   مال   اجر   ارض\n",
       "11   اخذ   اشهب  مدون   كتاب     اذ    فل    زكا    ول  مالك  قاسم\n",
       "12   نفس    مال    فل   قصاص     اذ    حد   مسلم   قطع    ول   قتل\n",
       "13    هذ   مالك   ابو     نب    عمر   حدث   حديث  رسول    اب    صل\n",
       "14    فل     هذ    يد     اذ    قاض   مدع  اقرار    ول    حد  شهاد\n",
       "15    ام   ظاهر   شيخ     فل    شرح  كلام     اذ    ول   ذكر   اول\n",
       "16   اول     ول   طلق     عد   طالق    اذ    زوج    حد  ثلاث  طلاق\n",
       "17   روا    ذكر   وجه   مسال  احدهم   ابو    فصل  شافع    ول   ثان\n",
       "18    رد    قبض    اذ     ول   خيار   عقد   بااع   ثمن  مشتر   بيع\n",
       "19  ظاهر    عدم  صحيح   وجوب     هذ   ذكر    صلا   ايض    اذ  سلام"
      ]
     },
     "execution_count": 22,
     "metadata": {},
     "output_type": "execute_result"
    }
   ],
   "source": [
    "topic_words"
   ]
  },
  {
   "cell_type": "code",
   "execution_count": null,
   "metadata": {},
   "outputs": [],
   "source": []
  }
 ],
 "metadata": {
  "kernelspec": {
   "display_name": "Python [conda env:adh]",
   "language": "python",
   "name": "conda-env-adh-py"
  },
  "language_info": {
   "codemirror_mode": {
    "name": "ipython",
    "version": 3
   },
   "file_extension": ".py",
   "mimetype": "text/x-python",
   "name": "python",
   "nbconvert_exporter": "python",
   "pygments_lexer": "ipython3",
   "version": "3.7.0"
  }
 },
 "nbformat": 4,
 "nbformat_minor": 2
}
