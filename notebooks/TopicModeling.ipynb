{
 "cells": [
  {
   "cell_type": "code",
   "execution_count": 2,
   "metadata": {},
   "outputs": [],
   "source": [
    "from sklearn.feature_extraction.text import CountVectorizer\n",
    "from sklearn.decomposition import LatentDirichletAllocation\n",
    "import adhtools.utils\n",
    "import pandas as pd\n",
    "import os\n",
    "import numpy as np"
   ]
  },
  {
   "cell_type": "markdown",
   "metadata": {},
   "source": [
    "## Load corpus"
   ]
  },
  {
   "cell_type": "code",
   "execution_count": 3,
   "metadata": {},
   "outputs": [
    {
     "name": "stdout",
     "output_type": "stream",
     "text": [
      "10066\n"
     ]
    }
   ],
   "source": [
    "import glob\n",
    "\n",
    "book_files = glob.glob('/media/sf_VBox_Shared/Arabic/Fiqh/2018-11-13-Fiqh-stemmed-chapters/*.xml')\n",
    "fnames = [os.path.basename(fn) for fn in book_files]\n",
    "print(len(book_files))"
   ]
  },
  {
   "cell_type": "code",
   "execution_count": 4,
   "metadata": {},
   "outputs": [],
   "source": [
    "path_to_stopwordlist = '/media/sf_VBox_Shared/Arabic/arabic_stop-words_7-8-2018.txt'\n",
    "external_stopwords = [line.strip() for line in open(path_to_stopwordlist, 'r', encoding='utf-8')]"
   ]
  },
  {
   "cell_type": "code",
   "execution_count": 5,
   "metadata": {},
   "outputs": [],
   "source": [
    "corpus = adhtools.utils.corpus_str(book_files, analyzer=False, field='proposed_root')"
   ]
  },
  {
   "cell_type": "markdown",
   "metadata": {},
   "source": [
    "## Make document-term matrix"
   ]
  },
  {
   "cell_type": "code",
   "execution_count": 6,
   "metadata": {},
   "outputs": [],
   "source": [
    "vectorizer = CountVectorizer( stop_words=external_stopwords, min_df=2, max_df=0.9)\n",
    "X = vectorizer.fit_transform(corpus)"
   ]
  },
  {
   "cell_type": "code",
   "execution_count": 7,
   "metadata": {},
   "outputs": [
    {
     "data": {
      "text/plain": [
       "29755"
      ]
     },
     "execution_count": 7,
     "metadata": {},
     "output_type": "execute_result"
    }
   ],
   "source": [
    "feature_names = vectorizer.get_feature_names()\n",
    "len(feature_names)"
   ]
  },
  {
   "cell_type": "code",
   "execution_count": 8,
   "metadata": {},
   "outputs": [
    {
     "data": {
      "text/plain": [
       "array(['بقل', 'ربط', 'جدي', 'رفق', 'شرط', 'خوص', 'منع', 'قطع', 'بلد',\n",
       "       'غرر', 'وإنا', 'طوق', 'زخرف', 'قرن', 'ذلل', 'سخر', 'سيأ', 'فوت',\n",
       "       'حول', 'وسي', 'مدي', 'همز', 'كوف', 'فتح', 'وكآبة', 'همل', 'بسأ',\n",
       "       'وعث', 'عرف', 'حرف', 'سرد', 'فذلك', 'سبع', 'وسع', 'قعد', 'قيأ',\n",
       "       'شخص', 'هيأ', 'مضطجع', 'قذر', 'لحم', 'بات', 'أجر', 'عطي', 'فنادق',\n",
       "       'فهم', 'غرب', 'رخص', 'رغث', 'قمل'], dtype='<U19')"
      ]
     },
     "execution_count": 8,
     "metadata": {},
     "output_type": "execute_result"
    }
   ],
   "source": [
    "# some example words from the first document\n",
    "np.array(feature_names)[X[0].indices][:50]"
   ]
  },
  {
   "cell_type": "code",
   "execution_count": 9,
   "metadata": {},
   "outputs": [
    {
     "data": {
      "text/plain": [
       "صلي    563\n",
       "سلم    477\n",
       "بيع    412\n",
       "شهد    242\n",
       "طلق    202\n",
       "حرم    192\n",
       "قتل    164\n",
       "ملك    148\n",
       "كتب    145\n",
       "عتق    143\n",
       "زكي    130\n",
       "صوم    121\n",
       "زوج    115\n",
       "وصي    112\n",
       "قرر    111\n",
       "رهن    107\n",
       "أبن    107\n",
       "ثلث    105\n",
       "دعا     99\n",
       "ولد     98\n",
       "dtype: int64"
      ]
     },
     "execution_count": 9,
     "metadata": {},
     "output_type": "execute_result"
    }
   ],
   "source": [
    "most_imp_words = pd.Series(np.array(feature_names)[X.argmax(axis=1)].flatten())\n",
    "most_imp_words.value_counts().head(20)"
   ]
  },
  {
   "cell_type": "markdown",
   "metadata": {},
   "source": [
    "## Train model"
   ]
  },
  {
   "cell_type": "code",
   "execution_count": 13,
   "metadata": {},
   "outputs": [],
   "source": [
    "nr_topics = 10"
   ]
  },
  {
   "cell_type": "code",
   "execution_count": 14,
   "metadata": {},
   "outputs": [
    {
     "name": "stderr",
     "output_type": "stream",
     "text": [
      "INFO:lda:n_documents: 10066\n",
      "INFO:lda:vocab_size: 29755\n",
      "INFO:lda:n_words: 25060379\n",
      "INFO:lda:n_topics: 10\n",
      "INFO:lda:n_iter: 1000\n",
      "WARNING:lda:all zero row in document-term matrix found\n",
      "INFO:lda:<0> log likelihood: -225944102\n",
      "INFO:lda:<10> log likelihood: -211962484\n",
      "INFO:lda:<20> log likelihood: -188614270\n",
      "INFO:lda:<30> log likelihood: -185684903\n",
      "INFO:lda:<40> log likelihood: -184884436\n",
      "INFO:lda:<50> log likelihood: -184470324\n",
      "INFO:lda:<60> log likelihood: -184194843\n",
      "INFO:lda:<70> log likelihood: -183947053\n",
      "INFO:lda:<80> log likelihood: -183666613\n",
      "INFO:lda:<90> log likelihood: -183479900\n",
      "INFO:lda:<100> log likelihood: -183356511\n",
      "INFO:lda:<110> log likelihood: -183267991\n",
      "INFO:lda:<120> log likelihood: -183195951\n",
      "INFO:lda:<130> log likelihood: -183146336\n",
      "INFO:lda:<140> log likelihood: -183096768\n",
      "INFO:lda:<150> log likelihood: -183064542\n",
      "INFO:lda:<160> log likelihood: -183023691\n",
      "INFO:lda:<170> log likelihood: -182983450\n",
      "INFO:lda:<180> log likelihood: -182963574\n",
      "INFO:lda:<190> log likelihood: -182916416\n",
      "INFO:lda:<200> log likelihood: -182886115\n",
      "INFO:lda:<210> log likelihood: -182853970\n",
      "INFO:lda:<220> log likelihood: -182829274\n",
      "INFO:lda:<230> log likelihood: -182808940\n",
      "INFO:lda:<240> log likelihood: -182790193\n",
      "INFO:lda:<250> log likelihood: -182770027\n",
      "INFO:lda:<260> log likelihood: -182747673\n",
      "INFO:lda:<270> log likelihood: -182698978\n",
      "INFO:lda:<280> log likelihood: -182657959\n",
      "INFO:lda:<290> log likelihood: -182640930\n",
      "INFO:lda:<300> log likelihood: -182619736\n",
      "INFO:lda:<310> log likelihood: -182627925\n",
      "INFO:lda:<320> log likelihood: -182600148\n",
      "INFO:lda:<330> log likelihood: -182566883\n",
      "INFO:lda:<340> log likelihood: -182547198\n",
      "INFO:lda:<350> log likelihood: -182533934\n",
      "INFO:lda:<360> log likelihood: -182506380\n",
      "INFO:lda:<370> log likelihood: -182486167\n",
      "INFO:lda:<380> log likelihood: -182394123\n",
      "INFO:lda:<390> log likelihood: -182333152\n",
      "INFO:lda:<400> log likelihood: -182295928\n",
      "INFO:lda:<410> log likelihood: -182245122\n",
      "INFO:lda:<420> log likelihood: -182235750\n",
      "INFO:lda:<430> log likelihood: -182215465\n",
      "INFO:lda:<440> log likelihood: -182186071\n",
      "INFO:lda:<450> log likelihood: -182176366\n",
      "INFO:lda:<460> log likelihood: -182173854\n",
      "INFO:lda:<470> log likelihood: -182152668\n",
      "INFO:lda:<480> log likelihood: -182138367\n",
      "INFO:lda:<490> log likelihood: -182122047\n",
      "INFO:lda:<500> log likelihood: -182106227\n",
      "INFO:lda:<510> log likelihood: -182106376\n",
      "INFO:lda:<520> log likelihood: -182072805\n",
      "INFO:lda:<530> log likelihood: -182055919\n",
      "INFO:lda:<540> log likelihood: -182049553\n",
      "INFO:lda:<550> log likelihood: -182024148\n",
      "INFO:lda:<560> log likelihood: -182008708\n",
      "INFO:lda:<570> log likelihood: -182000406\n",
      "INFO:lda:<580> log likelihood: -181976294\n",
      "INFO:lda:<590> log likelihood: -181977958\n",
      "INFO:lda:<600> log likelihood: -181975169\n",
      "INFO:lda:<610> log likelihood: -181948323\n",
      "INFO:lda:<620> log likelihood: -181957264\n",
      "INFO:lda:<630> log likelihood: -181941480\n",
      "INFO:lda:<640> log likelihood: -181930822\n",
      "INFO:lda:<650> log likelihood: -181906872\n",
      "INFO:lda:<660> log likelihood: -181908342\n",
      "INFO:lda:<670> log likelihood: -181893722\n",
      "INFO:lda:<680> log likelihood: -181897991\n",
      "INFO:lda:<690> log likelihood: -181890357\n",
      "INFO:lda:<700> log likelihood: -181903214\n",
      "INFO:lda:<710> log likelihood: -181860496\n",
      "INFO:lda:<720> log likelihood: -181869413\n",
      "INFO:lda:<730> log likelihood: -181853912\n",
      "INFO:lda:<740> log likelihood: -181850714\n",
      "INFO:lda:<750> log likelihood: -181847891\n",
      "INFO:lda:<760> log likelihood: -181870269\n",
      "INFO:lda:<770> log likelihood: -181846338\n",
      "INFO:lda:<780> log likelihood: -181838461\n",
      "INFO:lda:<790> log likelihood: -181786032\n",
      "INFO:lda:<800> log likelihood: -181770983\n",
      "INFO:lda:<810> log likelihood: -181753656\n",
      "INFO:lda:<820> log likelihood: -181707349\n",
      "INFO:lda:<830> log likelihood: -181692904\n",
      "INFO:lda:<840> log likelihood: -181703968\n",
      "INFO:lda:<850> log likelihood: -181695978\n",
      "INFO:lda:<860> log likelihood: -181701168\n",
      "INFO:lda:<870> log likelihood: -181671598\n",
      "INFO:lda:<880> log likelihood: -181664835\n",
      "INFO:lda:<890> log likelihood: -181664633\n",
      "INFO:lda:<900> log likelihood: -181675055\n",
      "INFO:lda:<910> log likelihood: -181664235\n",
      "INFO:lda:<920> log likelihood: -181661429\n",
      "INFO:lda:<930> log likelihood: -181636832\n",
      "INFO:lda:<940> log likelihood: -181639324\n",
      "INFO:lda:<950> log likelihood: -181630921\n",
      "INFO:lda:<960> log likelihood: -181632827\n",
      "INFO:lda:<970> log likelihood: -181610884\n",
      "INFO:lda:<980> log likelihood: -181592218\n",
      "INFO:lda:<990> log likelihood: -181629151\n",
      "INFO:lda:<999> log likelihood: -181619811\n"
     ]
    },
    {
     "data": {
      "text/plain": [
       "<lda.lda.LDA at 0x7ff522709630>"
      ]
     },
     "execution_count": 14,
     "metadata": {},
     "output_type": "execute_result"
    }
   ],
   "source": [
    "import lda\n",
    "model = lda.LDA(n_topics=nr_topics, n_iter=1000)\n",
    "model.fit(X)"
   ]
  },
  {
   "cell_type": "code",
   "execution_count": 9,
   "metadata": {},
   "outputs": [],
   "source": [
    "# lda = LatentDirichletAllocation(n_components=nr_topics, random_state=0, max_iter=50)\n",
    "# document_topics = lda.fit_transform(X)"
   ]
  },
  {
   "cell_type": "code",
   "execution_count": 15,
   "metadata": {},
   "outputs": [],
   "source": [
    "document_topics = model.doc_topic_"
   ]
  },
  {
   "cell_type": "markdown",
   "metadata": {},
   "source": [
    "## Save files"
   ]
  },
  {
   "cell_type": "code",
   "execution_count": 16,
   "metadata": {},
   "outputs": [],
   "source": [
    "fp_out = '/media/sf_VBox_Shared/Arabic/Analyses/topicmodelling/'"
   ]
  },
  {
   "cell_type": "code",
   "execution_count": 17,
   "metadata": {},
   "outputs": [],
   "source": [
    "df_document_topics = pd.DataFrame(document_topics, index=fnames)\n",
    "df_document_topics.to_csv(os.path.join(fp_out, 'fiqh_roots_document_topics_{}.csv'.format(nr_topics)))"
   ]
  },
  {
   "cell_type": "code",
   "execution_count": 18,
   "metadata": {},
   "outputs": [
    {
     "data": {
      "text/plain": [
       "(10, 29755)"
      ]
     },
     "execution_count": 18,
     "metadata": {},
     "output_type": "execute_result"
    }
   ],
   "source": [
    "#lda.components_.shape\n",
    "model.components_.shape"
   ]
  },
  {
   "cell_type": "code",
   "execution_count": 19,
   "metadata": {},
   "outputs": [],
   "source": [
    "topic_words = pd.DataFrame(np.argsort(model.components_, axis=1)[:,-10:][::-1])"
   ]
  },
  {
   "cell_type": "code",
   "execution_count": 20,
   "metadata": {},
   "outputs": [],
   "source": [
    "topic_words = topic_words.applymap(lambda l: feature_names[l])"
   ]
  },
  {
   "cell_type": "code",
   "execution_count": 21,
   "metadata": {},
   "outputs": [],
   "source": [
    "topic_words.to_csv(os.path.join(fp_out, 'fiqh_roots_topics_{}.csv'.format(nr_topics)))"
   ]
  },
  {
   "cell_type": "code",
   "execution_count": 22,
   "metadata": {},
   "outputs": [
    {
     "data": {
      "text/html": [
       "<div>\n",
       "<style scoped>\n",
       "    .dataframe tbody tr th:only-of-type {\n",
       "        vertical-align: middle;\n",
       "    }\n",
       "\n",
       "    .dataframe tbody tr th {\n",
       "        vertical-align: top;\n",
       "    }\n",
       "\n",
       "    .dataframe thead th {\n",
       "        text-align: right;\n",
       "    }\n",
       "</style>\n",
       "<table border=\"1\" class=\"dataframe\">\n",
       "  <thead>\n",
       "    <tr style=\"text-align: right;\">\n",
       "      <th></th>\n",
       "      <th>0</th>\n",
       "      <th>1</th>\n",
       "      <th>2</th>\n",
       "      <th>3</th>\n",
       "      <th>4</th>\n",
       "      <th>5</th>\n",
       "      <th>6</th>\n",
       "      <th>7</th>\n",
       "      <th>8</th>\n",
       "      <th>9</th>\n",
       "    </tr>\n",
       "  </thead>\n",
       "  <tbody>\n",
       "    <tr>\n",
       "      <th>0</th>\n",
       "      <td>وبأ</td>\n",
       "      <td>علم</td>\n",
       "      <td>صحي</td>\n",
       "      <td>الخ</td>\n",
       "      <td>شرح</td>\n",
       "      <td>خلف</td>\n",
       "      <td>ظهر</td>\n",
       "      <td>ذكر</td>\n",
       "      <td>غور</td>\n",
       "      <td>اه</td>\n",
       "    </tr>\n",
       "    <tr>\n",
       "      <th>1</th>\n",
       "      <td>عبر</td>\n",
       "      <td>علم</td>\n",
       "      <td>ذكر</td>\n",
       "      <td>خبر</td>\n",
       "      <td>خلف</td>\n",
       "      <td>عرف</td>\n",
       "      <td>ظهر</td>\n",
       "      <td>سلم</td>\n",
       "      <td>غور</td>\n",
       "      <td>عدم</td>\n",
       "    </tr>\n",
       "    <tr>\n",
       "      <th>2</th>\n",
       "      <td>روي</td>\n",
       "      <td>عمر</td>\n",
       "      <td>نبأ</td>\n",
       "      <td>حمد</td>\n",
       "      <td>فى</td>\n",
       "      <td>رسل</td>\n",
       "      <td>أبن</td>\n",
       "      <td>صلي</td>\n",
       "      <td>حدث</td>\n",
       "      <td>سلم</td>\n",
       "    </tr>\n",
       "    <tr>\n",
       "      <th>3</th>\n",
       "      <td>ورث</td>\n",
       "      <td>ربع</td>\n",
       "      <td>كتب</td>\n",
       "      <td>ولد</td>\n",
       "      <td>موت</td>\n",
       "      <td>عتق</td>\n",
       "      <td>قسم</td>\n",
       "      <td>وصي</td>\n",
       "      <td>ثلث</td>\n",
       "      <td>أبن</td>\n",
       "    </tr>\n",
       "    <tr>\n",
       "      <th>4</th>\n",
       "      <td>غور</td>\n",
       "      <td>وجب</td>\n",
       "      <td>حلل</td>\n",
       "      <td>كفر</td>\n",
       "      <td>جزأ</td>\n",
       "      <td>حوج</td>\n",
       "      <td>يوم</td>\n",
       "      <td>أكل</td>\n",
       "      <td>صوم</td>\n",
       "      <td>حرم</td>\n",
       "    </tr>\n",
       "    <tr>\n",
       "      <th>5</th>\n",
       "      <td>ثبت</td>\n",
       "      <td>قوم</td>\n",
       "      <td>شهد</td>\n",
       "      <td>رهن</td>\n",
       "      <td>بيع</td>\n",
       "      <td>ملك</td>\n",
       "      <td>قرر</td>\n",
       "      <td>دعا</td>\n",
       "      <td>قضي</td>\n",
       "      <td>حقق</td>\n",
       "    </tr>\n",
       "    <tr>\n",
       "      <th>6</th>\n",
       "      <td>عمل</td>\n",
       "      <td>ثمن</td>\n",
       "      <td>شرط</td>\n",
       "      <td>عقد</td>\n",
       "      <td>أخذ</td>\n",
       "      <td>أجر</td>\n",
       "      <td>ملك</td>\n",
       "      <td>جوز</td>\n",
       "      <td>شري</td>\n",
       "      <td>بيع</td>\n",
       "    </tr>\n",
       "    <tr>\n",
       "      <th>7</th>\n",
       "      <td>غور</td>\n",
       "      <td>خلف</td>\n",
       "      <td>طهر</td>\n",
       "      <td>قوم</td>\n",
       "      <td>سلم</td>\n",
       "      <td>ركع</td>\n",
       "      <td>أمم</td>\n",
       "      <td>غسل</td>\n",
       "      <td>سجد</td>\n",
       "      <td>صلي</td>\n",
       "    </tr>\n",
       "    <tr>\n",
       "      <th>8</th>\n",
       "      <td>ثني</td>\n",
       "      <td>ثلث</td>\n",
       "      <td>عدا</td>\n",
       "      <td>فلي</td>\n",
       "      <td>ولد</td>\n",
       "      <td>مرأ</td>\n",
       "      <td>وطأ</td>\n",
       "      <td>نكح</td>\n",
       "      <td>زوج</td>\n",
       "      <td>طلق</td>\n",
       "    </tr>\n",
       "    <tr>\n",
       "      <th>9</th>\n",
       "      <td>فلي</td>\n",
       "      <td>حدد</td>\n",
       "      <td>قوم</td>\n",
       "      <td>جني</td>\n",
       "      <td>سلم</td>\n",
       "      <td>حكم</td>\n",
       "      <td>ودي</td>\n",
       "      <td>قطع</td>\n",
       "      <td>شهد</td>\n",
       "      <td>قتل</td>\n",
       "    </tr>\n",
       "  </tbody>\n",
       "</table>\n",
       "</div>"
      ],
      "text/plain": [
       "     0    1    2    3    4    5    6    7    8    9\n",
       "0  وبأ  علم  صحي  الخ  شرح  خلف  ظهر  ذكر  غور   اه\n",
       "1  عبر  علم  ذكر  خبر  خلف  عرف  ظهر  سلم  غور  عدم\n",
       "2  روي  عمر  نبأ  حمد   فى  رسل  أبن  صلي  حدث  سلم\n",
       "3  ورث  ربع  كتب  ولد  موت  عتق  قسم  وصي  ثلث  أبن\n",
       "4  غور  وجب  حلل  كفر  جزأ  حوج  يوم  أكل  صوم  حرم\n",
       "5  ثبت  قوم  شهد  رهن  بيع  ملك  قرر  دعا  قضي  حقق\n",
       "6  عمل  ثمن  شرط  عقد  أخذ  أجر  ملك  جوز  شري  بيع\n",
       "7  غور  خلف  طهر  قوم  سلم  ركع  أمم  غسل  سجد  صلي\n",
       "8  ثني  ثلث  عدا  فلي  ولد  مرأ  وطأ  نكح  زوج  طلق\n",
       "9  فلي  حدد  قوم  جني  سلم  حكم  ودي  قطع  شهد  قتل"
      ]
     },
     "execution_count": 22,
     "metadata": {},
     "output_type": "execute_result"
    }
   ],
   "source": [
    "topic_words"
   ]
  },
  {
   "cell_type": "code",
   "execution_count": null,
   "metadata": {},
   "outputs": [],
   "source": []
  }
 ],
 "metadata": {
  "kernelspec": {
   "display_name": "Python [conda env:adh]",
   "language": "python",
   "name": "conda-env-adh-py"
  },
  "language_info": {
   "codemirror_mode": {
    "name": "ipython",
    "version": 3
   },
   "file_extension": ".py",
   "mimetype": "text/x-python",
   "name": "python",
   "nbconvert_exporter": "python",
   "pygments_lexer": "ipython3",
   "version": "3.7.0"
  }
 },
 "nbformat": 4,
 "nbformat_minor": 2
}
