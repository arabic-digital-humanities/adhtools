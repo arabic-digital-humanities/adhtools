{
 "cells": [
  {
   "cell_type": "code",
   "execution_count": 1,
   "metadata": {},
   "outputs": [],
   "source": [
    "from sklearn.feature_extraction.text import CountVectorizer\n",
    "from sklearn.decomposition import LatentDirichletAllocation\n",
    "import adhtools.utils\n",
    "import pandas as pd\n",
    "import os\n",
    "import numpy as np"
   ]
  },
  {
   "cell_type": "markdown",
   "metadata": {},
   "source": [
    "## Load corpus"
   ]
  },
  {
   "cell_type": "code",
   "execution_count": 19,
   "metadata": {},
   "outputs": [
    {
     "name": "stdout",
     "output_type": "stream",
     "text": [
      "10066\n"
     ]
    }
   ],
   "source": [
    "import glob\n",
    "\n",
    "book_files = glob.glob('/media/sf_VBox_Shared/Arabic/Fiqh/2018-11-13-Fiqh-stemmed-chapters/*.xml')\n",
    "fnames = [os.path.basename(fn) for fn in book_files]\n",
    "print(len(book_files))"
   ]
  },
  {
   "cell_type": "code",
   "execution_count": 20,
   "metadata": {},
   "outputs": [],
   "source": [
    "path_to_stopwordlist = '/media/sf_VBox_Shared/Arabic/arabic_stop-words_7-8-2018.txt'\n",
    "external_stopwords = [line.strip() for line in open(path_to_stopwordlist, 'r', encoding='utf-8')]"
   ]
  },
  {
   "cell_type": "code",
   "execution_count": 21,
   "metadata": {},
   "outputs": [],
   "source": [
    "corpus = adhtools.utils.corpus_str(book_files, analyzer=False, field='proposed_root')"
   ]
  },
  {
   "cell_type": "markdown",
   "metadata": {},
   "source": [
    "## Make document-term matrix"
   ]
  },
  {
   "cell_type": "code",
   "execution_count": 22,
   "metadata": {},
   "outputs": [],
   "source": [
    "vectorizer = CountVectorizer( stop_words=external_stopwords, min_df=2, max_df=0.9)\n",
    "X = vectorizer.fit_transform(corpus)"
   ]
  },
  {
   "cell_type": "code",
   "execution_count": 23,
   "metadata": {},
   "outputs": [
    {
     "data": {
      "text/plain": [
       "29755"
      ]
     },
     "execution_count": 23,
     "metadata": {},
     "output_type": "execute_result"
    }
   ],
   "source": [
    "feature_names = vectorizer.get_feature_names()\n",
    "len(feature_names)"
   ]
  },
  {
   "cell_type": "code",
   "execution_count": 24,
   "metadata": {},
   "outputs": [
    {
     "data": {
      "text/plain": [
       "array(['بقل', 'ربط', 'جدي', 'رفق', 'شرط', 'خوص', 'منع', 'قطع', 'بلد',\n",
       "       'غرر', 'وإنا', 'طوق', 'زخرف', 'قرن', 'ذلل', 'سخر', 'سيأ', 'فوت',\n",
       "       'حول', 'وسي', 'مدي', 'همز', 'كوف', 'فتح', 'وكآبة', 'همل', 'بسأ',\n",
       "       'وعث', 'عرف', 'حرف', 'سرد', 'فذلك', 'سبع', 'وسع', 'قعد', 'قيأ',\n",
       "       'شخص', 'هيأ', 'مضطجع', 'قذر', 'لحم', 'بات', 'أجر', 'عطي', 'فنادق',\n",
       "       'فهم', 'غرب', 'رخص', 'رغث', 'قمل'], dtype='<U19')"
      ]
     },
     "execution_count": 24,
     "metadata": {},
     "output_type": "execute_result"
    }
   ],
   "source": [
    "# some example words from the first document\n",
    "np.array(feature_names)[X[0].indices][:50]"
   ]
  },
  {
   "cell_type": "code",
   "execution_count": 53,
   "metadata": {},
   "outputs": [
    {
     "data": {
      "text/plain": [
       "صلي    563\n",
       "سلم    477\n",
       "بيع    412\n",
       "شهد    242\n",
       "طلق    202\n",
       "حرم    192\n",
       "قتل    164\n",
       "ملك    148\n",
       "كتب    145\n",
       "عتق    143\n",
       "زكي    130\n",
       "صوم    121\n",
       "زوج    115\n",
       "وصي    112\n",
       "قرر    111\n",
       "رهن    107\n",
       "أبن    107\n",
       "ثلث    105\n",
       "دعا     99\n",
       "ولد     98\n",
       "dtype: int64"
      ]
     },
     "execution_count": 53,
     "metadata": {},
     "output_type": "execute_result"
    }
   ],
   "source": [
    "most_imp_words = pd.Series(np.array(feature_names)[X.argmax(axis=1)].flatten())\n",
    "most_imp_words.value_counts().head(20)"
   ]
  },
  {
   "cell_type": "markdown",
   "metadata": {},
   "source": [
    "## Train model"
   ]
  },
  {
   "cell_type": "code",
   "execution_count": 34,
   "metadata": {},
   "outputs": [],
   "source": [
    "nr_topics = 10\n",
    "lda = LatentDirichletAllocation(n_components=nr_topics, random_state=0, max_iter=50)\n",
    "document_topics = lda.fit_transform(X)"
   ]
  },
  {
   "cell_type": "markdown",
   "metadata": {},
   "source": [
    "## Save files"
   ]
  },
  {
   "cell_type": "code",
   "execution_count": 35,
   "metadata": {},
   "outputs": [],
   "source": [
    "fp_out = '/media/sf_VBox_Shared/Arabic/Analyses/topicmodelling/'"
   ]
  },
  {
   "cell_type": "code",
   "execution_count": 36,
   "metadata": {},
   "outputs": [],
   "source": [
    "df_document_topics = pd.DataFrame(document_topics, index=fnames)\n",
    "df_document_topics.to_csv(os.path.join(fp_out, 'document_topics_{}.csv'.format(nr_topics)))"
   ]
  },
  {
   "cell_type": "code",
   "execution_count": 54,
   "metadata": {},
   "outputs": [
    {
     "data": {
      "text/plain": [
       "(10, 29755)"
      ]
     },
     "execution_count": 54,
     "metadata": {},
     "output_type": "execute_result"
    }
   ],
   "source": [
    "lda.components_.shape"
   ]
  },
  {
   "cell_type": "code",
   "execution_count": 66,
   "metadata": {},
   "outputs": [],
   "source": [
    "topic_words = pd.DataFrame(np.argsort(lda.components_, axis=1)[:,-10:][::-1])"
   ]
  },
  {
   "cell_type": "code",
   "execution_count": 68,
   "metadata": {},
   "outputs": [],
   "source": [
    "topic_words = topic_words.applymap(lambda l: feature_names[l])"
   ]
  },
  {
   "cell_type": "code",
   "execution_count": 70,
   "metadata": {},
   "outputs": [],
   "source": [
    "topic_words.to_csv(os.path.join(fp_out, 'topics_{}.csv'.format(nr_topics)))"
   ]
  },
  {
   "cell_type": "code",
   "execution_count": 69,
   "metadata": {},
   "outputs": [
    {
     "data": {
      "text/html": [
       "<div>\n",
       "<style scoped>\n",
       "    .dataframe tbody tr th:only-of-type {\n",
       "        vertical-align: middle;\n",
       "    }\n",
       "\n",
       "    .dataframe tbody tr th {\n",
       "        vertical-align: top;\n",
       "    }\n",
       "\n",
       "    .dataframe thead th {\n",
       "        text-align: right;\n",
       "    }\n",
       "</style>\n",
       "<table border=\"1\" class=\"dataframe\">\n",
       "  <thead>\n",
       "    <tr style=\"text-align: right;\">\n",
       "      <th></th>\n",
       "      <th>0</th>\n",
       "      <th>1</th>\n",
       "      <th>2</th>\n",
       "      <th>3</th>\n",
       "      <th>4</th>\n",
       "      <th>5</th>\n",
       "      <th>6</th>\n",
       "      <th>7</th>\n",
       "      <th>8</th>\n",
       "      <th>9</th>\n",
       "    </tr>\n",
       "  </thead>\n",
       "  <tbody>\n",
       "    <tr>\n",
       "      <th>0</th>\n",
       "      <td>قطع</td>\n",
       "      <td>قوم</td>\n",
       "      <td>يود</td>\n",
       "      <td>ثبت</td>\n",
       "      <td>حقق</td>\n",
       "      <td>حكم</td>\n",
       "      <td>قضي</td>\n",
       "      <td>قرر</td>\n",
       "      <td>دعا</td>\n",
       "      <td>شهد</td>\n",
       "    </tr>\n",
       "    <tr>\n",
       "      <th>1</th>\n",
       "      <td>عبر</td>\n",
       "      <td>علم</td>\n",
       "      <td>ذكر</td>\n",
       "      <td>خبر</td>\n",
       "      <td>خلف</td>\n",
       "      <td>عرف</td>\n",
       "      <td>ظهر</td>\n",
       "      <td>غور</td>\n",
       "      <td>سلم</td>\n",
       "      <td>عدم</td>\n",
       "    </tr>\n",
       "    <tr>\n",
       "      <th>2</th>\n",
       "      <td>خلف</td>\n",
       "      <td>غور</td>\n",
       "      <td>طهر</td>\n",
       "      <td>قوم</td>\n",
       "      <td>سلم</td>\n",
       "      <td>أمم</td>\n",
       "      <td>ركع</td>\n",
       "      <td>غسل</td>\n",
       "      <td>سجد</td>\n",
       "      <td>صلي</td>\n",
       "    </tr>\n",
       "    <tr>\n",
       "      <th>3</th>\n",
       "      <td>شرط</td>\n",
       "      <td>قوم</td>\n",
       "      <td>عقد</td>\n",
       "      <td>ملك</td>\n",
       "      <td>ثمن</td>\n",
       "      <td>رهن</td>\n",
       "      <td>قبض</td>\n",
       "      <td>جوز</td>\n",
       "      <td>شري</td>\n",
       "      <td>بيع</td>\n",
       "    </tr>\n",
       "    <tr>\n",
       "      <th>4</th>\n",
       "      <td>قوم</td>\n",
       "      <td>نصف</td>\n",
       "      <td>ولد</td>\n",
       "      <td>كتب</td>\n",
       "      <td>موت</td>\n",
       "      <td>قسم</td>\n",
       "      <td>وصي</td>\n",
       "      <td>عتق</td>\n",
       "      <td>أبن</td>\n",
       "      <td>ثلث</td>\n",
       "    </tr>\n",
       "    <tr>\n",
       "      <th>5</th>\n",
       "      <td>فلي</td>\n",
       "      <td>جور</td>\n",
       "      <td>قوم</td>\n",
       "      <td>زكي</td>\n",
       "      <td>جوز</td>\n",
       "      <td>أخذ</td>\n",
       "      <td>مول</td>\n",
       "      <td>عمل</td>\n",
       "      <td>أجر</td>\n",
       "      <td>ملك</td>\n",
       "    </tr>\n",
       "    <tr>\n",
       "      <th>6</th>\n",
       "      <td>ملك</td>\n",
       "      <td>دخل</td>\n",
       "      <td>ولد</td>\n",
       "      <td>مرأ</td>\n",
       "      <td>ثلث</td>\n",
       "      <td>وطأ</td>\n",
       "      <td>فلي</td>\n",
       "      <td>نكح</td>\n",
       "      <td>زوج</td>\n",
       "      <td>طلق</td>\n",
       "    </tr>\n",
       "    <tr>\n",
       "      <th>7</th>\n",
       "      <td>غور</td>\n",
       "      <td>وجب</td>\n",
       "      <td>حلل</td>\n",
       "      <td>جزأ</td>\n",
       "      <td>كفر</td>\n",
       "      <td>حوج</td>\n",
       "      <td>يوم</td>\n",
       "      <td>أكل</td>\n",
       "      <td>صوم</td>\n",
       "      <td>حرم</td>\n",
       "    </tr>\n",
       "    <tr>\n",
       "      <th>8</th>\n",
       "      <td>وبأ</td>\n",
       "      <td>فلي</td>\n",
       "      <td>صحي</td>\n",
       "      <td>الخ</td>\n",
       "      <td>خلف</td>\n",
       "      <td>شرح</td>\n",
       "      <td>ظهر</td>\n",
       "      <td>ذكر</td>\n",
       "      <td>غور</td>\n",
       "      <td>اه</td>\n",
       "    </tr>\n",
       "    <tr>\n",
       "      <th>9</th>\n",
       "      <td>روي</td>\n",
       "      <td>عمر</td>\n",
       "      <td>نبأ</td>\n",
       "      <td>حمد</td>\n",
       "      <td>فى</td>\n",
       "      <td>رسل</td>\n",
       "      <td>أبن</td>\n",
       "      <td>صلي</td>\n",
       "      <td>حدث</td>\n",
       "      <td>سلم</td>\n",
       "    </tr>\n",
       "  </tbody>\n",
       "</table>\n",
       "</div>"
      ],
      "text/plain": [
       "     0    1    2    3    4    5    6    7    8    9\n",
       "0  قطع  قوم  يود  ثبت  حقق  حكم  قضي  قرر  دعا  شهد\n",
       "1  عبر  علم  ذكر  خبر  خلف  عرف  ظهر  غور  سلم  عدم\n",
       "2  خلف  غور  طهر  قوم  سلم  أمم  ركع  غسل  سجد  صلي\n",
       "3  شرط  قوم  عقد  ملك  ثمن  رهن  قبض  جوز  شري  بيع\n",
       "4  قوم  نصف  ولد  كتب  موت  قسم  وصي  عتق  أبن  ثلث\n",
       "5  فلي  جور  قوم  زكي  جوز  أخذ  مول  عمل  أجر  ملك\n",
       "6  ملك  دخل  ولد  مرأ  ثلث  وطأ  فلي  نكح  زوج  طلق\n",
       "7  غور  وجب  حلل  جزأ  كفر  حوج  يوم  أكل  صوم  حرم\n",
       "8  وبأ  فلي  صحي  الخ  خلف  شرح  ظهر  ذكر  غور   اه\n",
       "9  روي  عمر  نبأ  حمد   فى  رسل  أبن  صلي  حدث  سلم"
      ]
     },
     "execution_count": 69,
     "metadata": {},
     "output_type": "execute_result"
    }
   ],
   "source": [
    "topic_words"
   ]
  },
  {
   "cell_type": "code",
   "execution_count": null,
   "metadata": {},
   "outputs": [],
   "source": []
  }
 ],
 "metadata": {
  "kernelspec": {
   "display_name": "Python [conda env:adh]",
   "language": "python",
   "name": "conda-env-adh-py"
  },
  "language_info": {
   "codemirror_mode": {
    "name": "ipython",
    "version": 3
   },
   "file_extension": ".py",
   "mimetype": "text/x-python",
   "name": "python",
   "nbconvert_exporter": "python",
   "pygments_lexer": "ipython3",
   "version": "3.7.0"
  }
 },
 "nbformat": 4,
 "nbformat_minor": 2
}
