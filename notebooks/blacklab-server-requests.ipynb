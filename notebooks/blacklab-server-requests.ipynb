{
 "cells": [
  {
   "cell_type": "code",
   "execution_count": null,
   "metadata": {},
   "outputs": [],
   "source": [
    "%load_ext autoreload\n",
    "%autoreload 2"
   ]
  },
  {
   "cell_type": "code",
   "execution_count": null,
   "metadata": {},
   "outputs": [],
   "source": [
    "%matplotlib inline\n",
    "\n",
    "import matplotlib\n",
    "import numpy as np\n",
    "import pandas as pd\n",
    "import matplotlib.pyplot as plt"
   ]
  },
  {
   "cell_type": "markdown",
   "metadata": {},
   "source": [
    "On the acceptation server, "
   ]
  },
  {
   "cell_type": "code",
   "execution_count": null,
   "metadata": {},
   "outputs": [],
   "source": [
    "import requests\n",
    "\n",
    "term = 'مصلح'\n",
    "url = 'http://localhost:8080/blacklab-server/Fiqh-chapters/hits'\n",
    "#url = acceptation server\n",
    "params = {'patt': '\".*{}.*\"'.format(term), 'number': 100, 'group': 'field:BookURI'}\n",
    "#params = {'patt': '\".*{}.*\"'.format(term)}\n",
    "\n",
    "r = requests.get(url, params=params)\n",
    "print(r.url)\n",
    "print(r)\n",
    "print(r.status_code)"
   ]
  },
  {
   "cell_type": "code",
   "execution_count": null,
   "metadata": {},
   "outputs": [],
   "source": [
    "import requests\n",
    "\n",
    "term = 'مصلح'\n",
    "#url = 'http://localhost:8080/blacklab-server/Fiqh/hits'\n",
    "url = 'http://acc.arabic-dh.hum.uu.nl/blacklab-server/Fiqh/hits'\n",
    "#params = {'patt': '\".*{}.*\"'.format(term), 'number': 100, 'group': 'field:BookURI'}\n",
    "params = {'patt': '\".*{}.*\"'.format(term)}\n",
    "\n",
    "r = requests.post(url, params=params)\n",
    "print(r.url)\n",
    "print(r.status_code)"
   ]
  }
 ],
 "metadata": {
  "language_info": {
   "name": "python",
   "pygments_lexer": "ipython3"
  }
 },
 "nbformat": 4,
 "nbformat_minor": 2
}
